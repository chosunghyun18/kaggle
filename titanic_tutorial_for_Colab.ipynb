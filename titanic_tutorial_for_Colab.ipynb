{
  "nbformat": 4,
  "nbformat_minor": 0,
  "metadata": {
    "colab": {
      "name": "titanic_tutorial_for_Colab.ipynb",
      "provenance": [],
      "collapsed_sections": [],
      "mount_file_id": "1jLdBK_hSlLqR9UeENzCXkvQ4Q0wiNwsN",
      "authorship_tag": "ABX9TyN9SFXo1o0pko5M1U7nXuMt",
      "include_colab_link": true
    },
    "kernelspec": {
      "name": "python3",
      "display_name": "Python 3"
    }
  },
  "cells": [
    {
      "cell_type": "markdown",
      "metadata": {
        "id": "view-in-github",
        "colab_type": "text"
      },
      "source": [
        "<a href=\"https://colab.research.google.com/github/chosunghyun18/kaggle/blob/master/titanic_tutorial_for_Colab.ipynb\" target=\"_parent\"><img src=\"https://colab.research.google.com/assets/colab-badge.svg\" alt=\"Open In Colab\"/></a>"
      ]
    },
    {
      "cell_type": "code",
      "metadata": {
        "id": "7jnI9y-0IlgP",
        "outputId": "1c36c799-b37c-49c8-f739-dd2d1d4c5ba9",
        "colab": {
          "base_uri": "https://localhost:8080/",
          "height": 34
        }
      },
      "source": [
        "# test colab\n",
        "print(\"Hello worlrd\")"
      ],
      "execution_count": 1,
      "outputs": [
        {
          "output_type": "stream",
          "text": [
            "Hello worlrd\n"
          ],
          "name": "stdout"
        }
      ]
    },
    {
      "cell_type": "code",
      "metadata": {
        "id": "Ldf0mzPTIzHo"
      },
      "source": [
        "# header\n",
        "#데이터 처리\n",
        "import numpy as np\n",
        "import pandas as pd\n",
        "\n",
        "#시각화\n",
        "import matplotlib\n",
        "import matplotlib.pyplot as plt\n",
        "#%matplotlib inline\n",
        "import seaborn as sns \n",
        "plt.style.use('seaborn-whitegrid')\n",
        "import missingno\n",
        "\n",
        "from sklearn.preprocessing import LabelEncoder, OneHotEncoder\n",
        "from sklearn.preprocessing import StandardScaler\n",
        "from sklearn.neighbors import KNeighborsClassifier\n",
        "from sklearn.linear_model import LogisticRegression \n",
        "from sklearn.ensemble import RandomForestClassifier\n",
        "from sklearn.svm import SVC \n",
        "#서포트 백터 머신;/\n",
        "from xgboost import XGBClassifier  \n",
        "from sklearn.ensemble import GradientBoostingClassifier\n",
        "from sklearn.ensemble import ExtraTreesClassifier\n",
        "from sklearn.ensemble import AdaBoostClassifier\n",
        "from sklearn.gaussian_process import GaussianProcessClassifier\n",
        "from sklearn.naive_bayes import GaussianNB\n",
        "from sklearn.ensemble import BaggingClassifier\n",
        "from sklearn.ensemble import VotingClassifier\n",
        "\n",
        "from sklearn.model_selection import cross_val_predict\n",
        "from sklearn.model_selection import GridSearchCV\n",
        "from sklearn.model_selection import cross_val_predict\n",
        "from sklearn import model_selection\n",
        "\n",
        "import sys\n",
        "import warnings\n",
        "warnings.filterwarnings('ignore')"
      ],
      "execution_count": 2,
      "outputs": []
    },
    {
      "cell_type": "code",
      "metadata": {
        "id": "a3zWRe_htBLL",
        "outputId": "ee7f99d9-0978-4daf-dacb-798a28327b0a",
        "colab": {
          "base_uri": "https://localhost:8080/",
          "height": 54
        }
      },
      "source": [
        "from google.colab import  drive\n",
        "\n",
        "drive.mount('/content/drive')"
      ],
      "execution_count": 3,
      "outputs": [
        {
          "output_type": "stream",
          "text": [
            "Drive already mounted at /content/drive; to attempt to forcibly remount, call drive.mount(\"/content/drive\", force_remount=True).\n"
          ],
          "name": "stdout"
        }
      ]
    },
    {
      "cell_type": "code",
      "metadata": {
        "id": "n28eIp5_tRRu",
        "outputId": "208fc752-12b3-4ea1-dc93-8d002f437090",
        "colab": {
          "base_uri": "https://localhost:8080/",
          "height": 34
        }
      },
      "source": [
        "!ls"
      ],
      "execution_count": 4,
      "outputs": [
        {
          "output_type": "stream",
          "text": [
            "drive  sample_data\n"
          ],
          "name": "stdout"
        }
      ]
    },
    {
      "cell_type": "code",
      "metadata": {
        "id": "fdIlpGGBt7gS"
      },
      "source": [
        "test = pd.read_csv('/content/drive/My Drive/Titanic_data/test.csv')\n",
        "train = pd.read_csv('/content/drive/My Drive/Titanic_data/train.csv')"
      ],
      "execution_count": 5,
      "outputs": []
    },
    {
      "cell_type": "code",
      "metadata": {
        "id": "UjIar86NuK0G",
        "outputId": "fddb7ac5-8e16-48fe-a147-dc57ccd54364",
        "colab": {
          "base_uri": "https://localhost:8080/",
          "height": 221
        }
      },
      "source": [
        "test.dtypes"
      ],
      "execution_count": 6,
      "outputs": [
        {
          "output_type": "execute_result",
          "data": {
            "text/plain": [
              "PassengerId      int64\n",
              "Pclass           int64\n",
              "Name            object\n",
              "Sex             object\n",
              "Age            float64\n",
              "SibSp            int64\n",
              "Parch            int64\n",
              "Ticket          object\n",
              "Fare           float64\n",
              "Cabin           object\n",
              "Embarked        object\n",
              "dtype: object"
            ]
          },
          "metadata": {
            "tags": []
          },
          "execution_count": 6
        }
      ]
    },
    {
      "cell_type": "code",
      "metadata": {
        "id": "BkK60fnSud9b",
        "outputId": "cb8ae85d-37c4-410d-ceba-c7a4f145532b",
        "colab": {
          "base_uri": "https://localhost:8080/",
          "height": 496
        }
      },
      "source": [
        "train.head()"
      ],
      "execution_count": 7,
      "outputs": [
        {
          "output_type": "execute_result",
          "data": {
            "text/html": [
              "<div>\n",
              "<style scoped>\n",
              "    .dataframe tbody tr th:only-of-type {\n",
              "        vertical-align: middle;\n",
              "    }\n",
              "\n",
              "    .dataframe tbody tr th {\n",
              "        vertical-align: top;\n",
              "    }\n",
              "\n",
              "    .dataframe thead th {\n",
              "        text-align: right;\n",
              "    }\n",
              "</style>\n",
              "<table border=\"1\" class=\"dataframe\">\n",
              "  <thead>\n",
              "    <tr style=\"text-align: right;\">\n",
              "      <th></th>\n",
              "      <th>PassengerId</th>\n",
              "      <th>Survived</th>\n",
              "      <th>Pclass</th>\n",
              "      <th>Name</th>\n",
              "      <th>Sex</th>\n",
              "      <th>Age</th>\n",
              "      <th>SibSp</th>\n",
              "      <th>Parch</th>\n",
              "      <th>Ticket</th>\n",
              "      <th>Fare</th>\n",
              "      <th>Cabin</th>\n",
              "      <th>Embarked</th>\n",
              "    </tr>\n",
              "  </thead>\n",
              "  <tbody>\n",
              "    <tr>\n",
              "      <th>0</th>\n",
              "      <td>1</td>\n",
              "      <td>0</td>\n",
              "      <td>3</td>\n",
              "      <td>Braund, Mr. Owen Harris</td>\n",
              "      <td>male</td>\n",
              "      <td>22.0</td>\n",
              "      <td>1</td>\n",
              "      <td>0</td>\n",
              "      <td>A/5 21171</td>\n",
              "      <td>7.2500</td>\n",
              "      <td>NaN</td>\n",
              "      <td>S</td>\n",
              "    </tr>\n",
              "    <tr>\n",
              "      <th>1</th>\n",
              "      <td>2</td>\n",
              "      <td>1</td>\n",
              "      <td>1</td>\n",
              "      <td>Cumings, Mrs. John Bradley (Florence Briggs Th...</td>\n",
              "      <td>female</td>\n",
              "      <td>38.0</td>\n",
              "      <td>1</td>\n",
              "      <td>0</td>\n",
              "      <td>PC 17599</td>\n",
              "      <td>71.2833</td>\n",
              "      <td>C85</td>\n",
              "      <td>C</td>\n",
              "    </tr>\n",
              "    <tr>\n",
              "      <th>2</th>\n",
              "      <td>3</td>\n",
              "      <td>1</td>\n",
              "      <td>3</td>\n",
              "      <td>Heikkinen, Miss. Laina</td>\n",
              "      <td>female</td>\n",
              "      <td>26.0</td>\n",
              "      <td>0</td>\n",
              "      <td>0</td>\n",
              "      <td>STON/O2. 3101282</td>\n",
              "      <td>7.9250</td>\n",
              "      <td>NaN</td>\n",
              "      <td>S</td>\n",
              "    </tr>\n",
              "    <tr>\n",
              "      <th>3</th>\n",
              "      <td>4</td>\n",
              "      <td>1</td>\n",
              "      <td>1</td>\n",
              "      <td>Futrelle, Mrs. Jacques Heath (Lily May Peel)</td>\n",
              "      <td>female</td>\n",
              "      <td>35.0</td>\n",
              "      <td>1</td>\n",
              "      <td>0</td>\n",
              "      <td>113803</td>\n",
              "      <td>53.1000</td>\n",
              "      <td>C123</td>\n",
              "      <td>S</td>\n",
              "    </tr>\n",
              "    <tr>\n",
              "      <th>4</th>\n",
              "      <td>5</td>\n",
              "      <td>0</td>\n",
              "      <td>3</td>\n",
              "      <td>Allen, Mr. William Henry</td>\n",
              "      <td>male</td>\n",
              "      <td>35.0</td>\n",
              "      <td>0</td>\n",
              "      <td>0</td>\n",
              "      <td>373450</td>\n",
              "      <td>8.0500</td>\n",
              "      <td>NaN</td>\n",
              "      <td>S</td>\n",
              "    </tr>\n",
              "  </tbody>\n",
              "</table>\n",
              "</div>"
            ],
            "text/plain": [
              "   PassengerId  Survived  Pclass  ...     Fare Cabin  Embarked\n",
              "0            1         0       3  ...   7.2500   NaN         S\n",
              "1            2         1       1  ...  71.2833   C85         C\n",
              "2            3         1       3  ...   7.9250   NaN         S\n",
              "3            4         1       1  ...  53.1000  C123         S\n",
              "4            5         0       3  ...   8.0500   NaN         S\n",
              "\n",
              "[5 rows x 12 columns]"
            ]
          },
          "metadata": {
            "tags": []
          },
          "execution_count": 7
        }
      ]
    },
    {
      "cell_type": "code",
      "metadata": {
        "id": "3zsapAFv8oat",
        "outputId": "3d0e9174-7622-4147-c202-b06f76d3acd7",
        "colab": {
          "base_uri": "https://localhost:8080/",
          "height": 34
        }
      },
      "source": [
        "train.shape #  column : 891"
      ],
      "execution_count": 8,
      "outputs": [
        {
          "output_type": "execute_result",
          "data": {
            "text/plain": [
              "(891, 12)"
            ]
          },
          "metadata": {
            "tags": []
          },
          "execution_count": 8
        }
      ]
    },
    {
      "cell_type": "code",
      "metadata": {
        "id": "VIyKznuZ7RqG",
        "outputId": "f629ba96-9bbc-4eee-c36f-a21ba05db5f6",
        "colab": {
          "base_uri": "https://localhost:8080/",
          "height": 34
        }
      },
      "source": [
        "#ready for merges file \n",
        "ntrain= train.shape[0]   #train.shape[0] = 891, train.shape[1] =  12\n",
        "ntest= test.shape[0]     #test.shape[0] = 418, test.shape[1] = 11\n",
        "y_train = train['Survived'].values\n",
        "passId = test['PassengerId']\n",
        "\n",
        "\n",
        "data = pd.concat((train,test))\n",
        "\n",
        "print(\"data size is :{}\".format(data.shape))"
      ],
      "execution_count": 9,
      "outputs": [
        {
          "output_type": "stream",
          "text": [
            "data size is :(1309, 12)\n"
          ],
          "name": "stdout"
        }
      ]
    },
    {
      "cell_type": "code",
      "metadata": {
        "id": "CpdmCJ-X7Z9K",
        "outputId": "980c0fb5-caa1-4baa-ab91-96cf7c58776e",
        "colab": {
          "base_uri": "https://localhost:8080/",
          "height": 34
        }
      },
      "source": [
        "ntrain"
      ],
      "execution_count": 10,
      "outputs": [
        {
          "output_type": "execute_result",
          "data": {
            "text/plain": [
              "891"
            ]
          },
          "metadata": {
            "tags": []
          },
          "execution_count": 10
        }
      ]
    },
    {
      "cell_type": "code",
      "metadata": {
        "id": "G6DyRnDUBCWW",
        "outputId": "e77df3f1-86c4-41b8-c5ca-8e0fa520a031",
        "colab": {
          "base_uri": "https://localhost:8080/",
          "height": 34
        }
      },
      "source": [
        "ntest"
      ],
      "execution_count": 11,
      "outputs": [
        {
          "output_type": "execute_result",
          "data": {
            "text/plain": [
              "418"
            ]
          },
          "metadata": {
            "tags": []
          },
          "execution_count": 11
        }
      ]
    },
    {
      "cell_type": "code",
      "metadata": {
        "id": "4ztmccD-BD36",
        "outputId": "0e96c424-0ea7-438f-bda0-8c7b24192576",
        "colab": {
          "base_uri": "https://localhost:8080/",
          "height": 221
        }
      },
      "source": [
        "passId"
      ],
      "execution_count": 12,
      "outputs": [
        {
          "output_type": "execute_result",
          "data": {
            "text/plain": [
              "0       892\n",
              "1       893\n",
              "2       894\n",
              "3       895\n",
              "4       896\n",
              "       ... \n",
              "413    1305\n",
              "414    1306\n",
              "415    1307\n",
              "416    1308\n",
              "417    1309\n",
              "Name: PassengerId, Length: 418, dtype: int64"
            ]
          },
          "metadata": {
            "tags": []
          },
          "execution_count": 12
        }
      ]
    },
    {
      "cell_type": "code",
      "metadata": {
        "id": "l1VAtuRgBIXK",
        "outputId": "7217b28d-3089-4e9d-867f-7d852eea2dbc",
        "colab": {
          "base_uri": "https://localhost:8080/",
          "height": 354
        }
      },
      "source": [
        "missingno.matrix(data,figsize=(6,4))"
      ],
      "execution_count": 13,
      "outputs": [
        {
          "output_type": "execute_result",
          "data": {
            "text/plain": [
              "<matplotlib.axes._subplots.AxesSubplot at 0x7f96aa698390>"
            ]
          },
          "metadata": {
            "tags": []
          },
          "execution_count": 13
        },
        {
          "output_type": "display_data",
          "data": {
            "image/png": "[encoded data removed]",
            "text/plain": [
              "<Figure size 432x288 with 2 Axes>"
            ]
          },
          "metadata": {
            "tags": []
          }
        }
      ]
    },
    {
      "cell_type": "code",
      "metadata": {
        "id": "N__jjRKqEPqp",
        "outputId": "16f6b8e7-48fa-4e0f-c6fc-5d424c40b4ab",
        "colab": {
          "base_uri": "https://localhost:8080/",
          "height": 238
        }
      },
      "source": [
        "data.isnull().sum()"
      ],
      "execution_count": 14,
      "outputs": [
        {
          "output_type": "execute_result",
          "data": {
            "text/plain": [
              "PassengerId       0\n",
              "Survived        418\n",
              "Pclass            0\n",
              "Name              0\n",
              "Sex               0\n",
              "Age             263\n",
              "SibSp             0\n",
              "Parch             0\n",
              "Ticket            0\n",
              "Fare              1\n",
              "Cabin          1014\n",
              "Embarked          2\n",
              "dtype: int64"
            ]
          },
          "metadata": {
            "tags": []
          },
          "execution_count": 14
        }
      ]
    },
    {
      "cell_type": "code",
      "metadata": {
        "id": "oT-HOFuXETNS",
        "outputId": "7703d769-4a92-4fea-8479-6435e24d0231",
        "colab": {
          "base_uri": "https://localhost:8080/",
          "height": 238
        }
      },
      "source": [
        "data.isna().any()"
      ],
      "execution_count": 15,
      "outputs": [
        {
          "output_type": "execute_result",
          "data": {
            "text/plain": [
              "PassengerId    False\n",
              "Survived        True\n",
              "Pclass         False\n",
              "Name           False\n",
              "Sex            False\n",
              "Age             True\n",
              "SibSp          False\n",
              "Parch          False\n",
              "Ticket         False\n",
              "Fare            True\n",
              "Cabin           True\n",
              "Embarked        True\n",
              "dtype: bool"
            ]
          },
          "metadata": {
            "tags": []
          },
          "execution_count": 15
        }
      ]
    },
    {
      "cell_type": "code",
      "metadata": {
        "id": "9wWk77QbEhpL",
        "outputId": "28d5321e-c129-4575-bc47-8ca32cd0bb48",
        "colab": {
          "base_uri": "https://localhost:8080/",
          "height": 68
        }
      },
      "source": [
        "data.columns"
      ],
      "execution_count": 16,
      "outputs": [
        {
          "output_type": "execute_result",
          "data": {
            "text/plain": [
              "Index(['PassengerId', 'Survived', 'Pclass', 'Name', 'Sex', 'Age', 'SibSp',\n",
              "       'Parch', 'Ticket', 'Fare', 'Cabin', 'Embarked'],\n",
              "      dtype='object')"
            ]
          },
          "metadata": {
            "tags": []
          },
          "execution_count": 16
        }
      ]
    },
    {
      "cell_type": "code",
      "metadata": {
        "id": "vZdYBouzEm46",
        "outputId": "c86a2914-19e6-49e5-c8de-2cf0e19afe27",
        "colab": {
          "base_uri": "https://localhost:8080/",
          "height": 498
        }
      },
      "source": [
        "#co-relation matrix\n",
        "corr= data.corr() \n",
        "mask=np.zeros_like(corr, dtype=np.bool)   # return an arrary of zeros with the same shape and type\n",
        "\n",
        "mask[np.triu_indices_from(mask)]=True      # Return the indices for the upper-triangle of an (n, m) array. \n",
        "\n",
        "plt.figure(figsize=(14,8))\n",
        "plt.title('Overall Correlatin of Titanic Features', fontsize=18)\n",
        "\n",
        "#집계한 값에 비례하여 색깔을 다르게 해서 2차원으로 자료를 시각화하는 히트맵(Heatmap)        \n",
        "sns.heatmap(corr, mask=mask,annot=False ,cmap='RdYlGn',linewidths=0.2,annot_kws={'size':20})\n",
        "\n",
        "\n",
        "plt.show()"
      ],
      "execution_count": 17,
      "outputs": [
        {
          "output_type": "display_data",
          "data": {
            "image/png": "[encoded data removed]",
            "text/plain": [
              "<Figure size 1008x576 with 2 Axes>"
            ]
          },
          "metadata": {
            "tags": []
          }
        }
      ]
    },
    {
      "cell_type": "code",
      "metadata": {
        "id": "fD65GbfR-5Wb",
        "outputId": "716d1e93-fba1-45f2-e0d6-bcfe4eb5c677",
        "colab": {
          "base_uri": "https://localhost:8080/",
          "height": 68
        }
      },
      "source": [
        "train['Survived'].value_counts()"
      ],
      "execution_count": 18,
      "outputs": [
        {
          "output_type": "execute_result",
          "data": {
            "text/plain": [
              "0    549\n",
              "1    342\n",
              "Name: Survived, dtype: int64"
            ]
          },
          "metadata": {
            "tags": []
          },
          "execution_count": 18
        }
      ]
    },
    {
      "cell_type": "code",
      "metadata": {
        "id": "XER4-OkJGHIu",
        "outputId": "dca7eec2-05a6-439e-9f11-3a368098487b",
        "colab": {
          "base_uri": "https://localhost:8080/",
          "height": 218
        }
      },
      "source": [
        "fig = plt.figure(figsize=(10,2))\n",
        "sns.countplot(y='Survived',data = train)\n",
        "\n",
        "#print(train.Survived.value_conts) 만 써도 그래프는 나옴 but d\n",
        "\n",
        "print(train.Survived.value_counts())"
      ],
      "execution_count": 19,
      "outputs": [
        {
          "output_type": "stream",
          "text": [
            "0    549\n",
            "1    342\n",
            "Name: Survived, dtype: int64\n"
          ],
          "name": "stdout"
        },
        {
          "output_type": "display_data",
          "data": {
            "image/png": "[encoded data removed]",
            "text/plain": [
              "<Figure size 720x144 with 1 Axes>"
            ]
          },
          "metadata": {
            "tags": []
          }
        }
      ]
    },
    {
      "cell_type": "code",
      "metadata": {
        "id": "xjp2W-5DDb-P",
        "outputId": "04c3e1ae-85d0-4107-ad24-77c1b3c912ad",
        "colab": {
          "base_uri": "https://localhost:8080/",
          "height": 377
        }
      },
      "source": [
        "#pie graph\n",
        "def piecount(col):\n",
        "    f, ax = plt.subplots(1,2,figsize=(15,6)) #horizantl 15 width 6\n",
        "    train[col].value_counts().plot.pie(explode=[0.1 for i in range(train[col].nunique())],autopct='%1.1f%%',ax=ax[0],shadow=True)\n",
        "    ax[0].set_title(col) \n",
        "    ax[0].set_ylabel('')\n",
        "    sns.countplot(col,data=train,ax=ax[1])\n",
        "    ax[1].set_title(col)\n",
        "    plt.show()\n",
        "\n",
        "piecount('Survived')"
      ],
      "execution_count": 20,
      "outputs": [
        {
          "output_type": "display_data",
          "data": {
            "image/png": "[encoded data removed]",
            "text/plain": [
              "<Figure size 1080x432 with 2 Axes>"
            ]
          },
          "metadata": {
            "tags": []
          }
        }
      ]
    },
    {
      "cell_type": "code",
      "metadata": {
        "id": "1wIOvfzkFvDC",
        "outputId": "fad98644-2ca5-426f-b75a-8a9c7a75fc00",
        "colab": {
          "base_uri": "https://localhost:8080/",
          "height": 153
        }
      },
      "source": [
        " #pclass analysis\n",
        "train.groupby(['Pclass','Survived'])['Survived'].count()"
      ],
      "execution_count": 21,
      "outputs": [
        {
          "output_type": "execute_result",
          "data": {
            "text/plain": [
              "Pclass  Survived\n",
              "1       0            80\n",
              "        1           136\n",
              "2       0            97\n",
              "        1            87\n",
              "3       0           372\n",
              "        1           119\n",
              "Name: Survived, dtype: int64"
            ]
          },
          "metadata": {
            "tags": []
          },
          "execution_count": 21
        }
      ]
    },
    {
      "cell_type": "code",
      "metadata": {
        "id": "sWAIkz8LKIma",
        "outputId": "48efe726-dbd3-4107-a219-0cfaea384465",
        "colab": {
          "base_uri": "https://localhost:8080/",
          "height": 145
        }
      },
      "source": [
        "pd.crosstab(train.Pclass,train.Survived,margins=True).style.background_gradient(cmap='summer_r')"
      ],
      "execution_count": 22,
      "outputs": [
        {
          "output_type": "execute_result",
          "data": {
            "text/html": [
              "<style  type=\"text/css\" >\n",
              "#T_faf0c928_17f5_11eb_ad51_0242ac1c0002row0_col0,#T_faf0c928_17f5_11eb_ad51_0242ac1c0002row1_col1,#T_faf0c928_17f5_11eb_ad51_0242ac1c0002row1_col2{\n",
              "            background-color:  #ffff66;\n",
              "            color:  #000000;\n",
              "        }#T_faf0c928_17f5_11eb_ad51_0242ac1c0002row0_col1{\n",
              "            background-color:  #cee666;\n",
              "            color:  #000000;\n",
              "        }#T_faf0c928_17f5_11eb_ad51_0242ac1c0002row0_col2{\n",
              "            background-color:  #f4fa66;\n",
              "            color:  #000000;\n",
              "        }#T_faf0c928_17f5_11eb_ad51_0242ac1c0002row1_col0{\n",
              "            background-color:  #f6fa66;\n",
              "            color:  #000000;\n",
              "        }#T_faf0c928_17f5_11eb_ad51_0242ac1c0002row2_col0{\n",
              "            background-color:  #60b066;\n",
              "            color:  #000000;\n",
              "        }#T_faf0c928_17f5_11eb_ad51_0242ac1c0002row2_col1{\n",
              "            background-color:  #dfef66;\n",
              "            color:  #000000;\n",
              "        }#T_faf0c928_17f5_11eb_ad51_0242ac1c0002row2_col2{\n",
              "            background-color:  #90c866;\n",
              "            color:  #000000;\n",
              "        }#T_faf0c928_17f5_11eb_ad51_0242ac1c0002row3_col0,#T_faf0c928_17f5_11eb_ad51_0242ac1c0002row3_col1,#T_faf0c928_17f5_11eb_ad51_0242ac1c0002row3_col2{\n",
              "            background-color:  #008066;\n",
              "            color:  #f1f1f1;\n",
              "        }</style><table id=\"T_faf0c928_17f5_11eb_ad51_0242ac1c0002\" ><thead>    <tr>        <th class=\"index_name level0\" >Survived</th>        <th class=\"col_heading level0 col0\" >0</th>        <th class=\"col_heading level0 col1\" >1</th>        <th class=\"col_heading level0 col2\" >All</th>    </tr>    <tr>        <th class=\"index_name level0\" >Pclass</th>        <th class=\"blank\" ></th>        <th class=\"blank\" ></th>        <th class=\"blank\" ></th>    </tr></thead><tbody>\n",
              "                <tr>\n",
              "                        <th id=\"T_faf0c928_17f5_11eb_ad51_0242ac1c0002level0_row0\" class=\"row_heading level0 row0\" >1</th>\n",
              "                        <td id=\"T_faf0c928_17f5_11eb_ad51_0242ac1c0002row0_col0\" class=\"data row0 col0\" >80</td>\n",
              "                        <td id=\"T_faf0c928_17f5_11eb_ad51_0242ac1c0002row0_col1\" class=\"data row0 col1\" >136</td>\n",
              "                        <td id=\"T_faf0c928_17f5_11eb_ad51_0242ac1c0002row0_col2\" class=\"data row0 col2\" >216</td>\n",
              "            </tr>\n",
              "            <tr>\n",
              "                        <th id=\"T_faf0c928_17f5_11eb_ad51_0242ac1c0002level0_row1\" class=\"row_heading level0 row1\" >2</th>\n",
              "                        <td id=\"T_faf0c928_17f5_11eb_ad51_0242ac1c0002row1_col0\" class=\"data row1 col0\" >97</td>\n",
              "                        <td id=\"T_faf0c928_17f5_11eb_ad51_0242ac1c0002row1_col1\" class=\"data row1 col1\" >87</td>\n",
              "                        <td id=\"T_faf0c928_17f5_11eb_ad51_0242ac1c0002row1_col2\" class=\"data row1 col2\" >184</td>\n",
              "            </tr>\n",
              "            <tr>\n",
              "                        <th id=\"T_faf0c928_17f5_11eb_ad51_0242ac1c0002level0_row2\" class=\"row_heading level0 row2\" >3</th>\n",
              "                        <td id=\"T_faf0c928_17f5_11eb_ad51_0242ac1c0002row2_col0\" class=\"data row2 col0\" >372</td>\n",
              "                        <td id=\"T_faf0c928_17f5_11eb_ad51_0242ac1c0002row2_col1\" class=\"data row2 col1\" >119</td>\n",
              "                        <td id=\"T_faf0c928_17f5_11eb_ad51_0242ac1c0002row2_col2\" class=\"data row2 col2\" >491</td>\n",
              "            </tr>\n",
              "            <tr>\n",
              "                        <th id=\"T_faf0c928_17f5_11eb_ad51_0242ac1c0002level0_row3\" class=\"row_heading level0 row3\" >All</th>\n",
              "                        <td id=\"T_faf0c928_17f5_11eb_ad51_0242ac1c0002row3_col0\" class=\"data row3 col0\" >549</td>\n",
              "                        <td id=\"T_faf0c928_17f5_11eb_ad51_0242ac1c0002row3_col1\" class=\"data row3 col1\" >342</td>\n",
              "                        <td id=\"T_faf0c928_17f5_11eb_ad51_0242ac1c0002row3_col2\" class=\"data row3 col2\" >891</td>\n",
              "            </tr>\n",
              "    </tbody></table>"
            ],
            "text/plain": [
              "<pandas.io.formats.style.Styler at 0x7f96aa6164e0>"
            ]
          },
          "metadata": {
            "tags": []
          },
          "execution_count": 22
        }
      ]
    },
    {
      "cell_type": "code",
      "metadata": {
        "id": "lv5syBKlKf4j",
        "outputId": "37218e1a-ca7f-42a9-c6e0-5b58f7544514",
        "colab": {
          "base_uri": "https://localhost:8080/",
          "height": 400
        }
      },
      "source": [
        "f , ax = plt.subplots(1,2,figsize=(12,6))\n",
        "\n",
        "ax[0].set_title('Survied per pclass')\n",
        "train[['Pclass','Survived']].groupby(['Pclass']).mean().plot.bar(ax=ax[0])\n",
        "\n",
        "ax[1].set_title('Pclass survived vs Not survived')\n",
        "sns.countplot('Pclass',hue='Survived',data=train,ax=ax[1])\n",
        "\n",
        "plt.show()"
      ],
      "execution_count": 23,
      "outputs": [
        {
          "output_type": "display_data",
          "data": {
            "image/png": "[encoded data removed]",
            "text/plain": [
              "<Figure size 864x432 with 2 Axes>"
            ]
          },
          "metadata": {
            "tags": []
          }
        }
      ]
    },
    {
      "cell_type": "code",
      "metadata": {
        "id": "8n_70h1GLfrN",
        "outputId": "7ef2c943-2971-4d9d-e451-129d0587d7c6",
        "colab": {
          "base_uri": "https://localhost:8080/",
          "height": 377
        }
      },
      "source": [
        "piecount('Pclass')"
      ],
      "execution_count": 24,
      "outputs": [
        {
          "output_type": "display_data",
          "data": {
            "image/png": "[encoded data removed]",
            "text/plain": [
              "<Figure size 1080x432 with 2 Axes>"
            ]
          },
          "metadata": {
            "tags": []
          }
        }
      ]
    },
    {
      "cell_type": "code",
      "metadata": {
        "id": "fZQBpdbWMde7",
        "outputId": "efcfdc31-11b3-43e2-c3cb-5fd1ff01f4ba",
        "colab": {
          "base_uri": "https://localhost:8080/",
          "height": 221
        }
      },
      "source": [
        "#NAME analysis\n",
        "data.Name.value_counts()"
      ],
      "execution_count": 25,
      "outputs": [
        {
          "output_type": "execute_result",
          "data": {
            "text/plain": [
              "Kelly, Mr. James                                               2\n",
              "Connolly, Miss. Kate                                           2\n",
              "Andersen-Jensen, Miss. Carla Christine Nielsine                1\n",
              "Straus, Mr. Isidor                                             1\n",
              "Artagaveytia, Mr. Ramon                                        1\n",
              "                                                              ..\n",
              "Nasser, Mr. Nicholas                                           1\n",
              "Andersson, Mr. August Edvard (\"Wennerstrom\")                   1\n",
              "Allison, Master. Hudson Trevor                                 1\n",
              "Backstrom, Mr. Karl Alfred                                     1\n",
              "Cassebeer, Mrs. Henry Arthur Jr (Eleanor Genevieve Fosdick)    1\n",
              "Name: Name, Length: 1307, dtype: int64"
            ]
          },
          "metadata": {
            "tags": []
          },
          "execution_count": 25
        }
      ]
    },
    {
      "cell_type": "code",
      "metadata": {
        "id": "L89-qesmM0Md"
      },
      "source": [
        "#copy data\n",
        "temp = data.copy()\n",
        "temp['Initial'] = 0 # make Initial\n",
        "temp['Initial'] = data.Name.str.extract('([A-Za-z0-9]+)\\.')"
      ],
      "execution_count": 26,
      "outputs": []
    },
    {
      "cell_type": "code",
      "metadata": {
        "id": "qZ7ds9DSJc2L",
        "outputId": "49af54d2-d167-4855-8362-118d3dee6f5b",
        "colab": {
          "base_uri": "https://localhost:8080/",
          "height": 340
        }
      },
      "source": [
        "temp['Initial'].value_counts()"
      ],
      "execution_count": 27,
      "outputs": [
        {
          "output_type": "execute_result",
          "data": {
            "text/plain": [
              "Mr          757\n",
              "Miss        260\n",
              "Mrs         197\n",
              "Master       61\n",
              "Rev           8\n",
              "Dr            8\n",
              "Col           4\n",
              "Ms            2\n",
              "Mlle          2\n",
              "Major         2\n",
              "Countess      1\n",
              "Mme           1\n",
              "Lady          1\n",
              "Sir           1\n",
              "Jonkheer      1\n",
              "Capt          1\n",
              "Don           1\n",
              "Dona          1\n",
              "Name: Initial, dtype: int64"
            ]
          },
          "metadata": {
            "tags": []
          },
          "execution_count": 27
        }
      ]
    },
    {
      "cell_type": "code",
      "metadata": {
        "id": "CLkFtP7qdItl",
        "outputId": "125c079e-9ec7-47e7-936c-a627e1834a3a",
        "colab": {
          "base_uri": "https://localhost:8080/",
          "height": 103
        }
      },
      "source": [
        "pd.crosstab(temp.Initial,temp.Sex).T.style.background_gradient(cmap='summer_r')#Capital T standsfor transfer matrix"
      ],
      "execution_count": 28,
      "outputs": [
        {
          "output_type": "execute_result",
          "data": {
            "text/html": [
              "<style  type=\"text/css\" >\n",
              "#T_fd5b340a_17f5_11eb_ad51_0242ac1c0002row0_col0,#T_fd5b340a_17f5_11eb_ad51_0242ac1c0002row0_col1,#T_fd5b340a_17f5_11eb_ad51_0242ac1c0002row0_col3,#T_fd5b340a_17f5_11eb_ad51_0242ac1c0002row0_col5,#T_fd5b340a_17f5_11eb_ad51_0242ac1c0002row0_col6,#T_fd5b340a_17f5_11eb_ad51_0242ac1c0002row0_col8,#T_fd5b340a_17f5_11eb_ad51_0242ac1c0002row0_col9,#T_fd5b340a_17f5_11eb_ad51_0242ac1c0002row0_col13,#T_fd5b340a_17f5_11eb_ad51_0242ac1c0002row0_col16,#T_fd5b340a_17f5_11eb_ad51_0242ac1c0002row0_col17,#T_fd5b340a_17f5_11eb_ad51_0242ac1c0002row1_col2,#T_fd5b340a_17f5_11eb_ad51_0242ac1c0002row1_col4,#T_fd5b340a_17f5_11eb_ad51_0242ac1c0002row1_col7,#T_fd5b340a_17f5_11eb_ad51_0242ac1c0002row1_col10,#T_fd5b340a_17f5_11eb_ad51_0242ac1c0002row1_col11,#T_fd5b340a_17f5_11eb_ad51_0242ac1c0002row1_col12,#T_fd5b340a_17f5_11eb_ad51_0242ac1c0002row1_col14,#T_fd5b340a_17f5_11eb_ad51_0242ac1c0002row1_col15{\n",
              "            background-color:  #ffff66;\n",
              "            color:  #000000;\n",
              "        }#T_fd5b340a_17f5_11eb_ad51_0242ac1c0002row0_col2,#T_fd5b340a_17f5_11eb_ad51_0242ac1c0002row0_col4,#T_fd5b340a_17f5_11eb_ad51_0242ac1c0002row0_col7,#T_fd5b340a_17f5_11eb_ad51_0242ac1c0002row0_col10,#T_fd5b340a_17f5_11eb_ad51_0242ac1c0002row0_col11,#T_fd5b340a_17f5_11eb_ad51_0242ac1c0002row0_col12,#T_fd5b340a_17f5_11eb_ad51_0242ac1c0002row0_col14,#T_fd5b340a_17f5_11eb_ad51_0242ac1c0002row0_col15,#T_fd5b340a_17f5_11eb_ad51_0242ac1c0002row1_col0,#T_fd5b340a_17f5_11eb_ad51_0242ac1c0002row1_col1,#T_fd5b340a_17f5_11eb_ad51_0242ac1c0002row1_col3,#T_fd5b340a_17f5_11eb_ad51_0242ac1c0002row1_col5,#T_fd5b340a_17f5_11eb_ad51_0242ac1c0002row1_col6,#T_fd5b340a_17f5_11eb_ad51_0242ac1c0002row1_col8,#T_fd5b340a_17f5_11eb_ad51_0242ac1c0002row1_col9,#T_fd5b340a_17f5_11eb_ad51_0242ac1c0002row1_col13,#T_fd5b340a_17f5_11eb_ad51_0242ac1c0002row1_col16,#T_fd5b340a_17f5_11eb_ad51_0242ac1c0002row1_col17{\n",
              "            background-color:  #008066;\n",
              "            color:  #f1f1f1;\n",
              "        }</style><table id=\"T_fd5b340a_17f5_11eb_ad51_0242ac1c0002\" ><thead>    <tr>        <th class=\"index_name level0\" >Initial</th>        <th class=\"col_heading level0 col0\" >Capt</th>        <th class=\"col_heading level0 col1\" >Col</th>        <th class=\"col_heading level0 col2\" >Countess</th>        <th class=\"col_heading level0 col3\" >Don</th>        <th class=\"col_heading level0 col4\" >Dona</th>        <th class=\"col_heading level0 col5\" >Dr</th>        <th class=\"col_heading level0 col6\" >Jonkheer</th>        <th class=\"col_heading level0 col7\" >Lady</th>        <th class=\"col_heading level0 col8\" >Major</th>        <th class=\"col_heading level0 col9\" >Master</th>        <th class=\"col_heading level0 col10\" >Miss</th>        <th class=\"col_heading level0 col11\" >Mlle</th>        <th class=\"col_heading level0 col12\" >Mme</th>        <th class=\"col_heading level0 col13\" >Mr</th>        <th class=\"col_heading level0 col14\" >Mrs</th>        <th class=\"col_heading level0 col15\" >Ms</th>        <th class=\"col_heading level0 col16\" >Rev</th>        <th class=\"col_heading level0 col17\" >Sir</th>    </tr>    <tr>        <th class=\"index_name level0\" >Sex</th>        <th class=\"blank\" ></th>        <th class=\"blank\" ></th>        <th class=\"blank\" ></th>        <th class=\"blank\" ></th>        <th class=\"blank\" ></th>        <th class=\"blank\" ></th>        <th class=\"blank\" ></th>        <th class=\"blank\" ></th>        <th class=\"blank\" ></th>        <th class=\"blank\" ></th>        <th class=\"blank\" ></th>        <th class=\"blank\" ></th>        <th class=\"blank\" ></th>        <th class=\"blank\" ></th>        <th class=\"blank\" ></th>        <th class=\"blank\" ></th>        <th class=\"blank\" ></th>        <th class=\"blank\" ></th>    </tr></thead><tbody>\n",
              "                <tr>\n",
              "                        <th id=\"T_fd5b340a_17f5_11eb_ad51_0242ac1c0002level0_row0\" class=\"row_heading level0 row0\" >female</th>\n",
              "                        <td id=\"T_fd5b340a_17f5_11eb_ad51_0242ac1c0002row0_col0\" class=\"data row0 col0\" >0</td>\n",
              "                        <td id=\"T_fd5b340a_17f5_11eb_ad51_0242ac1c0002row0_col1\" class=\"data row0 col1\" >0</td>\n",
              "                        <td id=\"T_fd5b340a_17f5_11eb_ad51_0242ac1c0002row0_col2\" class=\"data row0 col2\" >1</td>\n",
              "                        <td id=\"T_fd5b340a_17f5_11eb_ad51_0242ac1c0002row0_col3\" class=\"data row0 col3\" >0</td>\n",
              "                        <td id=\"T_fd5b340a_17f5_11eb_ad51_0242ac1c0002row0_col4\" class=\"data row0 col4\" >1</td>\n",
              "                        <td id=\"T_fd5b340a_17f5_11eb_ad51_0242ac1c0002row0_col5\" class=\"data row0 col5\" >1</td>\n",
              "                        <td id=\"T_fd5b340a_17f5_11eb_ad51_0242ac1c0002row0_col6\" class=\"data row0 col6\" >0</td>\n",
              "                        <td id=\"T_fd5b340a_17f5_11eb_ad51_0242ac1c0002row0_col7\" class=\"data row0 col7\" >1</td>\n",
              "                        <td id=\"T_fd5b340a_17f5_11eb_ad51_0242ac1c0002row0_col8\" class=\"data row0 col8\" >0</td>\n",
              "                        <td id=\"T_fd5b340a_17f5_11eb_ad51_0242ac1c0002row0_col9\" class=\"data row0 col9\" >0</td>\n",
              "                        <td id=\"T_fd5b340a_17f5_11eb_ad51_0242ac1c0002row0_col10\" class=\"data row0 col10\" >260</td>\n",
              "                        <td id=\"T_fd5b340a_17f5_11eb_ad51_0242ac1c0002row0_col11\" class=\"data row0 col11\" >2</td>\n",
              "                        <td id=\"T_fd5b340a_17f5_11eb_ad51_0242ac1c0002row0_col12\" class=\"data row0 col12\" >1</td>\n",
              "                        <td id=\"T_fd5b340a_17f5_11eb_ad51_0242ac1c0002row0_col13\" class=\"data row0 col13\" >0</td>\n",
              "                        <td id=\"T_fd5b340a_17f5_11eb_ad51_0242ac1c0002row0_col14\" class=\"data row0 col14\" >197</td>\n",
              "                        <td id=\"T_fd5b340a_17f5_11eb_ad51_0242ac1c0002row0_col15\" class=\"data row0 col15\" >2</td>\n",
              "                        <td id=\"T_fd5b340a_17f5_11eb_ad51_0242ac1c0002row0_col16\" class=\"data row0 col16\" >0</td>\n",
              "                        <td id=\"T_fd5b340a_17f5_11eb_ad51_0242ac1c0002row0_col17\" class=\"data row0 col17\" >0</td>\n",
              "            </tr>\n",
              "            <tr>\n",
              "                        <th id=\"T_fd5b340a_17f5_11eb_ad51_0242ac1c0002level0_row1\" class=\"row_heading level0 row1\" >male</th>\n",
              "                        <td id=\"T_fd5b340a_17f5_11eb_ad51_0242ac1c0002row1_col0\" class=\"data row1 col0\" >1</td>\n",
              "                        <td id=\"T_fd5b340a_17f5_11eb_ad51_0242ac1c0002row1_col1\" class=\"data row1 col1\" >4</td>\n",
              "                        <td id=\"T_fd5b340a_17f5_11eb_ad51_0242ac1c0002row1_col2\" class=\"data row1 col2\" >0</td>\n",
              "                        <td id=\"T_fd5b340a_17f5_11eb_ad51_0242ac1c0002row1_col3\" class=\"data row1 col3\" >1</td>\n",
              "                        <td id=\"T_fd5b340a_17f5_11eb_ad51_0242ac1c0002row1_col4\" class=\"data row1 col4\" >0</td>\n",
              "                        <td id=\"T_fd5b340a_17f5_11eb_ad51_0242ac1c0002row1_col5\" class=\"data row1 col5\" >7</td>\n",
              "                        <td id=\"T_fd5b340a_17f5_11eb_ad51_0242ac1c0002row1_col6\" class=\"data row1 col6\" >1</td>\n",
              "                        <td id=\"T_fd5b340a_17f5_11eb_ad51_0242ac1c0002row1_col7\" class=\"data row1 col7\" >0</td>\n",
              "                        <td id=\"T_fd5b340a_17f5_11eb_ad51_0242ac1c0002row1_col8\" class=\"data row1 col8\" >2</td>\n",
              "                        <td id=\"T_fd5b340a_17f5_11eb_ad51_0242ac1c0002row1_col9\" class=\"data row1 col9\" >61</td>\n",
              "                        <td id=\"T_fd5b340a_17f5_11eb_ad51_0242ac1c0002row1_col10\" class=\"data row1 col10\" >0</td>\n",
              "                        <td id=\"T_fd5b340a_17f5_11eb_ad51_0242ac1c0002row1_col11\" class=\"data row1 col11\" >0</td>\n",
              "                        <td id=\"T_fd5b340a_17f5_11eb_ad51_0242ac1c0002row1_col12\" class=\"data row1 col12\" >0</td>\n",
              "                        <td id=\"T_fd5b340a_17f5_11eb_ad51_0242ac1c0002row1_col13\" class=\"data row1 col13\" >757</td>\n",
              "                        <td id=\"T_fd5b340a_17f5_11eb_ad51_0242ac1c0002row1_col14\" class=\"data row1 col14\" >0</td>\n",
              "                        <td id=\"T_fd5b340a_17f5_11eb_ad51_0242ac1c0002row1_col15\" class=\"data row1 col15\" >0</td>\n",
              "                        <td id=\"T_fd5b340a_17f5_11eb_ad51_0242ac1c0002row1_col16\" class=\"data row1 col16\" >8</td>\n",
              "                        <td id=\"T_fd5b340a_17f5_11eb_ad51_0242ac1c0002row1_col17\" class=\"data row1 col17\" >1</td>\n",
              "            </tr>\n",
              "    </tbody></table>"
            ],
            "text/plain": [
              "<pandas.io.formats.style.Styler at 0x7f96d22ba710>"
            ]
          },
          "metadata": {
            "tags": []
          },
          "execution_count": 28
        }
      ]
    },
    {
      "cell_type": "code",
      "metadata": {
        "id": "LIekwVWYdv5j",
        "outputId": "4555d377-f2dd-4819-bed8-6a913341ed65",
        "colab": {
          "base_uri": "https://localhost:8080/",
          "height": 357
        }
      },
      "source": [
        "#survived percentage function\n",
        "def survpct(col):\n",
        "  return temp.groupby(col)['Survived'].mean()\n",
        "\n",
        "survpct('Initial')"
      ],
      "execution_count": 29,
      "outputs": [
        {
          "output_type": "execute_result",
          "data": {
            "text/plain": [
              "Initial\n",
              "Capt        0.000000\n",
              "Col         0.500000\n",
              "Countess    1.000000\n",
              "Don         0.000000\n",
              "Dona             NaN\n",
              "Dr          0.428571\n",
              "Jonkheer    0.000000\n",
              "Lady        1.000000\n",
              "Major       0.500000\n",
              "Master      0.575000\n",
              "Miss        0.697802\n",
              "Mlle        1.000000\n",
              "Mme         1.000000\n",
              "Mr          0.156673\n",
              "Mrs         0.792000\n",
              "Ms          1.000000\n",
              "Rev         0.000000\n",
              "Sir         1.000000\n",
              "Name: Survived, dtype: float64"
            ]
          },
          "metadata": {
            "tags": []
          },
          "execution_count": 29
        }
      ]
    },
    {
      "cell_type": "code",
      "metadata": {
        "id": "6JJQ93Y9e2bF"
      },
      "source": [
        "temp['LastName'] = data.Name.str.extract('([A-Za-z]+)')"
      ],
      "execution_count": 30,
      "outputs": []
    },
    {
      "cell_type": "code",
      "metadata": {
        "id": "7GupV7_wfeuL",
        "outputId": "216b84f9-0447-45bb-a021-d1144673ac0f",
        "colab": {
          "base_uri": "https://localhost:8080/",
          "height": 151
        }
      },
      "source": [
        "temp.loc[temp['Initial']=='Dona'] #Dona age = 39"
      ],
      "execution_count": 31,
      "outputs": [
        {
          "output_type": "execute_result",
          "data": {
            "text/html": [
              "<div>\n",
              "<style scoped>\n",
              "    .dataframe tbody tr th:only-of-type {\n",
              "        vertical-align: middle;\n",
              "    }\n",
              "\n",
              "    .dataframe tbody tr th {\n",
              "        vertical-align: top;\n",
              "    }\n",
              "\n",
              "    .dataframe thead th {\n",
              "        text-align: right;\n",
              "    }\n",
              "</style>\n",
              "<table border=\"1\" class=\"dataframe\">\n",
              "  <thead>\n",
              "    <tr style=\"text-align: right;\">\n",
              "      <th></th>\n",
              "      <th>PassengerId</th>\n",
              "      <th>Survived</th>\n",
              "      <th>Pclass</th>\n",
              "      <th>Name</th>\n",
              "      <th>Sex</th>\n",
              "      <th>Age</th>\n",
              "      <th>SibSp</th>\n",
              "      <th>Parch</th>\n",
              "      <th>Ticket</th>\n",
              "      <th>Fare</th>\n",
              "      <th>Cabin</th>\n",
              "      <th>Embarked</th>\n",
              "      <th>Initial</th>\n",
              "      <th>LastName</th>\n",
              "    </tr>\n",
              "  </thead>\n",
              "  <tbody>\n",
              "    <tr>\n",
              "      <th>414</th>\n",
              "      <td>1306</td>\n",
              "      <td>NaN</td>\n",
              "      <td>1</td>\n",
              "      <td>Oliva y Ocana, Dona. Fermina</td>\n",
              "      <td>female</td>\n",
              "      <td>39.0</td>\n",
              "      <td>0</td>\n",
              "      <td>0</td>\n",
              "      <td>PC 17758</td>\n",
              "      <td>108.9</td>\n",
              "      <td>C105</td>\n",
              "      <td>C</td>\n",
              "      <td>Dona</td>\n",
              "      <td>Oliva</td>\n",
              "    </tr>\n",
              "  </tbody>\n",
              "</table>\n",
              "</div>"
            ],
            "text/plain": [
              "     PassengerId  Survived  Pclass  ... Embarked Initial  LastName\n",
              "414         1306       NaN       1  ...        C    Dona     Oliva\n",
              "\n",
              "[1 rows x 14 columns]"
            ]
          },
          "metadata": {
            "tags": []
          },
          "execution_count": 31
        }
      ]
    },
    {
      "cell_type": "code",
      "metadata": {
        "id": "JiafHgYUfu-L"
      },
      "source": [
        "temp.loc[temp['Initial']=='Dona','Initial']='Mrs'"
      ],
      "execution_count": 32,
      "outputs": []
    },
    {
      "cell_type": "code",
      "metadata": {
        "id": "BOZYHSOrhHhb",
        "outputId": "b1224843-5db8-4702-a9e6-06646bbbbef0",
        "colab": {
          "base_uri": "https://localhost:8080/",
          "height": 103
        }
      },
      "source": [
        "pd.crosstab(temp.Initial,temp.Survived).T.style.background_gradient(cmap='summer_r')"
      ],
      "execution_count": 33,
      "outputs": [
        {
          "output_type": "execute_result",
          "data": {
            "text/html": [
              "<style  type=\"text/css\" >\n",
              "#T_00dc7490_17f6_11eb_ad51_0242ac1c0002row0_col0,#T_00dc7490_17f6_11eb_ad51_0242ac1c0002row0_col3,#T_00dc7490_17f6_11eb_ad51_0242ac1c0002row0_col4,#T_00dc7490_17f6_11eb_ad51_0242ac1c0002row0_col5,#T_00dc7490_17f6_11eb_ad51_0242ac1c0002row0_col12,#T_00dc7490_17f6_11eb_ad51_0242ac1c0002row0_col15,#T_00dc7490_17f6_11eb_ad51_0242ac1c0002row1_col2,#T_00dc7490_17f6_11eb_ad51_0242ac1c0002row1_col6,#T_00dc7490_17f6_11eb_ad51_0242ac1c0002row1_col8,#T_00dc7490_17f6_11eb_ad51_0242ac1c0002row1_col9,#T_00dc7490_17f6_11eb_ad51_0242ac1c0002row1_col10,#T_00dc7490_17f6_11eb_ad51_0242ac1c0002row1_col11,#T_00dc7490_17f6_11eb_ad51_0242ac1c0002row1_col13,#T_00dc7490_17f6_11eb_ad51_0242ac1c0002row1_col14,#T_00dc7490_17f6_11eb_ad51_0242ac1c0002row1_col16{\n",
              "            background-color:  #008066;\n",
              "            color:  #f1f1f1;\n",
              "        }#T_00dc7490_17f6_11eb_ad51_0242ac1c0002row0_col1,#T_00dc7490_17f6_11eb_ad51_0242ac1c0002row0_col2,#T_00dc7490_17f6_11eb_ad51_0242ac1c0002row0_col6,#T_00dc7490_17f6_11eb_ad51_0242ac1c0002row0_col7,#T_00dc7490_17f6_11eb_ad51_0242ac1c0002row0_col8,#T_00dc7490_17f6_11eb_ad51_0242ac1c0002row0_col9,#T_00dc7490_17f6_11eb_ad51_0242ac1c0002row0_col10,#T_00dc7490_17f6_11eb_ad51_0242ac1c0002row0_col11,#T_00dc7490_17f6_11eb_ad51_0242ac1c0002row0_col13,#T_00dc7490_17f6_11eb_ad51_0242ac1c0002row0_col14,#T_00dc7490_17f6_11eb_ad51_0242ac1c0002row0_col16,#T_00dc7490_17f6_11eb_ad51_0242ac1c0002row1_col0,#T_00dc7490_17f6_11eb_ad51_0242ac1c0002row1_col1,#T_00dc7490_17f6_11eb_ad51_0242ac1c0002row1_col3,#T_00dc7490_17f6_11eb_ad51_0242ac1c0002row1_col4,#T_00dc7490_17f6_11eb_ad51_0242ac1c0002row1_col5,#T_00dc7490_17f6_11eb_ad51_0242ac1c0002row1_col7,#T_00dc7490_17f6_11eb_ad51_0242ac1c0002row1_col12,#T_00dc7490_17f6_11eb_ad51_0242ac1c0002row1_col15{\n",
              "            background-color:  #ffff66;\n",
              "            color:  #000000;\n",
              "        }</style><table id=\"T_00dc7490_17f6_11eb_ad51_0242ac1c0002\" ><thead>    <tr>        <th class=\"index_name level0\" >Initial</th>        <th class=\"col_heading level0 col0\" >Capt</th>        <th class=\"col_heading level0 col1\" >Col</th>        <th class=\"col_heading level0 col2\" >Countess</th>        <th class=\"col_heading level0 col3\" >Don</th>        <th class=\"col_heading level0 col4\" >Dr</th>        <th class=\"col_heading level0 col5\" >Jonkheer</th>        <th class=\"col_heading level0 col6\" >Lady</th>        <th class=\"col_heading level0 col7\" >Major</th>        <th class=\"col_heading level0 col8\" >Master</th>        <th class=\"col_heading level0 col9\" >Miss</th>        <th class=\"col_heading level0 col10\" >Mlle</th>        <th class=\"col_heading level0 col11\" >Mme</th>        <th class=\"col_heading level0 col12\" >Mr</th>        <th class=\"col_heading level0 col13\" >Mrs</th>        <th class=\"col_heading level0 col14\" >Ms</th>        <th class=\"col_heading level0 col15\" >Rev</th>        <th class=\"col_heading level0 col16\" >Sir</th>    </tr>    <tr>        <th class=\"index_name level0\" >Survived</th>        <th class=\"blank\" ></th>        <th class=\"blank\" ></th>        <th class=\"blank\" ></th>        <th class=\"blank\" ></th>        <th class=\"blank\" ></th>        <th class=\"blank\" ></th>        <th class=\"blank\" ></th>        <th class=\"blank\" ></th>        <th class=\"blank\" ></th>        <th class=\"blank\" ></th>        <th class=\"blank\" ></th>        <th class=\"blank\" ></th>        <th class=\"blank\" ></th>        <th class=\"blank\" ></th>        <th class=\"blank\" ></th>        <th class=\"blank\" ></th>        <th class=\"blank\" ></th>    </tr></thead><tbody>\n",
              "                <tr>\n",
              "                        <th id=\"T_00dc7490_17f6_11eb_ad51_0242ac1c0002level0_row0\" class=\"row_heading level0 row0\" >0.0</th>\n",
              "                        <td id=\"T_00dc7490_17f6_11eb_ad51_0242ac1c0002row0_col0\" class=\"data row0 col0\" >1</td>\n",
              "                        <td id=\"T_00dc7490_17f6_11eb_ad51_0242ac1c0002row0_col1\" class=\"data row0 col1\" >1</td>\n",
              "                        <td id=\"T_00dc7490_17f6_11eb_ad51_0242ac1c0002row0_col2\" class=\"data row0 col2\" >0</td>\n",
              "                        <td id=\"T_00dc7490_17f6_11eb_ad51_0242ac1c0002row0_col3\" class=\"data row0 col3\" >1</td>\n",
              "                        <td id=\"T_00dc7490_17f6_11eb_ad51_0242ac1c0002row0_col4\" class=\"data row0 col4\" >4</td>\n",
              "                        <td id=\"T_00dc7490_17f6_11eb_ad51_0242ac1c0002row0_col5\" class=\"data row0 col5\" >1</td>\n",
              "                        <td id=\"T_00dc7490_17f6_11eb_ad51_0242ac1c0002row0_col6\" class=\"data row0 col6\" >0</td>\n",
              "                        <td id=\"T_00dc7490_17f6_11eb_ad51_0242ac1c0002row0_col7\" class=\"data row0 col7\" >1</td>\n",
              "                        <td id=\"T_00dc7490_17f6_11eb_ad51_0242ac1c0002row0_col8\" class=\"data row0 col8\" >17</td>\n",
              "                        <td id=\"T_00dc7490_17f6_11eb_ad51_0242ac1c0002row0_col9\" class=\"data row0 col9\" >55</td>\n",
              "                        <td id=\"T_00dc7490_17f6_11eb_ad51_0242ac1c0002row0_col10\" class=\"data row0 col10\" >0</td>\n",
              "                        <td id=\"T_00dc7490_17f6_11eb_ad51_0242ac1c0002row0_col11\" class=\"data row0 col11\" >0</td>\n",
              "                        <td id=\"T_00dc7490_17f6_11eb_ad51_0242ac1c0002row0_col12\" class=\"data row0 col12\" >436</td>\n",
              "                        <td id=\"T_00dc7490_17f6_11eb_ad51_0242ac1c0002row0_col13\" class=\"data row0 col13\" >26</td>\n",
              "                        <td id=\"T_00dc7490_17f6_11eb_ad51_0242ac1c0002row0_col14\" class=\"data row0 col14\" >0</td>\n",
              "                        <td id=\"T_00dc7490_17f6_11eb_ad51_0242ac1c0002row0_col15\" class=\"data row0 col15\" >6</td>\n",
              "                        <td id=\"T_00dc7490_17f6_11eb_ad51_0242ac1c0002row0_col16\" class=\"data row0 col16\" >0</td>\n",
              "            </tr>\n",
              "            <tr>\n",
              "                        <th id=\"T_00dc7490_17f6_11eb_ad51_0242ac1c0002level0_row1\" class=\"row_heading level0 row1\" >1.0</th>\n",
              "                        <td id=\"T_00dc7490_17f6_11eb_ad51_0242ac1c0002row1_col0\" class=\"data row1 col0\" >0</td>\n",
              "                        <td id=\"T_00dc7490_17f6_11eb_ad51_0242ac1c0002row1_col1\" class=\"data row1 col1\" >1</td>\n",
              "                        <td id=\"T_00dc7490_17f6_11eb_ad51_0242ac1c0002row1_col2\" class=\"data row1 col2\" >1</td>\n",
              "                        <td id=\"T_00dc7490_17f6_11eb_ad51_0242ac1c0002row1_col3\" class=\"data row1 col3\" >0</td>\n",
              "                        <td id=\"T_00dc7490_17f6_11eb_ad51_0242ac1c0002row1_col4\" class=\"data row1 col4\" >3</td>\n",
              "                        <td id=\"T_00dc7490_17f6_11eb_ad51_0242ac1c0002row1_col5\" class=\"data row1 col5\" >0</td>\n",
              "                        <td id=\"T_00dc7490_17f6_11eb_ad51_0242ac1c0002row1_col6\" class=\"data row1 col6\" >1</td>\n",
              "                        <td id=\"T_00dc7490_17f6_11eb_ad51_0242ac1c0002row1_col7\" class=\"data row1 col7\" >1</td>\n",
              "                        <td id=\"T_00dc7490_17f6_11eb_ad51_0242ac1c0002row1_col8\" class=\"data row1 col8\" >23</td>\n",
              "                        <td id=\"T_00dc7490_17f6_11eb_ad51_0242ac1c0002row1_col9\" class=\"data row1 col9\" >127</td>\n",
              "                        <td id=\"T_00dc7490_17f6_11eb_ad51_0242ac1c0002row1_col10\" class=\"data row1 col10\" >2</td>\n",
              "                        <td id=\"T_00dc7490_17f6_11eb_ad51_0242ac1c0002row1_col11\" class=\"data row1 col11\" >1</td>\n",
              "                        <td id=\"T_00dc7490_17f6_11eb_ad51_0242ac1c0002row1_col12\" class=\"data row1 col12\" >81</td>\n",
              "                        <td id=\"T_00dc7490_17f6_11eb_ad51_0242ac1c0002row1_col13\" class=\"data row1 col13\" >99</td>\n",
              "                        <td id=\"T_00dc7490_17f6_11eb_ad51_0242ac1c0002row1_col14\" class=\"data row1 col14\" >1</td>\n",
              "                        <td id=\"T_00dc7490_17f6_11eb_ad51_0242ac1c0002row1_col15\" class=\"data row1 col15\" >0</td>\n",
              "                        <td id=\"T_00dc7490_17f6_11eb_ad51_0242ac1c0002row1_col16\" class=\"data row1 col16\" >1</td>\n",
              "            </tr>\n",
              "    </tbody></table>"
            ],
            "text/plain": [
              "<pandas.io.formats.style.Styler at 0x7f96a682ac18>"
            ]
          },
          "metadata": {
            "tags": []
          },
          "execution_count": 33
        }
      ]
    },
    {
      "cell_type": "code",
      "metadata": {
        "id": "JFnkV8VhoyzQ"
      },
      "source": [
        "#change LastName to number\n",
        "temp['NumName']=temp['LastName'].factorize()[0]"
      ],
      "execution_count": 34,
      "outputs": []
    },
    {
      "cell_type": "code",
      "metadata": {
        "id": "T40hChSXqMWd",
        "outputId": "60fc4a14-c3dc-4409-c74f-dd0fa5a5350e",
        "colab": {
          "base_uri": "https://localhost:8080/",
          "height": 123
        }
      },
      "source": [
        "pd.crosstab(temp.NumName,temp.Survived).T.style.background_gradient(cmap='summer_r')"
      ],
      "execution_count": 35,
      "outputs": [
        {
          "output_type": "execute_result",
          "data": {
            "text/html": [
              "<style  type=\"text/css\" >\n",
              "#T_02fbb8c6_17f6_11eb_ad51_0242ac1c0002row0_col0,#T_02fbb8c6_17f6_11eb_ad51_0242ac1c0002row0_col5,#T_02fbb8c6_17f6_11eb_ad51_0242ac1c0002row0_col6,#T_02fbb8c6_17f6_11eb_ad51_0242ac1c0002row0_col7,#T_02fbb8c6_17f6_11eb_ad51_0242ac1c0002row0_col12,#T_02fbb8c6_17f6_11eb_ad51_0242ac1c0002row0_col13,#T_02fbb8c6_17f6_11eb_ad51_0242ac1c0002row0_col14,#T_02fbb8c6_17f6_11eb_ad51_0242ac1c0002row0_col16,#T_02fbb8c6_17f6_11eb_ad51_0242ac1c0002row0_col17,#T_02fbb8c6_17f6_11eb_ad51_0242ac1c0002row0_col18,#T_02fbb8c6_17f6_11eb_ad51_0242ac1c0002row0_col20,#T_02fbb8c6_17f6_11eb_ad51_0242ac1c0002row0_col25,#T_02fbb8c6_17f6_11eb_ad51_0242ac1c0002row0_col27,#T_02fbb8c6_17f6_11eb_ad51_0242ac1c0002row0_col28,#T_02fbb8c6_17f6_11eb_ad51_0242ac1c0002row0_col29,#T_02fbb8c6_17f6_11eb_ad51_0242ac1c0002row0_col32,#T_02fbb8c6_17f6_11eb_ad51_0242ac1c0002row0_col33,#T_02fbb8c6_17f6_11eb_ad51_0242ac1c0002row0_col36,#T_02fbb8c6_17f6_11eb_ad51_0242ac1c0002row0_col38,#T_02fbb8c6_17f6_11eb_ad51_0242ac1c0002row0_col39,#T_02fbb8c6_17f6_11eb_ad51_0242ac1c0002row0_col40,#T_02fbb8c6_17f6_11eb_ad51_0242ac1c0002row0_col43,#T_02fbb8c6_17f6_11eb_ad51_0242ac1c0002row0_col44,#T_02fbb8c6_17f6_11eb_ad51_0242ac1c0002row0_col45,#T_02fbb8c6_17f6_11eb_ad51_0242ac1c0002row0_col46,#T_02fbb8c6_17f6_11eb_ad51_0242ac1c0002row0_col47,#T_02fbb8c6_17f6_11eb_ad51_0242ac1c0002row0_col48,#T_02fbb8c6_17f6_11eb_ad51_0242ac1c0002row0_col51,#T_02fbb8c6_17f6_11eb_ad51_0242ac1c0002row0_col54,#T_02fbb8c6_17f6_11eb_ad51_0242ac1c0002row0_col56,#T_02fbb8c6_17f6_11eb_ad51_0242ac1c0002row0_col57,#T_02fbb8c6_17f6_11eb_ad51_0242ac1c0002row0_col60,#T_02fbb8c6_17f6_11eb_ad51_0242ac1c0002row0_col61,#T_02fbb8c6_17f6_11eb_ad51_0242ac1c0002row0_col64,#T_02fbb8c6_17f6_11eb_ad51_0242ac1c0002row0_col66,#T_02fbb8c6_17f6_11eb_ad51_0242ac1c0002row0_col67,#T_02fbb8c6_17f6_11eb_ad51_0242ac1c0002row0_col68,#T_02fbb8c6_17f6_11eb_ad51_0242ac1c0002row0_col70,#T_02fbb8c6_17f6_11eb_ad51_0242ac1c0002row0_col71,#T_02fbb8c6_17f6_11eb_ad51_0242ac1c0002row0_col72,#T_02fbb8c6_17f6_11eb_ad51_0242ac1c0002row0_col75,#T_02fbb8c6_17f6_11eb_ad51_0242ac1c0002row0_col78,#T_02fbb8c6_17f6_11eb_ad51_0242ac1c0002row0_col81,#T_02fbb8c6_17f6_11eb_ad51_0242ac1c0002row0_col82,#T_02fbb8c6_17f6_11eb_ad51_0242ac1c0002row0_col83,#T_02fbb8c6_17f6_11eb_ad51_0242ac1c0002row0_col84,#T_02fbb8c6_17f6_11eb_ad51_0242ac1c0002row0_col85,#T_02fbb8c6_17f6_11eb_ad51_0242ac1c0002row0_col86,#T_02fbb8c6_17f6_11eb_ad51_0242ac1c0002row0_col88,#T_02fbb8c6_17f6_11eb_ad51_0242ac1c0002row0_col89,#T_02fbb8c6_17f6_11eb_ad51_0242ac1c0002row0_col90,#T_02fbb8c6_17f6_11eb_ad51_0242ac1c0002row0_col94,#T_02fbb8c6_17f6_11eb_ad51_0242ac1c0002row0_col95,#T_02fbb8c6_17f6_11eb_ad51_0242ac1c0002row0_col96,#T_02fbb8c6_17f6_11eb_ad51_0242ac1c0002row0_col97,#T_02fbb8c6_17f6_11eb_ad51_0242ac1c0002row0_col98,#T_02fbb8c6_17f6_11eb_ad51_0242ac1c0002row0_col99,#T_02fbb8c6_17f6_11eb_ad51_0242ac1c0002row0_col102,#T_02fbb8c6_17f6_11eb_ad51_0242ac1c0002row0_col103,#T_02fbb8c6_17f6_11eb_ad51_0242ac1c0002row0_col104,#T_02fbb8c6_17f6_11eb_ad51_0242ac1c0002row0_col105,#T_02fbb8c6_17f6_11eb_ad51_0242ac1c0002row0_col106,#T_02fbb8c6_17f6_11eb_ad51_0242ac1c0002row0_col107,#T_02fbb8c6_17f6_11eb_ad51_0242ac1c0002row0_col108,#T_02fbb8c6_17f6_11eb_ad51_0242ac1c0002row0_col109,#T_02fbb8c6_17f6_11eb_ad51_0242ac1c0002row0_col111,#T_02fbb8c6_17f6_11eb_ad51_0242ac1c0002row0_col112,#T_02fbb8c6_17f6_11eb_ad51_0242ac1c0002row0_col114,#T_02fbb8c6_17f6_11eb_ad51_0242ac1c0002row0_col117,#T_02fbb8c6_17f6_11eb_ad51_0242ac1c0002row0_col118,#T_02fbb8c6_17f6_11eb_ad51_0242ac1c0002row0_col119,#T_02fbb8c6_17f6_11eb_ad51_0242ac1c0002row0_col120,#T_02fbb8c6_17f6_11eb_ad51_0242ac1c0002row0_col122,#T_02fbb8c6_17f6_11eb_ad51_0242ac1c0002row0_col123,#T_02fbb8c6_17f6_11eb_ad51_0242ac1c0002row0_col125,#T_02fbb8c6_17f6_11eb_ad51_0242ac1c0002row0_col126,#T_02fbb8c6_17f6_11eb_ad51_0242ac1c0002row0_col127,#T_02fbb8c6_17f6_11eb_ad51_0242ac1c0002row0_col130,#T_02fbb8c6_17f6_11eb_ad51_0242ac1c0002row0_col131,#T_02fbb8c6_17f6_11eb_ad51_0242ac1c0002row0_col132,#T_02fbb8c6_17f6_11eb_ad51_0242ac1c0002row0_col134,#T_02fbb8c6_17f6_11eb_ad51_0242ac1c0002row0_col135,#T_02fbb8c6_17f6_11eb_ad51_0242ac1c0002row0_col137,#T_02fbb8c6_17f6_11eb_ad51_0242ac1c0002row0_col138,#T_02fbb8c6_17f6_11eb_ad51_0242ac1c0002row0_col139,#T_02fbb8c6_17f6_11eb_ad51_0242ac1c0002row0_col141,#T_02fbb8c6_17f6_11eb_ad51_0242ac1c0002row0_col142,#T_02fbb8c6_17f6_11eb_ad51_0242ac1c0002row0_col143,#T_02fbb8c6_17f6_11eb_ad51_0242ac1c0002row0_col144,#T_02fbb8c6_17f6_11eb_ad51_0242ac1c0002row0_col146,#T_02fbb8c6_17f6_11eb_ad51_0242ac1c0002row0_col147,#T_02fbb8c6_17f6_11eb_ad51_0242ac1c0002row0_col150,#T_02fbb8c6_17f6_11eb_ad51_0242ac1c0002row0_col151,#T_02fbb8c6_17f6_11eb_ad51_0242ac1c0002row0_col152,#T_02fbb8c6_17f6_11eb_ad51_0242ac1c0002row0_col153,#T_02fbb8c6_17f6_11eb_ad51_0242ac1c0002row0_col154,#T_02fbb8c6_17f6_11eb_ad51_0242ac1c0002row0_col155,#T_02fbb8c6_17f6_11eb_ad51_0242ac1c0002row0_col156,#T_02fbb8c6_17f6_11eb_ad51_0242ac1c0002row0_col157,#T_02fbb8c6_17f6_11eb_ad51_0242ac1c0002row0_col158,#T_02fbb8c6_17f6_11eb_ad51_0242ac1c0002row0_col159,#T_02fbb8c6_17f6_11eb_ad51_0242ac1c0002row0_col160,#T_02fbb8c6_17f6_11eb_ad51_0242ac1c0002row0_col162,#T_02fbb8c6_17f6_11eb_ad51_0242ac1c0002row0_col164,#T_02fbb8c6_17f6_11eb_ad51_0242ac1c0002row0_col165,#T_02fbb8c6_17f6_11eb_ad51_0242ac1c0002row0_col167,#T_02fbb8c6_17f6_11eb_ad51_0242ac1c0002row0_col171,#T_02fbb8c6_17f6_11eb_ad51_0242ac1c0002row0_col173,#T_02fbb8c6_17f6_11eb_ad51_0242ac1c0002row0_col174,#T_02fbb8c6_17f6_11eb_ad51_0242ac1c0002row0_col175,#T_02fbb8c6_17f6_11eb_ad51_0242ac1c0002row0_col176,#T_02fbb8c6_17f6_11eb_ad51_0242ac1c0002row0_col178,#T_02fbb8c6_17f6_11eb_ad51_0242ac1c0002row0_col182,#T_02fbb8c6_17f6_11eb_ad51_0242ac1c0002row0_col184,#T_02fbb8c6_17f6_11eb_ad51_0242ac1c0002row0_col185,#T_02fbb8c6_17f6_11eb_ad51_0242ac1c0002row0_col186,#T_02fbb8c6_17f6_11eb_ad51_0242ac1c0002row0_col192,#T_02fbb8c6_17f6_11eb_ad51_0242ac1c0002row0_col193,#T_02fbb8c6_17f6_11eb_ad51_0242ac1c0002row0_col194,#T_02fbb8c6_17f6_11eb_ad51_0242ac1c0002row0_col196,#T_02fbb8c6_17f6_11eb_ad51_0242ac1c0002row0_col198,#T_02fbb8c6_17f6_11eb_ad51_0242ac1c0002row0_col199,#T_02fbb8c6_17f6_11eb_ad51_0242ac1c0002row0_col200,#T_02fbb8c6_17f6_11eb_ad51_0242ac1c0002row0_col201,#T_02fbb8c6_17f6_11eb_ad51_0242ac1c0002row0_col202,#T_02fbb8c6_17f6_11eb_ad51_0242ac1c0002row0_col203,#T_02fbb8c6_17f6_11eb_ad51_0242ac1c0002row0_col204,#T_02fbb8c6_17f6_11eb_ad51_0242ac1c0002row0_col206,#T_02fbb8c6_17f6_11eb_ad51_0242ac1c0002row0_col207,#T_02fbb8c6_17f6_11eb_ad51_0242ac1c0002row0_col209,#T_02fbb8c6_17f6_11eb_ad51_0242ac1c0002row0_col210,#T_02fbb8c6_17f6_11eb_ad51_0242ac1c0002row0_col212,#T_02fbb8c6_17f6_11eb_ad51_0242ac1c0002row0_col216,#T_02fbb8c6_17f6_11eb_ad51_0242ac1c0002row0_col217,#T_02fbb8c6_17f6_11eb_ad51_0242ac1c0002row0_col218,#T_02fbb8c6_17f6_11eb_ad51_0242ac1c0002row0_col219,#T_02fbb8c6_17f6_11eb_ad51_0242ac1c0002row0_col226,#T_02fbb8c6_17f6_11eb_ad51_0242ac1c0002row0_col227,#T_02fbb8c6_17f6_11eb_ad51_0242ac1c0002row0_col228,#T_02fbb8c6_17f6_11eb_ad51_0242ac1c0002row0_col232,#T_02fbb8c6_17f6_11eb_ad51_0242ac1c0002row0_col235,#T_02fbb8c6_17f6_11eb_ad51_0242ac1c0002row0_col238,#T_02fbb8c6_17f6_11eb_ad51_0242ac1c0002row0_col239,#T_02fbb8c6_17f6_11eb_ad51_0242ac1c0002row0_col241,#T_02fbb8c6_17f6_11eb_ad51_0242ac1c0002row0_col242,#T_02fbb8c6_17f6_11eb_ad51_0242ac1c0002row0_col245,#T_02fbb8c6_17f6_11eb_ad51_0242ac1c0002row0_col246,#T_02fbb8c6_17f6_11eb_ad51_0242ac1c0002row0_col251,#T_02fbb8c6_17f6_11eb_ad51_0242ac1c0002row0_col252,#T_02fbb8c6_17f6_11eb_ad51_0242ac1c0002row0_col253,#T_02fbb8c6_17f6_11eb_ad51_0242ac1c0002row0_col254,#T_02fbb8c6_17f6_11eb_ad51_0242ac1c0002row0_col255,#T_02fbb8c6_17f6_11eb_ad51_0242ac1c0002row0_col256,#T_02fbb8c6_17f6_11eb_ad51_0242ac1c0002row0_col267,#T_02fbb8c6_17f6_11eb_ad51_0242ac1c0002row0_col268,#T_02fbb8c6_17f6_11eb_ad51_0242ac1c0002row0_col271,#T_02fbb8c6_17f6_11eb_ad51_0242ac1c0002row0_col274,#T_02fbb8c6_17f6_11eb_ad51_0242ac1c0002row0_col275,#T_02fbb8c6_17f6_11eb_ad51_0242ac1c0002row0_col278,#T_02fbb8c6_17f6_11eb_ad51_0242ac1c0002row0_col281,#T_02fbb8c6_17f6_11eb_ad51_0242ac1c0002row0_col283,#T_02fbb8c6_17f6_11eb_ad51_0242ac1c0002row0_col286,#T_02fbb8c6_17f6_11eb_ad51_0242ac1c0002row0_col287,#T_02fbb8c6_17f6_11eb_ad51_0242ac1c0002row0_col288,#T_02fbb8c6_17f6_11eb_ad51_0242ac1c0002row0_col289,#T_02fbb8c6_17f6_11eb_ad51_0242ac1c0002row0_col292,#T_02fbb8c6_17f6_11eb_ad51_0242ac1c0002row0_col293,#T_02fbb8c6_17f6_11eb_ad51_0242ac1c0002row0_col294,#T_02fbb8c6_17f6_11eb_ad51_0242ac1c0002row0_col295,#T_02fbb8c6_17f6_11eb_ad51_0242ac1c0002row0_col296,#T_02fbb8c6_17f6_11eb_ad51_0242ac1c0002row0_col298,#T_02fbb8c6_17f6_11eb_ad51_0242ac1c0002row0_col301,#T_02fbb8c6_17f6_11eb_ad51_0242ac1c0002row0_col302,#T_02fbb8c6_17f6_11eb_ad51_0242ac1c0002row0_col303,#T_02fbb8c6_17f6_11eb_ad51_0242ac1c0002row0_col304,#T_02fbb8c6_17f6_11eb_ad51_0242ac1c0002row0_col310,#T_02fbb8c6_17f6_11eb_ad51_0242ac1c0002row0_col311,#T_02fbb8c6_17f6_11eb_ad51_0242ac1c0002row0_col312,#T_02fbb8c6_17f6_11eb_ad51_0242ac1c0002row0_col314,#T_02fbb8c6_17f6_11eb_ad51_0242ac1c0002row0_col315,#T_02fbb8c6_17f6_11eb_ad51_0242ac1c0002row0_col318,#T_02fbb8c6_17f6_11eb_ad51_0242ac1c0002row0_col319,#T_02fbb8c6_17f6_11eb_ad51_0242ac1c0002row0_col320,#T_02fbb8c6_17f6_11eb_ad51_0242ac1c0002row0_col322,#T_02fbb8c6_17f6_11eb_ad51_0242ac1c0002row0_col325,#T_02fbb8c6_17f6_11eb_ad51_0242ac1c0002row0_col326,#T_02fbb8c6_17f6_11eb_ad51_0242ac1c0002row0_col329,#T_02fbb8c6_17f6_11eb_ad51_0242ac1c0002row0_col330,#T_02fbb8c6_17f6_11eb_ad51_0242ac1c0002row0_col331,#T_02fbb8c6_17f6_11eb_ad51_0242ac1c0002row0_col332,#T_02fbb8c6_17f6_11eb_ad51_0242ac1c0002row0_col334,#T_02fbb8c6_17f6_11eb_ad51_0242ac1c0002row0_col335,#T_02fbb8c6_17f6_11eb_ad51_0242ac1c0002row0_col336,#T_02fbb8c6_17f6_11eb_ad51_0242ac1c0002row0_col338,#T_02fbb8c6_17f6_11eb_ad51_0242ac1c0002row0_col341,#T_02fbb8c6_17f6_11eb_ad51_0242ac1c0002row0_col342,#T_02fbb8c6_17f6_11eb_ad51_0242ac1c0002row0_col343,#T_02fbb8c6_17f6_11eb_ad51_0242ac1c0002row0_col344,#T_02fbb8c6_17f6_11eb_ad51_0242ac1c0002row0_col345,#T_02fbb8c6_17f6_11eb_ad51_0242ac1c0002row0_col346,#T_02fbb8c6_17f6_11eb_ad51_0242ac1c0002row0_col349,#T_02fbb8c6_17f6_11eb_ad51_0242ac1c0002row0_col354,#T_02fbb8c6_17f6_11eb_ad51_0242ac1c0002row0_col356,#T_02fbb8c6_17f6_11eb_ad51_0242ac1c0002row0_col357,#T_02fbb8c6_17f6_11eb_ad51_0242ac1c0002row0_col358,#T_02fbb8c6_17f6_11eb_ad51_0242ac1c0002row0_col365,#T_02fbb8c6_17f6_11eb_ad51_0242ac1c0002row0_col366,#T_02fbb8c6_17f6_11eb_ad51_0242ac1c0002row0_col368,#T_02fbb8c6_17f6_11eb_ad51_0242ac1c0002row0_col370,#T_02fbb8c6_17f6_11eb_ad51_0242ac1c0002row0_col374,#T_02fbb8c6_17f6_11eb_ad51_0242ac1c0002row0_col375,#T_02fbb8c6_17f6_11eb_ad51_0242ac1c0002row0_col376,#T_02fbb8c6_17f6_11eb_ad51_0242ac1c0002row0_col377,#T_02fbb8c6_17f6_11eb_ad51_0242ac1c0002row0_col378,#T_02fbb8c6_17f6_11eb_ad51_0242ac1c0002row0_col379,#T_02fbb8c6_17f6_11eb_ad51_0242ac1c0002row0_col380,#T_02fbb8c6_17f6_11eb_ad51_0242ac1c0002row0_col381,#T_02fbb8c6_17f6_11eb_ad51_0242ac1c0002row0_col382,#T_02fbb8c6_17f6_11eb_ad51_0242ac1c0002row0_col383,#T_02fbb8c6_17f6_11eb_ad51_0242ac1c0002row0_col385,#T_02fbb8c6_17f6_11eb_ad51_0242ac1c0002row0_col386,#T_02fbb8c6_17f6_11eb_ad51_0242ac1c0002row0_col388,#T_02fbb8c6_17f6_11eb_ad51_0242ac1c0002row0_col390,#T_02fbb8c6_17f6_11eb_ad51_0242ac1c0002row0_col391,#T_02fbb8c6_17f6_11eb_ad51_0242ac1c0002row0_col393,#T_02fbb8c6_17f6_11eb_ad51_0242ac1c0002row0_col394,#T_02fbb8c6_17f6_11eb_ad51_0242ac1c0002row0_col395,#T_02fbb8c6_17f6_11eb_ad51_0242ac1c0002row0_col396,#T_02fbb8c6_17f6_11eb_ad51_0242ac1c0002row0_col397,#T_02fbb8c6_17f6_11eb_ad51_0242ac1c0002row0_col399,#T_02fbb8c6_17f6_11eb_ad51_0242ac1c0002row0_col401,#T_02fbb8c6_17f6_11eb_ad51_0242ac1c0002row0_col402,#T_02fbb8c6_17f6_11eb_ad51_0242ac1c0002row0_col403,#T_02fbb8c6_17f6_11eb_ad51_0242ac1c0002row0_col404,#T_02fbb8c6_17f6_11eb_ad51_0242ac1c0002row0_col412,#T_02fbb8c6_17f6_11eb_ad51_0242ac1c0002row0_col413,#T_02fbb8c6_17f6_11eb_ad51_0242ac1c0002row0_col415,#T_02fbb8c6_17f6_11eb_ad51_0242ac1c0002row0_col417,#T_02fbb8c6_17f6_11eb_ad51_0242ac1c0002row0_col419,#T_02fbb8c6_17f6_11eb_ad51_0242ac1c0002row0_col420,#T_02fbb8c6_17f6_11eb_ad51_0242ac1c0002row0_col421,#T_02fbb8c6_17f6_11eb_ad51_0242ac1c0002row0_col422,#T_02fbb8c6_17f6_11eb_ad51_0242ac1c0002row0_col424,#T_02fbb8c6_17f6_11eb_ad51_0242ac1c0002row0_col425,#T_02fbb8c6_17f6_11eb_ad51_0242ac1c0002row0_col427,#T_02fbb8c6_17f6_11eb_ad51_0242ac1c0002row0_col428,#T_02fbb8c6_17f6_11eb_ad51_0242ac1c0002row0_col430,#T_02fbb8c6_17f6_11eb_ad51_0242ac1c0002row0_col434,#T_02fbb8c6_17f6_11eb_ad51_0242ac1c0002row0_col435,#T_02fbb8c6_17f6_11eb_ad51_0242ac1c0002row0_col438,#T_02fbb8c6_17f6_11eb_ad51_0242ac1c0002row0_col441,#T_02fbb8c6_17f6_11eb_ad51_0242ac1c0002row0_col443,#T_02fbb8c6_17f6_11eb_ad51_0242ac1c0002row0_col444,#T_02fbb8c6_17f6_11eb_ad51_0242ac1c0002row0_col445,#T_02fbb8c6_17f6_11eb_ad51_0242ac1c0002row0_col446,#T_02fbb8c6_17f6_11eb_ad51_0242ac1c0002row0_col447,#T_02fbb8c6_17f6_11eb_ad51_0242ac1c0002row0_col448,#T_02fbb8c6_17f6_11eb_ad51_0242ac1c0002row0_col449,#T_02fbb8c6_17f6_11eb_ad51_0242ac1c0002row0_col450,#T_02fbb8c6_17f6_11eb_ad51_0242ac1c0002row0_col453,#T_02fbb8c6_17f6_11eb_ad51_0242ac1c0002row0_col454,#T_02fbb8c6_17f6_11eb_ad51_0242ac1c0002row0_col456,#T_02fbb8c6_17f6_11eb_ad51_0242ac1c0002row0_col458,#T_02fbb8c6_17f6_11eb_ad51_0242ac1c0002row0_col459,#T_02fbb8c6_17f6_11eb_ad51_0242ac1c0002row0_col460,#T_02fbb8c6_17f6_11eb_ad51_0242ac1c0002row0_col461,#T_02fbb8c6_17f6_11eb_ad51_0242ac1c0002row0_col462,#T_02fbb8c6_17f6_11eb_ad51_0242ac1c0002row0_col463,#T_02fbb8c6_17f6_11eb_ad51_0242ac1c0002row0_col464,#T_02fbb8c6_17f6_11eb_ad51_0242ac1c0002row0_col466,#T_02fbb8c6_17f6_11eb_ad51_0242ac1c0002row0_col467,#T_02fbb8c6_17f6_11eb_ad51_0242ac1c0002row0_col469,#T_02fbb8c6_17f6_11eb_ad51_0242ac1c0002row0_col470,#T_02fbb8c6_17f6_11eb_ad51_0242ac1c0002row0_col471,#T_02fbb8c6_17f6_11eb_ad51_0242ac1c0002row0_col473,#T_02fbb8c6_17f6_11eb_ad51_0242ac1c0002row0_col474,#T_02fbb8c6_17f6_11eb_ad51_0242ac1c0002row0_col477,#T_02fbb8c6_17f6_11eb_ad51_0242ac1c0002row0_col478,#T_02fbb8c6_17f6_11eb_ad51_0242ac1c0002row0_col479,#T_02fbb8c6_17f6_11eb_ad51_0242ac1c0002row0_col481,#T_02fbb8c6_17f6_11eb_ad51_0242ac1c0002row0_col484,#T_02fbb8c6_17f6_11eb_ad51_0242ac1c0002row0_col485,#T_02fbb8c6_17f6_11eb_ad51_0242ac1c0002row0_col486,#T_02fbb8c6_17f6_11eb_ad51_0242ac1c0002row0_col487,#T_02fbb8c6_17f6_11eb_ad51_0242ac1c0002row0_col489,#T_02fbb8c6_17f6_11eb_ad51_0242ac1c0002row0_col491,#T_02fbb8c6_17f6_11eb_ad51_0242ac1c0002row0_col493,#T_02fbb8c6_17f6_11eb_ad51_0242ac1c0002row0_col495,#T_02fbb8c6_17f6_11eb_ad51_0242ac1c0002row0_col496,#T_02fbb8c6_17f6_11eb_ad51_0242ac1c0002row0_col499,#T_02fbb8c6_17f6_11eb_ad51_0242ac1c0002row0_col501,#T_02fbb8c6_17f6_11eb_ad51_0242ac1c0002row0_col502,#T_02fbb8c6_17f6_11eb_ad51_0242ac1c0002row0_col503,#T_02fbb8c6_17f6_11eb_ad51_0242ac1c0002row0_col504,#T_02fbb8c6_17f6_11eb_ad51_0242ac1c0002row0_col505,#T_02fbb8c6_17f6_11eb_ad51_0242ac1c0002row0_col506,#T_02fbb8c6_17f6_11eb_ad51_0242ac1c0002row0_col507,#T_02fbb8c6_17f6_11eb_ad51_0242ac1c0002row0_col508,#T_02fbb8c6_17f6_11eb_ad51_0242ac1c0002row0_col510,#T_02fbb8c6_17f6_11eb_ad51_0242ac1c0002row0_col511,#T_02fbb8c6_17f6_11eb_ad51_0242ac1c0002row0_col512,#T_02fbb8c6_17f6_11eb_ad51_0242ac1c0002row0_col514,#T_02fbb8c6_17f6_11eb_ad51_0242ac1c0002row0_col515,#T_02fbb8c6_17f6_11eb_ad51_0242ac1c0002row0_col517,#T_02fbb8c6_17f6_11eb_ad51_0242ac1c0002row0_col518,#T_02fbb8c6_17f6_11eb_ad51_0242ac1c0002row0_col519,#T_02fbb8c6_17f6_11eb_ad51_0242ac1c0002row0_col522,#T_02fbb8c6_17f6_11eb_ad51_0242ac1c0002row0_col524,#T_02fbb8c6_17f6_11eb_ad51_0242ac1c0002row0_col525,#T_02fbb8c6_17f6_11eb_ad51_0242ac1c0002row0_col526,#T_02fbb8c6_17f6_11eb_ad51_0242ac1c0002row0_col531,#T_02fbb8c6_17f6_11eb_ad51_0242ac1c0002row0_col532,#T_02fbb8c6_17f6_11eb_ad51_0242ac1c0002row0_col534,#T_02fbb8c6_17f6_11eb_ad51_0242ac1c0002row0_col537,#T_02fbb8c6_17f6_11eb_ad51_0242ac1c0002row0_col541,#T_02fbb8c6_17f6_11eb_ad51_0242ac1c0002row0_col542,#T_02fbb8c6_17f6_11eb_ad51_0242ac1c0002row0_col543,#T_02fbb8c6_17f6_11eb_ad51_0242ac1c0002row0_col546,#T_02fbb8c6_17f6_11eb_ad51_0242ac1c0002row0_col547,#T_02fbb8c6_17f6_11eb_ad51_0242ac1c0002row0_col548,#T_02fbb8c6_17f6_11eb_ad51_0242ac1c0002row0_col551,#T_02fbb8c6_17f6_11eb_ad51_0242ac1c0002row0_col552,#T_02fbb8c6_17f6_11eb_ad51_0242ac1c0002row0_col553,#T_02fbb8c6_17f6_11eb_ad51_0242ac1c0002row0_col554,#T_02fbb8c6_17f6_11eb_ad51_0242ac1c0002row0_col555,#T_02fbb8c6_17f6_11eb_ad51_0242ac1c0002row0_col556,#T_02fbb8c6_17f6_11eb_ad51_0242ac1c0002row0_col558,#T_02fbb8c6_17f6_11eb_ad51_0242ac1c0002row0_col559,#T_02fbb8c6_17f6_11eb_ad51_0242ac1c0002row0_col561,#T_02fbb8c6_17f6_11eb_ad51_0242ac1c0002row0_col562,#T_02fbb8c6_17f6_11eb_ad51_0242ac1c0002row0_col565,#T_02fbb8c6_17f6_11eb_ad51_0242ac1c0002row0_col566,#T_02fbb8c6_17f6_11eb_ad51_0242ac1c0002row0_col569,#T_02fbb8c6_17f6_11eb_ad51_0242ac1c0002row0_col570,#T_02fbb8c6_17f6_11eb_ad51_0242ac1c0002row0_col571,#T_02fbb8c6_17f6_11eb_ad51_0242ac1c0002row0_col572,#T_02fbb8c6_17f6_11eb_ad51_0242ac1c0002row0_col574,#T_02fbb8c6_17f6_11eb_ad51_0242ac1c0002row0_col575,#T_02fbb8c6_17f6_11eb_ad51_0242ac1c0002row0_col577,#T_02fbb8c6_17f6_11eb_ad51_0242ac1c0002row0_col579,#T_02fbb8c6_17f6_11eb_ad51_0242ac1c0002row0_col580,#T_02fbb8c6_17f6_11eb_ad51_0242ac1c0002row0_col581,#T_02fbb8c6_17f6_11eb_ad51_0242ac1c0002row0_col582,#T_02fbb8c6_17f6_11eb_ad51_0242ac1c0002row0_col583,#T_02fbb8c6_17f6_11eb_ad51_0242ac1c0002row0_col584,#T_02fbb8c6_17f6_11eb_ad51_0242ac1c0002row0_col585,#T_02fbb8c6_17f6_11eb_ad51_0242ac1c0002row0_col587,#T_02fbb8c6_17f6_11eb_ad51_0242ac1c0002row0_col590,#T_02fbb8c6_17f6_11eb_ad51_0242ac1c0002row0_col591,#T_02fbb8c6_17f6_11eb_ad51_0242ac1c0002row0_col592,#T_02fbb8c6_17f6_11eb_ad51_0242ac1c0002row0_col594,#T_02fbb8c6_17f6_11eb_ad51_0242ac1c0002row0_col595,#T_02fbb8c6_17f6_11eb_ad51_0242ac1c0002row0_col596,#T_02fbb8c6_17f6_11eb_ad51_0242ac1c0002row0_col597,#T_02fbb8c6_17f6_11eb_ad51_0242ac1c0002row0_col600,#T_02fbb8c6_17f6_11eb_ad51_0242ac1c0002row0_col601,#T_02fbb8c6_17f6_11eb_ad51_0242ac1c0002row0_col604,#T_02fbb8c6_17f6_11eb_ad51_0242ac1c0002row0_col605,#T_02fbb8c6_17f6_11eb_ad51_0242ac1c0002row0_col606,#T_02fbb8c6_17f6_11eb_ad51_0242ac1c0002row0_col607,#T_02fbb8c6_17f6_11eb_ad51_0242ac1c0002row0_col608,#T_02fbb8c6_17f6_11eb_ad51_0242ac1c0002row0_col609,#T_02fbb8c6_17f6_11eb_ad51_0242ac1c0002row0_col610,#T_02fbb8c6_17f6_11eb_ad51_0242ac1c0002row0_col612,#T_02fbb8c6_17f6_11eb_ad51_0242ac1c0002row0_col614,#T_02fbb8c6_17f6_11eb_ad51_0242ac1c0002row0_col617,#T_02fbb8c6_17f6_11eb_ad51_0242ac1c0002row0_col618,#T_02fbb8c6_17f6_11eb_ad51_0242ac1c0002row0_col620,#T_02fbb8c6_17f6_11eb_ad51_0242ac1c0002row0_col621,#T_02fbb8c6_17f6_11eb_ad51_0242ac1c0002row0_col624,#T_02fbb8c6_17f6_11eb_ad51_0242ac1c0002row0_col625,#T_02fbb8c6_17f6_11eb_ad51_0242ac1c0002row0_col627,#T_02fbb8c6_17f6_11eb_ad51_0242ac1c0002row0_col628,#T_02fbb8c6_17f6_11eb_ad51_0242ac1c0002row0_col629,#T_02fbb8c6_17f6_11eb_ad51_0242ac1c0002row0_col630,#T_02fbb8c6_17f6_11eb_ad51_0242ac1c0002row0_col633,#T_02fbb8c6_17f6_11eb_ad51_0242ac1c0002row0_col634,#T_02fbb8c6_17f6_11eb_ad51_0242ac1c0002row0_col636,#T_02fbb8c6_17f6_11eb_ad51_0242ac1c0002row0_col639,#T_02fbb8c6_17f6_11eb_ad51_0242ac1c0002row0_col640,#T_02fbb8c6_17f6_11eb_ad51_0242ac1c0002row0_col642,#T_02fbb8c6_17f6_11eb_ad51_0242ac1c0002row0_col645,#T_02fbb8c6_17f6_11eb_ad51_0242ac1c0002row0_col646,#T_02fbb8c6_17f6_11eb_ad51_0242ac1c0002row0_col647,#T_02fbb8c6_17f6_11eb_ad51_0242ac1c0002row0_col648,#T_02fbb8c6_17f6_11eb_ad51_0242ac1c0002row0_col649,#T_02fbb8c6_17f6_11eb_ad51_0242ac1c0002row0_col651,#T_02fbb8c6_17f6_11eb_ad51_0242ac1c0002row1_col1,#T_02fbb8c6_17f6_11eb_ad51_0242ac1c0002row1_col2,#T_02fbb8c6_17f6_11eb_ad51_0242ac1c0002row1_col10,#T_02fbb8c6_17f6_11eb_ad51_0242ac1c0002row1_col11,#T_02fbb8c6_17f6_11eb_ad51_0242ac1c0002row1_col15,#T_02fbb8c6_17f6_11eb_ad51_0242ac1c0002row1_col19,#T_02fbb8c6_17f6_11eb_ad51_0242ac1c0002row1_col21,#T_02fbb8c6_17f6_11eb_ad51_0242ac1c0002row1_col22,#T_02fbb8c6_17f6_11eb_ad51_0242ac1c0002row1_col23,#T_02fbb8c6_17f6_11eb_ad51_0242ac1c0002row1_col24,#T_02fbb8c6_17f6_11eb_ad51_0242ac1c0002row1_col30,#T_02fbb8c6_17f6_11eb_ad51_0242ac1c0002row1_col31,#T_02fbb8c6_17f6_11eb_ad51_0242ac1c0002row1_col35,#T_02fbb8c6_17f6_11eb_ad51_0242ac1c0002row1_col37,#T_02fbb8c6_17f6_11eb_ad51_0242ac1c0002row1_col41,#T_02fbb8c6_17f6_11eb_ad51_0242ac1c0002row1_col42,#T_02fbb8c6_17f6_11eb_ad51_0242ac1c0002row1_col49,#T_02fbb8c6_17f6_11eb_ad51_0242ac1c0002row1_col50,#T_02fbb8c6_17f6_11eb_ad51_0242ac1c0002row1_col52,#T_02fbb8c6_17f6_11eb_ad51_0242ac1c0002row1_col53,#T_02fbb8c6_17f6_11eb_ad51_0242ac1c0002row1_col55,#T_02fbb8c6_17f6_11eb_ad51_0242ac1c0002row1_col58,#T_02fbb8c6_17f6_11eb_ad51_0242ac1c0002row1_col62,#T_02fbb8c6_17f6_11eb_ad51_0242ac1c0002row1_col63,#T_02fbb8c6_17f6_11eb_ad51_0242ac1c0002row1_col69,#T_02fbb8c6_17f6_11eb_ad51_0242ac1c0002row1_col73,#T_02fbb8c6_17f6_11eb_ad51_0242ac1c0002row1_col74,#T_02fbb8c6_17f6_11eb_ad51_0242ac1c0002row1_col76,#T_02fbb8c6_17f6_11eb_ad51_0242ac1c0002row1_col77,#T_02fbb8c6_17f6_11eb_ad51_0242ac1c0002row1_col79,#T_02fbb8c6_17f6_11eb_ad51_0242ac1c0002row1_col91,#T_02fbb8c6_17f6_11eb_ad51_0242ac1c0002row1_col92,#T_02fbb8c6_17f6_11eb_ad51_0242ac1c0002row1_col100,#T_02fbb8c6_17f6_11eb_ad51_0242ac1c0002row1_col101,#T_02fbb8c6_17f6_11eb_ad51_0242ac1c0002row1_col115,#T_02fbb8c6_17f6_11eb_ad51_0242ac1c0002row1_col116,#T_02fbb8c6_17f6_11eb_ad51_0242ac1c0002row1_col121,#T_02fbb8c6_17f6_11eb_ad51_0242ac1c0002row1_col124,#T_02fbb8c6_17f6_11eb_ad51_0242ac1c0002row1_col128,#T_02fbb8c6_17f6_11eb_ad51_0242ac1c0002row1_col133,#T_02fbb8c6_17f6_11eb_ad51_0242ac1c0002row1_col140,#T_02fbb8c6_17f6_11eb_ad51_0242ac1c0002row1_col145,#T_02fbb8c6_17f6_11eb_ad51_0242ac1c0002row1_col148,#T_02fbb8c6_17f6_11eb_ad51_0242ac1c0002row1_col149,#T_02fbb8c6_17f6_11eb_ad51_0242ac1c0002row1_col161,#T_02fbb8c6_17f6_11eb_ad51_0242ac1c0002row1_col163,#T_02fbb8c6_17f6_11eb_ad51_0242ac1c0002row1_col166,#T_02fbb8c6_17f6_11eb_ad51_0242ac1c0002row1_col168,#T_02fbb8c6_17f6_11eb_ad51_0242ac1c0002row1_col169,#T_02fbb8c6_17f6_11eb_ad51_0242ac1c0002row1_col170,#T_02fbb8c6_17f6_11eb_ad51_0242ac1c0002row1_col172,#T_02fbb8c6_17f6_11eb_ad51_0242ac1c0002row1_col177,#T_02fbb8c6_17f6_11eb_ad51_0242ac1c0002row1_col179,#T_02fbb8c6_17f6_11eb_ad51_0242ac1c0002row1_col180,#T_02fbb8c6_17f6_11eb_ad51_0242ac1c0002row1_col181,#T_02fbb8c6_17f6_11eb_ad51_0242ac1c0002row1_col183,#T_02fbb8c6_17f6_11eb_ad51_0242ac1c0002row1_col187,#T_02fbb8c6_17f6_11eb_ad51_0242ac1c0002row1_col188,#T_02fbb8c6_17f6_11eb_ad51_0242ac1c0002row1_col190,#T_02fbb8c6_17f6_11eb_ad51_0242ac1c0002row1_col191,#T_02fbb8c6_17f6_11eb_ad51_0242ac1c0002row1_col195,#T_02fbb8c6_17f6_11eb_ad51_0242ac1c0002row1_col197,#T_02fbb8c6_17f6_11eb_ad51_0242ac1c0002row1_col205,#T_02fbb8c6_17f6_11eb_ad51_0242ac1c0002row1_col208,#T_02fbb8c6_17f6_11eb_ad51_0242ac1c0002row1_col213,#T_02fbb8c6_17f6_11eb_ad51_0242ac1c0002row1_col214,#T_02fbb8c6_17f6_11eb_ad51_0242ac1c0002row1_col215,#T_02fbb8c6_17f6_11eb_ad51_0242ac1c0002row1_col220,#T_02fbb8c6_17f6_11eb_ad51_0242ac1c0002row1_col221,#T_02fbb8c6_17f6_11eb_ad51_0242ac1c0002row1_col222,#T_02fbb8c6_17f6_11eb_ad51_0242ac1c0002row1_col223,#T_02fbb8c6_17f6_11eb_ad51_0242ac1c0002row1_col224,#T_02fbb8c6_17f6_11eb_ad51_0242ac1c0002row1_col225,#T_02fbb8c6_17f6_11eb_ad51_0242ac1c0002row1_col229,#T_02fbb8c6_17f6_11eb_ad51_0242ac1c0002row1_col230,#T_02fbb8c6_17f6_11eb_ad51_0242ac1c0002row1_col231,#T_02fbb8c6_17f6_11eb_ad51_0242ac1c0002row1_col233,#T_02fbb8c6_17f6_11eb_ad51_0242ac1c0002row1_col234,#T_02fbb8c6_17f6_11eb_ad51_0242ac1c0002row1_col236,#T_02fbb8c6_17f6_11eb_ad51_0242ac1c0002row1_col243,#T_02fbb8c6_17f6_11eb_ad51_0242ac1c0002row1_col244,#T_02fbb8c6_17f6_11eb_ad51_0242ac1c0002row1_col247,#T_02fbb8c6_17f6_11eb_ad51_0242ac1c0002row1_col248,#T_02fbb8c6_17f6_11eb_ad51_0242ac1c0002row1_col249,#T_02fbb8c6_17f6_11eb_ad51_0242ac1c0002row1_col250,#T_02fbb8c6_17f6_11eb_ad51_0242ac1c0002row1_col257,#T_02fbb8c6_17f6_11eb_ad51_0242ac1c0002row1_col258,#T_02fbb8c6_17f6_11eb_ad51_0242ac1c0002row1_col259,#T_02fbb8c6_17f6_11eb_ad51_0242ac1c0002row1_col261,#T_02fbb8c6_17f6_11eb_ad51_0242ac1c0002row1_col264,#T_02fbb8c6_17f6_11eb_ad51_0242ac1c0002row1_col265,#T_02fbb8c6_17f6_11eb_ad51_0242ac1c0002row1_col266,#T_02fbb8c6_17f6_11eb_ad51_0242ac1c0002row1_col270,#T_02fbb8c6_17f6_11eb_ad51_0242ac1c0002row1_col272,#T_02fbb8c6_17f6_11eb_ad51_0242ac1c0002row1_col273,#T_02fbb8c6_17f6_11eb_ad51_0242ac1c0002row1_col276,#T_02fbb8c6_17f6_11eb_ad51_0242ac1c0002row1_col277,#T_02fbb8c6_17f6_11eb_ad51_0242ac1c0002row1_col279,#T_02fbb8c6_17f6_11eb_ad51_0242ac1c0002row1_col280,#T_02fbb8c6_17f6_11eb_ad51_0242ac1c0002row1_col282,#T_02fbb8c6_17f6_11eb_ad51_0242ac1c0002row1_col284,#T_02fbb8c6_17f6_11eb_ad51_0242ac1c0002row1_col285,#T_02fbb8c6_17f6_11eb_ad51_0242ac1c0002row1_col290,#T_02fbb8c6_17f6_11eb_ad51_0242ac1c0002row1_col291,#T_02fbb8c6_17f6_11eb_ad51_0242ac1c0002row1_col297,#T_02fbb8c6_17f6_11eb_ad51_0242ac1c0002row1_col299,#T_02fbb8c6_17f6_11eb_ad51_0242ac1c0002row1_col300,#T_02fbb8c6_17f6_11eb_ad51_0242ac1c0002row1_col305,#T_02fbb8c6_17f6_11eb_ad51_0242ac1c0002row1_col306,#T_02fbb8c6_17f6_11eb_ad51_0242ac1c0002row1_col307,#T_02fbb8c6_17f6_11eb_ad51_0242ac1c0002row1_col308,#T_02fbb8c6_17f6_11eb_ad51_0242ac1c0002row1_col309,#T_02fbb8c6_17f6_11eb_ad51_0242ac1c0002row1_col313,#T_02fbb8c6_17f6_11eb_ad51_0242ac1c0002row1_col316,#T_02fbb8c6_17f6_11eb_ad51_0242ac1c0002row1_col317,#T_02fbb8c6_17f6_11eb_ad51_0242ac1c0002row1_col321,#T_02fbb8c6_17f6_11eb_ad51_0242ac1c0002row1_col323,#T_02fbb8c6_17f6_11eb_ad51_0242ac1c0002row1_col324,#T_02fbb8c6_17f6_11eb_ad51_0242ac1c0002row1_col327,#T_02fbb8c6_17f6_11eb_ad51_0242ac1c0002row1_col328,#T_02fbb8c6_17f6_11eb_ad51_0242ac1c0002row1_col333,#T_02fbb8c6_17f6_11eb_ad51_0242ac1c0002row1_col337,#T_02fbb8c6_17f6_11eb_ad51_0242ac1c0002row1_col339,#T_02fbb8c6_17f6_11eb_ad51_0242ac1c0002row1_col340,#T_02fbb8c6_17f6_11eb_ad51_0242ac1c0002row1_col347,#T_02fbb8c6_17f6_11eb_ad51_0242ac1c0002row1_col348,#T_02fbb8c6_17f6_11eb_ad51_0242ac1c0002row1_col350,#T_02fbb8c6_17f6_11eb_ad51_0242ac1c0002row1_col351,#T_02fbb8c6_17f6_11eb_ad51_0242ac1c0002row1_col353,#T_02fbb8c6_17f6_11eb_ad51_0242ac1c0002row1_col359,#T_02fbb8c6_17f6_11eb_ad51_0242ac1c0002row1_col360,#T_02fbb8c6_17f6_11eb_ad51_0242ac1c0002row1_col361,#T_02fbb8c6_17f6_11eb_ad51_0242ac1c0002row1_col362,#T_02fbb8c6_17f6_11eb_ad51_0242ac1c0002row1_col363,#T_02fbb8c6_17f6_11eb_ad51_0242ac1c0002row1_col364,#T_02fbb8c6_17f6_11eb_ad51_0242ac1c0002row1_col367,#T_02fbb8c6_17f6_11eb_ad51_0242ac1c0002row1_col369,#T_02fbb8c6_17f6_11eb_ad51_0242ac1c0002row1_col371,#T_02fbb8c6_17f6_11eb_ad51_0242ac1c0002row1_col372,#T_02fbb8c6_17f6_11eb_ad51_0242ac1c0002row1_col373,#T_02fbb8c6_17f6_11eb_ad51_0242ac1c0002row1_col384,#T_02fbb8c6_17f6_11eb_ad51_0242ac1c0002row1_col389,#T_02fbb8c6_17f6_11eb_ad51_0242ac1c0002row1_col392,#T_02fbb8c6_17f6_11eb_ad51_0242ac1c0002row1_col400,#T_02fbb8c6_17f6_11eb_ad51_0242ac1c0002row1_col405,#T_02fbb8c6_17f6_11eb_ad51_0242ac1c0002row1_col406,#T_02fbb8c6_17f6_11eb_ad51_0242ac1c0002row1_col407,#T_02fbb8c6_17f6_11eb_ad51_0242ac1c0002row1_col408,#T_02fbb8c6_17f6_11eb_ad51_0242ac1c0002row1_col409,#T_02fbb8c6_17f6_11eb_ad51_0242ac1c0002row1_col410,#T_02fbb8c6_17f6_11eb_ad51_0242ac1c0002row1_col411,#T_02fbb8c6_17f6_11eb_ad51_0242ac1c0002row1_col414,#T_02fbb8c6_17f6_11eb_ad51_0242ac1c0002row1_col416,#T_02fbb8c6_17f6_11eb_ad51_0242ac1c0002row1_col418,#T_02fbb8c6_17f6_11eb_ad51_0242ac1c0002row1_col423,#T_02fbb8c6_17f6_11eb_ad51_0242ac1c0002row1_col429,#T_02fbb8c6_17f6_11eb_ad51_0242ac1c0002row1_col431,#T_02fbb8c6_17f6_11eb_ad51_0242ac1c0002row1_col433,#T_02fbb8c6_17f6_11eb_ad51_0242ac1c0002row1_col436,#T_02fbb8c6_17f6_11eb_ad51_0242ac1c0002row1_col437,#T_02fbb8c6_17f6_11eb_ad51_0242ac1c0002row1_col439,#T_02fbb8c6_17f6_11eb_ad51_0242ac1c0002row1_col440,#T_02fbb8c6_17f6_11eb_ad51_0242ac1c0002row1_col442,#T_02fbb8c6_17f6_11eb_ad51_0242ac1c0002row1_col451,#T_02fbb8c6_17f6_11eb_ad51_0242ac1c0002row1_col452,#T_02fbb8c6_17f6_11eb_ad51_0242ac1c0002row1_col455,#T_02fbb8c6_17f6_11eb_ad51_0242ac1c0002row1_col457,#T_02fbb8c6_17f6_11eb_ad51_0242ac1c0002row1_col465,#T_02fbb8c6_17f6_11eb_ad51_0242ac1c0002row1_col468,#T_02fbb8c6_17f6_11eb_ad51_0242ac1c0002row1_col472,#T_02fbb8c6_17f6_11eb_ad51_0242ac1c0002row1_col475,#T_02fbb8c6_17f6_11eb_ad51_0242ac1c0002row1_col476,#T_02fbb8c6_17f6_11eb_ad51_0242ac1c0002row1_col480,#T_02fbb8c6_17f6_11eb_ad51_0242ac1c0002row1_col483,#T_02fbb8c6_17f6_11eb_ad51_0242ac1c0002row1_col488,#T_02fbb8c6_17f6_11eb_ad51_0242ac1c0002row1_col490,#T_02fbb8c6_17f6_11eb_ad51_0242ac1c0002row1_col492,#T_02fbb8c6_17f6_11eb_ad51_0242ac1c0002row1_col494,#T_02fbb8c6_17f6_11eb_ad51_0242ac1c0002row1_col497,#T_02fbb8c6_17f6_11eb_ad51_0242ac1c0002row1_col498,#T_02fbb8c6_17f6_11eb_ad51_0242ac1c0002row1_col500,#T_02fbb8c6_17f6_11eb_ad51_0242ac1c0002row1_col509,#T_02fbb8c6_17f6_11eb_ad51_0242ac1c0002row1_col513,#T_02fbb8c6_17f6_11eb_ad51_0242ac1c0002row1_col516,#T_02fbb8c6_17f6_11eb_ad51_0242ac1c0002row1_col520,#T_02fbb8c6_17f6_11eb_ad51_0242ac1c0002row1_col521,#T_02fbb8c6_17f6_11eb_ad51_0242ac1c0002row1_col523,#T_02fbb8c6_17f6_11eb_ad51_0242ac1c0002row1_col527,#T_02fbb8c6_17f6_11eb_ad51_0242ac1c0002row1_col528,#T_02fbb8c6_17f6_11eb_ad51_0242ac1c0002row1_col529,#T_02fbb8c6_17f6_11eb_ad51_0242ac1c0002row1_col533,#T_02fbb8c6_17f6_11eb_ad51_0242ac1c0002row1_col535,#T_02fbb8c6_17f6_11eb_ad51_0242ac1c0002row1_col536,#T_02fbb8c6_17f6_11eb_ad51_0242ac1c0002row1_col538,#T_02fbb8c6_17f6_11eb_ad51_0242ac1c0002row1_col539,#T_02fbb8c6_17f6_11eb_ad51_0242ac1c0002row1_col540,#T_02fbb8c6_17f6_11eb_ad51_0242ac1c0002row1_col544,#T_02fbb8c6_17f6_11eb_ad51_0242ac1c0002row1_col545,#T_02fbb8c6_17f6_11eb_ad51_0242ac1c0002row1_col549,#T_02fbb8c6_17f6_11eb_ad51_0242ac1c0002row1_col550,#T_02fbb8c6_17f6_11eb_ad51_0242ac1c0002row1_col557,#T_02fbb8c6_17f6_11eb_ad51_0242ac1c0002row1_col560,#T_02fbb8c6_17f6_11eb_ad51_0242ac1c0002row1_col563,#T_02fbb8c6_17f6_11eb_ad51_0242ac1c0002row1_col564,#T_02fbb8c6_17f6_11eb_ad51_0242ac1c0002row1_col567,#T_02fbb8c6_17f6_11eb_ad51_0242ac1c0002row1_col568,#T_02fbb8c6_17f6_11eb_ad51_0242ac1c0002row1_col573,#T_02fbb8c6_17f6_11eb_ad51_0242ac1c0002row1_col576,#T_02fbb8c6_17f6_11eb_ad51_0242ac1c0002row1_col578,#T_02fbb8c6_17f6_11eb_ad51_0242ac1c0002row1_col586,#T_02fbb8c6_17f6_11eb_ad51_0242ac1c0002row1_col588,#T_02fbb8c6_17f6_11eb_ad51_0242ac1c0002row1_col589,#T_02fbb8c6_17f6_11eb_ad51_0242ac1c0002row1_col593,#T_02fbb8c6_17f6_11eb_ad51_0242ac1c0002row1_col598,#T_02fbb8c6_17f6_11eb_ad51_0242ac1c0002row1_col599,#T_02fbb8c6_17f6_11eb_ad51_0242ac1c0002row1_col602,#T_02fbb8c6_17f6_11eb_ad51_0242ac1c0002row1_col603,#T_02fbb8c6_17f6_11eb_ad51_0242ac1c0002row1_col613,#T_02fbb8c6_17f6_11eb_ad51_0242ac1c0002row1_col615,#T_02fbb8c6_17f6_11eb_ad51_0242ac1c0002row1_col616,#T_02fbb8c6_17f6_11eb_ad51_0242ac1c0002row1_col619,#T_02fbb8c6_17f6_11eb_ad51_0242ac1c0002row1_col622,#T_02fbb8c6_17f6_11eb_ad51_0242ac1c0002row1_col623,#T_02fbb8c6_17f6_11eb_ad51_0242ac1c0002row1_col626,#T_02fbb8c6_17f6_11eb_ad51_0242ac1c0002row1_col631,#T_02fbb8c6_17f6_11eb_ad51_0242ac1c0002row1_col632,#T_02fbb8c6_17f6_11eb_ad51_0242ac1c0002row1_col635,#T_02fbb8c6_17f6_11eb_ad51_0242ac1c0002row1_col637,#T_02fbb8c6_17f6_11eb_ad51_0242ac1c0002row1_col638,#T_02fbb8c6_17f6_11eb_ad51_0242ac1c0002row1_col641,#T_02fbb8c6_17f6_11eb_ad51_0242ac1c0002row1_col643,#T_02fbb8c6_17f6_11eb_ad51_0242ac1c0002row1_col644,#T_02fbb8c6_17f6_11eb_ad51_0242ac1c0002row1_col650{\n",
              "            background-color:  #008066;\n",
              "            color:  #f1f1f1;\n",
              "        }#T_02fbb8c6_17f6_11eb_ad51_0242ac1c0002row0_col1,#T_02fbb8c6_17f6_11eb_ad51_0242ac1c0002row0_col2,#T_02fbb8c6_17f6_11eb_ad51_0242ac1c0002row0_col3,#T_02fbb8c6_17f6_11eb_ad51_0242ac1c0002row0_col4,#T_02fbb8c6_17f6_11eb_ad51_0242ac1c0002row0_col8,#T_02fbb8c6_17f6_11eb_ad51_0242ac1c0002row0_col9,#T_02fbb8c6_17f6_11eb_ad51_0242ac1c0002row0_col10,#T_02fbb8c6_17f6_11eb_ad51_0242ac1c0002row0_col11,#T_02fbb8c6_17f6_11eb_ad51_0242ac1c0002row0_col15,#T_02fbb8c6_17f6_11eb_ad51_0242ac1c0002row0_col19,#T_02fbb8c6_17f6_11eb_ad51_0242ac1c0002row0_col21,#T_02fbb8c6_17f6_11eb_ad51_0242ac1c0002row0_col22,#T_02fbb8c6_17f6_11eb_ad51_0242ac1c0002row0_col23,#T_02fbb8c6_17f6_11eb_ad51_0242ac1c0002row0_col24,#T_02fbb8c6_17f6_11eb_ad51_0242ac1c0002row0_col26,#T_02fbb8c6_17f6_11eb_ad51_0242ac1c0002row0_col30,#T_02fbb8c6_17f6_11eb_ad51_0242ac1c0002row0_col31,#T_02fbb8c6_17f6_11eb_ad51_0242ac1c0002row0_col34,#T_02fbb8c6_17f6_11eb_ad51_0242ac1c0002row0_col35,#T_02fbb8c6_17f6_11eb_ad51_0242ac1c0002row0_col37,#T_02fbb8c6_17f6_11eb_ad51_0242ac1c0002row0_col41,#T_02fbb8c6_17f6_11eb_ad51_0242ac1c0002row0_col42,#T_02fbb8c6_17f6_11eb_ad51_0242ac1c0002row0_col49,#T_02fbb8c6_17f6_11eb_ad51_0242ac1c0002row0_col50,#T_02fbb8c6_17f6_11eb_ad51_0242ac1c0002row0_col52,#T_02fbb8c6_17f6_11eb_ad51_0242ac1c0002row0_col53,#T_02fbb8c6_17f6_11eb_ad51_0242ac1c0002row0_col55,#T_02fbb8c6_17f6_11eb_ad51_0242ac1c0002row0_col58,#T_02fbb8c6_17f6_11eb_ad51_0242ac1c0002row0_col59,#T_02fbb8c6_17f6_11eb_ad51_0242ac1c0002row0_col62,#T_02fbb8c6_17f6_11eb_ad51_0242ac1c0002row0_col63,#T_02fbb8c6_17f6_11eb_ad51_0242ac1c0002row0_col65,#T_02fbb8c6_17f6_11eb_ad51_0242ac1c0002row0_col69,#T_02fbb8c6_17f6_11eb_ad51_0242ac1c0002row0_col73,#T_02fbb8c6_17f6_11eb_ad51_0242ac1c0002row0_col74,#T_02fbb8c6_17f6_11eb_ad51_0242ac1c0002row0_col76,#T_02fbb8c6_17f6_11eb_ad51_0242ac1c0002row0_col77,#T_02fbb8c6_17f6_11eb_ad51_0242ac1c0002row0_col79,#T_02fbb8c6_17f6_11eb_ad51_0242ac1c0002row0_col80,#T_02fbb8c6_17f6_11eb_ad51_0242ac1c0002row0_col87,#T_02fbb8c6_17f6_11eb_ad51_0242ac1c0002row0_col91,#T_02fbb8c6_17f6_11eb_ad51_0242ac1c0002row0_col92,#T_02fbb8c6_17f6_11eb_ad51_0242ac1c0002row0_col93,#T_02fbb8c6_17f6_11eb_ad51_0242ac1c0002row0_col100,#T_02fbb8c6_17f6_11eb_ad51_0242ac1c0002row0_col101,#T_02fbb8c6_17f6_11eb_ad51_0242ac1c0002row0_col110,#T_02fbb8c6_17f6_11eb_ad51_0242ac1c0002row0_col113,#T_02fbb8c6_17f6_11eb_ad51_0242ac1c0002row0_col115,#T_02fbb8c6_17f6_11eb_ad51_0242ac1c0002row0_col116,#T_02fbb8c6_17f6_11eb_ad51_0242ac1c0002row0_col121,#T_02fbb8c6_17f6_11eb_ad51_0242ac1c0002row0_col124,#T_02fbb8c6_17f6_11eb_ad51_0242ac1c0002row0_col128,#T_02fbb8c6_17f6_11eb_ad51_0242ac1c0002row0_col129,#T_02fbb8c6_17f6_11eb_ad51_0242ac1c0002row0_col133,#T_02fbb8c6_17f6_11eb_ad51_0242ac1c0002row0_col136,#T_02fbb8c6_17f6_11eb_ad51_0242ac1c0002row0_col140,#T_02fbb8c6_17f6_11eb_ad51_0242ac1c0002row0_col145,#T_02fbb8c6_17f6_11eb_ad51_0242ac1c0002row0_col148,#T_02fbb8c6_17f6_11eb_ad51_0242ac1c0002row0_col149,#T_02fbb8c6_17f6_11eb_ad51_0242ac1c0002row0_col161,#T_02fbb8c6_17f6_11eb_ad51_0242ac1c0002row0_col163,#T_02fbb8c6_17f6_11eb_ad51_0242ac1c0002row0_col166,#T_02fbb8c6_17f6_11eb_ad51_0242ac1c0002row0_col168,#T_02fbb8c6_17f6_11eb_ad51_0242ac1c0002row0_col169,#T_02fbb8c6_17f6_11eb_ad51_0242ac1c0002row0_col170,#T_02fbb8c6_17f6_11eb_ad51_0242ac1c0002row0_col172,#T_02fbb8c6_17f6_11eb_ad51_0242ac1c0002row0_col177,#T_02fbb8c6_17f6_11eb_ad51_0242ac1c0002row0_col179,#T_02fbb8c6_17f6_11eb_ad51_0242ac1c0002row0_col180,#T_02fbb8c6_17f6_11eb_ad51_0242ac1c0002row0_col181,#T_02fbb8c6_17f6_11eb_ad51_0242ac1c0002row0_col183,#T_02fbb8c6_17f6_11eb_ad51_0242ac1c0002row0_col187,#T_02fbb8c6_17f6_11eb_ad51_0242ac1c0002row0_col188,#T_02fbb8c6_17f6_11eb_ad51_0242ac1c0002row0_col189,#T_02fbb8c6_17f6_11eb_ad51_0242ac1c0002row0_col190,#T_02fbb8c6_17f6_11eb_ad51_0242ac1c0002row0_col191,#T_02fbb8c6_17f6_11eb_ad51_0242ac1c0002row0_col195,#T_02fbb8c6_17f6_11eb_ad51_0242ac1c0002row0_col197,#T_02fbb8c6_17f6_11eb_ad51_0242ac1c0002row0_col205,#T_02fbb8c6_17f6_11eb_ad51_0242ac1c0002row0_col208,#T_02fbb8c6_17f6_11eb_ad51_0242ac1c0002row0_col211,#T_02fbb8c6_17f6_11eb_ad51_0242ac1c0002row0_col213,#T_02fbb8c6_17f6_11eb_ad51_0242ac1c0002row0_col214,#T_02fbb8c6_17f6_11eb_ad51_0242ac1c0002row0_col215,#T_02fbb8c6_17f6_11eb_ad51_0242ac1c0002row0_col220,#T_02fbb8c6_17f6_11eb_ad51_0242ac1c0002row0_col221,#T_02fbb8c6_17f6_11eb_ad51_0242ac1c0002row0_col222,#T_02fbb8c6_17f6_11eb_ad51_0242ac1c0002row0_col223,#T_02fbb8c6_17f6_11eb_ad51_0242ac1c0002row0_col224,#T_02fbb8c6_17f6_11eb_ad51_0242ac1c0002row0_col225,#T_02fbb8c6_17f6_11eb_ad51_0242ac1c0002row0_col229,#T_02fbb8c6_17f6_11eb_ad51_0242ac1c0002row0_col230,#T_02fbb8c6_17f6_11eb_ad51_0242ac1c0002row0_col231,#T_02fbb8c6_17f6_11eb_ad51_0242ac1c0002row0_col233,#T_02fbb8c6_17f6_11eb_ad51_0242ac1c0002row0_col234,#T_02fbb8c6_17f6_11eb_ad51_0242ac1c0002row0_col236,#T_02fbb8c6_17f6_11eb_ad51_0242ac1c0002row0_col237,#T_02fbb8c6_17f6_11eb_ad51_0242ac1c0002row0_col240,#T_02fbb8c6_17f6_11eb_ad51_0242ac1c0002row0_col243,#T_02fbb8c6_17f6_11eb_ad51_0242ac1c0002row0_col244,#T_02fbb8c6_17f6_11eb_ad51_0242ac1c0002row0_col247,#T_02fbb8c6_17f6_11eb_ad51_0242ac1c0002row0_col248,#T_02fbb8c6_17f6_11eb_ad51_0242ac1c0002row0_col249,#T_02fbb8c6_17f6_11eb_ad51_0242ac1c0002row0_col250,#T_02fbb8c6_17f6_11eb_ad51_0242ac1c0002row0_col257,#T_02fbb8c6_17f6_11eb_ad51_0242ac1c0002row0_col258,#T_02fbb8c6_17f6_11eb_ad51_0242ac1c0002row0_col259,#T_02fbb8c6_17f6_11eb_ad51_0242ac1c0002row0_col260,#T_02fbb8c6_17f6_11eb_ad51_0242ac1c0002row0_col261,#T_02fbb8c6_17f6_11eb_ad51_0242ac1c0002row0_col262,#T_02fbb8c6_17f6_11eb_ad51_0242ac1c0002row0_col263,#T_02fbb8c6_17f6_11eb_ad51_0242ac1c0002row0_col264,#T_02fbb8c6_17f6_11eb_ad51_0242ac1c0002row0_col265,#T_02fbb8c6_17f6_11eb_ad51_0242ac1c0002row0_col266,#T_02fbb8c6_17f6_11eb_ad51_0242ac1c0002row0_col269,#T_02fbb8c6_17f6_11eb_ad51_0242ac1c0002row0_col270,#T_02fbb8c6_17f6_11eb_ad51_0242ac1c0002row0_col272,#T_02fbb8c6_17f6_11eb_ad51_0242ac1c0002row0_col273,#T_02fbb8c6_17f6_11eb_ad51_0242ac1c0002row0_col276,#T_02fbb8c6_17f6_11eb_ad51_0242ac1c0002row0_col277,#T_02fbb8c6_17f6_11eb_ad51_0242ac1c0002row0_col279,#T_02fbb8c6_17f6_11eb_ad51_0242ac1c0002row0_col280,#T_02fbb8c6_17f6_11eb_ad51_0242ac1c0002row0_col282,#T_02fbb8c6_17f6_11eb_ad51_0242ac1c0002row0_col284,#T_02fbb8c6_17f6_11eb_ad51_0242ac1c0002row0_col285,#T_02fbb8c6_17f6_11eb_ad51_0242ac1c0002row0_col290,#T_02fbb8c6_17f6_11eb_ad51_0242ac1c0002row0_col291,#T_02fbb8c6_17f6_11eb_ad51_0242ac1c0002row0_col297,#T_02fbb8c6_17f6_11eb_ad51_0242ac1c0002row0_col299,#T_02fbb8c6_17f6_11eb_ad51_0242ac1c0002row0_col300,#T_02fbb8c6_17f6_11eb_ad51_0242ac1c0002row0_col305,#T_02fbb8c6_17f6_11eb_ad51_0242ac1c0002row0_col306,#T_02fbb8c6_17f6_11eb_ad51_0242ac1c0002row0_col307,#T_02fbb8c6_17f6_11eb_ad51_0242ac1c0002row0_col308,#T_02fbb8c6_17f6_11eb_ad51_0242ac1c0002row0_col309,#T_02fbb8c6_17f6_11eb_ad51_0242ac1c0002row0_col313,#T_02fbb8c6_17f6_11eb_ad51_0242ac1c0002row0_col316,#T_02fbb8c6_17f6_11eb_ad51_0242ac1c0002row0_col317,#T_02fbb8c6_17f6_11eb_ad51_0242ac1c0002row0_col321,#T_02fbb8c6_17f6_11eb_ad51_0242ac1c0002row0_col323,#T_02fbb8c6_17f6_11eb_ad51_0242ac1c0002row0_col324,#T_02fbb8c6_17f6_11eb_ad51_0242ac1c0002row0_col327,#T_02fbb8c6_17f6_11eb_ad51_0242ac1c0002row0_col328,#T_02fbb8c6_17f6_11eb_ad51_0242ac1c0002row0_col333,#T_02fbb8c6_17f6_11eb_ad51_0242ac1c0002row0_col337,#T_02fbb8c6_17f6_11eb_ad51_0242ac1c0002row0_col339,#T_02fbb8c6_17f6_11eb_ad51_0242ac1c0002row0_col340,#T_02fbb8c6_17f6_11eb_ad51_0242ac1c0002row0_col347,#T_02fbb8c6_17f6_11eb_ad51_0242ac1c0002row0_col348,#T_02fbb8c6_17f6_11eb_ad51_0242ac1c0002row0_col350,#T_02fbb8c6_17f6_11eb_ad51_0242ac1c0002row0_col351,#T_02fbb8c6_17f6_11eb_ad51_0242ac1c0002row0_col352,#T_02fbb8c6_17f6_11eb_ad51_0242ac1c0002row0_col353,#T_02fbb8c6_17f6_11eb_ad51_0242ac1c0002row0_col355,#T_02fbb8c6_17f6_11eb_ad51_0242ac1c0002row0_col359,#T_02fbb8c6_17f6_11eb_ad51_0242ac1c0002row0_col360,#T_02fbb8c6_17f6_11eb_ad51_0242ac1c0002row0_col361,#T_02fbb8c6_17f6_11eb_ad51_0242ac1c0002row0_col362,#T_02fbb8c6_17f6_11eb_ad51_0242ac1c0002row0_col363,#T_02fbb8c6_17f6_11eb_ad51_0242ac1c0002row0_col364,#T_02fbb8c6_17f6_11eb_ad51_0242ac1c0002row0_col367,#T_02fbb8c6_17f6_11eb_ad51_0242ac1c0002row0_col369,#T_02fbb8c6_17f6_11eb_ad51_0242ac1c0002row0_col371,#T_02fbb8c6_17f6_11eb_ad51_0242ac1c0002row0_col372,#T_02fbb8c6_17f6_11eb_ad51_0242ac1c0002row0_col373,#T_02fbb8c6_17f6_11eb_ad51_0242ac1c0002row0_col384,#T_02fbb8c6_17f6_11eb_ad51_0242ac1c0002row0_col387,#T_02fbb8c6_17f6_11eb_ad51_0242ac1c0002row0_col389,#T_02fbb8c6_17f6_11eb_ad51_0242ac1c0002row0_col392,#T_02fbb8c6_17f6_11eb_ad51_0242ac1c0002row0_col398,#T_02fbb8c6_17f6_11eb_ad51_0242ac1c0002row0_col400,#T_02fbb8c6_17f6_11eb_ad51_0242ac1c0002row0_col405,#T_02fbb8c6_17f6_11eb_ad51_0242ac1c0002row0_col406,#T_02fbb8c6_17f6_11eb_ad51_0242ac1c0002row0_col407,#T_02fbb8c6_17f6_11eb_ad51_0242ac1c0002row0_col408,#T_02fbb8c6_17f6_11eb_ad51_0242ac1c0002row0_col409,#T_02fbb8c6_17f6_11eb_ad51_0242ac1c0002row0_col410,#T_02fbb8c6_17f6_11eb_ad51_0242ac1c0002row0_col411,#T_02fbb8c6_17f6_11eb_ad51_0242ac1c0002row0_col414,#T_02fbb8c6_17f6_11eb_ad51_0242ac1c0002row0_col416,#T_02fbb8c6_17f6_11eb_ad51_0242ac1c0002row0_col418,#T_02fbb8c6_17f6_11eb_ad51_0242ac1c0002row0_col423,#T_02fbb8c6_17f6_11eb_ad51_0242ac1c0002row0_col426,#T_02fbb8c6_17f6_11eb_ad51_0242ac1c0002row0_col429,#T_02fbb8c6_17f6_11eb_ad51_0242ac1c0002row0_col431,#T_02fbb8c6_17f6_11eb_ad51_0242ac1c0002row0_col432,#T_02fbb8c6_17f6_11eb_ad51_0242ac1c0002row0_col433,#T_02fbb8c6_17f6_11eb_ad51_0242ac1c0002row0_col436,#T_02fbb8c6_17f6_11eb_ad51_0242ac1c0002row0_col437,#T_02fbb8c6_17f6_11eb_ad51_0242ac1c0002row0_col439,#T_02fbb8c6_17f6_11eb_ad51_0242ac1c0002row0_col440,#T_02fbb8c6_17f6_11eb_ad51_0242ac1c0002row0_col442,#T_02fbb8c6_17f6_11eb_ad51_0242ac1c0002row0_col451,#T_02fbb8c6_17f6_11eb_ad51_0242ac1c0002row0_col452,#T_02fbb8c6_17f6_11eb_ad51_0242ac1c0002row0_col455,#T_02fbb8c6_17f6_11eb_ad51_0242ac1c0002row0_col457,#T_02fbb8c6_17f6_11eb_ad51_0242ac1c0002row0_col465,#T_02fbb8c6_17f6_11eb_ad51_0242ac1c0002row0_col468,#T_02fbb8c6_17f6_11eb_ad51_0242ac1c0002row0_col472,#T_02fbb8c6_17f6_11eb_ad51_0242ac1c0002row0_col475,#T_02fbb8c6_17f6_11eb_ad51_0242ac1c0002row0_col476,#T_02fbb8c6_17f6_11eb_ad51_0242ac1c0002row0_col480,#T_02fbb8c6_17f6_11eb_ad51_0242ac1c0002row0_col482,#T_02fbb8c6_17f6_11eb_ad51_0242ac1c0002row0_col483,#T_02fbb8c6_17f6_11eb_ad51_0242ac1c0002row0_col488,#T_02fbb8c6_17f6_11eb_ad51_0242ac1c0002row0_col490,#T_02fbb8c6_17f6_11eb_ad51_0242ac1c0002row0_col492,#T_02fbb8c6_17f6_11eb_ad51_0242ac1c0002row0_col494,#T_02fbb8c6_17f6_11eb_ad51_0242ac1c0002row0_col497,#T_02fbb8c6_17f6_11eb_ad51_0242ac1c0002row0_col498,#T_02fbb8c6_17f6_11eb_ad51_0242ac1c0002row0_col500,#T_02fbb8c6_17f6_11eb_ad51_0242ac1c0002row0_col509,#T_02fbb8c6_17f6_11eb_ad51_0242ac1c0002row0_col513,#T_02fbb8c6_17f6_11eb_ad51_0242ac1c0002row0_col516,#T_02fbb8c6_17f6_11eb_ad51_0242ac1c0002row0_col520,#T_02fbb8c6_17f6_11eb_ad51_0242ac1c0002row0_col521,#T_02fbb8c6_17f6_11eb_ad51_0242ac1c0002row0_col523,#T_02fbb8c6_17f6_11eb_ad51_0242ac1c0002row0_col527,#T_02fbb8c6_17f6_11eb_ad51_0242ac1c0002row0_col528,#T_02fbb8c6_17f6_11eb_ad51_0242ac1c0002row0_col529,#T_02fbb8c6_17f6_11eb_ad51_0242ac1c0002row0_col530,#T_02fbb8c6_17f6_11eb_ad51_0242ac1c0002row0_col533,#T_02fbb8c6_17f6_11eb_ad51_0242ac1c0002row0_col535,#T_02fbb8c6_17f6_11eb_ad51_0242ac1c0002row0_col536,#T_02fbb8c6_17f6_11eb_ad51_0242ac1c0002row0_col538,#T_02fbb8c6_17f6_11eb_ad51_0242ac1c0002row0_col539,#T_02fbb8c6_17f6_11eb_ad51_0242ac1c0002row0_col540,#T_02fbb8c6_17f6_11eb_ad51_0242ac1c0002row0_col544,#T_02fbb8c6_17f6_11eb_ad51_0242ac1c0002row0_col545,#T_02fbb8c6_17f6_11eb_ad51_0242ac1c0002row0_col549,#T_02fbb8c6_17f6_11eb_ad51_0242ac1c0002row0_col550,#T_02fbb8c6_17f6_11eb_ad51_0242ac1c0002row0_col557,#T_02fbb8c6_17f6_11eb_ad51_0242ac1c0002row0_col560,#T_02fbb8c6_17f6_11eb_ad51_0242ac1c0002row0_col563,#T_02fbb8c6_17f6_11eb_ad51_0242ac1c0002row0_col564,#T_02fbb8c6_17f6_11eb_ad51_0242ac1c0002row0_col567,#T_02fbb8c6_17f6_11eb_ad51_0242ac1c0002row0_col568,#T_02fbb8c6_17f6_11eb_ad51_0242ac1c0002row0_col573,#T_02fbb8c6_17f6_11eb_ad51_0242ac1c0002row0_col576,#T_02fbb8c6_17f6_11eb_ad51_0242ac1c0002row0_col578,#T_02fbb8c6_17f6_11eb_ad51_0242ac1c0002row0_col586,#T_02fbb8c6_17f6_11eb_ad51_0242ac1c0002row0_col588,#T_02fbb8c6_17f6_11eb_ad51_0242ac1c0002row0_col589,#T_02fbb8c6_17f6_11eb_ad51_0242ac1c0002row0_col593,#T_02fbb8c6_17f6_11eb_ad51_0242ac1c0002row0_col598,#T_02fbb8c6_17f6_11eb_ad51_0242ac1c0002row0_col599,#T_02fbb8c6_17f6_11eb_ad51_0242ac1c0002row0_col602,#T_02fbb8c6_17f6_11eb_ad51_0242ac1c0002row0_col603,#T_02fbb8c6_17f6_11eb_ad51_0242ac1c0002row0_col611,#T_02fbb8c6_17f6_11eb_ad51_0242ac1c0002row0_col613,#T_02fbb8c6_17f6_11eb_ad51_0242ac1c0002row0_col615,#T_02fbb8c6_17f6_11eb_ad51_0242ac1c0002row0_col616,#T_02fbb8c6_17f6_11eb_ad51_0242ac1c0002row0_col619,#T_02fbb8c6_17f6_11eb_ad51_0242ac1c0002row0_col622,#T_02fbb8c6_17f6_11eb_ad51_0242ac1c0002row0_col623,#T_02fbb8c6_17f6_11eb_ad51_0242ac1c0002row0_col626,#T_02fbb8c6_17f6_11eb_ad51_0242ac1c0002row0_col631,#T_02fbb8c6_17f6_11eb_ad51_0242ac1c0002row0_col632,#T_02fbb8c6_17f6_11eb_ad51_0242ac1c0002row0_col635,#T_02fbb8c6_17f6_11eb_ad51_0242ac1c0002row0_col637,#T_02fbb8c6_17f6_11eb_ad51_0242ac1c0002row0_col638,#T_02fbb8c6_17f6_11eb_ad51_0242ac1c0002row0_col641,#T_02fbb8c6_17f6_11eb_ad51_0242ac1c0002row0_col643,#T_02fbb8c6_17f6_11eb_ad51_0242ac1c0002row0_col644,#T_02fbb8c6_17f6_11eb_ad51_0242ac1c0002row0_col650,#T_02fbb8c6_17f6_11eb_ad51_0242ac1c0002row1_col0,#T_02fbb8c6_17f6_11eb_ad51_0242ac1c0002row1_col3,#T_02fbb8c6_17f6_11eb_ad51_0242ac1c0002row1_col4,#T_02fbb8c6_17f6_11eb_ad51_0242ac1c0002row1_col5,#T_02fbb8c6_17f6_11eb_ad51_0242ac1c0002row1_col6,#T_02fbb8c6_17f6_11eb_ad51_0242ac1c0002row1_col7,#T_02fbb8c6_17f6_11eb_ad51_0242ac1c0002row1_col8,#T_02fbb8c6_17f6_11eb_ad51_0242ac1c0002row1_col9,#T_02fbb8c6_17f6_11eb_ad51_0242ac1c0002row1_col12,#T_02fbb8c6_17f6_11eb_ad51_0242ac1c0002row1_col13,#T_02fbb8c6_17f6_11eb_ad51_0242ac1c0002row1_col14,#T_02fbb8c6_17f6_11eb_ad51_0242ac1c0002row1_col16,#T_02fbb8c6_17f6_11eb_ad51_0242ac1c0002row1_col17,#T_02fbb8c6_17f6_11eb_ad51_0242ac1c0002row1_col18,#T_02fbb8c6_17f6_11eb_ad51_0242ac1c0002row1_col20,#T_02fbb8c6_17f6_11eb_ad51_0242ac1c0002row1_col25,#T_02fbb8c6_17f6_11eb_ad51_0242ac1c0002row1_col26,#T_02fbb8c6_17f6_11eb_ad51_0242ac1c0002row1_col27,#T_02fbb8c6_17f6_11eb_ad51_0242ac1c0002row1_col28,#T_02fbb8c6_17f6_11eb_ad51_0242ac1c0002row1_col29,#T_02fbb8c6_17f6_11eb_ad51_0242ac1c0002row1_col32,#T_02fbb8c6_17f6_11eb_ad51_0242ac1c0002row1_col33,#T_02fbb8c6_17f6_11eb_ad51_0242ac1c0002row1_col34,#T_02fbb8c6_17f6_11eb_ad51_0242ac1c0002row1_col36,#T_02fbb8c6_17f6_11eb_ad51_0242ac1c0002row1_col38,#T_02fbb8c6_17f6_11eb_ad51_0242ac1c0002row1_col39,#T_02fbb8c6_17f6_11eb_ad51_0242ac1c0002row1_col40,#T_02fbb8c6_17f6_11eb_ad51_0242ac1c0002row1_col43,#T_02fbb8c6_17f6_11eb_ad51_0242ac1c0002row1_col44,#T_02fbb8c6_17f6_11eb_ad51_0242ac1c0002row1_col45,#T_02fbb8c6_17f6_11eb_ad51_0242ac1c0002row1_col46,#T_02fbb8c6_17f6_11eb_ad51_0242ac1c0002row1_col47,#T_02fbb8c6_17f6_11eb_ad51_0242ac1c0002row1_col48,#T_02fbb8c6_17f6_11eb_ad51_0242ac1c0002row1_col51,#T_02fbb8c6_17f6_11eb_ad51_0242ac1c0002row1_col54,#T_02fbb8c6_17f6_11eb_ad51_0242ac1c0002row1_col56,#T_02fbb8c6_17f6_11eb_ad51_0242ac1c0002row1_col57,#T_02fbb8c6_17f6_11eb_ad51_0242ac1c0002row1_col59,#T_02fbb8c6_17f6_11eb_ad51_0242ac1c0002row1_col60,#T_02fbb8c6_17f6_11eb_ad51_0242ac1c0002row1_col61,#T_02fbb8c6_17f6_11eb_ad51_0242ac1c0002row1_col64,#T_02fbb8c6_17f6_11eb_ad51_0242ac1c0002row1_col65,#T_02fbb8c6_17f6_11eb_ad51_0242ac1c0002row1_col66,#T_02fbb8c6_17f6_11eb_ad51_0242ac1c0002row1_col67,#T_02fbb8c6_17f6_11eb_ad51_0242ac1c0002row1_col68,#T_02fbb8c6_17f6_11eb_ad51_0242ac1c0002row1_col70,#T_02fbb8c6_17f6_11eb_ad51_0242ac1c0002row1_col71,#T_02fbb8c6_17f6_11eb_ad51_0242ac1c0002row1_col72,#T_02fbb8c6_17f6_11eb_ad51_0242ac1c0002row1_col75,#T_02fbb8c6_17f6_11eb_ad51_0242ac1c0002row1_col78,#T_02fbb8c6_17f6_11eb_ad51_0242ac1c0002row1_col80,#T_02fbb8c6_17f6_11eb_ad51_0242ac1c0002row1_col81,#T_02fbb8c6_17f6_11eb_ad51_0242ac1c0002row1_col82,#T_02fbb8c6_17f6_11eb_ad51_0242ac1c0002row1_col83,#T_02fbb8c6_17f6_11eb_ad51_0242ac1c0002row1_col84,#T_02fbb8c6_17f6_11eb_ad51_0242ac1c0002row1_col85,#T_02fbb8c6_17f6_11eb_ad51_0242ac1c0002row1_col86,#T_02fbb8c6_17f6_11eb_ad51_0242ac1c0002row1_col87,#T_02fbb8c6_17f6_11eb_ad51_0242ac1c0002row1_col88,#T_02fbb8c6_17f6_11eb_ad51_0242ac1c0002row1_col89,#T_02fbb8c6_17f6_11eb_ad51_0242ac1c0002row1_col90,#T_02fbb8c6_17f6_11eb_ad51_0242ac1c0002row1_col93,#T_02fbb8c6_17f6_11eb_ad51_0242ac1c0002row1_col94,#T_02fbb8c6_17f6_11eb_ad51_0242ac1c0002row1_col95,#T_02fbb8c6_17f6_11eb_ad51_0242ac1c0002row1_col96,#T_02fbb8c6_17f6_11eb_ad51_0242ac1c0002row1_col97,#T_02fbb8c6_17f6_11eb_ad51_0242ac1c0002row1_col98,#T_02fbb8c6_17f6_11eb_ad51_0242ac1c0002row1_col99,#T_02fbb8c6_17f6_11eb_ad51_0242ac1c0002row1_col102,#T_02fbb8c6_17f6_11eb_ad51_0242ac1c0002row1_col103,#T_02fbb8c6_17f6_11eb_ad51_0242ac1c0002row1_col104,#T_02fbb8c6_17f6_11eb_ad51_0242ac1c0002row1_col105,#T_02fbb8c6_17f6_11eb_ad51_0242ac1c0002row1_col106,#T_02fbb8c6_17f6_11eb_ad51_0242ac1c0002row1_col107,#T_02fbb8c6_17f6_11eb_ad51_0242ac1c0002row1_col108,#T_02fbb8c6_17f6_11eb_ad51_0242ac1c0002row1_col109,#T_02fbb8c6_17f6_11eb_ad51_0242ac1c0002row1_col110,#T_02fbb8c6_17f6_11eb_ad51_0242ac1c0002row1_col111,#T_02fbb8c6_17f6_11eb_ad51_0242ac1c0002row1_col112,#T_02fbb8c6_17f6_11eb_ad51_0242ac1c0002row1_col113,#T_02fbb8c6_17f6_11eb_ad51_0242ac1c0002row1_col114,#T_02fbb8c6_17f6_11eb_ad51_0242ac1c0002row1_col117,#T_02fbb8c6_17f6_11eb_ad51_0242ac1c0002row1_col118,#T_02fbb8c6_17f6_11eb_ad51_0242ac1c0002row1_col119,#T_02fbb8c6_17f6_11eb_ad51_0242ac1c0002row1_col120,#T_02fbb8c6_17f6_11eb_ad51_0242ac1c0002row1_col122,#T_02fbb8c6_17f6_11eb_ad51_0242ac1c0002row1_col123,#T_02fbb8c6_17f6_11eb_ad51_0242ac1c0002row1_col125,#T_02fbb8c6_17f6_11eb_ad51_0242ac1c0002row1_col126,#T_02fbb8c6_17f6_11eb_ad51_0242ac1c0002row1_col127,#T_02fbb8c6_17f6_11eb_ad51_0242ac1c0002row1_col129,#T_02fbb8c6_17f6_11eb_ad51_0242ac1c0002row1_col130,#T_02fbb8c6_17f6_11eb_ad51_0242ac1c0002row1_col131,#T_02fbb8c6_17f6_11eb_ad51_0242ac1c0002row1_col132,#T_02fbb8c6_17f6_11eb_ad51_0242ac1c0002row1_col134,#T_02fbb8c6_17f6_11eb_ad51_0242ac1c0002row1_col135,#T_02fbb8c6_17f6_11eb_ad51_0242ac1c0002row1_col136,#T_02fbb8c6_17f6_11eb_ad51_0242ac1c0002row1_col137,#T_02fbb8c6_17f6_11eb_ad51_0242ac1c0002row1_col138,#T_02fbb8c6_17f6_11eb_ad51_0242ac1c0002row1_col139,#T_02fbb8c6_17f6_11eb_ad51_0242ac1c0002row1_col141,#T_02fbb8c6_17f6_11eb_ad51_0242ac1c0002row1_col142,#T_02fbb8c6_17f6_11eb_ad51_0242ac1c0002row1_col143,#T_02fbb8c6_17f6_11eb_ad51_0242ac1c0002row1_col144,#T_02fbb8c6_17f6_11eb_ad51_0242ac1c0002row1_col146,#T_02fbb8c6_17f6_11eb_ad51_0242ac1c0002row1_col147,#T_02fbb8c6_17f6_11eb_ad51_0242ac1c0002row1_col150,#T_02fbb8c6_17f6_11eb_ad51_0242ac1c0002row1_col151,#T_02fbb8c6_17f6_11eb_ad51_0242ac1c0002row1_col152,#T_02fbb8c6_17f6_11eb_ad51_0242ac1c0002row1_col153,#T_02fbb8c6_17f6_11eb_ad51_0242ac1c0002row1_col154,#T_02fbb8c6_17f6_11eb_ad51_0242ac1c0002row1_col155,#T_02fbb8c6_17f6_11eb_ad51_0242ac1c0002row1_col156,#T_02fbb8c6_17f6_11eb_ad51_0242ac1c0002row1_col157,#T_02fbb8c6_17f6_11eb_ad51_0242ac1c0002row1_col158,#T_02fbb8c6_17f6_11eb_ad51_0242ac1c0002row1_col159,#T_02fbb8c6_17f6_11eb_ad51_0242ac1c0002row1_col160,#T_02fbb8c6_17f6_11eb_ad51_0242ac1c0002row1_col162,#T_02fbb8c6_17f6_11eb_ad51_0242ac1c0002row1_col164,#T_02fbb8c6_17f6_11eb_ad51_0242ac1c0002row1_col165,#T_02fbb8c6_17f6_11eb_ad51_0242ac1c0002row1_col167,#T_02fbb8c6_17f6_11eb_ad51_0242ac1c0002row1_col171,#T_02fbb8c6_17f6_11eb_ad51_0242ac1c0002row1_col173,#T_02fbb8c6_17f6_11eb_ad51_0242ac1c0002row1_col174,#T_02fbb8c6_17f6_11eb_ad51_0242ac1c0002row1_col175,#T_02fbb8c6_17f6_11eb_ad51_0242ac1c0002row1_col176,#T_02fbb8c6_17f6_11eb_ad51_0242ac1c0002row1_col178,#T_02fbb8c6_17f6_11eb_ad51_0242ac1c0002row1_col182,#T_02fbb8c6_17f6_11eb_ad51_0242ac1c0002row1_col184,#T_02fbb8c6_17f6_11eb_ad51_0242ac1c0002row1_col185,#T_02fbb8c6_17f6_11eb_ad51_0242ac1c0002row1_col186,#T_02fbb8c6_17f6_11eb_ad51_0242ac1c0002row1_col189,#T_02fbb8c6_17f6_11eb_ad51_0242ac1c0002row1_col192,#T_02fbb8c6_17f6_11eb_ad51_0242ac1c0002row1_col193,#T_02fbb8c6_17f6_11eb_ad51_0242ac1c0002row1_col194,#T_02fbb8c6_17f6_11eb_ad51_0242ac1c0002row1_col196,#T_02fbb8c6_17f6_11eb_ad51_0242ac1c0002row1_col198,#T_02fbb8c6_17f6_11eb_ad51_0242ac1c0002row1_col199,#T_02fbb8c6_17f6_11eb_ad51_0242ac1c0002row1_col200,#T_02fbb8c6_17f6_11eb_ad51_0242ac1c0002row1_col201,#T_02fbb8c6_17f6_11eb_ad51_0242ac1c0002row1_col202,#T_02fbb8c6_17f6_11eb_ad51_0242ac1c0002row1_col203,#T_02fbb8c6_17f6_11eb_ad51_0242ac1c0002row1_col204,#T_02fbb8c6_17f6_11eb_ad51_0242ac1c0002row1_col206,#T_02fbb8c6_17f6_11eb_ad51_0242ac1c0002row1_col207,#T_02fbb8c6_17f6_11eb_ad51_0242ac1c0002row1_col209,#T_02fbb8c6_17f6_11eb_ad51_0242ac1c0002row1_col210,#T_02fbb8c6_17f6_11eb_ad51_0242ac1c0002row1_col211,#T_02fbb8c6_17f6_11eb_ad51_0242ac1c0002row1_col212,#T_02fbb8c6_17f6_11eb_ad51_0242ac1c0002row1_col216,#T_02fbb8c6_17f6_11eb_ad51_0242ac1c0002row1_col217,#T_02fbb8c6_17f6_11eb_ad51_0242ac1c0002row1_col218,#T_02fbb8c6_17f6_11eb_ad51_0242ac1c0002row1_col219,#T_02fbb8c6_17f6_11eb_ad51_0242ac1c0002row1_col226,#T_02fbb8c6_17f6_11eb_ad51_0242ac1c0002row1_col227,#T_02fbb8c6_17f6_11eb_ad51_0242ac1c0002row1_col228,#T_02fbb8c6_17f6_11eb_ad51_0242ac1c0002row1_col232,#T_02fbb8c6_17f6_11eb_ad51_0242ac1c0002row1_col235,#T_02fbb8c6_17f6_11eb_ad51_0242ac1c0002row1_col237,#T_02fbb8c6_17f6_11eb_ad51_0242ac1c0002row1_col238,#T_02fbb8c6_17f6_11eb_ad51_0242ac1c0002row1_col239,#T_02fbb8c6_17f6_11eb_ad51_0242ac1c0002row1_col240,#T_02fbb8c6_17f6_11eb_ad51_0242ac1c0002row1_col241,#T_02fbb8c6_17f6_11eb_ad51_0242ac1c0002row1_col242,#T_02fbb8c6_17f6_11eb_ad51_0242ac1c0002row1_col245,#T_02fbb8c6_17f6_11eb_ad51_0242ac1c0002row1_col246,#T_02fbb8c6_17f6_11eb_ad51_0242ac1c0002row1_col251,#T_02fbb8c6_17f6_11eb_ad51_0242ac1c0002row1_col252,#T_02fbb8c6_17f6_11eb_ad51_0242ac1c0002row1_col253,#T_02fbb8c6_17f6_11eb_ad51_0242ac1c0002row1_col254,#T_02fbb8c6_17f6_11eb_ad51_0242ac1c0002row1_col255,#T_02fbb8c6_17f6_11eb_ad51_0242ac1c0002row1_col256,#T_02fbb8c6_17f6_11eb_ad51_0242ac1c0002row1_col260,#T_02fbb8c6_17f6_11eb_ad51_0242ac1c0002row1_col262,#T_02fbb8c6_17f6_11eb_ad51_0242ac1c0002row1_col263,#T_02fbb8c6_17f6_11eb_ad51_0242ac1c0002row1_col267,#T_02fbb8c6_17f6_11eb_ad51_0242ac1c0002row1_col268,#T_02fbb8c6_17f6_11eb_ad51_0242ac1c0002row1_col269,#T_02fbb8c6_17f6_11eb_ad51_0242ac1c0002row1_col271,#T_02fbb8c6_17f6_11eb_ad51_0242ac1c0002row1_col274,#T_02fbb8c6_17f6_11eb_ad51_0242ac1c0002row1_col275,#T_02fbb8c6_17f6_11eb_ad51_0242ac1c0002row1_col278,#T_02fbb8c6_17f6_11eb_ad51_0242ac1c0002row1_col281,#T_02fbb8c6_17f6_11eb_ad51_0242ac1c0002row1_col283,#T_02fbb8c6_17f6_11eb_ad51_0242ac1c0002row1_col286,#T_02fbb8c6_17f6_11eb_ad51_0242ac1c0002row1_col287,#T_02fbb8c6_17f6_11eb_ad51_0242ac1c0002row1_col288,#T_02fbb8c6_17f6_11eb_ad51_0242ac1c0002row1_col289,#T_02fbb8c6_17f6_11eb_ad51_0242ac1c0002row1_col292,#T_02fbb8c6_17f6_11eb_ad51_0242ac1c0002row1_col293,#T_02fbb8c6_17f6_11eb_ad51_0242ac1c0002row1_col294,#T_02fbb8c6_17f6_11eb_ad51_0242ac1c0002row1_col295,#T_02fbb8c6_17f6_11eb_ad51_0242ac1c0002row1_col296,#T_02fbb8c6_17f6_11eb_ad51_0242ac1c0002row1_col298,#T_02fbb8c6_17f6_11eb_ad51_0242ac1c0002row1_col301,#T_02fbb8c6_17f6_11eb_ad51_0242ac1c0002row1_col302,#T_02fbb8c6_17f6_11eb_ad51_0242ac1c0002row1_col303,#T_02fbb8c6_17f6_11eb_ad51_0242ac1c0002row1_col304,#T_02fbb8c6_17f6_11eb_ad51_0242ac1c0002row1_col310,#T_02fbb8c6_17f6_11eb_ad51_0242ac1c0002row1_col311,#T_02fbb8c6_17f6_11eb_ad51_0242ac1c0002row1_col312,#T_02fbb8c6_17f6_11eb_ad51_0242ac1c0002row1_col314,#T_02fbb8c6_17f6_11eb_ad51_0242ac1c0002row1_col315,#T_02fbb8c6_17f6_11eb_ad51_0242ac1c0002row1_col318,#T_02fbb8c6_17f6_11eb_ad51_0242ac1c0002row1_col319,#T_02fbb8c6_17f6_11eb_ad51_0242ac1c0002row1_col320,#T_02fbb8c6_17f6_11eb_ad51_0242ac1c0002row1_col322,#T_02fbb8c6_17f6_11eb_ad51_0242ac1c0002row1_col325,#T_02fbb8c6_17f6_11eb_ad51_0242ac1c0002row1_col326,#T_02fbb8c6_17f6_11eb_ad51_0242ac1c0002row1_col329,#T_02fbb8c6_17f6_11eb_ad51_0242ac1c0002row1_col330,#T_02fbb8c6_17f6_11eb_ad51_0242ac1c0002row1_col331,#T_02fbb8c6_17f6_11eb_ad51_0242ac1c0002row1_col332,#T_02fbb8c6_17f6_11eb_ad51_0242ac1c0002row1_col334,#T_02fbb8c6_17f6_11eb_ad51_0242ac1c0002row1_col335,#T_02fbb8c6_17f6_11eb_ad51_0242ac1c0002row1_col336,#T_02fbb8c6_17f6_11eb_ad51_0242ac1c0002row1_col338,#T_02fbb8c6_17f6_11eb_ad51_0242ac1c0002row1_col341,#T_02fbb8c6_17f6_11eb_ad51_0242ac1c0002row1_col342,#T_02fbb8c6_17f6_11eb_ad51_0242ac1c0002row1_col343,#T_02fbb8c6_17f6_11eb_ad51_0242ac1c0002row1_col344,#T_02fbb8c6_17f6_11eb_ad51_0242ac1c0002row1_col345,#T_02fbb8c6_17f6_11eb_ad51_0242ac1c0002row1_col346,#T_02fbb8c6_17f6_11eb_ad51_0242ac1c0002row1_col349,#T_02fbb8c6_17f6_11eb_ad51_0242ac1c0002row1_col352,#T_02fbb8c6_17f6_11eb_ad51_0242ac1c0002row1_col354,#T_02fbb8c6_17f6_11eb_ad51_0242ac1c0002row1_col355,#T_02fbb8c6_17f6_11eb_ad51_0242ac1c0002row1_col356,#T_02fbb8c6_17f6_11eb_ad51_0242ac1c0002row1_col357,#T_02fbb8c6_17f6_11eb_ad51_0242ac1c0002row1_col358,#T_02fbb8c6_17f6_11eb_ad51_0242ac1c0002row1_col365,#T_02fbb8c6_17f6_11eb_ad51_0242ac1c0002row1_col366,#T_02fbb8c6_17f6_11eb_ad51_0242ac1c0002row1_col368,#T_02fbb8c6_17f6_11eb_ad51_0242ac1c0002row1_col370,#T_02fbb8c6_17f6_11eb_ad51_0242ac1c0002row1_col374,#T_02fbb8c6_17f6_11eb_ad51_0242ac1c0002row1_col375,#T_02fbb8c6_17f6_11eb_ad51_0242ac1c0002row1_col376,#T_02fbb8c6_17f6_11eb_ad51_0242ac1c0002row1_col377,#T_02fbb8c6_17f6_11eb_ad51_0242ac1c0002row1_col378,#T_02fbb8c6_17f6_11eb_ad51_0242ac1c0002row1_col379,#T_02fbb8c6_17f6_11eb_ad51_0242ac1c0002row1_col380,#T_02fbb8c6_17f6_11eb_ad51_0242ac1c0002row1_col381,#T_02fbb8c6_17f6_11eb_ad51_0242ac1c0002row1_col382,#T_02fbb8c6_17f6_11eb_ad51_0242ac1c0002row1_col383,#T_02fbb8c6_17f6_11eb_ad51_0242ac1c0002row1_col385,#T_02fbb8c6_17f6_11eb_ad51_0242ac1c0002row1_col386,#T_02fbb8c6_17f6_11eb_ad51_0242ac1c0002row1_col387,#T_02fbb8c6_17f6_11eb_ad51_0242ac1c0002row1_col388,#T_02fbb8c6_17f6_11eb_ad51_0242ac1c0002row1_col390,#T_02fbb8c6_17f6_11eb_ad51_0242ac1c0002row1_col391,#T_02fbb8c6_17f6_11eb_ad51_0242ac1c0002row1_col393,#T_02fbb8c6_17f6_11eb_ad51_0242ac1c0002row1_col394,#T_02fbb8c6_17f6_11eb_ad51_0242ac1c0002row1_col395,#T_02fbb8c6_17f6_11eb_ad51_0242ac1c0002row1_col396,#T_02fbb8c6_17f6_11eb_ad51_0242ac1c0002row1_col397,#T_02fbb8c6_17f6_11eb_ad51_0242ac1c0002row1_col398,#T_02fbb8c6_17f6_11eb_ad51_0242ac1c0002row1_col399,#T_02fbb8c6_17f6_11eb_ad51_0242ac1c0002row1_col401,#T_02fbb8c6_17f6_11eb_ad51_0242ac1c0002row1_col402,#T_02fbb8c6_17f6_11eb_ad51_0242ac1c0002row1_col403,#T_02fbb8c6_17f6_11eb_ad51_0242ac1c0002row1_col404,#T_02fbb8c6_17f6_11eb_ad51_0242ac1c0002row1_col412,#T_02fbb8c6_17f6_11eb_ad51_0242ac1c0002row1_col413,#T_02fbb8c6_17f6_11eb_ad51_0242ac1c0002row1_col415,#T_02fbb8c6_17f6_11eb_ad51_0242ac1c0002row1_col417,#T_02fbb8c6_17f6_11eb_ad51_0242ac1c0002row1_col419,#T_02fbb8c6_17f6_11eb_ad51_0242ac1c0002row1_col420,#T_02fbb8c6_17f6_11eb_ad51_0242ac1c0002row1_col421,#T_02fbb8c6_17f6_11eb_ad51_0242ac1c0002row1_col422,#T_02fbb8c6_17f6_11eb_ad51_0242ac1c0002row1_col424,#T_02fbb8c6_17f6_11eb_ad51_0242ac1c0002row1_col425,#T_02fbb8c6_17f6_11eb_ad51_0242ac1c0002row1_col426,#T_02fbb8c6_17f6_11eb_ad51_0242ac1c0002row1_col427,#T_02fbb8c6_17f6_11eb_ad51_0242ac1c0002row1_col428,#T_02fbb8c6_17f6_11eb_ad51_0242ac1c0002row1_col430,#T_02fbb8c6_17f6_11eb_ad51_0242ac1c0002row1_col432,#T_02fbb8c6_17f6_11eb_ad51_0242ac1c0002row1_col434,#T_02fbb8c6_17f6_11eb_ad51_0242ac1c0002row1_col435,#T_02fbb8c6_17f6_11eb_ad51_0242ac1c0002row1_col438,#T_02fbb8c6_17f6_11eb_ad51_0242ac1c0002row1_col441,#T_02fbb8c6_17f6_11eb_ad51_0242ac1c0002row1_col443,#T_02fbb8c6_17f6_11eb_ad51_0242ac1c0002row1_col444,#T_02fbb8c6_17f6_11eb_ad51_0242ac1c0002row1_col445,#T_02fbb8c6_17f6_11eb_ad51_0242ac1c0002row1_col446,#T_02fbb8c6_17f6_11eb_ad51_0242ac1c0002row1_col447,#T_02fbb8c6_17f6_11eb_ad51_0242ac1c0002row1_col448,#T_02fbb8c6_17f6_11eb_ad51_0242ac1c0002row1_col449,#T_02fbb8c6_17f6_11eb_ad51_0242ac1c0002row1_col450,#T_02fbb8c6_17f6_11eb_ad51_0242ac1c0002row1_col453,#T_02fbb8c6_17f6_11eb_ad51_0242ac1c0002row1_col454,#T_02fbb8c6_17f6_11eb_ad51_0242ac1c0002row1_col456,#T_02fbb8c6_17f6_11eb_ad51_0242ac1c0002row1_col458,#T_02fbb8c6_17f6_11eb_ad51_0242ac1c0002row1_col459,#T_02fbb8c6_17f6_11eb_ad51_0242ac1c0002row1_col460,#T_02fbb8c6_17f6_11eb_ad51_0242ac1c0002row1_col461,#T_02fbb8c6_17f6_11eb_ad51_0242ac1c0002row1_col462,#T_02fbb8c6_17f6_11eb_ad51_0242ac1c0002row1_col463,#T_02fbb8c6_17f6_11eb_ad51_0242ac1c0002row1_col464,#T_02fbb8c6_17f6_11eb_ad51_0242ac1c0002row1_col466,#T_02fbb8c6_17f6_11eb_ad51_0242ac1c0002row1_col467,#T_02fbb8c6_17f6_11eb_ad51_0242ac1c0002row1_col469,#T_02fbb8c6_17f6_11eb_ad51_0242ac1c0002row1_col470,#T_02fbb8c6_17f6_11eb_ad51_0242ac1c0002row1_col471,#T_02fbb8c6_17f6_11eb_ad51_0242ac1c0002row1_col473,#T_02fbb8c6_17f6_11eb_ad51_0242ac1c0002row1_col474,#T_02fbb8c6_17f6_11eb_ad51_0242ac1c0002row1_col477,#T_02fbb8c6_17f6_11eb_ad51_0242ac1c0002row1_col478,#T_02fbb8c6_17f6_11eb_ad51_0242ac1c0002row1_col479,#T_02fbb8c6_17f6_11eb_ad51_0242ac1c0002row1_col481,#T_02fbb8c6_17f6_11eb_ad51_0242ac1c0002row1_col482,#T_02fbb8c6_17f6_11eb_ad51_0242ac1c0002row1_col484,#T_02fbb8c6_17f6_11eb_ad51_0242ac1c0002row1_col485,#T_02fbb8c6_17f6_11eb_ad51_0242ac1c0002row1_col486,#T_02fbb8c6_17f6_11eb_ad51_0242ac1c0002row1_col487,#T_02fbb8c6_17f6_11eb_ad51_0242ac1c0002row1_col489,#T_02fbb8c6_17f6_11eb_ad51_0242ac1c0002row1_col491,#T_02fbb8c6_17f6_11eb_ad51_0242ac1c0002row1_col493,#T_02fbb8c6_17f6_11eb_ad51_0242ac1c0002row1_col495,#T_02fbb8c6_17f6_11eb_ad51_0242ac1c0002row1_col496,#T_02fbb8c6_17f6_11eb_ad51_0242ac1c0002row1_col499,#T_02fbb8c6_17f6_11eb_ad51_0242ac1c0002row1_col501,#T_02fbb8c6_17f6_11eb_ad51_0242ac1c0002row1_col502,#T_02fbb8c6_17f6_11eb_ad51_0242ac1c0002row1_col503,#T_02fbb8c6_17f6_11eb_ad51_0242ac1c0002row1_col504,#T_02fbb8c6_17f6_11eb_ad51_0242ac1c0002row1_col505,#T_02fbb8c6_17f6_11eb_ad51_0242ac1c0002row1_col506,#T_02fbb8c6_17f6_11eb_ad51_0242ac1c0002row1_col507,#T_02fbb8c6_17f6_11eb_ad51_0242ac1c0002row1_col508,#T_02fbb8c6_17f6_11eb_ad51_0242ac1c0002row1_col510,#T_02fbb8c6_17f6_11eb_ad51_0242ac1c0002row1_col511,#T_02fbb8c6_17f6_11eb_ad51_0242ac1c0002row1_col512,#T_02fbb8c6_17f6_11eb_ad51_0242ac1c0002row1_col514,#T_02fbb8c6_17f6_11eb_ad51_0242ac1c0002row1_col515,#T_02fbb8c6_17f6_11eb_ad51_0242ac1c0002row1_col517,#T_02fbb8c6_17f6_11eb_ad51_0242ac1c0002row1_col518,#T_02fbb8c6_17f6_11eb_ad51_0242ac1c0002row1_col519,#T_02fbb8c6_17f6_11eb_ad51_0242ac1c0002row1_col522,#T_02fbb8c6_17f6_11eb_ad51_0242ac1c0002row1_col524,#T_02fbb8c6_17f6_11eb_ad51_0242ac1c0002row1_col525,#T_02fbb8c6_17f6_11eb_ad51_0242ac1c0002row1_col526,#T_02fbb8c6_17f6_11eb_ad51_0242ac1c0002row1_col530,#T_02fbb8c6_17f6_11eb_ad51_0242ac1c0002row1_col531,#T_02fbb8c6_17f6_11eb_ad51_0242ac1c0002row1_col532,#T_02fbb8c6_17f6_11eb_ad51_0242ac1c0002row1_col534,#T_02fbb8c6_17f6_11eb_ad51_0242ac1c0002row1_col537,#T_02fbb8c6_17f6_11eb_ad51_0242ac1c0002row1_col541,#T_02fbb8c6_17f6_11eb_ad51_0242ac1c0002row1_col542,#T_02fbb8c6_17f6_11eb_ad51_0242ac1c0002row1_col543,#T_02fbb8c6_17f6_11eb_ad51_0242ac1c0002row1_col546,#T_02fbb8c6_17f6_11eb_ad51_0242ac1c0002row1_col547,#T_02fbb8c6_17f6_11eb_ad51_0242ac1c0002row1_col548,#T_02fbb8c6_17f6_11eb_ad51_0242ac1c0002row1_col551,#T_02fbb8c6_17f6_11eb_ad51_0242ac1c0002row1_col552,#T_02fbb8c6_17f6_11eb_ad51_0242ac1c0002row1_col553,#T_02fbb8c6_17f6_11eb_ad51_0242ac1c0002row1_col554,#T_02fbb8c6_17f6_11eb_ad51_0242ac1c0002row1_col555,#T_02fbb8c6_17f6_11eb_ad51_0242ac1c0002row1_col556,#T_02fbb8c6_17f6_11eb_ad51_0242ac1c0002row1_col558,#T_02fbb8c6_17f6_11eb_ad51_0242ac1c0002row1_col559,#T_02fbb8c6_17f6_11eb_ad51_0242ac1c0002row1_col561,#T_02fbb8c6_17f6_11eb_ad51_0242ac1c0002row1_col562,#T_02fbb8c6_17f6_11eb_ad51_0242ac1c0002row1_col565,#T_02fbb8c6_17f6_11eb_ad51_0242ac1c0002row1_col566,#T_02fbb8c6_17f6_11eb_ad51_0242ac1c0002row1_col569,#T_02fbb8c6_17f6_11eb_ad51_0242ac1c0002row1_col570,#T_02fbb8c6_17f6_11eb_ad51_0242ac1c0002row1_col571,#T_02fbb8c6_17f6_11eb_ad51_0242ac1c0002row1_col572,#T_02fbb8c6_17f6_11eb_ad51_0242ac1c0002row1_col574,#T_02fbb8c6_17f6_11eb_ad51_0242ac1c0002row1_col575,#T_02fbb8c6_17f6_11eb_ad51_0242ac1c0002row1_col577,#T_02fbb8c6_17f6_11eb_ad51_0242ac1c0002row1_col579,#T_02fbb8c6_17f6_11eb_ad51_0242ac1c0002row1_col580,#T_02fbb8c6_17f6_11eb_ad51_0242ac1c0002row1_col581,#T_02fbb8c6_17f6_11eb_ad51_0242ac1c0002row1_col582,#T_02fbb8c6_17f6_11eb_ad51_0242ac1c0002row1_col583,#T_02fbb8c6_17f6_11eb_ad51_0242ac1c0002row1_col584,#T_02fbb8c6_17f6_11eb_ad51_0242ac1c0002row1_col585,#T_02fbb8c6_17f6_11eb_ad51_0242ac1c0002row1_col587,#T_02fbb8c6_17f6_11eb_ad51_0242ac1c0002row1_col590,#T_02fbb8c6_17f6_11eb_ad51_0242ac1c0002row1_col591,#T_02fbb8c6_17f6_11eb_ad51_0242ac1c0002row1_col592,#T_02fbb8c6_17f6_11eb_ad51_0242ac1c0002row1_col594,#T_02fbb8c6_17f6_11eb_ad51_0242ac1c0002row1_col595,#T_02fbb8c6_17f6_11eb_ad51_0242ac1c0002row1_col596,#T_02fbb8c6_17f6_11eb_ad51_0242ac1c0002row1_col597,#T_02fbb8c6_17f6_11eb_ad51_0242ac1c0002row1_col600,#T_02fbb8c6_17f6_11eb_ad51_0242ac1c0002row1_col601,#T_02fbb8c6_17f6_11eb_ad51_0242ac1c0002row1_col604,#T_02fbb8c6_17f6_11eb_ad51_0242ac1c0002row1_col605,#T_02fbb8c6_17f6_11eb_ad51_0242ac1c0002row1_col606,#T_02fbb8c6_17f6_11eb_ad51_0242ac1c0002row1_col607,#T_02fbb8c6_17f6_11eb_ad51_0242ac1c0002row1_col608,#T_02fbb8c6_17f6_11eb_ad51_0242ac1c0002row1_col609,#T_02fbb8c6_17f6_11eb_ad51_0242ac1c0002row1_col610,#T_02fbb8c6_17f6_11eb_ad51_0242ac1c0002row1_col611,#T_02fbb8c6_17f6_11eb_ad51_0242ac1c0002row1_col612,#T_02fbb8c6_17f6_11eb_ad51_0242ac1c0002row1_col614,#T_02fbb8c6_17f6_11eb_ad51_0242ac1c0002row1_col617,#T_02fbb8c6_17f6_11eb_ad51_0242ac1c0002row1_col618,#T_02fbb8c6_17f6_11eb_ad51_0242ac1c0002row1_col620,#T_02fbb8c6_17f6_11eb_ad51_0242ac1c0002row1_col621,#T_02fbb8c6_17f6_11eb_ad51_0242ac1c0002row1_col624,#T_02fbb8c6_17f6_11eb_ad51_0242ac1c0002row1_col625,#T_02fbb8c6_17f6_11eb_ad51_0242ac1c0002row1_col627,#T_02fbb8c6_17f6_11eb_ad51_0242ac1c0002row1_col628,#T_02fbb8c6_17f6_11eb_ad51_0242ac1c0002row1_col629,#T_02fbb8c6_17f6_11eb_ad51_0242ac1c0002row1_col630,#T_02fbb8c6_17f6_11eb_ad51_0242ac1c0002row1_col633,#T_02fbb8c6_17f6_11eb_ad51_0242ac1c0002row1_col634,#T_02fbb8c6_17f6_11eb_ad51_0242ac1c0002row1_col636,#T_02fbb8c6_17f6_11eb_ad51_0242ac1c0002row1_col639,#T_02fbb8c6_17f6_11eb_ad51_0242ac1c0002row1_col640,#T_02fbb8c6_17f6_11eb_ad51_0242ac1c0002row1_col642,#T_02fbb8c6_17f6_11eb_ad51_0242ac1c0002row1_col645,#T_02fbb8c6_17f6_11eb_ad51_0242ac1c0002row1_col646,#T_02fbb8c6_17f6_11eb_ad51_0242ac1c0002row1_col647,#T_02fbb8c6_17f6_11eb_ad51_0242ac1c0002row1_col648,#T_02fbb8c6_17f6_11eb_ad51_0242ac1c0002row1_col649,#T_02fbb8c6_17f6_11eb_ad51_0242ac1c0002row1_col651{\n",
              "            background-color:  #ffff66;\n",
              "            color:  #000000;\n",
              "        }</style><table id=\"T_02fbb8c6_17f6_11eb_ad51_0242ac1c0002\" ><thead>    <tr>        <th class=\"index_name level0\" >NumName</th>        <th class=\"col_heading level0 col0\" >0</th>        <th class=\"col_heading level0 col1\" >1</th>        <th class=\"col_heading level0 col2\" >2</th>        <th class=\"col_heading level0 col3\" >3</th>        <th class=\"col_heading level0 col4\" >4</th>        <th class=\"col_heading level0 col5\" >5</th>        <th class=\"col_heading level0 col6\" >6</th>        <th class=\"col_heading level0 col7\" >7</th>        <th class=\"col_heading level0 col8\" >8</th>        <th class=\"col_heading level0 col9\" >9</th>        <th class=\"col_heading level0 col10\" >10</th>        <th class=\"col_heading level0 col11\" >11</th>        <th class=\"col_heading level0 col12\" >12</th>        <th class=\"col_heading level0 col13\" >13</th>        <th class=\"col_heading level0 col14\" >14</th>        <th class=\"col_heading level0 col15\" >15</th>        <th class=\"col_heading level0 col16\" >16</th>        <th class=\"col_heading level0 col17\" >17</th>        <th class=\"col_heading level0 col18\" >18</th>        <th class=\"col_heading level0 col19\" >19</th>        <th class=\"col_heading level0 col20\" >20</th>        <th class=\"col_heading level0 col21\" >21</th>        <th class=\"col_heading level0 col22\" >22</th>        <th class=\"col_heading level0 col23\" >23</th>        <th class=\"col_heading level0 col24\" >24</th>        <th class=\"col_heading level0 col25\" >25</th>        <th class=\"col_heading level0 col26\" >26</th>        <th class=\"col_heading level0 col27\" >27</th>        <th class=\"col_heading level0 col28\" >28</th>        <th class=\"col_heading level0 col29\" >29</th>        <th class=\"col_heading level0 col30\" >30</th>        <th class=\"col_heading level0 col31\" >31</th>        <th class=\"col_heading level0 col32\" >32</th>        <th class=\"col_heading level0 col33\" >33</th>        <th class=\"col_heading level0 col34\" >34</th>        <th class=\"col_heading level0 col35\" >35</th>        <th class=\"col_heading level0 col36\" >36</th>        <th class=\"col_heading level0 col37\" >37</th>        <th class=\"col_heading level0 col38\" >38</th>        <th class=\"col_heading level0 col39\" >39</th>        <th class=\"col_heading level0 col40\" >40</th>        <th class=\"col_heading level0 col41\" >41</th>        <th class=\"col_heading level0 col42\" >42</th>        <th class=\"col_heading level0 col43\" >43</th>        <th class=\"col_heading level0 col44\" >44</th>        <th class=\"col_heading level0 col45\" >45</th>        <th class=\"col_heading level0 col46\" >46</th>        <th class=\"col_heading level0 col47\" >47</th>        <th class=\"col_heading level0 col48\" >48</th>        <th class=\"col_heading level0 col49\" >49</th>        <th class=\"col_heading level0 col50\" >50</th>        <th class=\"col_heading level0 col51\" >51</th>        <th class=\"col_heading level0 col52\" >52</th>        <th class=\"col_heading level0 col53\" >53</th>        <th class=\"col_heading level0 col54\" >54</th>        <th class=\"col_heading level0 col55\" >55</th>        <th class=\"col_heading level0 col56\" >56</th>        <th class=\"col_heading level0 col57\" >57</th>        <th class=\"col_heading level0 col58\" >58</th>        <th class=\"col_heading level0 col59\" >59</th>        <th class=\"col_heading level0 col60\" >60</th>        <th class=\"col_heading level0 col61\" >61</th>        <th class=\"col_heading level0 col62\" >62</th>        <th class=\"col_heading level0 col63\" >63</th>        <th class=\"col_heading level0 col64\" >64</th>        <th class=\"col_heading level0 col65\" >65</th>        <th class=\"col_heading level0 col66\" >66</th>        <th class=\"col_heading level0 col67\" >67</th>        <th class=\"col_heading level0 col68\" >68</th>        <th class=\"col_heading level0 col69\" >69</th>        <th class=\"col_heading level0 col70\" >70</th>        <th class=\"col_heading level0 col71\" >71</th>        <th class=\"col_heading level0 col72\" >72</th>        <th class=\"col_heading level0 col73\" >73</th>        <th class=\"col_heading level0 col74\" >74</th>        <th class=\"col_heading level0 col75\" >75</th>        <th class=\"col_heading level0 col76\" >76</th>        <th class=\"col_heading level0 col77\" >77</th>        <th class=\"col_heading level0 col78\" >78</th>        <th class=\"col_heading level0 col79\" >79</th>        <th class=\"col_heading level0 col80\" >80</th>        <th class=\"col_heading level0 col81\" >81</th>        <th class=\"col_heading level0 col82\" >82</th>        <th class=\"col_heading level0 col83\" >83</th>        <th class=\"col_heading level0 col84\" >84</th>        <th class=\"col_heading level0 col85\" >85</th>        <th class=\"col_heading level0 col86\" >86</th>        <th class=\"col_heading level0 col87\" >87</th>        <th class=\"col_heading level0 col88\" >88</th>        <th class=\"col_heading level0 col89\" >89</th>        <th class=\"col_heading level0 col90\" >90</th>        <th class=\"col_heading level0 col91\" >91</th>        <th class=\"col_heading level0 col92\" >92</th>        <th class=\"col_heading level0 col93\" >93</th>        <th class=\"col_heading level0 col94\" >94</th>        <th class=\"col_heading level0 col95\" >95</th>        <th class=\"col_heading level0 col96\" >96</th>        <th class=\"col_heading level0 col97\" >97</th>        <th class=\"col_heading level0 col98\" >98</th>        <th class=\"col_heading level0 col99\" >99</th>        <th class=\"col_heading level0 col100\" >100</th>        <th class=\"col_heading level0 col101\" >101</th>        <th class=\"col_heading level0 col102\" >102</th>        <th class=\"col_heading level0 col103\" >103</th>        <th class=\"col_heading level0 col104\" >104</th>        <th class=\"col_heading level0 col105\" >105</th>        <th class=\"col_heading level0 col106\" >106</th>        <th class=\"col_heading level0 col107\" >107</th>        <th class=\"col_heading level0 col108\" >108</th>        <th class=\"col_heading level0 col109\" >109</th>        <th class=\"col_heading level0 col110\" >110</th>        <th class=\"col_heading level0 col111\" >111</th>        <th class=\"col_heading level0 col112\" >112</th>        <th class=\"col_heading level0 col113\" >113</th>        <th class=\"col_heading level0 col114\" >114</th>        <th class=\"col_heading level0 col115\" >115</th>        <th class=\"col_heading level0 col116\" >116</th>        <th class=\"col_heading level0 col117\" >117</th>        <th class=\"col_heading level0 col118\" >118</th>        <th class=\"col_heading level0 col119\" >119</th>        <th class=\"col_heading level0 col120\" >120</th>        <th class=\"col_heading level0 col121\" >121</th>        <th class=\"col_heading level0 col122\" >122</th>        <th class=\"col_heading level0 col123\" >123</th>        <th class=\"col_heading level0 col124\" >124</th>        <th class=\"col_heading level0 col125\" >125</th>        <th class=\"col_heading level0 col126\" >126</th>        <th class=\"col_heading level0 col127\" >127</th>        <th class=\"col_heading level0 col128\" >128</th>        <th class=\"col_heading level0 col129\" >129</th>        <th class=\"col_heading level0 col130\" >130</th>        <th class=\"col_heading level0 col131\" >131</th>        <th class=\"col_heading level0 col132\" >132</th>        <th class=\"col_heading level0 col133\" >133</th>        <th class=\"col_heading level0 col134\" >134</th>        <th class=\"col_heading level0 col135\" >135</th>        <th class=\"col_heading level0 col136\" >136</th>        <th class=\"col_heading level0 col137\" >137</th>        <th class=\"col_heading level0 col138\" >138</th>        <th class=\"col_heading level0 col139\" >139</th>        <th class=\"col_heading level0 col140\" >140</th>        <th class=\"col_heading level0 col141\" >141</th>        <th class=\"col_heading level0 col142\" >142</th>        <th class=\"col_heading level0 col143\" >143</th>        <th class=\"col_heading level0 col144\" >144</th>        <th class=\"col_heading level0 col145\" >145</th>        <th class=\"col_heading level0 col146\" >146</th>        <th class=\"col_heading level0 col147\" >147</th>        <th class=\"col_heading level0 col148\" >148</th>        <th class=\"col_heading level0 col149\" >149</th>        <th class=\"col_heading level0 col150\" >150</th>        <th class=\"col_heading level0 col151\" >151</th>        <th class=\"col_heading level0 col152\" >152</th>        <th class=\"col_heading level0 col153\" >153</th>        <th class=\"col_heading level0 col154\" >154</th>        <th class=\"col_heading level0 col155\" >155</th>        <th class=\"col_heading level0 col156\" >156</th>        <th class=\"col_heading level0 col157\" >157</th>        <th class=\"col_heading level0 col158\" >158</th>        <th class=\"col_heading level0 col159\" >159</th>        <th class=\"col_heading level0 col160\" >160</th>        <th class=\"col_heading level0 col161\" >161</th>        <th class=\"col_heading level0 col162\" >162</th>        <th class=\"col_heading level0 col163\" >163</th>        <th class=\"col_heading level0 col164\" >164</th>        <th class=\"col_heading level0 col165\" >165</th>        <th class=\"col_heading level0 col166\" >166</th>        <th class=\"col_heading level0 col167\" >167</th>        <th class=\"col_heading level0 col168\" >168</th>        <th class=\"col_heading level0 col169\" >169</th>        <th class=\"col_heading level0 col170\" >170</th>        <th class=\"col_heading level0 col171\" >171</th>        <th class=\"col_heading level0 col172\" >172</th>        <th class=\"col_heading level0 col173\" >173</th>        <th class=\"col_heading level0 col174\" >174</th>        <th class=\"col_heading level0 col175\" >175</th>        <th class=\"col_heading level0 col176\" >176</th>        <th class=\"col_heading level0 col177\" >177</th>        <th class=\"col_heading level0 col178\" >178</th>        <th class=\"col_heading level0 col179\" >179</th>        <th class=\"col_heading level0 col180\" >180</th>        <th class=\"col_heading level0 col181\" >181</th>        <th class=\"col_heading level0 col182\" >182</th>        <th class=\"col_heading level0 col183\" >183</th>        <th class=\"col_heading level0 col184\" >184</th>        <th class=\"col_heading level0 col185\" >185</th>        <th class=\"col_heading level0 col186\" >186</th>        <th class=\"col_heading level0 col187\" >187</th>        <th class=\"col_heading level0 col188\" >188</th>        <th class=\"col_heading level0 col189\" >189</th>        <th class=\"col_heading level0 col190\" >190</th>        <th class=\"col_heading level0 col191\" >191</th>        <th class=\"col_heading level0 col192\" >192</th>        <th class=\"col_heading level0 col193\" >193</th>        <th class=\"col_heading level0 col194\" >194</th>        <th class=\"col_heading level0 col195\" >195</th>        <th class=\"col_heading level0 col196\" >196</th>        <th class=\"col_heading level0 col197\" >197</th>        <th class=\"col_heading level0 col198\" >198</th>        <th class=\"col_heading level0 col199\" >199</th>        <th class=\"col_heading level0 col200\" >200</th>        <th class=\"col_heading level0 col201\" >201</th>        <th class=\"col_heading level0 col202\" >202</th>        <th class=\"col_heading level0 col203\" >203</th>        <th class=\"col_heading level0 col204\" >204</th>        <th class=\"col_heading level0 col205\" >205</th>        <th class=\"col_heading level0 col206\" >206</th>        <th class=\"col_heading level0 col207\" >207</th>        <th class=\"col_heading level0 col208\" >208</th>        <th class=\"col_heading level0 col209\" >209</th>        <th class=\"col_heading level0 col210\" >210</th>        <th class=\"col_heading level0 col211\" >211</th>        <th class=\"col_heading level0 col212\" >212</th>        <th class=\"col_heading level0 col213\" >213</th>        <th class=\"col_heading level0 col214\" >214</th>        <th class=\"col_heading level0 col215\" >215</th>        <th class=\"col_heading level0 col216\" >216</th>        <th class=\"col_heading level0 col217\" >217</th>        <th class=\"col_heading level0 col218\" >218</th>        <th class=\"col_heading level0 col219\" >219</th>        <th class=\"col_heading level0 col220\" >220</th>        <th class=\"col_heading level0 col221\" >221</th>        <th class=\"col_heading level0 col222\" >222</th>        <th class=\"col_heading level0 col223\" >223</th>        <th class=\"col_heading level0 col224\" >224</th>        <th class=\"col_heading level0 col225\" >225</th>        <th class=\"col_heading level0 col226\" >226</th>        <th class=\"col_heading level0 col227\" >227</th>        <th class=\"col_heading level0 col228\" >228</th>        <th class=\"col_heading level0 col229\" >229</th>        <th class=\"col_heading level0 col230\" >230</th>        <th class=\"col_heading level0 col231\" >231</th>        <th class=\"col_heading level0 col232\" >232</th>        <th class=\"col_heading level0 col233\" >233</th>        <th class=\"col_heading level0 col234\" >234</th>        <th class=\"col_heading level0 col235\" >235</th>        <th class=\"col_heading level0 col236\" >236</th>        <th class=\"col_heading level0 col237\" >237</th>        <th class=\"col_heading level0 col238\" >238</th>        <th class=\"col_heading level0 col239\" >239</th>        <th class=\"col_heading level0 col240\" >240</th>        <th class=\"col_heading level0 col241\" >241</th>        <th class=\"col_heading level0 col242\" >242</th>        <th class=\"col_heading level0 col243\" >243</th>        <th class=\"col_heading level0 col244\" >244</th>        <th class=\"col_heading level0 col245\" >245</th>        <th class=\"col_heading level0 col246\" >246</th>        <th class=\"col_heading level0 col247\" >247</th>        <th class=\"col_heading level0 col248\" >248</th>        <th class=\"col_heading level0 col249\" >249</th>        <th class=\"col_heading level0 col250\" >250</th>        <th class=\"col_heading level0 col251\" >251</th>        <th class=\"col_heading level0 col252\" >252</th>        <th class=\"col_heading level0 col253\" >253</th>        <th class=\"col_heading level0 col254\" >254</th>        <th class=\"col_heading level0 col255\" >255</th>        <th class=\"col_heading level0 col256\" >256</th>        <th class=\"col_heading level0 col257\" >257</th>        <th class=\"col_heading level0 col258\" >258</th>        <th class=\"col_heading level0 col259\" >259</th>        <th class=\"col_heading level0 col260\" >260</th>        <th class=\"col_heading level0 col261\" >261</th>        <th class=\"col_heading level0 col262\" >262</th>        <th class=\"col_heading level0 col263\" >263</th>        <th class=\"col_heading level0 col264\" >264</th>        <th class=\"col_heading level0 col265\" >265</th>        <th class=\"col_heading level0 col266\" >266</th>        <th class=\"col_heading level0 col267\" >267</th>        <th class=\"col_heading level0 col268\" >268</th>        <th class=\"col_heading level0 col269\" >269</th>        <th class=\"col_heading level0 col270\" >270</th>        <th class=\"col_heading level0 col271\" >271</th>        <th class=\"col_heading level0 col272\" >272</th>        <th class=\"col_heading level0 col273\" >273</th>        <th class=\"col_heading level0 col274\" >274</th>        <th class=\"col_heading level0 col275\" >275</th>        <th class=\"col_heading level0 col276\" >276</th>        <th class=\"col_heading level0 col277\" >277</th>        <th class=\"col_heading level0 col278\" >278</th>        <th class=\"col_heading level0 col279\" >279</th>        <th class=\"col_heading level0 col280\" >280</th>        <th class=\"col_heading level0 col281\" >281</th>        <th class=\"col_heading level0 col282\" >282</th>        <th class=\"col_heading level0 col283\" >283</th>        <th class=\"col_heading level0 col284\" >284</th>        <th class=\"col_heading level0 col285\" >285</th>        <th class=\"col_heading level0 col286\" >286</th>        <th class=\"col_heading level0 col287\" >287</th>        <th class=\"col_heading level0 col288\" >288</th>        <th class=\"col_heading level0 col289\" >289</th>        <th class=\"col_heading level0 col290\" >290</th>        <th class=\"col_heading level0 col291\" >291</th>        <th class=\"col_heading level0 col292\" >292</th>        <th class=\"col_heading level0 col293\" >293</th>        <th class=\"col_heading level0 col294\" >294</th>        <th class=\"col_heading level0 col295\" >295</th>        <th class=\"col_heading level0 col296\" >296</th>        <th class=\"col_heading level0 col297\" >297</th>        <th class=\"col_heading level0 col298\" >298</th>        <th class=\"col_heading level0 col299\" >299</th>        <th class=\"col_heading level0 col300\" >300</th>        <th class=\"col_heading level0 col301\" >301</th>        <th class=\"col_heading level0 col302\" >302</th>        <th class=\"col_heading level0 col303\" >303</th>        <th class=\"col_heading level0 col304\" >304</th>        <th class=\"col_heading level0 col305\" >305</th>        <th class=\"col_heading level0 col306\" >306</th>        <th class=\"col_heading level0 col307\" >307</th>        <th class=\"col_heading level0 col308\" >308</th>        <th class=\"col_heading level0 col309\" >309</th>        <th class=\"col_heading level0 col310\" >310</th>        <th class=\"col_heading level0 col311\" >311</th>        <th class=\"col_heading level0 col312\" >312</th>        <th class=\"col_heading level0 col313\" >313</th>        <th class=\"col_heading level0 col314\" >314</th>        <th class=\"col_heading level0 col315\" >315</th>        <th class=\"col_heading level0 col316\" >316</th>        <th class=\"col_heading level0 col317\" >317</th>        <th class=\"col_heading level0 col318\" >318</th>        <th class=\"col_heading level0 col319\" >319</th>        <th class=\"col_heading level0 col320\" >320</th>        <th class=\"col_heading level0 col321\" >321</th>        <th class=\"col_heading level0 col322\" >322</th>        <th class=\"col_heading level0 col323\" >323</th>        <th class=\"col_heading level0 col324\" >324</th>        <th class=\"col_heading level0 col325\" >325</th>        <th class=\"col_heading level0 col326\" >326</th>        <th class=\"col_heading level0 col327\" >327</th>        <th class=\"col_heading level0 col328\" >328</th>        <th class=\"col_heading level0 col329\" >329</th>        <th class=\"col_heading level0 col330\" >330</th>        <th class=\"col_heading level0 col331\" >331</th>        <th class=\"col_heading level0 col332\" >332</th>        <th class=\"col_heading level0 col333\" >333</th>        <th class=\"col_heading level0 col334\" >334</th>        <th class=\"col_heading level0 col335\" >335</th>        <th class=\"col_heading level0 col336\" >336</th>        <th class=\"col_heading level0 col337\" >337</th>        <th class=\"col_heading level0 col338\" >338</th>        <th class=\"col_heading level0 col339\" >339</th>        <th class=\"col_heading level0 col340\" >340</th>        <th class=\"col_heading level0 col341\" >341</th>        <th class=\"col_heading level0 col342\" >342</th>        <th class=\"col_heading level0 col343\" >343</th>        <th class=\"col_heading level0 col344\" >344</th>        <th class=\"col_heading level0 col345\" >345</th>        <th class=\"col_heading level0 col346\" >346</th>        <th class=\"col_heading level0 col347\" >347</th>        <th class=\"col_heading level0 col348\" >348</th>        <th class=\"col_heading level0 col349\" >349</th>        <th class=\"col_heading level0 col350\" >350</th>        <th class=\"col_heading level0 col351\" >351</th>        <th class=\"col_heading level0 col352\" >352</th>        <th class=\"col_heading level0 col353\" >353</th>        <th class=\"col_heading level0 col354\" >354</th>        <th class=\"col_heading level0 col355\" >355</th>        <th class=\"col_heading level0 col356\" >356</th>        <th class=\"col_heading level0 col357\" >357</th>        <th class=\"col_heading level0 col358\" >358</th>        <th class=\"col_heading level0 col359\" >359</th>        <th class=\"col_heading level0 col360\" >360</th>        <th class=\"col_heading level0 col361\" >361</th>        <th class=\"col_heading level0 col362\" >362</th>        <th class=\"col_heading level0 col363\" >363</th>        <th class=\"col_heading level0 col364\" >364</th>        <th class=\"col_heading level0 col365\" >365</th>        <th class=\"col_heading level0 col366\" >366</th>        <th class=\"col_heading level0 col367\" >367</th>        <th class=\"col_heading level0 col368\" >368</th>        <th class=\"col_heading level0 col369\" >369</th>        <th class=\"col_heading level0 col370\" >370</th>        <th class=\"col_heading level0 col371\" >371</th>        <th class=\"col_heading level0 col372\" >372</th>        <th class=\"col_heading level0 col373\" >373</th>        <th class=\"col_heading level0 col374\" >374</th>        <th class=\"col_heading level0 col375\" >375</th>        <th class=\"col_heading level0 col376\" >376</th>        <th class=\"col_heading level0 col377\" >377</th>        <th class=\"col_heading level0 col378\" >378</th>        <th class=\"col_heading level0 col379\" >379</th>        <th class=\"col_heading level0 col380\" >380</th>        <th class=\"col_heading level0 col381\" >381</th>        <th class=\"col_heading level0 col382\" >382</th>        <th class=\"col_heading level0 col383\" >383</th>        <th class=\"col_heading level0 col384\" >384</th>        <th class=\"col_heading level0 col385\" >385</th>        <th class=\"col_heading level0 col386\" >386</th>        <th class=\"col_heading level0 col387\" >387</th>        <th class=\"col_heading level0 col388\" >388</th>        <th class=\"col_heading level0 col389\" >389</th>        <th class=\"col_heading level0 col390\" >390</th>        <th class=\"col_heading level0 col391\" >391</th>        <th class=\"col_heading level0 col392\" >392</th>        <th class=\"col_heading level0 col393\" >393</th>        <th class=\"col_heading level0 col394\" >394</th>        <th class=\"col_heading level0 col395\" >395</th>        <th class=\"col_heading level0 col396\" >396</th>        <th class=\"col_heading level0 col397\" >397</th>        <th class=\"col_heading level0 col398\" >398</th>        <th class=\"col_heading level0 col399\" >399</th>        <th class=\"col_heading level0 col400\" >400</th>        <th class=\"col_heading level0 col401\" >401</th>        <th class=\"col_heading level0 col402\" >402</th>        <th class=\"col_heading level0 col403\" >403</th>        <th class=\"col_heading level0 col404\" >404</th>        <th class=\"col_heading level0 col405\" >405</th>        <th class=\"col_heading level0 col406\" >406</th>        <th class=\"col_heading level0 col407\" >407</th>        <th class=\"col_heading level0 col408\" >408</th>        <th class=\"col_heading level0 col409\" >409</th>        <th class=\"col_heading level0 col410\" >410</th>        <th class=\"col_heading level0 col411\" >411</th>        <th class=\"col_heading level0 col412\" >412</th>        <th class=\"col_heading level0 col413\" >413</th>        <th class=\"col_heading level0 col414\" >414</th>        <th class=\"col_heading level0 col415\" >415</th>        <th class=\"col_heading level0 col416\" >416</th>        <th class=\"col_heading level0 col417\" >417</th>        <th class=\"col_heading level0 col418\" >418</th>        <th class=\"col_heading level0 col419\" >419</th>        <th class=\"col_heading level0 col420\" >420</th>        <th class=\"col_heading level0 col421\" >421</th>        <th class=\"col_heading level0 col422\" >422</th>        <th class=\"col_heading level0 col423\" >423</th>        <th class=\"col_heading level0 col424\" >424</th>        <th class=\"col_heading level0 col425\" >425</th>        <th class=\"col_heading level0 col426\" >426</th>        <th class=\"col_heading level0 col427\" >427</th>        <th class=\"col_heading level0 col428\" >428</th>        <th class=\"col_heading level0 col429\" >429</th>        <th class=\"col_heading level0 col430\" >430</th>        <th class=\"col_heading level0 col431\" >431</th>        <th class=\"col_heading level0 col432\" >432</th>        <th class=\"col_heading level0 col433\" >433</th>        <th class=\"col_heading level0 col434\" >434</th>        <th class=\"col_heading level0 col435\" >435</th>        <th class=\"col_heading level0 col436\" >436</th>        <th class=\"col_heading level0 col437\" >437</th>        <th class=\"col_heading level0 col438\" >438</th>        <th class=\"col_heading level0 col439\" >439</th>        <th class=\"col_heading level0 col440\" >440</th>        <th class=\"col_heading level0 col441\" >441</th>        <th class=\"col_heading level0 col442\" >442</th>        <th class=\"col_heading level0 col443\" >443</th>        <th class=\"col_heading level0 col444\" >444</th>        <th class=\"col_heading level0 col445\" >445</th>        <th class=\"col_heading level0 col446\" >446</th>        <th class=\"col_heading level0 col447\" >447</th>        <th class=\"col_heading level0 col448\" >448</th>        <th class=\"col_heading level0 col449\" >449</th>        <th class=\"col_heading level0 col450\" >450</th>        <th class=\"col_heading level0 col451\" >451</th>        <th class=\"col_heading level0 col452\" >452</th>        <th class=\"col_heading level0 col453\" >453</th>        <th class=\"col_heading level0 col454\" >454</th>        <th class=\"col_heading level0 col455\" >455</th>        <th class=\"col_heading level0 col456\" >456</th>        <th class=\"col_heading level0 col457\" >457</th>        <th class=\"col_heading level0 col458\" >458</th>        <th class=\"col_heading level0 col459\" >459</th>        <th class=\"col_heading level0 col460\" >460</th>        <th class=\"col_heading level0 col461\" >461</th>        <th class=\"col_heading level0 col462\" >462</th>        <th class=\"col_heading level0 col463\" >463</th>        <th class=\"col_heading level0 col464\" >464</th>        <th class=\"col_heading level0 col465\" >465</th>        <th class=\"col_heading level0 col466\" >466</th>        <th class=\"col_heading level0 col467\" >467</th>        <th class=\"col_heading level0 col468\" >468</th>        <th class=\"col_heading level0 col469\" >469</th>        <th class=\"col_heading level0 col470\" >470</th>        <th class=\"col_heading level0 col471\" >471</th>        <th class=\"col_heading level0 col472\" >472</th>        <th class=\"col_heading level0 col473\" >473</th>        <th class=\"col_heading level0 col474\" >474</th>        <th class=\"col_heading level0 col475\" >475</th>        <th class=\"col_heading level0 col476\" >476</th>        <th class=\"col_heading level0 col477\" >477</th>        <th class=\"col_heading level0 col478\" >478</th>        <th class=\"col_heading level0 col479\" >479</th>        <th class=\"col_heading level0 col480\" >480</th>        <th class=\"col_heading level0 col481\" >481</th>        <th class=\"col_heading level0 col482\" >482</th>        <th class=\"col_heading level0 col483\" >483</th>        <th class=\"col_heading level0 col484\" >484</th>        <th class=\"col_heading level0 col485\" >485</th>        <th class=\"col_heading level0 col486\" >486</th>        <th class=\"col_heading level0 col487\" >487</th>        <th class=\"col_heading level0 col488\" >488</th>        <th class=\"col_heading level0 col489\" >489</th>        <th class=\"col_heading level0 col490\" >490</th>        <th class=\"col_heading level0 col491\" >491</th>        <th class=\"col_heading level0 col492\" >492</th>        <th class=\"col_heading level0 col493\" >493</th>        <th class=\"col_heading level0 col494\" >494</th>        <th class=\"col_heading level0 col495\" >495</th>        <th class=\"col_heading level0 col496\" >496</th>        <th class=\"col_heading level0 col497\" >497</th>        <th class=\"col_heading level0 col498\" >498</th>        <th class=\"col_heading level0 col499\" >499</th>        <th class=\"col_heading level0 col500\" >500</th>        <th class=\"col_heading level0 col501\" >501</th>        <th class=\"col_heading level0 col502\" >502</th>        <th class=\"col_heading level0 col503\" >503</th>        <th class=\"col_heading level0 col504\" >504</th>        <th class=\"col_heading level0 col505\" >505</th>        <th class=\"col_heading level0 col506\" >506</th>        <th class=\"col_heading level0 col507\" >507</th>        <th class=\"col_heading level0 col508\" >508</th>        <th class=\"col_heading level0 col509\" >509</th>        <th class=\"col_heading level0 col510\" >510</th>        <th class=\"col_heading level0 col511\" >511</th>        <th class=\"col_heading level0 col512\" >512</th>        <th class=\"col_heading level0 col513\" >513</th>        <th class=\"col_heading level0 col514\" >514</th>        <th class=\"col_heading level0 col515\" >515</th>        <th class=\"col_heading level0 col516\" >516</th>        <th class=\"col_heading level0 col517\" >517</th>        <th class=\"col_heading level0 col518\" >518</th>        <th class=\"col_heading level0 col519\" >519</th>        <th class=\"col_heading level0 col520\" >520</th>        <th class=\"col_heading level0 col521\" >521</th>        <th class=\"col_heading level0 col522\" >522</th>        <th class=\"col_heading level0 col523\" >523</th>        <th class=\"col_heading level0 col524\" >524</th>        <th class=\"col_heading level0 col525\" >525</th>        <th class=\"col_heading level0 col526\" >526</th>        <th class=\"col_heading level0 col527\" >527</th>        <th class=\"col_heading level0 col528\" >528</th>        <th class=\"col_heading level0 col529\" >529</th>        <th class=\"col_heading level0 col530\" >530</th>        <th class=\"col_heading level0 col531\" >531</th>        <th class=\"col_heading level0 col532\" >532</th>        <th class=\"col_heading level0 col533\" >533</th>        <th class=\"col_heading level0 col534\" >534</th>        <th class=\"col_heading level0 col535\" >535</th>        <th class=\"col_heading level0 col536\" >536</th>        <th class=\"col_heading level0 col537\" >537</th>        <th class=\"col_heading level0 col538\" >538</th>        <th class=\"col_heading level0 col539\" >539</th>        <th class=\"col_heading level0 col540\" >540</th>        <th class=\"col_heading level0 col541\" >541</th>        <th class=\"col_heading level0 col542\" >542</th>        <th class=\"col_heading level0 col543\" >543</th>        <th class=\"col_heading level0 col544\" >544</th>        <th class=\"col_heading level0 col545\" >545</th>        <th class=\"col_heading level0 col546\" >546</th>        <th class=\"col_heading level0 col547\" >547</th>        <th class=\"col_heading level0 col548\" >548</th>        <th class=\"col_heading level0 col549\" >549</th>        <th class=\"col_heading level0 col550\" >550</th>        <th class=\"col_heading level0 col551\" >551</th>        <th class=\"col_heading level0 col552\" >552</th>        <th class=\"col_heading level0 col553\" >553</th>        <th class=\"col_heading level0 col554\" >554</th>        <th class=\"col_heading level0 col555\" >555</th>        <th class=\"col_heading level0 col556\" >556</th>        <th class=\"col_heading level0 col557\" >557</th>        <th class=\"col_heading level0 col558\" >558</th>        <th class=\"col_heading level0 col559\" >559</th>        <th class=\"col_heading level0 col560\" >560</th>        <th class=\"col_heading level0 col561\" >561</th>        <th class=\"col_heading level0 col562\" >562</th>        <th class=\"col_heading level0 col563\" >563</th>        <th class=\"col_heading level0 col564\" >564</th>        <th class=\"col_heading level0 col565\" >565</th>        <th class=\"col_heading level0 col566\" >566</th>        <th class=\"col_heading level0 col567\" >567</th>        <th class=\"col_heading level0 col568\" >568</th>        <th class=\"col_heading level0 col569\" >569</th>        <th class=\"col_heading level0 col570\" >570</th>        <th class=\"col_heading level0 col571\" >571</th>        <th class=\"col_heading level0 col572\" >572</th>        <th class=\"col_heading level0 col573\" >573</th>        <th class=\"col_heading level0 col574\" >574</th>        <th class=\"col_heading level0 col575\" >575</th>        <th class=\"col_heading level0 col576\" >576</th>        <th class=\"col_heading level0 col577\" >577</th>        <th class=\"col_heading level0 col578\" >578</th>        <th class=\"col_heading level0 col579\" >579</th>        <th class=\"col_heading level0 col580\" >580</th>        <th class=\"col_heading level0 col581\" >581</th>        <th class=\"col_heading level0 col582\" >582</th>        <th class=\"col_heading level0 col583\" >583</th>        <th class=\"col_heading level0 col584\" >584</th>        <th class=\"col_heading level0 col585\" >585</th>        <th class=\"col_heading level0 col586\" >586</th>        <th class=\"col_heading level0 col587\" >587</th>        <th class=\"col_heading level0 col588\" >588</th>        <th class=\"col_heading level0 col589\" >589</th>        <th class=\"col_heading level0 col590\" >590</th>        <th class=\"col_heading level0 col591\" >591</th>        <th class=\"col_heading level0 col592\" >592</th>        <th class=\"col_heading level0 col593\" >593</th>        <th class=\"col_heading level0 col594\" >594</th>        <th class=\"col_heading level0 col595\" >595</th>        <th class=\"col_heading level0 col596\" >596</th>        <th class=\"col_heading level0 col597\" >597</th>        <th class=\"col_heading level0 col598\" >598</th>        <th class=\"col_heading level0 col599\" >599</th>        <th class=\"col_heading level0 col600\" >600</th>        <th class=\"col_heading level0 col601\" >601</th>        <th class=\"col_heading level0 col602\" >602</th>        <th class=\"col_heading level0 col603\" >603</th>        <th class=\"col_heading level0 col604\" >604</th>        <th class=\"col_heading level0 col605\" >605</th>        <th class=\"col_heading level0 col606\" >606</th>        <th class=\"col_heading level0 col607\" >607</th>        <th class=\"col_heading level0 col608\" >608</th>        <th class=\"col_heading level0 col609\" >609</th>        <th class=\"col_heading level0 col610\" >610</th>        <th class=\"col_heading level0 col611\" >611</th>        <th class=\"col_heading level0 col612\" >612</th>        <th class=\"col_heading level0 col613\" >613</th>        <th class=\"col_heading level0 col614\" >614</th>        <th class=\"col_heading level0 col615\" >615</th>        <th class=\"col_heading level0 col616\" >616</th>        <th class=\"col_heading level0 col617\" >617</th>        <th class=\"col_heading level0 col618\" >618</th>        <th class=\"col_heading level0 col619\" >619</th>        <th class=\"col_heading level0 col620\" >620</th>        <th class=\"col_heading level0 col621\" >621</th>        <th class=\"col_heading level0 col622\" >622</th>        <th class=\"col_heading level0 col623\" >623</th>        <th class=\"col_heading level0 col624\" >624</th>        <th class=\"col_heading level0 col625\" >625</th>        <th class=\"col_heading level0 col626\" >626</th>        <th class=\"col_heading level0 col627\" >627</th>        <th class=\"col_heading level0 col628\" >628</th>        <th class=\"col_heading level0 col629\" >629</th>        <th class=\"col_heading level0 col630\" >630</th>        <th class=\"col_heading level0 col631\" >631</th>        <th class=\"col_heading level0 col632\" >632</th>        <th class=\"col_heading level0 col633\" >633</th>        <th class=\"col_heading level0 col634\" >634</th>        <th class=\"col_heading level0 col635\" >635</th>        <th class=\"col_heading level0 col636\" >636</th>        <th class=\"col_heading level0 col637\" >637</th>        <th class=\"col_heading level0 col638\" >638</th>        <th class=\"col_heading level0 col639\" >639</th>        <th class=\"col_heading level0 col640\" >640</th>        <th class=\"col_heading level0 col641\" >641</th>        <th class=\"col_heading level0 col642\" >642</th>        <th class=\"col_heading level0 col643\" >643</th>        <th class=\"col_heading level0 col644\" >644</th>        <th class=\"col_heading level0 col645\" >645</th>        <th class=\"col_heading level0 col646\" >646</th>        <th class=\"col_heading level0 col647\" >647</th>        <th class=\"col_heading level0 col648\" >648</th>        <th class=\"col_heading level0 col649\" >649</th>        <th class=\"col_heading level0 col650\" >650</th>        <th class=\"col_heading level0 col651\" >651</th>    </tr>    <tr>        <th class=\"index_name level0\" >Survived</th>        <th class=\"blank\" ></th>        <th class=\"blank\" ></th>        <th class=\"blank\" ></th>        <th class=\"blank\" ></th>        <th class=\"blank\" ></th>        <th class=\"blank\" ></th>        <th class=\"blank\" ></th>        <th class=\"blank\" ></th>        <th class=\"blank\" ></th>        <th class=\"blank\" ></th>        <th class=\"blank\" ></th>        <th class=\"blank\" ></th>        <th class=\"blank\" ></th>        <th class=\"blank\" ></th>        <th class=\"blank\" ></th>        <th class=\"blank\" ></th>        <th class=\"blank\" ></th>        <th class=\"blank\" ></th>        <th class=\"blank\" ></th>        <th class=\"blank\" ></th>        <th class=\"blank\" ></th>        <th class=\"blank\" ></th>        <th class=\"blank\" ></th>        <th class=\"blank\" ></th>        <th class=\"blank\" ></th>        <th class=\"blank\" ></th>        <th class=\"blank\" ></th>        <th class=\"blank\" ></th>        <th class=\"blank\" ></th>        <th class=\"blank\" ></th>        <th class=\"blank\" ></th>        <th class=\"blank\" ></th>        <th class=\"blank\" ></th>        <th class=\"blank\" ></th>        <th class=\"blank\" ></th>        <th class=\"blank\" ></th>        <th class=\"blank\" ></th>        <th class=\"blank\" ></th>        <th class=\"blank\" ></th>        <th class=\"blank\" ></th>        <th class=\"blank\" ></th>        <th class=\"blank\" ></th>        <th class=\"blank\" ></th>        <th class=\"blank\" ></th>        <th class=\"blank\" ></th>        <th class=\"blank\" ></th>        <th class=\"blank\" ></th>        <th class=\"blank\" ></th>        <th class=\"blank\" ></th>        <th class=\"blank\" ></th>        <th class=\"blank\" ></th>        <th class=\"blank\" ></th>        <th class=\"blank\" ></th>        <th class=\"blank\" ></th>        <th class=\"blank\" ></th>        <th class=\"blank\" ></th>        <th class=\"blank\" ></th>        <th class=\"blank\" ></th>        <th class=\"blank\" ></th>        <th class=\"blank\" ></th>        <th class=\"blank\" ></th>        <th class=\"blank\" ></th>        <th class=\"blank\" ></th>        <th class=\"blank\" ></th>        <th class=\"blank\" ></th>        <th class=\"blank\" ></th>        <th class=\"blank\" ></th>        <th class=\"blank\" ></th>        <th class=\"blank\" ></th>        <th class=\"blank\" ></th>        <th class=\"blank\" ></th>        <th class=\"blank\" ></th>        <th class=\"blank\" ></th>        <th class=\"blank\" ></th>        <th class=\"blank\" ></th>        <th class=\"blank\" ></th>        <th class=\"blank\" ></th>        <th class=\"blank\" ></th>        <th class=\"blank\" ></th>        <th class=\"blank\" ></th>        <th class=\"blank\" ></th>        <th class=\"blank\" ></th>        <th class=\"blank\" ></th>        <th class=\"blank\" ></th>        <th class=\"blank\" ></th>        <th class=\"blank\" ></th>        <th class=\"blank\" ></th>        <th class=\"blank\" ></th>        <th class=\"blank\" ></th>        <th class=\"blank\" ></th>        <th class=\"blank\" ></th>        <th class=\"blank\" ></th>        <th class=\"blank\" ></th>        <th class=\"blank\" ></th>        <th class=\"blank\" ></th>        <th class=\"blank\" ></th>        <th class=\"blank\" ></th>        <th class=\"blank\" ></th>        <th class=\"blank\" ></th>        <th class=\"blank\" ></th>        <th class=\"blank\" ></th>        <th class=\"blank\" ></th>        <th class=\"blank\" ></th>        <th class=\"blank\" ></th>        <th class=\"blank\" ></th>        <th class=\"blank\" ></th>        <th class=\"blank\" ></th>        <th class=\"blank\" ></th>        <th class=\"blank\" ></th>        <th class=\"blank\" ></th>        <th class=\"blank\" ></th>        <th class=\"blank\" ></th>        <th class=\"blank\" ></th>        <th class=\"blank\" ></th>        <th class=\"blank\" ></th>        <th class=\"blank\" ></th>        <th class=\"blank\" ></th>        <th class=\"blank\" ></th>        <th class=\"blank\" ></th>        <th class=\"blank\" ></th>        <th class=\"blank\" ></th>        <th class=\"blank\" ></th>        <th class=\"blank\" ></th>        <th class=\"blank\" ></th>        <th class=\"blank\" ></th>        <th class=\"blank\" ></th>        <th class=\"blank\" ></th>        <th class=\"blank\" ></th>        <th class=\"blank\" ></th>        <th class=\"blank\" ></th>        <th class=\"blank\" ></th>        <th class=\"blank\" ></th>        <th class=\"blank\" ></th>        <th class=\"blank\" ></th>        <th class=\"blank\" ></th>        <th class=\"blank\" ></th>        <th class=\"blank\" ></th>        <th class=\"blank\" ></th>        <th class=\"blank\" ></th>        <th class=\"blank\" ></th>        <th class=\"blank\" ></th>        <th class=\"blank\" ></th>        <th class=\"blank\" ></th>        <th class=\"blank\" ></th>        <th class=\"blank\" ></th>        <th class=\"blank\" ></th>        <th class=\"blank\" ></th>        <th class=\"blank\" ></th>        <th class=\"blank\" ></th>        <th class=\"blank\" ></th>        <th class=\"blank\" ></th>        <th class=\"blank\" ></th>        <th class=\"blank\" ></th>        <th class=\"blank\" ></th>        <th class=\"blank\" ></th>        <th class=\"blank\" ></th>        <th class=\"blank\" ></th>        <th class=\"blank\" ></th>        <th class=\"blank\" ></th>        <th class=\"blank\" ></th>        <th class=\"blank\" ></th>        <th class=\"blank\" ></th>        <th class=\"blank\" ></th>        <th class=\"blank\" ></th>        <th class=\"blank\" ></th>        <th class=\"blank\" ></th>        <th class=\"blank\" ></th>        <th class=\"blank\" ></th>        <th class=\"blank\" ></th>        <th class=\"blank\" ></th>        <th class=\"blank\" ></th>        <th class=\"blank\" ></th>        <th class=\"blank\" ></th>        <th class=\"blank\" ></th>        <th class=\"blank\" ></th>        <th class=\"blank\" ></th>        <th class=\"blank\" ></th>        <th class=\"blank\" ></th>        <th class=\"blank\" ></th>        <th class=\"blank\" ></th>        <th class=\"blank\" ></th>        <th class=\"blank\" ></th>        <th class=\"blank\" ></th>        <th class=\"blank\" ></th>        <th class=\"blank\" ></th>        <th class=\"blank\" ></th>        <th class=\"blank\" ></th>        <th class=\"blank\" ></th>        <th class=\"blank\" ></th>        <th class=\"blank\" ></th>        <th class=\"blank\" ></th>        <th class=\"blank\" ></th>        <th class=\"blank\" ></th>        <th class=\"blank\" ></th>        <th class=\"blank\" ></th>        <th class=\"blank\" ></th>        <th class=\"blank\" ></th>        <th class=\"blank\" ></th>        <th class=\"blank\" ></th>        <th class=\"blank\" ></th>        <th class=\"blank\" ></th>        <th class=\"blank\" ></th>        <th class=\"blank\" ></th>        <th class=\"blank\" ></th>        <th class=\"blank\" ></th>        <th class=\"blank\" ></th>        <th class=\"blank\" ></th>        <th class=\"blank\" ></th>        <th class=\"blank\" ></th>        <th class=\"blank\" ></th>        <th class=\"blank\" ></th>        <th class=\"blank\" ></th>        <th class=\"blank\" ></th>        <th class=\"blank\" ></th>        <th class=\"blank\" ></th>        <th class=\"blank\" ></th>        <th class=\"blank\" ></th>        <th class=\"blank\" ></th>        <th class=\"blank\" ></th>        <th class=\"blank\" ></th>        <th class=\"blank\" ></th>        <th class=\"blank\" ></th>        <th class=\"blank\" ></th>        <th class=\"blank\" ></th>        <th class=\"blank\" ></th>        <th class=\"blank\" ></th>        <th class=\"blank\" ></th>        <th class=\"blank\" ></th>        <th class=\"blank\" ></th>        <th class=\"blank\" ></th>        <th class=\"blank\" ></th>        <th class=\"blank\" ></th>        <th class=\"blank\" ></th>        <th class=\"blank\" ></th>        <th class=\"blank\" ></th>        <th class=\"blank\" ></th>        <th class=\"blank\" ></th>        <th class=\"blank\" ></th>        <th class=\"blank\" ></th>        <th class=\"blank\" ></th>        <th class=\"blank\" ></th>        <th class=\"blank\" ></th>        <th class=\"blank\" ></th>        <th class=\"blank\" ></th>        <th class=\"blank\" ></th>        <th class=\"blank\" ></th>        <th class=\"blank\" ></th>        <th class=\"blank\" ></th>        <th class=\"blank\" ></th>        <th class=\"blank\" ></th>        <th class=\"blank\" ></th>        <th class=\"blank\" ></th>        <th class=\"blank\" ></th>        <th class=\"blank\" ></th>        <th class=\"blank\" ></th>        <th class=\"blank\" ></th>        <th class=\"blank\" ></th>        <th class=\"blank\" ></th>        <th class=\"blank\" ></th>        <th class=\"blank\" ></th>        <th class=\"blank\" ></th>        <th class=\"blank\" ></th>        <th class=\"blank\" ></th>        <th class=\"blank\" ></th>        <th class=\"blank\" ></th>        <th class=\"blank\" ></th>        <th class=\"blank\" ></th>        <th class=\"blank\" ></th>        <th class=\"blank\" ></th>        <th class=\"blank\" ></th>        <th class=\"blank\" ></th>        <th class=\"blank\" ></th>        <th class=\"blank\" ></th>        <th class=\"blank\" ></th>        <th class=\"blank\" ></th>        <th class=\"blank\" ></th>        <th class=\"blank\" ></th>        <th class=\"blank\" ></th>        <th class=\"blank\" ></th>        <th class=\"blank\" ></th>        <th class=\"blank\" ></th>        <th class=\"blank\" ></th>        <th class=\"blank\" ></th>        <th class=\"blank\" ></th>        <th class=\"blank\" ></th>        <th class=\"blank\" ></th>        <th class=\"blank\" ></th>        <th class=\"blank\" ></th>        <th class=\"blank\" ></th>        <th class=\"blank\" ></th>        <th class=\"blank\" ></th>        <th class=\"blank\" ></th>        <th class=\"blank\" ></th>        <th class=\"blank\" ></th>        <th class=\"blank\" ></th>        <th class=\"blank\" ></th>        <th class=\"blank\" ></th>        <th class=\"blank\" ></th>        <th class=\"blank\" ></th>        <th class=\"blank\" ></th>        <th class=\"blank\" ></th>        <th class=\"blank\" ></th>        <th class=\"blank\" ></th>        <th class=\"blank\" ></th>        <th class=\"blank\" ></th>        <th class=\"blank\" ></th>        <th class=\"blank\" ></th>        <th class=\"blank\" ></th>        <th class=\"blank\" ></th>        <th class=\"blank\" ></th>        <th class=\"blank\" ></th>        <th class=\"blank\" ></th>        <th class=\"blank\" ></th>        <th class=\"blank\" ></th>        <th class=\"blank\" ></th>        <th class=\"blank\" ></th>        <th class=\"blank\" ></th>        <th class=\"blank\" ></th>        <th class=\"blank\" ></th>        <th class=\"blank\" ></th>        <th class=\"blank\" ></th>        <th class=\"blank\" ></th>        <th class=\"blank\" ></th>        <th class=\"blank\" ></th>        <th class=\"blank\" ></th>        <th class=\"blank\" ></th>        <th class=\"blank\" ></th>        <th class=\"blank\" ></th>        <th class=\"blank\" ></th>        <th class=\"blank\" ></th>        <th class=\"blank\" ></th>        <th class=\"blank\" ></th>        <th class=\"blank\" ></th>        <th class=\"blank\" ></th>        <th class=\"blank\" ></th>        <th class=\"blank\" ></th>        <th class=\"blank\" ></th>        <th class=\"blank\" ></th>        <th class=\"blank\" ></th>        <th class=\"blank\" ></th>        <th class=\"blank\" ></th>        <th class=\"blank\" ></th>        <th class=\"blank\" ></th>        <th class=\"blank\" ></th>        <th class=\"blank\" ></th>        <th class=\"blank\" ></th>        <th class=\"blank\" ></th>        <th class=\"blank\" ></th>        <th class=\"blank\" ></th>        <th class=\"blank\" ></th>        <th class=\"blank\" ></th>        <th class=\"blank\" ></th>        <th class=\"blank\" ></th>        <th class=\"blank\" ></th>        <th class=\"blank\" ></th>        <th class=\"blank\" ></th>        <th class=\"blank\" ></th>        <th class=\"blank\" ></th>        <th class=\"blank\" ></th>        <th class=\"blank\" ></th>        <th class=\"blank\" ></th>        <th class=\"blank\" ></th>        <th class=\"blank\" ></th>        <th class=\"blank\" ></th>        <th class=\"blank\" ></th>        <th class=\"blank\" ></th>        <th class=\"blank\" ></th>        <th class=\"blank\" ></th>        <th class=\"blank\" ></th>        <th class=\"blank\" ></th>        <th class=\"blank\" ></th>        <th class=\"blank\" ></th>        <th class=\"blank\" ></th>        <th class=\"blank\" ></th>        <th class=\"blank\" ></th>        <th class=\"blank\" ></th>        <th class=\"blank\" ></th>        <th class=\"blank\" ></th>        <th class=\"blank\" ></th>        <th class=\"blank\" ></th>        <th class=\"blank\" ></th>        <th class=\"blank\" ></th>        <th class=\"blank\" ></th>        <th class=\"blank\" ></th>        <th class=\"blank\" ></th>        <th class=\"blank\" ></th>        <th class=\"blank\" ></th>        <th class=\"blank\" ></th>        <th class=\"blank\" ></th>        <th class=\"blank\" ></th>        <th class=\"blank\" ></th>        <th class=\"blank\" ></th>        <th class=\"blank\" ></th>        <th class=\"blank\" ></th>        <th class=\"blank\" ></th>        <th class=\"blank\" ></th>        <th class=\"blank\" ></th>        <th class=\"blank\" ></th>        <th class=\"blank\" ></th>        <th class=\"blank\" ></th>        <th class=\"blank\" ></th>        <th class=\"blank\" ></th>        <th class=\"blank\" ></th>        <th class=\"blank\" ></th>        <th class=\"blank\" ></th>        <th class=\"blank\" ></th>        <th class=\"blank\" ></th>        <th class=\"blank\" ></th>        <th class=\"blank\" ></th>        <th class=\"blank\" ></th>        <th class=\"blank\" ></th>        <th class=\"blank\" ></th>        <th class=\"blank\" ></th>        <th class=\"blank\" ></th>        <th class=\"blank\" ></th>        <th class=\"blank\" ></th>        <th class=\"blank\" ></th>        <th class=\"blank\" ></th>        <th class=\"blank\" ></th>        <th class=\"blank\" ></th>        <th class=\"blank\" ></th>        <th class=\"blank\" ></th>        <th class=\"blank\" ></th>        <th class=\"blank\" ></th>        <th class=\"blank\" ></th>        <th class=\"blank\" ></th>        <th class=\"blank\" ></th>        <th class=\"blank\" ></th>        <th class=\"blank\" ></th>        <th class=\"blank\" ></th>        <th class=\"blank\" ></th>        <th class=\"blank\" ></th>        <th class=\"blank\" ></th>        <th class=\"blank\" ></th>        <th class=\"blank\" ></th>        <th class=\"blank\" ></th>        <th class=\"blank\" ></th>        <th class=\"blank\" ></th>        <th class=\"blank\" ></th>        <th class=\"blank\" ></th>        <th class=\"blank\" ></th>        <th class=\"blank\" ></th>        <th class=\"blank\" ></th>        <th class=\"blank\" ></th>        <th class=\"blank\" ></th>        <th class=\"blank\" ></th>        <th class=\"blank\" ></th>        <th class=\"blank\" ></th>        <th class=\"blank\" ></th>        <th class=\"blank\" ></th>        <th class=\"blank\" ></th>        <th class=\"blank\" ></th>        <th class=\"blank\" ></th>        <th class=\"blank\" ></th>        <th class=\"blank\" ></th>        <th class=\"blank\" ></th>        <th class=\"blank\" ></th>        <th class=\"blank\" ></th>        <th class=\"blank\" ></th>        <th class=\"blank\" ></th>        <th class=\"blank\" ></th>        <th class=\"blank\" ></th>        <th class=\"blank\" ></th>        <th class=\"blank\" ></th>        <th class=\"blank\" ></th>        <th class=\"blank\" ></th>        <th class=\"blank\" ></th>        <th class=\"blank\" ></th>        <th class=\"blank\" ></th>        <th class=\"blank\" ></th>        <th class=\"blank\" ></th>        <th class=\"blank\" ></th>        <th class=\"blank\" ></th>        <th class=\"blank\" ></th>        <th class=\"blank\" ></th>        <th class=\"blank\" ></th>        <th class=\"blank\" ></th>        <th class=\"blank\" ></th>        <th class=\"blank\" ></th>        <th class=\"blank\" ></th>        <th class=\"blank\" ></th>        <th class=\"blank\" ></th>        <th class=\"blank\" ></th>        <th class=\"blank\" ></th>        <th class=\"blank\" ></th>        <th class=\"blank\" ></th>        <th class=\"blank\" ></th>        <th class=\"blank\" ></th>        <th class=\"blank\" ></th>        <th class=\"blank\" ></th>        <th class=\"blank\" ></th>        <th class=\"blank\" ></th>        <th class=\"blank\" ></th>        <th class=\"blank\" ></th>        <th class=\"blank\" ></th>        <th class=\"blank\" ></th>        <th class=\"blank\" ></th>        <th class=\"blank\" ></th>        <th class=\"blank\" ></th>        <th class=\"blank\" ></th>        <th class=\"blank\" ></th>        <th class=\"blank\" ></th>        <th class=\"blank\" ></th>        <th class=\"blank\" ></th>        <th class=\"blank\" ></th>        <th class=\"blank\" ></th>        <th class=\"blank\" ></th>        <th class=\"blank\" ></th>        <th class=\"blank\" ></th>        <th class=\"blank\" ></th>        <th class=\"blank\" ></th>        <th class=\"blank\" ></th>        <th class=\"blank\" ></th>        <th class=\"blank\" ></th>        <th class=\"blank\" ></th>        <th class=\"blank\" ></th>        <th class=\"blank\" ></th>        <th class=\"blank\" ></th>        <th class=\"blank\" ></th>        <th class=\"blank\" ></th>        <th class=\"blank\" ></th>        <th class=\"blank\" ></th>        <th class=\"blank\" ></th>        <th class=\"blank\" ></th>        <th class=\"blank\" ></th>        <th class=\"blank\" ></th>        <th class=\"blank\" ></th>        <th class=\"blank\" ></th>        <th class=\"blank\" ></th>        <th class=\"blank\" ></th>        <th class=\"blank\" ></th>        <th class=\"blank\" ></th>        <th class=\"blank\" ></th>        <th class=\"blank\" ></th>        <th class=\"blank\" ></th>        <th class=\"blank\" ></th>        <th class=\"blank\" ></th>        <th class=\"blank\" ></th>        <th class=\"blank\" ></th>        <th class=\"blank\" ></th>        <th class=\"blank\" ></th>        <th class=\"blank\" ></th>        <th class=\"blank\" ></th>        <th class=\"blank\" ></th>        <th class=\"blank\" ></th>        <th class=\"blank\" ></th>        <th class=\"blank\" ></th>        <th class=\"blank\" ></th>        <th class=\"blank\" ></th>        <th class=\"blank\" ></th>        <th class=\"blank\" ></th>        <th class=\"blank\" ></th>        <th class=\"blank\" ></th>        <th class=\"blank\" ></th>        <th class=\"blank\" ></th>        <th class=\"blank\" ></th>        <th class=\"blank\" ></th>        <th class=\"blank\" ></th>        <th class=\"blank\" ></th>        <th class=\"blank\" ></th>        <th class=\"blank\" ></th>        <th class=\"blank\" ></th>        <th class=\"blank\" ></th>        <th class=\"blank\" ></th>        <th class=\"blank\" ></th>        <th class=\"blank\" ></th>        <th class=\"blank\" ></th>        <th class=\"blank\" ></th>        <th class=\"blank\" ></th>        <th class=\"blank\" ></th>        <th class=\"blank\" ></th>        <th class=\"blank\" ></th>        <th class=\"blank\" ></th>        <th class=\"blank\" ></th>        <th class=\"blank\" ></th>        <th class=\"blank\" ></th>        <th class=\"blank\" ></th>        <th class=\"blank\" ></th>        <th class=\"blank\" ></th>        <th class=\"blank\" ></th>        <th class=\"blank\" ></th>        <th class=\"blank\" ></th>        <th class=\"blank\" ></th>        <th class=\"blank\" ></th>        <th class=\"blank\" ></th>        <th class=\"blank\" ></th>        <th class=\"blank\" ></th>        <th class=\"blank\" ></th>        <th class=\"blank\" ></th>        <th class=\"blank\" ></th>        <th class=\"blank\" ></th>        <th class=\"blank\" ></th>        <th class=\"blank\" ></th>        <th class=\"blank\" ></th>        <th class=\"blank\" ></th>        <th class=\"blank\" ></th>        <th class=\"blank\" ></th>        <th class=\"blank\" ></th>        <th class=\"blank\" ></th>        <th class=\"blank\" ></th>        <th class=\"blank\" ></th>        <th class=\"blank\" ></th>        <th class=\"blank\" ></th>        <th class=\"blank\" ></th>        <th class=\"blank\" ></th>        <th class=\"blank\" ></th>        <th class=\"blank\" ></th>        <th class=\"blank\" ></th>        <th class=\"blank\" ></th>        <th class=\"blank\" ></th>        <th class=\"blank\" ></th>        <th class=\"blank\" ></th>        <th class=\"blank\" ></th>        <th class=\"blank\" ></th>        <th class=\"blank\" ></th>        <th class=\"blank\" ></th>        <th class=\"blank\" ></th>        <th class=\"blank\" ></th>        <th class=\"blank\" ></th>        <th class=\"blank\" ></th>        <th class=\"blank\" ></th>        <th class=\"blank\" ></th>        <th class=\"blank\" ></th>        <th class=\"blank\" ></th>        <th class=\"blank\" ></th>        <th class=\"blank\" ></th>        <th class=\"blank\" ></th>        <th class=\"blank\" ></th>        <th class=\"blank\" ></th>        <th class=\"blank\" ></th>        <th class=\"blank\" ></th>        <th class=\"blank\" ></th>        <th class=\"blank\" ></th>        <th class=\"blank\" ></th>        <th class=\"blank\" ></th>        <th class=\"blank\" ></th>        <th class=\"blank\" ></th>        <th class=\"blank\" ></th>        <th class=\"blank\" ></th>        <th class=\"blank\" ></th>        <th class=\"blank\" ></th>        <th class=\"blank\" ></th>        <th class=\"blank\" ></th>        <th class=\"blank\" ></th>        <th class=\"blank\" ></th>        <th class=\"blank\" ></th>        <th class=\"blank\" ></th>        <th class=\"blank\" ></th>        <th class=\"blank\" ></th>        <th class=\"blank\" ></th>        <th class=\"blank\" ></th>        <th class=\"blank\" ></th>    </tr></thead><tbody>\n",
              "                <tr>\n",
              "                        <th id=\"T_02fbb8c6_17f6_11eb_ad51_0242ac1c0002level0_row0\" class=\"row_heading level0 row0\" >0.0</th>\n",
              "                        <td id=\"T_02fbb8c6_17f6_11eb_ad51_0242ac1c0002row0_col0\" class=\"data row0 col0\" >2</td>\n",
              "                        <td id=\"T_02fbb8c6_17f6_11eb_ad51_0242ac1c0002row0_col1\" class=\"data row0 col1\" >0</td>\n",
              "                        <td id=\"T_02fbb8c6_17f6_11eb_ad51_0242ac1c0002row0_col2\" class=\"data row0 col2\" >0</td>\n",
              "                        <td id=\"T_02fbb8c6_17f6_11eb_ad51_0242ac1c0002row0_col3\" class=\"data row0 col3\" >1</td>\n",
              "                        <td id=\"T_02fbb8c6_17f6_11eb_ad51_0242ac1c0002row0_col4\" class=\"data row0 col4\" >1</td>\n",
              "                        <td id=\"T_02fbb8c6_17f6_11eb_ad51_0242ac1c0002row0_col5\" class=\"data row0 col5\" >2</td>\n",
              "                        <td id=\"T_02fbb8c6_17f6_11eb_ad51_0242ac1c0002row0_col6\" class=\"data row0 col6\" >1</td>\n",
              "                        <td id=\"T_02fbb8c6_17f6_11eb_ad51_0242ac1c0002row0_col7\" class=\"data row0 col7\" >4</td>\n",
              "                        <td id=\"T_02fbb8c6_17f6_11eb_ad51_0242ac1c0002row0_col8\" class=\"data row0 col8\" >3</td>\n",
              "                        <td id=\"T_02fbb8c6_17f6_11eb_ad51_0242ac1c0002row0_col9\" class=\"data row0 col9\" >1</td>\n",
              "                        <td id=\"T_02fbb8c6_17f6_11eb_ad51_0242ac1c0002row0_col10\" class=\"data row0 col10\" >0</td>\n",
              "                        <td id=\"T_02fbb8c6_17f6_11eb_ad51_0242ac1c0002row0_col11\" class=\"data row0 col11\" >0</td>\n",
              "                        <td id=\"T_02fbb8c6_17f6_11eb_ad51_0242ac1c0002row0_col12\" class=\"data row0 col12\" >1</td>\n",
              "                        <td id=\"T_02fbb8c6_17f6_11eb_ad51_0242ac1c0002row0_col13\" class=\"data row0 col13\" >7</td>\n",
              "                        <td id=\"T_02fbb8c6_17f6_11eb_ad51_0242ac1c0002row0_col14\" class=\"data row0 col14\" >1</td>\n",
              "                        <td id=\"T_02fbb8c6_17f6_11eb_ad51_0242ac1c0002row0_col15\" class=\"data row0 col15\" >0</td>\n",
              "                        <td id=\"T_02fbb8c6_17f6_11eb_ad51_0242ac1c0002row0_col16\" class=\"data row0 col16\" >5</td>\n",
              "                        <td id=\"T_02fbb8c6_17f6_11eb_ad51_0242ac1c0002row0_col17\" class=\"data row0 col17\" >4</td>\n",
              "                        <td id=\"T_02fbb8c6_17f6_11eb_ad51_0242ac1c0002row0_col18\" class=\"data row0 col18\" >4</td>\n",
              "                        <td id=\"T_02fbb8c6_17f6_11eb_ad51_0242ac1c0002row0_col19\" class=\"data row0 col19\" >0</td>\n",
              "                        <td id=\"T_02fbb8c6_17f6_11eb_ad51_0242ac1c0002row0_col20\" class=\"data row0 col20\" >1</td>\n",
              "                        <td id=\"T_02fbb8c6_17f6_11eb_ad51_0242ac1c0002row0_col21\" class=\"data row0 col21\" >0</td>\n",
              "                        <td id=\"T_02fbb8c6_17f6_11eb_ad51_0242ac1c0002row0_col22\" class=\"data row0 col22\" >0</td>\n",
              "                        <td id=\"T_02fbb8c6_17f6_11eb_ad51_0242ac1c0002row0_col23\" class=\"data row0 col23\" >0</td>\n",
              "                        <td id=\"T_02fbb8c6_17f6_11eb_ad51_0242ac1c0002row0_col24\" class=\"data row0 col24\" >1</td>\n",
              "                        <td id=\"T_02fbb8c6_17f6_11eb_ad51_0242ac1c0002row0_col25\" class=\"data row0 col25\" >1</td>\n",
              "                        <td id=\"T_02fbb8c6_17f6_11eb_ad51_0242ac1c0002row0_col26\" class=\"data row0 col26\" >2</td>\n",
              "                        <td id=\"T_02fbb8c6_17f6_11eb_ad51_0242ac1c0002row0_col27\" class=\"data row0 col27\" >5</td>\n",
              "                        <td id=\"T_02fbb8c6_17f6_11eb_ad51_0242ac1c0002row0_col28\" class=\"data row0 col28\" >1</td>\n",
              "                        <td id=\"T_02fbb8c6_17f6_11eb_ad51_0242ac1c0002row0_col29\" class=\"data row0 col29\" >1</td>\n",
              "                        <td id=\"T_02fbb8c6_17f6_11eb_ad51_0242ac1c0002row0_col30\" class=\"data row0 col30\" >0</td>\n",
              "                        <td id=\"T_02fbb8c6_17f6_11eb_ad51_0242ac1c0002row0_col31\" class=\"data row0 col31\" >0</td>\n",
              "                        <td id=\"T_02fbb8c6_17f6_11eb_ad51_0242ac1c0002row0_col32\" class=\"data row0 col32\" >1</td>\n",
              "                        <td id=\"T_02fbb8c6_17f6_11eb_ad51_0242ac1c0002row0_col33\" class=\"data row0 col33\" >2</td>\n",
              "                        <td id=\"T_02fbb8c6_17f6_11eb_ad51_0242ac1c0002row0_col34\" class=\"data row0 col34\" >1</td>\n",
              "                        <td id=\"T_02fbb8c6_17f6_11eb_ad51_0242ac1c0002row0_col35\" class=\"data row0 col35\" >0</td>\n",
              "                        <td id=\"T_02fbb8c6_17f6_11eb_ad51_0242ac1c0002row0_col36\" class=\"data row0 col36\" >1</td>\n",
              "                        <td id=\"T_02fbb8c6_17f6_11eb_ad51_0242ac1c0002row0_col37\" class=\"data row0 col37\" >0</td>\n",
              "                        <td id=\"T_02fbb8c6_17f6_11eb_ad51_0242ac1c0002row0_col38\" class=\"data row0 col38\" >1</td>\n",
              "                        <td id=\"T_02fbb8c6_17f6_11eb_ad51_0242ac1c0002row0_col39\" class=\"data row0 col39\" >2</td>\n",
              "                        <td id=\"T_02fbb8c6_17f6_11eb_ad51_0242ac1c0002row0_col40\" class=\"data row0 col40\" >1</td>\n",
              "                        <td id=\"T_02fbb8c6_17f6_11eb_ad51_0242ac1c0002row0_col41\" class=\"data row0 col41\" >1</td>\n",
              "                        <td id=\"T_02fbb8c6_17f6_11eb_ad51_0242ac1c0002row0_col42\" class=\"data row0 col42\" >0</td>\n",
              "                        <td id=\"T_02fbb8c6_17f6_11eb_ad51_0242ac1c0002row0_col43\" class=\"data row0 col43\" >1</td>\n",
              "                        <td id=\"T_02fbb8c6_17f6_11eb_ad51_0242ac1c0002row0_col44\" class=\"data row0 col44\" >1</td>\n",
              "                        <td id=\"T_02fbb8c6_17f6_11eb_ad51_0242ac1c0002row0_col45\" class=\"data row0 col45\" >1</td>\n",
              "                        <td id=\"T_02fbb8c6_17f6_11eb_ad51_0242ac1c0002row0_col46\" class=\"data row0 col46\" >2</td>\n",
              "                        <td id=\"T_02fbb8c6_17f6_11eb_ad51_0242ac1c0002row0_col47\" class=\"data row0 col47\" >6</td>\n",
              "                        <td id=\"T_02fbb8c6_17f6_11eb_ad51_0242ac1c0002row0_col48\" class=\"data row0 col48\" >1</td>\n",
              "                        <td id=\"T_02fbb8c6_17f6_11eb_ad51_0242ac1c0002row0_col49\" class=\"data row0 col49\" >1</td>\n",
              "                        <td id=\"T_02fbb8c6_17f6_11eb_ad51_0242ac1c0002row0_col50\" class=\"data row0 col50\" >0</td>\n",
              "                        <td id=\"T_02fbb8c6_17f6_11eb_ad51_0242ac1c0002row0_col51\" class=\"data row0 col51\" >1</td>\n",
              "                        <td id=\"T_02fbb8c6_17f6_11eb_ad51_0242ac1c0002row0_col52\" class=\"data row0 col52\" >0</td>\n",
              "                        <td id=\"T_02fbb8c6_17f6_11eb_ad51_0242ac1c0002row0_col53\" class=\"data row0 col53\" >0</td>\n",
              "                        <td id=\"T_02fbb8c6_17f6_11eb_ad51_0242ac1c0002row0_col54\" class=\"data row0 col54\" >1</td>\n",
              "                        <td id=\"T_02fbb8c6_17f6_11eb_ad51_0242ac1c0002row0_col55\" class=\"data row0 col55\" >1</td>\n",
              "                        <td id=\"T_02fbb8c6_17f6_11eb_ad51_0242ac1c0002row0_col56\" class=\"data row0 col56\" >6</td>\n",
              "                        <td id=\"T_02fbb8c6_17f6_11eb_ad51_0242ac1c0002row0_col57\" class=\"data row0 col57\" >1</td>\n",
              "                        <td id=\"T_02fbb8c6_17f6_11eb_ad51_0242ac1c0002row0_col58\" class=\"data row0 col58\" >0</td>\n",
              "                        <td id=\"T_02fbb8c6_17f6_11eb_ad51_0242ac1c0002row0_col59\" class=\"data row0 col59\" >2</td>\n",
              "                        <td id=\"T_02fbb8c6_17f6_11eb_ad51_0242ac1c0002row0_col60\" class=\"data row0 col60\" >6</td>\n",
              "                        <td id=\"T_02fbb8c6_17f6_11eb_ad51_0242ac1c0002row0_col61\" class=\"data row0 col61\" >1</td>\n",
              "                        <td id=\"T_02fbb8c6_17f6_11eb_ad51_0242ac1c0002row0_col62\" class=\"data row0 col62\" >0</td>\n",
              "                        <td id=\"T_02fbb8c6_17f6_11eb_ad51_0242ac1c0002row0_col63\" class=\"data row0 col63\" >0</td>\n",
              "                        <td id=\"T_02fbb8c6_17f6_11eb_ad51_0242ac1c0002row0_col64\" class=\"data row0 col64\" >1</td>\n",
              "                        <td id=\"T_02fbb8c6_17f6_11eb_ad51_0242ac1c0002row0_col65\" class=\"data row0 col65\" >1</td>\n",
              "                        <td id=\"T_02fbb8c6_17f6_11eb_ad51_0242ac1c0002row0_col66\" class=\"data row0 col66\" >1</td>\n",
              "                        <td id=\"T_02fbb8c6_17f6_11eb_ad51_0242ac1c0002row0_col67\" class=\"data row0 col67\" >1</td>\n",
              "                        <td id=\"T_02fbb8c6_17f6_11eb_ad51_0242ac1c0002row0_col68\" class=\"data row0 col68\" >1</td>\n",
              "                        <td id=\"T_02fbb8c6_17f6_11eb_ad51_0242ac1c0002row0_col69\" class=\"data row0 col69\" >0</td>\n",
              "                        <td id=\"T_02fbb8c6_17f6_11eb_ad51_0242ac1c0002row0_col70\" class=\"data row0 col70\" >1</td>\n",
              "                        <td id=\"T_02fbb8c6_17f6_11eb_ad51_0242ac1c0002row0_col71\" class=\"data row0 col71\" >1</td>\n",
              "                        <td id=\"T_02fbb8c6_17f6_11eb_ad51_0242ac1c0002row0_col72\" class=\"data row0 col72\" >1</td>\n",
              "                        <td id=\"T_02fbb8c6_17f6_11eb_ad51_0242ac1c0002row0_col73\" class=\"data row0 col73\" >0</td>\n",
              "                        <td id=\"T_02fbb8c6_17f6_11eb_ad51_0242ac1c0002row0_col74\" class=\"data row0 col74\" >0</td>\n",
              "                        <td id=\"T_02fbb8c6_17f6_11eb_ad51_0242ac1c0002row0_col75\" class=\"data row0 col75\" >1</td>\n",
              "                        <td id=\"T_02fbb8c6_17f6_11eb_ad51_0242ac1c0002row0_col76\" class=\"data row0 col76\" >0</td>\n",
              "                        <td id=\"T_02fbb8c6_17f6_11eb_ad51_0242ac1c0002row0_col77\" class=\"data row0 col77\" >0</td>\n",
              "                        <td id=\"T_02fbb8c6_17f6_11eb_ad51_0242ac1c0002row0_col78\" class=\"data row0 col78\" >1</td>\n",
              "                        <td id=\"T_02fbb8c6_17f6_11eb_ad51_0242ac1c0002row0_col79\" class=\"data row0 col79\" >0</td>\n",
              "                        <td id=\"T_02fbb8c6_17f6_11eb_ad51_0242ac1c0002row0_col80\" class=\"data row0 col80\" >1</td>\n",
              "                        <td id=\"T_02fbb8c6_17f6_11eb_ad51_0242ac1c0002row0_col81\" class=\"data row0 col81\" >4</td>\n",
              "                        <td id=\"T_02fbb8c6_17f6_11eb_ad51_0242ac1c0002row0_col82\" class=\"data row0 col82\" >1</td>\n",
              "                        <td id=\"T_02fbb8c6_17f6_11eb_ad51_0242ac1c0002row0_col83\" class=\"data row0 col83\" >1</td>\n",
              "                        <td id=\"T_02fbb8c6_17f6_11eb_ad51_0242ac1c0002row0_col84\" class=\"data row0 col84\" >1</td>\n",
              "                        <td id=\"T_02fbb8c6_17f6_11eb_ad51_0242ac1c0002row0_col85\" class=\"data row0 col85\" >1</td>\n",
              "                        <td id=\"T_02fbb8c6_17f6_11eb_ad51_0242ac1c0002row0_col86\" class=\"data row0 col86\" >1</td>\n",
              "                        <td id=\"T_02fbb8c6_17f6_11eb_ad51_0242ac1c0002row0_col87\" class=\"data row0 col87\" >1</td>\n",
              "                        <td id=\"T_02fbb8c6_17f6_11eb_ad51_0242ac1c0002row0_col88\" class=\"data row0 col88\" >1</td>\n",
              "                        <td id=\"T_02fbb8c6_17f6_11eb_ad51_0242ac1c0002row0_col89\" class=\"data row0 col89\" >1</td>\n",
              "                        <td id=\"T_02fbb8c6_17f6_11eb_ad51_0242ac1c0002row0_col90\" class=\"data row0 col90\" >1</td>\n",
              "                        <td id=\"T_02fbb8c6_17f6_11eb_ad51_0242ac1c0002row0_col91\" class=\"data row0 col91\" >0</td>\n",
              "                        <td id=\"T_02fbb8c6_17f6_11eb_ad51_0242ac1c0002row0_col92\" class=\"data row0 col92\" >0</td>\n",
              "                        <td id=\"T_02fbb8c6_17f6_11eb_ad51_0242ac1c0002row0_col93\" class=\"data row0 col93\" >1</td>\n",
              "                        <td id=\"T_02fbb8c6_17f6_11eb_ad51_0242ac1c0002row0_col94\" class=\"data row0 col94\" >1</td>\n",
              "                        <td id=\"T_02fbb8c6_17f6_11eb_ad51_0242ac1c0002row0_col95\" class=\"data row0 col95\" >2</td>\n",
              "                        <td id=\"T_02fbb8c6_17f6_11eb_ad51_0242ac1c0002row0_col96\" class=\"data row0 col96\" >2</td>\n",
              "                        <td id=\"T_02fbb8c6_17f6_11eb_ad51_0242ac1c0002row0_col97\" class=\"data row0 col97\" >3</td>\n",
              "                        <td id=\"T_02fbb8c6_17f6_11eb_ad51_0242ac1c0002row0_col98\" class=\"data row0 col98\" >4</td>\n",
              "                        <td id=\"T_02fbb8c6_17f6_11eb_ad51_0242ac1c0002row0_col99\" class=\"data row0 col99\" >1</td>\n",
              "                        <td id=\"T_02fbb8c6_17f6_11eb_ad51_0242ac1c0002row0_col100\" class=\"data row0 col100\" >0</td>\n",
              "                        <td id=\"T_02fbb8c6_17f6_11eb_ad51_0242ac1c0002row0_col101\" class=\"data row0 col101\" >0</td>\n",
              "                        <td id=\"T_02fbb8c6_17f6_11eb_ad51_0242ac1c0002row0_col102\" class=\"data row0 col102\" >1</td>\n",
              "                        <td id=\"T_02fbb8c6_17f6_11eb_ad51_0242ac1c0002row0_col103\" class=\"data row0 col103\" >1</td>\n",
              "                        <td id=\"T_02fbb8c6_17f6_11eb_ad51_0242ac1c0002row0_col104\" class=\"data row0 col104\" >2</td>\n",
              "                        <td id=\"T_02fbb8c6_17f6_11eb_ad51_0242ac1c0002row0_col105\" class=\"data row0 col105\" >1</td>\n",
              "                        <td id=\"T_02fbb8c6_17f6_11eb_ad51_0242ac1c0002row0_col106\" class=\"data row0 col106\" >2</td>\n",
              "                        <td id=\"T_02fbb8c6_17f6_11eb_ad51_0242ac1c0002row0_col107\" class=\"data row0 col107\" >2</td>\n",
              "                        <td id=\"T_02fbb8c6_17f6_11eb_ad51_0242ac1c0002row0_col108\" class=\"data row0 col108\" >1</td>\n",
              "                        <td id=\"T_02fbb8c6_17f6_11eb_ad51_0242ac1c0002row0_col109\" class=\"data row0 col109\" >1</td>\n",
              "                        <td id=\"T_02fbb8c6_17f6_11eb_ad51_0242ac1c0002row0_col110\" class=\"data row0 col110\" >1</td>\n",
              "                        <td id=\"T_02fbb8c6_17f6_11eb_ad51_0242ac1c0002row0_col111\" class=\"data row0 col111\" >3</td>\n",
              "                        <td id=\"T_02fbb8c6_17f6_11eb_ad51_0242ac1c0002row0_col112\" class=\"data row0 col112\" >1</td>\n",
              "                        <td id=\"T_02fbb8c6_17f6_11eb_ad51_0242ac1c0002row0_col113\" class=\"data row0 col113\" >1</td>\n",
              "                        <td id=\"T_02fbb8c6_17f6_11eb_ad51_0242ac1c0002row0_col114\" class=\"data row0 col114\" >1</td>\n",
              "                        <td id=\"T_02fbb8c6_17f6_11eb_ad51_0242ac1c0002row0_col115\" class=\"data row0 col115\" >0</td>\n",
              "                        <td id=\"T_02fbb8c6_17f6_11eb_ad51_0242ac1c0002row0_col116\" class=\"data row0 col116\" >0</td>\n",
              "                        <td id=\"T_02fbb8c6_17f6_11eb_ad51_0242ac1c0002row0_col117\" class=\"data row0 col117\" >1</td>\n",
              "                        <td id=\"T_02fbb8c6_17f6_11eb_ad51_0242ac1c0002row0_col118\" class=\"data row0 col118\" >1</td>\n",
              "                        <td id=\"T_02fbb8c6_17f6_11eb_ad51_0242ac1c0002row0_col119\" class=\"data row0 col119\" >1</td>\n",
              "                        <td id=\"T_02fbb8c6_17f6_11eb_ad51_0242ac1c0002row0_col120\" class=\"data row0 col120\" >1</td>\n",
              "                        <td id=\"T_02fbb8c6_17f6_11eb_ad51_0242ac1c0002row0_col121\" class=\"data row0 col121\" >0</td>\n",
              "                        <td id=\"T_02fbb8c6_17f6_11eb_ad51_0242ac1c0002row0_col122\" class=\"data row0 col122\" >1</td>\n",
              "                        <td id=\"T_02fbb8c6_17f6_11eb_ad51_0242ac1c0002row0_col123\" class=\"data row0 col123\" >1</td>\n",
              "                        <td id=\"T_02fbb8c6_17f6_11eb_ad51_0242ac1c0002row0_col124\" class=\"data row0 col124\" >0</td>\n",
              "                        <td id=\"T_02fbb8c6_17f6_11eb_ad51_0242ac1c0002row0_col125\" class=\"data row0 col125\" >1</td>\n",
              "                        <td id=\"T_02fbb8c6_17f6_11eb_ad51_0242ac1c0002row0_col126\" class=\"data row0 col126\" >1</td>\n",
              "                        <td id=\"T_02fbb8c6_17f6_11eb_ad51_0242ac1c0002row0_col127\" class=\"data row0 col127\" >3</td>\n",
              "                        <td id=\"T_02fbb8c6_17f6_11eb_ad51_0242ac1c0002row0_col128\" class=\"data row0 col128\" >0</td>\n",
              "                        <td id=\"T_02fbb8c6_17f6_11eb_ad51_0242ac1c0002row0_col129\" class=\"data row0 col129\" >1</td>\n",
              "                        <td id=\"T_02fbb8c6_17f6_11eb_ad51_0242ac1c0002row0_col130\" class=\"data row0 col130\" >1</td>\n",
              "                        <td id=\"T_02fbb8c6_17f6_11eb_ad51_0242ac1c0002row0_col131\" class=\"data row0 col131\" >1</td>\n",
              "                        <td id=\"T_02fbb8c6_17f6_11eb_ad51_0242ac1c0002row0_col132\" class=\"data row0 col132\" >1</td>\n",
              "                        <td id=\"T_02fbb8c6_17f6_11eb_ad51_0242ac1c0002row0_col133\" class=\"data row0 col133\" >1</td>\n",
              "                        <td id=\"T_02fbb8c6_17f6_11eb_ad51_0242ac1c0002row0_col134\" class=\"data row0 col134\" >1</td>\n",
              "                        <td id=\"T_02fbb8c6_17f6_11eb_ad51_0242ac1c0002row0_col135\" class=\"data row0 col135\" >1</td>\n",
              "                        <td id=\"T_02fbb8c6_17f6_11eb_ad51_0242ac1c0002row0_col136\" class=\"data row0 col136\" >1</td>\n",
              "                        <td id=\"T_02fbb8c6_17f6_11eb_ad51_0242ac1c0002row0_col137\" class=\"data row0 col137\" >1</td>\n",
              "                        <td id=\"T_02fbb8c6_17f6_11eb_ad51_0242ac1c0002row0_col138\" class=\"data row0 col138\" >2</td>\n",
              "                        <td id=\"T_02fbb8c6_17f6_11eb_ad51_0242ac1c0002row0_col139\" class=\"data row0 col139\" >3</td>\n",
              "                        <td id=\"T_02fbb8c6_17f6_11eb_ad51_0242ac1c0002row0_col140\" class=\"data row0 col140\" >0</td>\n",
              "                        <td id=\"T_02fbb8c6_17f6_11eb_ad51_0242ac1c0002row0_col141\" class=\"data row0 col141\" >1</td>\n",
              "                        <td id=\"T_02fbb8c6_17f6_11eb_ad51_0242ac1c0002row0_col142\" class=\"data row0 col142\" >1</td>\n",
              "                        <td id=\"T_02fbb8c6_17f6_11eb_ad51_0242ac1c0002row0_col143\" class=\"data row0 col143\" >7</td>\n",
              "                        <td id=\"T_02fbb8c6_17f6_11eb_ad51_0242ac1c0002row0_col144\" class=\"data row0 col144\" >1</td>\n",
              "                        <td id=\"T_02fbb8c6_17f6_11eb_ad51_0242ac1c0002row0_col145\" class=\"data row0 col145\" >0</td>\n",
              "                        <td id=\"T_02fbb8c6_17f6_11eb_ad51_0242ac1c0002row0_col146\" class=\"data row0 col146\" >1</td>\n",
              "                        <td id=\"T_02fbb8c6_17f6_11eb_ad51_0242ac1c0002row0_col147\" class=\"data row0 col147\" >2</td>\n",
              "                        <td id=\"T_02fbb8c6_17f6_11eb_ad51_0242ac1c0002row0_col148\" class=\"data row0 col148\" >1</td>\n",
              "                        <td id=\"T_02fbb8c6_17f6_11eb_ad51_0242ac1c0002row0_col149\" class=\"data row0 col149\" >0</td>\n",
              "                        <td id=\"T_02fbb8c6_17f6_11eb_ad51_0242ac1c0002row0_col150\" class=\"data row0 col150\" >1</td>\n",
              "                        <td id=\"T_02fbb8c6_17f6_11eb_ad51_0242ac1c0002row0_col151\" class=\"data row0 col151\" >1</td>\n",
              "                        <td id=\"T_02fbb8c6_17f6_11eb_ad51_0242ac1c0002row0_col152\" class=\"data row0 col152\" >4</td>\n",
              "                        <td id=\"T_02fbb8c6_17f6_11eb_ad51_0242ac1c0002row0_col153\" class=\"data row0 col153\" >1</td>\n",
              "                        <td id=\"T_02fbb8c6_17f6_11eb_ad51_0242ac1c0002row0_col154\" class=\"data row0 col154\" >3</td>\n",
              "                        <td id=\"T_02fbb8c6_17f6_11eb_ad51_0242ac1c0002row0_col155\" class=\"data row0 col155\" >1</td>\n",
              "                        <td id=\"T_02fbb8c6_17f6_11eb_ad51_0242ac1c0002row0_col156\" class=\"data row0 col156\" >4</td>\n",
              "                        <td id=\"T_02fbb8c6_17f6_11eb_ad51_0242ac1c0002row0_col157\" class=\"data row0 col157\" >1</td>\n",
              "                        <td id=\"T_02fbb8c6_17f6_11eb_ad51_0242ac1c0002row0_col158\" class=\"data row0 col158\" >1</td>\n",
              "                        <td id=\"T_02fbb8c6_17f6_11eb_ad51_0242ac1c0002row0_col159\" class=\"data row0 col159\" >1</td>\n",
              "                        <td id=\"T_02fbb8c6_17f6_11eb_ad51_0242ac1c0002row0_col160\" class=\"data row0 col160\" >1</td>\n",
              "                        <td id=\"T_02fbb8c6_17f6_11eb_ad51_0242ac1c0002row0_col161\" class=\"data row0 col161\" >0</td>\n",
              "                        <td id=\"T_02fbb8c6_17f6_11eb_ad51_0242ac1c0002row0_col162\" class=\"data row0 col162\" >1</td>\n",
              "                        <td id=\"T_02fbb8c6_17f6_11eb_ad51_0242ac1c0002row0_col163\" class=\"data row0 col163\" >0</td>\n",
              "                        <td id=\"T_02fbb8c6_17f6_11eb_ad51_0242ac1c0002row0_col164\" class=\"data row0 col164\" >3</td>\n",
              "                        <td id=\"T_02fbb8c6_17f6_11eb_ad51_0242ac1c0002row0_col165\" class=\"data row0 col165\" >1</td>\n",
              "                        <td id=\"T_02fbb8c6_17f6_11eb_ad51_0242ac1c0002row0_col166\" class=\"data row0 col166\" >0</td>\n",
              "                        <td id=\"T_02fbb8c6_17f6_11eb_ad51_0242ac1c0002row0_col167\" class=\"data row0 col167\" >1</td>\n",
              "                        <td id=\"T_02fbb8c6_17f6_11eb_ad51_0242ac1c0002row0_col168\" class=\"data row0 col168\" >0</td>\n",
              "                        <td id=\"T_02fbb8c6_17f6_11eb_ad51_0242ac1c0002row0_col169\" class=\"data row0 col169\" >1</td>\n",
              "                        <td id=\"T_02fbb8c6_17f6_11eb_ad51_0242ac1c0002row0_col170\" class=\"data row0 col170\" >0</td>\n",
              "                        <td id=\"T_02fbb8c6_17f6_11eb_ad51_0242ac1c0002row0_col171\" class=\"data row0 col171\" >1</td>\n",
              "                        <td id=\"T_02fbb8c6_17f6_11eb_ad51_0242ac1c0002row0_col172\" class=\"data row0 col172\" >0</td>\n",
              "                        <td id=\"T_02fbb8c6_17f6_11eb_ad51_0242ac1c0002row0_col173\" class=\"data row0 col173\" >1</td>\n",
              "                        <td id=\"T_02fbb8c6_17f6_11eb_ad51_0242ac1c0002row0_col174\" class=\"data row0 col174\" >2</td>\n",
              "                        <td id=\"T_02fbb8c6_17f6_11eb_ad51_0242ac1c0002row0_col175\" class=\"data row0 col175\" >1</td>\n",
              "                        <td id=\"T_02fbb8c6_17f6_11eb_ad51_0242ac1c0002row0_col176\" class=\"data row0 col176\" >1</td>\n",
              "                        <td id=\"T_02fbb8c6_17f6_11eb_ad51_0242ac1c0002row0_col177\" class=\"data row0 col177\" >0</td>\n",
              "                        <td id=\"T_02fbb8c6_17f6_11eb_ad51_0242ac1c0002row0_col178\" class=\"data row0 col178\" >2</td>\n",
              "                        <td id=\"T_02fbb8c6_17f6_11eb_ad51_0242ac1c0002row0_col179\" class=\"data row0 col179\" >0</td>\n",
              "                        <td id=\"T_02fbb8c6_17f6_11eb_ad51_0242ac1c0002row0_col180\" class=\"data row0 col180\" >0</td>\n",
              "                        <td id=\"T_02fbb8c6_17f6_11eb_ad51_0242ac1c0002row0_col181\" class=\"data row0 col181\" >0</td>\n",
              "                        <td id=\"T_02fbb8c6_17f6_11eb_ad51_0242ac1c0002row0_col182\" class=\"data row0 col182\" >2</td>\n",
              "                        <td id=\"T_02fbb8c6_17f6_11eb_ad51_0242ac1c0002row0_col183\" class=\"data row0 col183\" >0</td>\n",
              "                        <td id=\"T_02fbb8c6_17f6_11eb_ad51_0242ac1c0002row0_col184\" class=\"data row0 col184\" >1</td>\n",
              "                        <td id=\"T_02fbb8c6_17f6_11eb_ad51_0242ac1c0002row0_col185\" class=\"data row0 col185\" >1</td>\n",
              "                        <td id=\"T_02fbb8c6_17f6_11eb_ad51_0242ac1c0002row0_col186\" class=\"data row0 col186\" >1</td>\n",
              "                        <td id=\"T_02fbb8c6_17f6_11eb_ad51_0242ac1c0002row0_col187\" class=\"data row0 col187\" >1</td>\n",
              "                        <td id=\"T_02fbb8c6_17f6_11eb_ad51_0242ac1c0002row0_col188\" class=\"data row0 col188\" >0</td>\n",
              "                        <td id=\"T_02fbb8c6_17f6_11eb_ad51_0242ac1c0002row0_col189\" class=\"data row0 col189\" >1</td>\n",
              "                        <td id=\"T_02fbb8c6_17f6_11eb_ad51_0242ac1c0002row0_col190\" class=\"data row0 col190\" >0</td>\n",
              "                        <td id=\"T_02fbb8c6_17f6_11eb_ad51_0242ac1c0002row0_col191\" class=\"data row0 col191\" >0</td>\n",
              "                        <td id=\"T_02fbb8c6_17f6_11eb_ad51_0242ac1c0002row0_col192\" class=\"data row0 col192\" >1</td>\n",
              "                        <td id=\"T_02fbb8c6_17f6_11eb_ad51_0242ac1c0002row0_col193\" class=\"data row0 col193\" >1</td>\n",
              "                        <td id=\"T_02fbb8c6_17f6_11eb_ad51_0242ac1c0002row0_col194\" class=\"data row0 col194\" >1</td>\n",
              "                        <td id=\"T_02fbb8c6_17f6_11eb_ad51_0242ac1c0002row0_col195\" class=\"data row0 col195\" >1</td>\n",
              "                        <td id=\"T_02fbb8c6_17f6_11eb_ad51_0242ac1c0002row0_col196\" class=\"data row0 col196\" >1</td>\n",
              "                        <td id=\"T_02fbb8c6_17f6_11eb_ad51_0242ac1c0002row0_col197\" class=\"data row0 col197\" >0</td>\n",
              "                        <td id=\"T_02fbb8c6_17f6_11eb_ad51_0242ac1c0002row0_col198\" class=\"data row0 col198\" >1</td>\n",
              "                        <td id=\"T_02fbb8c6_17f6_11eb_ad51_0242ac1c0002row0_col199\" class=\"data row0 col199\" >1</td>\n",
              "                        <td id=\"T_02fbb8c6_17f6_11eb_ad51_0242ac1c0002row0_col200\" class=\"data row0 col200\" >2</td>\n",
              "                        <td id=\"T_02fbb8c6_17f6_11eb_ad51_0242ac1c0002row0_col201\" class=\"data row0 col201\" >1</td>\n",
              "                        <td id=\"T_02fbb8c6_17f6_11eb_ad51_0242ac1c0002row0_col202\" class=\"data row0 col202\" >1</td>\n",
              "                        <td id=\"T_02fbb8c6_17f6_11eb_ad51_0242ac1c0002row0_col203\" class=\"data row0 col203\" >1</td>\n",
              "                        <td id=\"T_02fbb8c6_17f6_11eb_ad51_0242ac1c0002row0_col204\" class=\"data row0 col204\" >1</td>\n",
              "                        <td id=\"T_02fbb8c6_17f6_11eb_ad51_0242ac1c0002row0_col205\" class=\"data row0 col205\" >1</td>\n",
              "                        <td id=\"T_02fbb8c6_17f6_11eb_ad51_0242ac1c0002row0_col206\" class=\"data row0 col206\" >1</td>\n",
              "                        <td id=\"T_02fbb8c6_17f6_11eb_ad51_0242ac1c0002row0_col207\" class=\"data row0 col207\" >1</td>\n",
              "                        <td id=\"T_02fbb8c6_17f6_11eb_ad51_0242ac1c0002row0_col208\" class=\"data row0 col208\" >0</td>\n",
              "                        <td id=\"T_02fbb8c6_17f6_11eb_ad51_0242ac1c0002row0_col209\" class=\"data row0 col209\" >1</td>\n",
              "                        <td id=\"T_02fbb8c6_17f6_11eb_ad51_0242ac1c0002row0_col210\" class=\"data row0 col210\" >1</td>\n",
              "                        <td id=\"T_02fbb8c6_17f6_11eb_ad51_0242ac1c0002row0_col211\" class=\"data row0 col211\" >1</td>\n",
              "                        <td id=\"T_02fbb8c6_17f6_11eb_ad51_0242ac1c0002row0_col212\" class=\"data row0 col212\" >1</td>\n",
              "                        <td id=\"T_02fbb8c6_17f6_11eb_ad51_0242ac1c0002row0_col213\" class=\"data row0 col213\" >0</td>\n",
              "                        <td id=\"T_02fbb8c6_17f6_11eb_ad51_0242ac1c0002row0_col214\" class=\"data row0 col214\" >0</td>\n",
              "                        <td id=\"T_02fbb8c6_17f6_11eb_ad51_0242ac1c0002row0_col215\" class=\"data row0 col215\" >2</td>\n",
              "                        <td id=\"T_02fbb8c6_17f6_11eb_ad51_0242ac1c0002row0_col216\" class=\"data row0 col216\" >1</td>\n",
              "                        <td id=\"T_02fbb8c6_17f6_11eb_ad51_0242ac1c0002row0_col217\" class=\"data row0 col217\" >1</td>\n",
              "                        <td id=\"T_02fbb8c6_17f6_11eb_ad51_0242ac1c0002row0_col218\" class=\"data row0 col218\" >2</td>\n",
              "                        <td id=\"T_02fbb8c6_17f6_11eb_ad51_0242ac1c0002row0_col219\" class=\"data row0 col219\" >2</td>\n",
              "                        <td id=\"T_02fbb8c6_17f6_11eb_ad51_0242ac1c0002row0_col220\" class=\"data row0 col220\" >0</td>\n",
              "                        <td id=\"T_02fbb8c6_17f6_11eb_ad51_0242ac1c0002row0_col221\" class=\"data row0 col221\" >0</td>\n",
              "                        <td id=\"T_02fbb8c6_17f6_11eb_ad51_0242ac1c0002row0_col222\" class=\"data row0 col222\" >0</td>\n",
              "                        <td id=\"T_02fbb8c6_17f6_11eb_ad51_0242ac1c0002row0_col223\" class=\"data row0 col223\" >0</td>\n",
              "                        <td id=\"T_02fbb8c6_17f6_11eb_ad51_0242ac1c0002row0_col224\" class=\"data row0 col224\" >0</td>\n",
              "                        <td id=\"T_02fbb8c6_17f6_11eb_ad51_0242ac1c0002row0_col225\" class=\"data row0 col225\" >1</td>\n",
              "                        <td id=\"T_02fbb8c6_17f6_11eb_ad51_0242ac1c0002row0_col226\" class=\"data row0 col226\" >1</td>\n",
              "                        <td id=\"T_02fbb8c6_17f6_11eb_ad51_0242ac1c0002row0_col227\" class=\"data row0 col227\" >1</td>\n",
              "                        <td id=\"T_02fbb8c6_17f6_11eb_ad51_0242ac1c0002row0_col228\" class=\"data row0 col228\" >1</td>\n",
              "                        <td id=\"T_02fbb8c6_17f6_11eb_ad51_0242ac1c0002row0_col229\" class=\"data row0 col229\" >0</td>\n",
              "                        <td id=\"T_02fbb8c6_17f6_11eb_ad51_0242ac1c0002row0_col230\" class=\"data row0 col230\" >1</td>\n",
              "                        <td id=\"T_02fbb8c6_17f6_11eb_ad51_0242ac1c0002row0_col231\" class=\"data row0 col231\" >0</td>\n",
              "                        <td id=\"T_02fbb8c6_17f6_11eb_ad51_0242ac1c0002row0_col232\" class=\"data row0 col232\" >1</td>\n",
              "                        <td id=\"T_02fbb8c6_17f6_11eb_ad51_0242ac1c0002row0_col233\" class=\"data row0 col233\" >0</td>\n",
              "                        <td id=\"T_02fbb8c6_17f6_11eb_ad51_0242ac1c0002row0_col234\" class=\"data row0 col234\" >0</td>\n",
              "                        <td id=\"T_02fbb8c6_17f6_11eb_ad51_0242ac1c0002row0_col235\" class=\"data row0 col235\" >1</td>\n",
              "                        <td id=\"T_02fbb8c6_17f6_11eb_ad51_0242ac1c0002row0_col236\" class=\"data row0 col236\" >0</td>\n",
              "                        <td id=\"T_02fbb8c6_17f6_11eb_ad51_0242ac1c0002row0_col237\" class=\"data row0 col237\" >1</td>\n",
              "                        <td id=\"T_02fbb8c6_17f6_11eb_ad51_0242ac1c0002row0_col238\" class=\"data row0 col238\" >1</td>\n",
              "                        <td id=\"T_02fbb8c6_17f6_11eb_ad51_0242ac1c0002row0_col239\" class=\"data row0 col239\" >1</td>\n",
              "                        <td id=\"T_02fbb8c6_17f6_11eb_ad51_0242ac1c0002row0_col240\" class=\"data row0 col240\" >1</td>\n",
              "                        <td id=\"T_02fbb8c6_17f6_11eb_ad51_0242ac1c0002row0_col241\" class=\"data row0 col241\" >1</td>\n",
              "                        <td id=\"T_02fbb8c6_17f6_11eb_ad51_0242ac1c0002row0_col242\" class=\"data row0 col242\" >2</td>\n",
              "                        <td id=\"T_02fbb8c6_17f6_11eb_ad51_0242ac1c0002row0_col243\" class=\"data row0 col243\" >1</td>\n",
              "                        <td id=\"T_02fbb8c6_17f6_11eb_ad51_0242ac1c0002row0_col244\" class=\"data row0 col244\" >0</td>\n",
              "                        <td id=\"T_02fbb8c6_17f6_11eb_ad51_0242ac1c0002row0_col245\" class=\"data row0 col245\" >1</td>\n",
              "                        <td id=\"T_02fbb8c6_17f6_11eb_ad51_0242ac1c0002row0_col246\" class=\"data row0 col246\" >1</td>\n",
              "                        <td id=\"T_02fbb8c6_17f6_11eb_ad51_0242ac1c0002row0_col247\" class=\"data row0 col247\" >0</td>\n",
              "                        <td id=\"T_02fbb8c6_17f6_11eb_ad51_0242ac1c0002row0_col248\" class=\"data row0 col248\" >0</td>\n",
              "                        <td id=\"T_02fbb8c6_17f6_11eb_ad51_0242ac1c0002row0_col249\" class=\"data row0 col249\" >0</td>\n",
              "                        <td id=\"T_02fbb8c6_17f6_11eb_ad51_0242ac1c0002row0_col250\" class=\"data row0 col250\" >0</td>\n",
              "                        <td id=\"T_02fbb8c6_17f6_11eb_ad51_0242ac1c0002row0_col251\" class=\"data row0 col251\" >1</td>\n",
              "                        <td id=\"T_02fbb8c6_17f6_11eb_ad51_0242ac1c0002row0_col252\" class=\"data row0 col252\" >1</td>\n",
              "                        <td id=\"T_02fbb8c6_17f6_11eb_ad51_0242ac1c0002row0_col253\" class=\"data row0 col253\" >1</td>\n",
              "                        <td id=\"T_02fbb8c6_17f6_11eb_ad51_0242ac1c0002row0_col254\" class=\"data row0 col254\" >1</td>\n",
              "                        <td id=\"T_02fbb8c6_17f6_11eb_ad51_0242ac1c0002row0_col255\" class=\"data row0 col255\" >1</td>\n",
              "                        <td id=\"T_02fbb8c6_17f6_11eb_ad51_0242ac1c0002row0_col256\" class=\"data row0 col256\" >2</td>\n",
              "                        <td id=\"T_02fbb8c6_17f6_11eb_ad51_0242ac1c0002row0_col257\" class=\"data row0 col257\" >0</td>\n",
              "                        <td id=\"T_02fbb8c6_17f6_11eb_ad51_0242ac1c0002row0_col258\" class=\"data row0 col258\" >1</td>\n",
              "                        <td id=\"T_02fbb8c6_17f6_11eb_ad51_0242ac1c0002row0_col259\" class=\"data row0 col259\" >0</td>\n",
              "                        <td id=\"T_02fbb8c6_17f6_11eb_ad51_0242ac1c0002row0_col260\" class=\"data row0 col260\" >1</td>\n",
              "                        <td id=\"T_02fbb8c6_17f6_11eb_ad51_0242ac1c0002row0_col261\" class=\"data row0 col261\" >0</td>\n",
              "                        <td id=\"T_02fbb8c6_17f6_11eb_ad51_0242ac1c0002row0_col262\" class=\"data row0 col262\" >1</td>\n",
              "                        <td id=\"T_02fbb8c6_17f6_11eb_ad51_0242ac1c0002row0_col263\" class=\"data row0 col263\" >1</td>\n",
              "                        <td id=\"T_02fbb8c6_17f6_11eb_ad51_0242ac1c0002row0_col264\" class=\"data row0 col264\" >0</td>\n",
              "                        <td id=\"T_02fbb8c6_17f6_11eb_ad51_0242ac1c0002row0_col265\" class=\"data row0 col265\" >0</td>\n",
              "                        <td id=\"T_02fbb8c6_17f6_11eb_ad51_0242ac1c0002row0_col266\" class=\"data row0 col266\" >0</td>\n",
              "                        <td id=\"T_02fbb8c6_17f6_11eb_ad51_0242ac1c0002row0_col267\" class=\"data row0 col267\" >1</td>\n",
              "                        <td id=\"T_02fbb8c6_17f6_11eb_ad51_0242ac1c0002row0_col268\" class=\"data row0 col268\" >1</td>\n",
              "                        <td id=\"T_02fbb8c6_17f6_11eb_ad51_0242ac1c0002row0_col269\" class=\"data row0 col269\" >2</td>\n",
              "                        <td id=\"T_02fbb8c6_17f6_11eb_ad51_0242ac1c0002row0_col270\" class=\"data row0 col270\" >0</td>\n",
              "                        <td id=\"T_02fbb8c6_17f6_11eb_ad51_0242ac1c0002row0_col271\" class=\"data row0 col271\" >1</td>\n",
              "                        <td id=\"T_02fbb8c6_17f6_11eb_ad51_0242ac1c0002row0_col272\" class=\"data row0 col272\" >0</td>\n",
              "                        <td id=\"T_02fbb8c6_17f6_11eb_ad51_0242ac1c0002row0_col273\" class=\"data row0 col273\" >0</td>\n",
              "                        <td id=\"T_02fbb8c6_17f6_11eb_ad51_0242ac1c0002row0_col274\" class=\"data row0 col274\" >1</td>\n",
              "                        <td id=\"T_02fbb8c6_17f6_11eb_ad51_0242ac1c0002row0_col275\" class=\"data row0 col275\" >1</td>\n",
              "                        <td id=\"T_02fbb8c6_17f6_11eb_ad51_0242ac1c0002row0_col276\" class=\"data row0 col276\" >0</td>\n",
              "                        <td id=\"T_02fbb8c6_17f6_11eb_ad51_0242ac1c0002row0_col277\" class=\"data row0 col277\" >0</td>\n",
              "                        <td id=\"T_02fbb8c6_17f6_11eb_ad51_0242ac1c0002row0_col278\" class=\"data row0 col278\" >1</td>\n",
              "                        <td id=\"T_02fbb8c6_17f6_11eb_ad51_0242ac1c0002row0_col279\" class=\"data row0 col279\" >0</td>\n",
              "                        <td id=\"T_02fbb8c6_17f6_11eb_ad51_0242ac1c0002row0_col280\" class=\"data row0 col280\" >0</td>\n",
              "                        <td id=\"T_02fbb8c6_17f6_11eb_ad51_0242ac1c0002row0_col281\" class=\"data row0 col281\" >1</td>\n",
              "                        <td id=\"T_02fbb8c6_17f6_11eb_ad51_0242ac1c0002row0_col282\" class=\"data row0 col282\" >0</td>\n",
              "                        <td id=\"T_02fbb8c6_17f6_11eb_ad51_0242ac1c0002row0_col283\" class=\"data row0 col283\" >1</td>\n",
              "                        <td id=\"T_02fbb8c6_17f6_11eb_ad51_0242ac1c0002row0_col284\" class=\"data row0 col284\" >0</td>\n",
              "                        <td id=\"T_02fbb8c6_17f6_11eb_ad51_0242ac1c0002row0_col285\" class=\"data row0 col285\" >0</td>\n",
              "                        <td id=\"T_02fbb8c6_17f6_11eb_ad51_0242ac1c0002row0_col286\" class=\"data row0 col286\" >1</td>\n",
              "                        <td id=\"T_02fbb8c6_17f6_11eb_ad51_0242ac1c0002row0_col287\" class=\"data row0 col287\" >1</td>\n",
              "                        <td id=\"T_02fbb8c6_17f6_11eb_ad51_0242ac1c0002row0_col288\" class=\"data row0 col288\" >1</td>\n",
              "                        <td id=\"T_02fbb8c6_17f6_11eb_ad51_0242ac1c0002row0_col289\" class=\"data row0 col289\" >1</td>\n",
              "                        <td id=\"T_02fbb8c6_17f6_11eb_ad51_0242ac1c0002row0_col290\" class=\"data row0 col290\" >0</td>\n",
              "                        <td id=\"T_02fbb8c6_17f6_11eb_ad51_0242ac1c0002row0_col291\" class=\"data row0 col291\" >0</td>\n",
              "                        <td id=\"T_02fbb8c6_17f6_11eb_ad51_0242ac1c0002row0_col292\" class=\"data row0 col292\" >1</td>\n",
              "                        <td id=\"T_02fbb8c6_17f6_11eb_ad51_0242ac1c0002row0_col293\" class=\"data row0 col293\" >1</td>\n",
              "                        <td id=\"T_02fbb8c6_17f6_11eb_ad51_0242ac1c0002row0_col294\" class=\"data row0 col294\" >3</td>\n",
              "                        <td id=\"T_02fbb8c6_17f6_11eb_ad51_0242ac1c0002row0_col295\" class=\"data row0 col295\" >1</td>\n",
              "                        <td id=\"T_02fbb8c6_17f6_11eb_ad51_0242ac1c0002row0_col296\" class=\"data row0 col296\" >1</td>\n",
              "                        <td id=\"T_02fbb8c6_17f6_11eb_ad51_0242ac1c0002row0_col297\" class=\"data row0 col297\" >0</td>\n",
              "                        <td id=\"T_02fbb8c6_17f6_11eb_ad51_0242ac1c0002row0_col298\" class=\"data row0 col298\" >1</td>\n",
              "                        <td id=\"T_02fbb8c6_17f6_11eb_ad51_0242ac1c0002row0_col299\" class=\"data row0 col299\" >0</td>\n",
              "                        <td id=\"T_02fbb8c6_17f6_11eb_ad51_0242ac1c0002row0_col300\" class=\"data row0 col300\" >0</td>\n",
              "                        <td id=\"T_02fbb8c6_17f6_11eb_ad51_0242ac1c0002row0_col301\" class=\"data row0 col301\" >1</td>\n",
              "                        <td id=\"T_02fbb8c6_17f6_11eb_ad51_0242ac1c0002row0_col302\" class=\"data row0 col302\" >2</td>\n",
              "                        <td id=\"T_02fbb8c6_17f6_11eb_ad51_0242ac1c0002row0_col303\" class=\"data row0 col303\" >1</td>\n",
              "                        <td id=\"T_02fbb8c6_17f6_11eb_ad51_0242ac1c0002row0_col304\" class=\"data row0 col304\" >1</td>\n",
              "                        <td id=\"T_02fbb8c6_17f6_11eb_ad51_0242ac1c0002row0_col305\" class=\"data row0 col305\" >0</td>\n",
              "                        <td id=\"T_02fbb8c6_17f6_11eb_ad51_0242ac1c0002row0_col306\" class=\"data row0 col306\" >0</td>\n",
              "                        <td id=\"T_02fbb8c6_17f6_11eb_ad51_0242ac1c0002row0_col307\" class=\"data row0 col307\" >0</td>\n",
              "                        <td id=\"T_02fbb8c6_17f6_11eb_ad51_0242ac1c0002row0_col308\" class=\"data row0 col308\" >0</td>\n",
              "                        <td id=\"T_02fbb8c6_17f6_11eb_ad51_0242ac1c0002row0_col309\" class=\"data row0 col309\" >0</td>\n",
              "                        <td id=\"T_02fbb8c6_17f6_11eb_ad51_0242ac1c0002row0_col310\" class=\"data row0 col310\" >1</td>\n",
              "                        <td id=\"T_02fbb8c6_17f6_11eb_ad51_0242ac1c0002row0_col311\" class=\"data row0 col311\" >1</td>\n",
              "                        <td id=\"T_02fbb8c6_17f6_11eb_ad51_0242ac1c0002row0_col312\" class=\"data row0 col312\" >1</td>\n",
              "                        <td id=\"T_02fbb8c6_17f6_11eb_ad51_0242ac1c0002row0_col313\" class=\"data row0 col313\" >0</td>\n",
              "                        <td id=\"T_02fbb8c6_17f6_11eb_ad51_0242ac1c0002row0_col314\" class=\"data row0 col314\" >1</td>\n",
              "                        <td id=\"T_02fbb8c6_17f6_11eb_ad51_0242ac1c0002row0_col315\" class=\"data row0 col315\" >1</td>\n",
              "                        <td id=\"T_02fbb8c6_17f6_11eb_ad51_0242ac1c0002row0_col316\" class=\"data row0 col316\" >0</td>\n",
              "                        <td id=\"T_02fbb8c6_17f6_11eb_ad51_0242ac1c0002row0_col317\" class=\"data row0 col317\" >0</td>\n",
              "                        <td id=\"T_02fbb8c6_17f6_11eb_ad51_0242ac1c0002row0_col318\" class=\"data row0 col318\" >1</td>\n",
              "                        <td id=\"T_02fbb8c6_17f6_11eb_ad51_0242ac1c0002row0_col319\" class=\"data row0 col319\" >1</td>\n",
              "                        <td id=\"T_02fbb8c6_17f6_11eb_ad51_0242ac1c0002row0_col320\" class=\"data row0 col320\" >2</td>\n",
              "                        <td id=\"T_02fbb8c6_17f6_11eb_ad51_0242ac1c0002row0_col321\" class=\"data row0 col321\" >0</td>\n",
              "                        <td id=\"T_02fbb8c6_17f6_11eb_ad51_0242ac1c0002row0_col322\" class=\"data row0 col322\" >1</td>\n",
              "                        <td id=\"T_02fbb8c6_17f6_11eb_ad51_0242ac1c0002row0_col323\" class=\"data row0 col323\" >0</td>\n",
              "                        <td id=\"T_02fbb8c6_17f6_11eb_ad51_0242ac1c0002row0_col324\" class=\"data row0 col324\" >0</td>\n",
              "                        <td id=\"T_02fbb8c6_17f6_11eb_ad51_0242ac1c0002row0_col325\" class=\"data row0 col325\" >1</td>\n",
              "                        <td id=\"T_02fbb8c6_17f6_11eb_ad51_0242ac1c0002row0_col326\" class=\"data row0 col326\" >1</td>\n",
              "                        <td id=\"T_02fbb8c6_17f6_11eb_ad51_0242ac1c0002row0_col327\" class=\"data row0 col327\" >0</td>\n",
              "                        <td id=\"T_02fbb8c6_17f6_11eb_ad51_0242ac1c0002row0_col328\" class=\"data row0 col328\" >0</td>\n",
              "                        <td id=\"T_02fbb8c6_17f6_11eb_ad51_0242ac1c0002row0_col329\" class=\"data row0 col329\" >1</td>\n",
              "                        <td id=\"T_02fbb8c6_17f6_11eb_ad51_0242ac1c0002row0_col330\" class=\"data row0 col330\" >2</td>\n",
              "                        <td id=\"T_02fbb8c6_17f6_11eb_ad51_0242ac1c0002row0_col331\" class=\"data row0 col331\" >1</td>\n",
              "                        <td id=\"T_02fbb8c6_17f6_11eb_ad51_0242ac1c0002row0_col332\" class=\"data row0 col332\" >1</td>\n",
              "                        <td id=\"T_02fbb8c6_17f6_11eb_ad51_0242ac1c0002row0_col333\" class=\"data row0 col333\" >0</td>\n",
              "                        <td id=\"T_02fbb8c6_17f6_11eb_ad51_0242ac1c0002row0_col334\" class=\"data row0 col334\" >1</td>\n",
              "                        <td id=\"T_02fbb8c6_17f6_11eb_ad51_0242ac1c0002row0_col335\" class=\"data row0 col335\" >1</td>\n",
              "                        <td id=\"T_02fbb8c6_17f6_11eb_ad51_0242ac1c0002row0_col336\" class=\"data row0 col336\" >1</td>\n",
              "                        <td id=\"T_02fbb8c6_17f6_11eb_ad51_0242ac1c0002row0_col337\" class=\"data row0 col337\" >0</td>\n",
              "                        <td id=\"T_02fbb8c6_17f6_11eb_ad51_0242ac1c0002row0_col338\" class=\"data row0 col338\" >1</td>\n",
              "                        <td id=\"T_02fbb8c6_17f6_11eb_ad51_0242ac1c0002row0_col339\" class=\"data row0 col339\" >0</td>\n",
              "                        <td id=\"T_02fbb8c6_17f6_11eb_ad51_0242ac1c0002row0_col340\" class=\"data row0 col340\" >0</td>\n",
              "                        <td id=\"T_02fbb8c6_17f6_11eb_ad51_0242ac1c0002row0_col341\" class=\"data row0 col341\" >1</td>\n",
              "                        <td id=\"T_02fbb8c6_17f6_11eb_ad51_0242ac1c0002row0_col342\" class=\"data row0 col342\" >1</td>\n",
              "                        <td id=\"T_02fbb8c6_17f6_11eb_ad51_0242ac1c0002row0_col343\" class=\"data row0 col343\" >1</td>\n",
              "                        <td id=\"T_02fbb8c6_17f6_11eb_ad51_0242ac1c0002row0_col344\" class=\"data row0 col344\" >1</td>\n",
              "                        <td id=\"T_02fbb8c6_17f6_11eb_ad51_0242ac1c0002row0_col345\" class=\"data row0 col345\" >2</td>\n",
              "                        <td id=\"T_02fbb8c6_17f6_11eb_ad51_0242ac1c0002row0_col346\" class=\"data row0 col346\" >1</td>\n",
              "                        <td id=\"T_02fbb8c6_17f6_11eb_ad51_0242ac1c0002row0_col347\" class=\"data row0 col347\" >0</td>\n",
              "                        <td id=\"T_02fbb8c6_17f6_11eb_ad51_0242ac1c0002row0_col348\" class=\"data row0 col348\" >0</td>\n",
              "                        <td id=\"T_02fbb8c6_17f6_11eb_ad51_0242ac1c0002row0_col349\" class=\"data row0 col349\" >2</td>\n",
              "                        <td id=\"T_02fbb8c6_17f6_11eb_ad51_0242ac1c0002row0_col350\" class=\"data row0 col350\" >0</td>\n",
              "                        <td id=\"T_02fbb8c6_17f6_11eb_ad51_0242ac1c0002row0_col351\" class=\"data row0 col351\" >0</td>\n",
              "                        <td id=\"T_02fbb8c6_17f6_11eb_ad51_0242ac1c0002row0_col352\" class=\"data row0 col352\" >1</td>\n",
              "                        <td id=\"T_02fbb8c6_17f6_11eb_ad51_0242ac1c0002row0_col353\" class=\"data row0 col353\" >0</td>\n",
              "                        <td id=\"T_02fbb8c6_17f6_11eb_ad51_0242ac1c0002row0_col354\" class=\"data row0 col354\" >1</td>\n",
              "                        <td id=\"T_02fbb8c6_17f6_11eb_ad51_0242ac1c0002row0_col355\" class=\"data row0 col355\" >1</td>\n",
              "                        <td id=\"T_02fbb8c6_17f6_11eb_ad51_0242ac1c0002row0_col356\" class=\"data row0 col356\" >1</td>\n",
              "                        <td id=\"T_02fbb8c6_17f6_11eb_ad51_0242ac1c0002row0_col357\" class=\"data row0 col357\" >1</td>\n",
              "                        <td id=\"T_02fbb8c6_17f6_11eb_ad51_0242ac1c0002row0_col358\" class=\"data row0 col358\" >1</td>\n",
              "                        <td id=\"T_02fbb8c6_17f6_11eb_ad51_0242ac1c0002row0_col359\" class=\"data row0 col359\" >0</td>\n",
              "                        <td id=\"T_02fbb8c6_17f6_11eb_ad51_0242ac1c0002row0_col360\" class=\"data row0 col360\" >0</td>\n",
              "                        <td id=\"T_02fbb8c6_17f6_11eb_ad51_0242ac1c0002row0_col361\" class=\"data row0 col361\" >0</td>\n",
              "                        <td id=\"T_02fbb8c6_17f6_11eb_ad51_0242ac1c0002row0_col362\" class=\"data row0 col362\" >0</td>\n",
              "                        <td id=\"T_02fbb8c6_17f6_11eb_ad51_0242ac1c0002row0_col363\" class=\"data row0 col363\" >0</td>\n",
              "                        <td id=\"T_02fbb8c6_17f6_11eb_ad51_0242ac1c0002row0_col364\" class=\"data row0 col364\" >0</td>\n",
              "                        <td id=\"T_02fbb8c6_17f6_11eb_ad51_0242ac1c0002row0_col365\" class=\"data row0 col365\" >2</td>\n",
              "                        <td id=\"T_02fbb8c6_17f6_11eb_ad51_0242ac1c0002row0_col366\" class=\"data row0 col366\" >1</td>\n",
              "                        <td id=\"T_02fbb8c6_17f6_11eb_ad51_0242ac1c0002row0_col367\" class=\"data row0 col367\" >0</td>\n",
              "                        <td id=\"T_02fbb8c6_17f6_11eb_ad51_0242ac1c0002row0_col368\" class=\"data row0 col368\" >1</td>\n",
              "                        <td id=\"T_02fbb8c6_17f6_11eb_ad51_0242ac1c0002row0_col369\" class=\"data row0 col369\" >0</td>\n",
              "                        <td id=\"T_02fbb8c6_17f6_11eb_ad51_0242ac1c0002row0_col370\" class=\"data row0 col370\" >1</td>\n",
              "                        <td id=\"T_02fbb8c6_17f6_11eb_ad51_0242ac1c0002row0_col371\" class=\"data row0 col371\" >0</td>\n",
              "                        <td id=\"T_02fbb8c6_17f6_11eb_ad51_0242ac1c0002row0_col372\" class=\"data row0 col372\" >0</td>\n",
              "                        <td id=\"T_02fbb8c6_17f6_11eb_ad51_0242ac1c0002row0_col373\" class=\"data row0 col373\" >0</td>\n",
              "                        <td id=\"T_02fbb8c6_17f6_11eb_ad51_0242ac1c0002row0_col374\" class=\"data row0 col374\" >2</td>\n",
              "                        <td id=\"T_02fbb8c6_17f6_11eb_ad51_0242ac1c0002row0_col375\" class=\"data row0 col375\" >1</td>\n",
              "                        <td id=\"T_02fbb8c6_17f6_11eb_ad51_0242ac1c0002row0_col376\" class=\"data row0 col376\" >1</td>\n",
              "                        <td id=\"T_02fbb8c6_17f6_11eb_ad51_0242ac1c0002row0_col377\" class=\"data row0 col377\" >1</td>\n",
              "                        <td id=\"T_02fbb8c6_17f6_11eb_ad51_0242ac1c0002row0_col378\" class=\"data row0 col378\" >1</td>\n",
              "                        <td id=\"T_02fbb8c6_17f6_11eb_ad51_0242ac1c0002row0_col379\" class=\"data row0 col379\" >1</td>\n",
              "                        <td id=\"T_02fbb8c6_17f6_11eb_ad51_0242ac1c0002row0_col380\" class=\"data row0 col380\" >1</td>\n",
              "                        <td id=\"T_02fbb8c6_17f6_11eb_ad51_0242ac1c0002row0_col381\" class=\"data row0 col381\" >1</td>\n",
              "                        <td id=\"T_02fbb8c6_17f6_11eb_ad51_0242ac1c0002row0_col382\" class=\"data row0 col382\" >1</td>\n",
              "                        <td id=\"T_02fbb8c6_17f6_11eb_ad51_0242ac1c0002row0_col383\" class=\"data row0 col383\" >2</td>\n",
              "                        <td id=\"T_02fbb8c6_17f6_11eb_ad51_0242ac1c0002row0_col384\" class=\"data row0 col384\" >0</td>\n",
              "                        <td id=\"T_02fbb8c6_17f6_11eb_ad51_0242ac1c0002row0_col385\" class=\"data row0 col385\" >1</td>\n",
              "                        <td id=\"T_02fbb8c6_17f6_11eb_ad51_0242ac1c0002row0_col386\" class=\"data row0 col386\" >1</td>\n",
              "                        <td id=\"T_02fbb8c6_17f6_11eb_ad51_0242ac1c0002row0_col387\" class=\"data row0 col387\" >1</td>\n",
              "                        <td id=\"T_02fbb8c6_17f6_11eb_ad51_0242ac1c0002row0_col388\" class=\"data row0 col388\" >1</td>\n",
              "                        <td id=\"T_02fbb8c6_17f6_11eb_ad51_0242ac1c0002row0_col389\" class=\"data row0 col389\" >0</td>\n",
              "                        <td id=\"T_02fbb8c6_17f6_11eb_ad51_0242ac1c0002row0_col390\" class=\"data row0 col390\" >1</td>\n",
              "                        <td id=\"T_02fbb8c6_17f6_11eb_ad51_0242ac1c0002row0_col391\" class=\"data row0 col391\" >1</td>\n",
              "                        <td id=\"T_02fbb8c6_17f6_11eb_ad51_0242ac1c0002row0_col392\" class=\"data row0 col392\" >0</td>\n",
              "                        <td id=\"T_02fbb8c6_17f6_11eb_ad51_0242ac1c0002row0_col393\" class=\"data row0 col393\" >1</td>\n",
              "                        <td id=\"T_02fbb8c6_17f6_11eb_ad51_0242ac1c0002row0_col394\" class=\"data row0 col394\" >1</td>\n",
              "                        <td id=\"T_02fbb8c6_17f6_11eb_ad51_0242ac1c0002row0_col395\" class=\"data row0 col395\" >1</td>\n",
              "                        <td id=\"T_02fbb8c6_17f6_11eb_ad51_0242ac1c0002row0_col396\" class=\"data row0 col396\" >1</td>\n",
              "                        <td id=\"T_02fbb8c6_17f6_11eb_ad51_0242ac1c0002row0_col397\" class=\"data row0 col397\" >1</td>\n",
              "                        <td id=\"T_02fbb8c6_17f6_11eb_ad51_0242ac1c0002row0_col398\" class=\"data row0 col398\" >1</td>\n",
              "                        <td id=\"T_02fbb8c6_17f6_11eb_ad51_0242ac1c0002row0_col399\" class=\"data row0 col399\" >1</td>\n",
              "                        <td id=\"T_02fbb8c6_17f6_11eb_ad51_0242ac1c0002row0_col400\" class=\"data row0 col400\" >0</td>\n",
              "                        <td id=\"T_02fbb8c6_17f6_11eb_ad51_0242ac1c0002row0_col401\" class=\"data row0 col401\" >1</td>\n",
              "                        <td id=\"T_02fbb8c6_17f6_11eb_ad51_0242ac1c0002row0_col402\" class=\"data row0 col402\" >2</td>\n",
              "                        <td id=\"T_02fbb8c6_17f6_11eb_ad51_0242ac1c0002row0_col403\" class=\"data row0 col403\" >1</td>\n",
              "                        <td id=\"T_02fbb8c6_17f6_11eb_ad51_0242ac1c0002row0_col404\" class=\"data row0 col404\" >1</td>\n",
              "                        <td id=\"T_02fbb8c6_17f6_11eb_ad51_0242ac1c0002row0_col405\" class=\"data row0 col405\" >0</td>\n",
              "                        <td id=\"T_02fbb8c6_17f6_11eb_ad51_0242ac1c0002row0_col406\" class=\"data row0 col406\" >0</td>\n",
              "                        <td id=\"T_02fbb8c6_17f6_11eb_ad51_0242ac1c0002row0_col407\" class=\"data row0 col407\" >0</td>\n",
              "                        <td id=\"T_02fbb8c6_17f6_11eb_ad51_0242ac1c0002row0_col408\" class=\"data row0 col408\" >0</td>\n",
              "                        <td id=\"T_02fbb8c6_17f6_11eb_ad51_0242ac1c0002row0_col409\" class=\"data row0 col409\" >0</td>\n",
              "                        <td id=\"T_02fbb8c6_17f6_11eb_ad51_0242ac1c0002row0_col410\" class=\"data row0 col410\" >0</td>\n",
              "                        <td id=\"T_02fbb8c6_17f6_11eb_ad51_0242ac1c0002row0_col411\" class=\"data row0 col411\" >0</td>\n",
              "                        <td id=\"T_02fbb8c6_17f6_11eb_ad51_0242ac1c0002row0_col412\" class=\"data row0 col412\" >2</td>\n",
              "                        <td id=\"T_02fbb8c6_17f6_11eb_ad51_0242ac1c0002row0_col413\" class=\"data row0 col413\" >1</td>\n",
              "                        <td id=\"T_02fbb8c6_17f6_11eb_ad51_0242ac1c0002row0_col414\" class=\"data row0 col414\" >0</td>\n",
              "                        <td id=\"T_02fbb8c6_17f6_11eb_ad51_0242ac1c0002row0_col415\" class=\"data row0 col415\" >1</td>\n",
              "                        <td id=\"T_02fbb8c6_17f6_11eb_ad51_0242ac1c0002row0_col416\" class=\"data row0 col416\" >0</td>\n",
              "                        <td id=\"T_02fbb8c6_17f6_11eb_ad51_0242ac1c0002row0_col417\" class=\"data row0 col417\" >1</td>\n",
              "                        <td id=\"T_02fbb8c6_17f6_11eb_ad51_0242ac1c0002row0_col418\" class=\"data row0 col418\" >0</td>\n",
              "                        <td id=\"T_02fbb8c6_17f6_11eb_ad51_0242ac1c0002row0_col419\" class=\"data row0 col419\" >1</td>\n",
              "                        <td id=\"T_02fbb8c6_17f6_11eb_ad51_0242ac1c0002row0_col420\" class=\"data row0 col420\" >1</td>\n",
              "                        <td id=\"T_02fbb8c6_17f6_11eb_ad51_0242ac1c0002row0_col421\" class=\"data row0 col421\" >1</td>\n",
              "                        <td id=\"T_02fbb8c6_17f6_11eb_ad51_0242ac1c0002row0_col422\" class=\"data row0 col422\" >1</td>\n",
              "                        <td id=\"T_02fbb8c6_17f6_11eb_ad51_0242ac1c0002row0_col423\" class=\"data row0 col423\" >0</td>\n",
              "                        <td id=\"T_02fbb8c6_17f6_11eb_ad51_0242ac1c0002row0_col424\" class=\"data row0 col424\" >1</td>\n",
              "                        <td id=\"T_02fbb8c6_17f6_11eb_ad51_0242ac1c0002row0_col425\" class=\"data row0 col425\" >1</td>\n",
              "                        <td id=\"T_02fbb8c6_17f6_11eb_ad51_0242ac1c0002row0_col426\" class=\"data row0 col426\" >1</td>\n",
              "                        <td id=\"T_02fbb8c6_17f6_11eb_ad51_0242ac1c0002row0_col427\" class=\"data row0 col427\" >1</td>\n",
              "                        <td id=\"T_02fbb8c6_17f6_11eb_ad51_0242ac1c0002row0_col428\" class=\"data row0 col428\" >1</td>\n",
              "                        <td id=\"T_02fbb8c6_17f6_11eb_ad51_0242ac1c0002row0_col429\" class=\"data row0 col429\" >0</td>\n",
              "                        <td id=\"T_02fbb8c6_17f6_11eb_ad51_0242ac1c0002row0_col430\" class=\"data row0 col430\" >1</td>\n",
              "                        <td id=\"T_02fbb8c6_17f6_11eb_ad51_0242ac1c0002row0_col431\" class=\"data row0 col431\" >0</td>\n",
              "                        <td id=\"T_02fbb8c6_17f6_11eb_ad51_0242ac1c0002row0_col432\" class=\"data row0 col432\" >1</td>\n",
              "                        <td id=\"T_02fbb8c6_17f6_11eb_ad51_0242ac1c0002row0_col433\" class=\"data row0 col433\" >0</td>\n",
              "                        <td id=\"T_02fbb8c6_17f6_11eb_ad51_0242ac1c0002row0_col434\" class=\"data row0 col434\" >1</td>\n",
              "                        <td id=\"T_02fbb8c6_17f6_11eb_ad51_0242ac1c0002row0_col435\" class=\"data row0 col435\" >1</td>\n",
              "                        <td id=\"T_02fbb8c6_17f6_11eb_ad51_0242ac1c0002row0_col436\" class=\"data row0 col436\" >0</td>\n",
              "                        <td id=\"T_02fbb8c6_17f6_11eb_ad51_0242ac1c0002row0_col437\" class=\"data row0 col437\" >1</td>\n",
              "                        <td id=\"T_02fbb8c6_17f6_11eb_ad51_0242ac1c0002row0_col438\" class=\"data row0 col438\" >1</td>\n",
              "                        <td id=\"T_02fbb8c6_17f6_11eb_ad51_0242ac1c0002row0_col439\" class=\"data row0 col439\" >0</td>\n",
              "                        <td id=\"T_02fbb8c6_17f6_11eb_ad51_0242ac1c0002row0_col440\" class=\"data row0 col440\" >0</td>\n",
              "                        <td id=\"T_02fbb8c6_17f6_11eb_ad51_0242ac1c0002row0_col441\" class=\"data row0 col441\" >1</td>\n",
              "                        <td id=\"T_02fbb8c6_17f6_11eb_ad51_0242ac1c0002row0_col442\" class=\"data row0 col442\" >0</td>\n",
              "                        <td id=\"T_02fbb8c6_17f6_11eb_ad51_0242ac1c0002row0_col443\" class=\"data row0 col443\" >1</td>\n",
              "                        <td id=\"T_02fbb8c6_17f6_11eb_ad51_0242ac1c0002row0_col444\" class=\"data row0 col444\" >1</td>\n",
              "                        <td id=\"T_02fbb8c6_17f6_11eb_ad51_0242ac1c0002row0_col445\" class=\"data row0 col445\" >1</td>\n",
              "                        <td id=\"T_02fbb8c6_17f6_11eb_ad51_0242ac1c0002row0_col446\" class=\"data row0 col446\" >1</td>\n",
              "                        <td id=\"T_02fbb8c6_17f6_11eb_ad51_0242ac1c0002row0_col447\" class=\"data row0 col447\" >1</td>\n",
              "                        <td id=\"T_02fbb8c6_17f6_11eb_ad51_0242ac1c0002row0_col448\" class=\"data row0 col448\" >1</td>\n",
              "                        <td id=\"T_02fbb8c6_17f6_11eb_ad51_0242ac1c0002row0_col449\" class=\"data row0 col449\" >1</td>\n",
              "                        <td id=\"T_02fbb8c6_17f6_11eb_ad51_0242ac1c0002row0_col450\" class=\"data row0 col450\" >1</td>\n",
              "                        <td id=\"T_02fbb8c6_17f6_11eb_ad51_0242ac1c0002row0_col451\" class=\"data row0 col451\" >0</td>\n",
              "                        <td id=\"T_02fbb8c6_17f6_11eb_ad51_0242ac1c0002row0_col452\" class=\"data row0 col452\" >0</td>\n",
              "                        <td id=\"T_02fbb8c6_17f6_11eb_ad51_0242ac1c0002row0_col453\" class=\"data row0 col453\" >1</td>\n",
              "                        <td id=\"T_02fbb8c6_17f6_11eb_ad51_0242ac1c0002row0_col454\" class=\"data row0 col454\" >1</td>\n",
              "                        <td id=\"T_02fbb8c6_17f6_11eb_ad51_0242ac1c0002row0_col455\" class=\"data row0 col455\" >0</td>\n",
              "                        <td id=\"T_02fbb8c6_17f6_11eb_ad51_0242ac1c0002row0_col456\" class=\"data row0 col456\" >1</td>\n",
              "                        <td id=\"T_02fbb8c6_17f6_11eb_ad51_0242ac1c0002row0_col457\" class=\"data row0 col457\" >0</td>\n",
              "                        <td id=\"T_02fbb8c6_17f6_11eb_ad51_0242ac1c0002row0_col458\" class=\"data row0 col458\" >1</td>\n",
              "                        <td id=\"T_02fbb8c6_17f6_11eb_ad51_0242ac1c0002row0_col459\" class=\"data row0 col459\" >1</td>\n",
              "                        <td id=\"T_02fbb8c6_17f6_11eb_ad51_0242ac1c0002row0_col460\" class=\"data row0 col460\" >1</td>\n",
              "                        <td id=\"T_02fbb8c6_17f6_11eb_ad51_0242ac1c0002row0_col461\" class=\"data row0 col461\" >1</td>\n",
              "                        <td id=\"T_02fbb8c6_17f6_11eb_ad51_0242ac1c0002row0_col462\" class=\"data row0 col462\" >1</td>\n",
              "                        <td id=\"T_02fbb8c6_17f6_11eb_ad51_0242ac1c0002row0_col463\" class=\"data row0 col463\" >1</td>\n",
              "                        <td id=\"T_02fbb8c6_17f6_11eb_ad51_0242ac1c0002row0_col464\" class=\"data row0 col464\" >1</td>\n",
              "                        <td id=\"T_02fbb8c6_17f6_11eb_ad51_0242ac1c0002row0_col465\" class=\"data row0 col465\" >0</td>\n",
              "                        <td id=\"T_02fbb8c6_17f6_11eb_ad51_0242ac1c0002row0_col466\" class=\"data row0 col466\" >1</td>\n",
              "                        <td id=\"T_02fbb8c6_17f6_11eb_ad51_0242ac1c0002row0_col467\" class=\"data row0 col467\" >2</td>\n",
              "                        <td id=\"T_02fbb8c6_17f6_11eb_ad51_0242ac1c0002row0_col468\" class=\"data row0 col468\" >0</td>\n",
              "                        <td id=\"T_02fbb8c6_17f6_11eb_ad51_0242ac1c0002row0_col469\" class=\"data row0 col469\" >1</td>\n",
              "                        <td id=\"T_02fbb8c6_17f6_11eb_ad51_0242ac1c0002row0_col470\" class=\"data row0 col470\" >1</td>\n",
              "                        <td id=\"T_02fbb8c6_17f6_11eb_ad51_0242ac1c0002row0_col471\" class=\"data row0 col471\" >1</td>\n",
              "                        <td id=\"T_02fbb8c6_17f6_11eb_ad51_0242ac1c0002row0_col472\" class=\"data row0 col472\" >0</td>\n",
              "                        <td id=\"T_02fbb8c6_17f6_11eb_ad51_0242ac1c0002row0_col473\" class=\"data row0 col473\" >1</td>\n",
              "                        <td id=\"T_02fbb8c6_17f6_11eb_ad51_0242ac1c0002row0_col474\" class=\"data row0 col474\" >1</td>\n",
              "                        <td id=\"T_02fbb8c6_17f6_11eb_ad51_0242ac1c0002row0_col475\" class=\"data row0 col475\" >0</td>\n",
              "                        <td id=\"T_02fbb8c6_17f6_11eb_ad51_0242ac1c0002row0_col476\" class=\"data row0 col476\" >0</td>\n",
              "                        <td id=\"T_02fbb8c6_17f6_11eb_ad51_0242ac1c0002row0_col477\" class=\"data row0 col477\" >1</td>\n",
              "                        <td id=\"T_02fbb8c6_17f6_11eb_ad51_0242ac1c0002row0_col478\" class=\"data row0 col478\" >1</td>\n",
              "                        <td id=\"T_02fbb8c6_17f6_11eb_ad51_0242ac1c0002row0_col479\" class=\"data row0 col479\" >1</td>\n",
              "                        <td id=\"T_02fbb8c6_17f6_11eb_ad51_0242ac1c0002row0_col480\" class=\"data row0 col480\" >0</td>\n",
              "                        <td id=\"T_02fbb8c6_17f6_11eb_ad51_0242ac1c0002row0_col481\" class=\"data row0 col481\" >1</td>\n",
              "                        <td id=\"T_02fbb8c6_17f6_11eb_ad51_0242ac1c0002row0_col482\" class=\"data row0 col482\" >1</td>\n",
              "                        <td id=\"T_02fbb8c6_17f6_11eb_ad51_0242ac1c0002row0_col483\" class=\"data row0 col483\" >0</td>\n",
              "                        <td id=\"T_02fbb8c6_17f6_11eb_ad51_0242ac1c0002row0_col484\" class=\"data row0 col484\" >3</td>\n",
              "                        <td id=\"T_02fbb8c6_17f6_11eb_ad51_0242ac1c0002row0_col485\" class=\"data row0 col485\" >1</td>\n",
              "                        <td id=\"T_02fbb8c6_17f6_11eb_ad51_0242ac1c0002row0_col486\" class=\"data row0 col486\" >1</td>\n",
              "                        <td id=\"T_02fbb8c6_17f6_11eb_ad51_0242ac1c0002row0_col487\" class=\"data row0 col487\" >1</td>\n",
              "                        <td id=\"T_02fbb8c6_17f6_11eb_ad51_0242ac1c0002row0_col488\" class=\"data row0 col488\" >0</td>\n",
              "                        <td id=\"T_02fbb8c6_17f6_11eb_ad51_0242ac1c0002row0_col489\" class=\"data row0 col489\" >1</td>\n",
              "                        <td id=\"T_02fbb8c6_17f6_11eb_ad51_0242ac1c0002row0_col490\" class=\"data row0 col490\" >0</td>\n",
              "                        <td id=\"T_02fbb8c6_17f6_11eb_ad51_0242ac1c0002row0_col491\" class=\"data row0 col491\" >1</td>\n",
              "                        <td id=\"T_02fbb8c6_17f6_11eb_ad51_0242ac1c0002row0_col492\" class=\"data row0 col492\" >0</td>\n",
              "                        <td id=\"T_02fbb8c6_17f6_11eb_ad51_0242ac1c0002row0_col493\" class=\"data row0 col493\" >1</td>\n",
              "                        <td id=\"T_02fbb8c6_17f6_11eb_ad51_0242ac1c0002row0_col494\" class=\"data row0 col494\" >0</td>\n",
              "                        <td id=\"T_02fbb8c6_17f6_11eb_ad51_0242ac1c0002row0_col495\" class=\"data row0 col495\" >1</td>\n",
              "                        <td id=\"T_02fbb8c6_17f6_11eb_ad51_0242ac1c0002row0_col496\" class=\"data row0 col496\" >3</td>\n",
              "                        <td id=\"T_02fbb8c6_17f6_11eb_ad51_0242ac1c0002row0_col497\" class=\"data row0 col497\" >0</td>\n",
              "                        <td id=\"T_02fbb8c6_17f6_11eb_ad51_0242ac1c0002row0_col498\" class=\"data row0 col498\" >0</td>\n",
              "                        <td id=\"T_02fbb8c6_17f6_11eb_ad51_0242ac1c0002row0_col499\" class=\"data row0 col499\" >1</td>\n",
              "                        <td id=\"T_02fbb8c6_17f6_11eb_ad51_0242ac1c0002row0_col500\" class=\"data row0 col500\" >0</td>\n",
              "                        <td id=\"T_02fbb8c6_17f6_11eb_ad51_0242ac1c0002row0_col501\" class=\"data row0 col501\" >1</td>\n",
              "                        <td id=\"T_02fbb8c6_17f6_11eb_ad51_0242ac1c0002row0_col502\" class=\"data row0 col502\" >1</td>\n",
              "                        <td id=\"T_02fbb8c6_17f6_11eb_ad51_0242ac1c0002row0_col503\" class=\"data row0 col503\" >1</td>\n",
              "                        <td id=\"T_02fbb8c6_17f6_11eb_ad51_0242ac1c0002row0_col504\" class=\"data row0 col504\" >1</td>\n",
              "                        <td id=\"T_02fbb8c6_17f6_11eb_ad51_0242ac1c0002row0_col505\" class=\"data row0 col505\" >1</td>\n",
              "                        <td id=\"T_02fbb8c6_17f6_11eb_ad51_0242ac1c0002row0_col506\" class=\"data row0 col506\" >1</td>\n",
              "                        <td id=\"T_02fbb8c6_17f6_11eb_ad51_0242ac1c0002row0_col507\" class=\"data row0 col507\" >1</td>\n",
              "                        <td id=\"T_02fbb8c6_17f6_11eb_ad51_0242ac1c0002row0_col508\" class=\"data row0 col508\" >1</td>\n",
              "                        <td id=\"T_02fbb8c6_17f6_11eb_ad51_0242ac1c0002row0_col509\" class=\"data row0 col509\" >0</td>\n",
              "                        <td id=\"T_02fbb8c6_17f6_11eb_ad51_0242ac1c0002row0_col510\" class=\"data row0 col510\" >1</td>\n",
              "                        <td id=\"T_02fbb8c6_17f6_11eb_ad51_0242ac1c0002row0_col511\" class=\"data row0 col511\" >1</td>\n",
              "                        <td id=\"T_02fbb8c6_17f6_11eb_ad51_0242ac1c0002row0_col512\" class=\"data row0 col512\" >1</td>\n",
              "                        <td id=\"T_02fbb8c6_17f6_11eb_ad51_0242ac1c0002row0_col513\" class=\"data row0 col513\" >0</td>\n",
              "                        <td id=\"T_02fbb8c6_17f6_11eb_ad51_0242ac1c0002row0_col514\" class=\"data row0 col514\" >1</td>\n",
              "                        <td id=\"T_02fbb8c6_17f6_11eb_ad51_0242ac1c0002row0_col515\" class=\"data row0 col515\" >1</td>\n",
              "                        <td id=\"T_02fbb8c6_17f6_11eb_ad51_0242ac1c0002row0_col516\" class=\"data row0 col516\" >0</td>\n",
              "                        <td id=\"T_02fbb8c6_17f6_11eb_ad51_0242ac1c0002row0_col517\" class=\"data row0 col517\" >1</td>\n",
              "                        <td id=\"T_02fbb8c6_17f6_11eb_ad51_0242ac1c0002row0_col518\" class=\"data row0 col518\" >1</td>\n",
              "                        <td id=\"T_02fbb8c6_17f6_11eb_ad51_0242ac1c0002row0_col519\" class=\"data row0 col519\" >1</td>\n",
              "                        <td id=\"T_02fbb8c6_17f6_11eb_ad51_0242ac1c0002row0_col520\" class=\"data row0 col520\" >0</td>\n",
              "                        <td id=\"T_02fbb8c6_17f6_11eb_ad51_0242ac1c0002row0_col521\" class=\"data row0 col521\" >0</td>\n",
              "                        <td id=\"T_02fbb8c6_17f6_11eb_ad51_0242ac1c0002row0_col522\" class=\"data row0 col522\" >1</td>\n",
              "                        <td id=\"T_02fbb8c6_17f6_11eb_ad51_0242ac1c0002row0_col523\" class=\"data row0 col523\" >0</td>\n",
              "                        <td id=\"T_02fbb8c6_17f6_11eb_ad51_0242ac1c0002row0_col524\" class=\"data row0 col524\" >1</td>\n",
              "                        <td id=\"T_02fbb8c6_17f6_11eb_ad51_0242ac1c0002row0_col525\" class=\"data row0 col525\" >1</td>\n",
              "                        <td id=\"T_02fbb8c6_17f6_11eb_ad51_0242ac1c0002row0_col526\" class=\"data row0 col526\" >1</td>\n",
              "                        <td id=\"T_02fbb8c6_17f6_11eb_ad51_0242ac1c0002row0_col527\" class=\"data row0 col527\" >0</td>\n",
              "                        <td id=\"T_02fbb8c6_17f6_11eb_ad51_0242ac1c0002row0_col528\" class=\"data row0 col528\" >0</td>\n",
              "                        <td id=\"T_02fbb8c6_17f6_11eb_ad51_0242ac1c0002row0_col529\" class=\"data row0 col529\" >0</td>\n",
              "                        <td id=\"T_02fbb8c6_17f6_11eb_ad51_0242ac1c0002row0_col530\" class=\"data row0 col530\" >1</td>\n",
              "                        <td id=\"T_02fbb8c6_17f6_11eb_ad51_0242ac1c0002row0_col531\" class=\"data row0 col531\" >2</td>\n",
              "                        <td id=\"T_02fbb8c6_17f6_11eb_ad51_0242ac1c0002row0_col532\" class=\"data row0 col532\" >1</td>\n",
              "                        <td id=\"T_02fbb8c6_17f6_11eb_ad51_0242ac1c0002row0_col533\" class=\"data row0 col533\" >0</td>\n",
              "                        <td id=\"T_02fbb8c6_17f6_11eb_ad51_0242ac1c0002row0_col534\" class=\"data row0 col534\" >1</td>\n",
              "                        <td id=\"T_02fbb8c6_17f6_11eb_ad51_0242ac1c0002row0_col535\" class=\"data row0 col535\" >0</td>\n",
              "                        <td id=\"T_02fbb8c6_17f6_11eb_ad51_0242ac1c0002row0_col536\" class=\"data row0 col536\" >0</td>\n",
              "                        <td id=\"T_02fbb8c6_17f6_11eb_ad51_0242ac1c0002row0_col537\" class=\"data row0 col537\" >1</td>\n",
              "                        <td id=\"T_02fbb8c6_17f6_11eb_ad51_0242ac1c0002row0_col538\" class=\"data row0 col538\" >0</td>\n",
              "                        <td id=\"T_02fbb8c6_17f6_11eb_ad51_0242ac1c0002row0_col539\" class=\"data row0 col539\" >0</td>\n",
              "                        <td id=\"T_02fbb8c6_17f6_11eb_ad51_0242ac1c0002row0_col540\" class=\"data row0 col540\" >0</td>\n",
              "                        <td id=\"T_02fbb8c6_17f6_11eb_ad51_0242ac1c0002row0_col541\" class=\"data row0 col541\" >1</td>\n",
              "                        <td id=\"T_02fbb8c6_17f6_11eb_ad51_0242ac1c0002row0_col542\" class=\"data row0 col542\" >1</td>\n",
              "                        <td id=\"T_02fbb8c6_17f6_11eb_ad51_0242ac1c0002row0_col543\" class=\"data row0 col543\" >1</td>\n",
              "                        <td id=\"T_02fbb8c6_17f6_11eb_ad51_0242ac1c0002row0_col544\" class=\"data row0 col544\" >0</td>\n",
              "                        <td id=\"T_02fbb8c6_17f6_11eb_ad51_0242ac1c0002row0_col545\" class=\"data row0 col545\" >0</td>\n",
              "                        <td id=\"T_02fbb8c6_17f6_11eb_ad51_0242ac1c0002row0_col546\" class=\"data row0 col546\" >1</td>\n",
              "                        <td id=\"T_02fbb8c6_17f6_11eb_ad51_0242ac1c0002row0_col547\" class=\"data row0 col547\" >1</td>\n",
              "                        <td id=\"T_02fbb8c6_17f6_11eb_ad51_0242ac1c0002row0_col548\" class=\"data row0 col548\" >1</td>\n",
              "                        <td id=\"T_02fbb8c6_17f6_11eb_ad51_0242ac1c0002row0_col549\" class=\"data row0 col549\" >0</td>\n",
              "                        <td id=\"T_02fbb8c6_17f6_11eb_ad51_0242ac1c0002row0_col550\" class=\"data row0 col550\" >0</td>\n",
              "                        <td id=\"T_02fbb8c6_17f6_11eb_ad51_0242ac1c0002row0_col551\" class=\"data row0 col551\" >1</td>\n",
              "                        <td id=\"T_02fbb8c6_17f6_11eb_ad51_0242ac1c0002row0_col552\" class=\"data row0 col552\" >1</td>\n",
              "                        <td id=\"T_02fbb8c6_17f6_11eb_ad51_0242ac1c0002row0_col553\" class=\"data row0 col553\" >1</td>\n",
              "                        <td id=\"T_02fbb8c6_17f6_11eb_ad51_0242ac1c0002row0_col554\" class=\"data row0 col554\" >1</td>\n",
              "                        <td id=\"T_02fbb8c6_17f6_11eb_ad51_0242ac1c0002row0_col555\" class=\"data row0 col555\" >1</td>\n",
              "                        <td id=\"T_02fbb8c6_17f6_11eb_ad51_0242ac1c0002row0_col556\" class=\"data row0 col556\" >1</td>\n",
              "                        <td id=\"T_02fbb8c6_17f6_11eb_ad51_0242ac1c0002row0_col557\" class=\"data row0 col557\" >0</td>\n",
              "                        <td id=\"T_02fbb8c6_17f6_11eb_ad51_0242ac1c0002row0_col558\" class=\"data row0 col558\" >1</td>\n",
              "                        <td id=\"T_02fbb8c6_17f6_11eb_ad51_0242ac1c0002row0_col559\" class=\"data row0 col559\" >1</td>\n",
              "                        <td id=\"T_02fbb8c6_17f6_11eb_ad51_0242ac1c0002row0_col560\" class=\"data row0 col560\" >0</td>\n",
              "                        <td id=\"T_02fbb8c6_17f6_11eb_ad51_0242ac1c0002row0_col561\" class=\"data row0 col561\" >1</td>\n",
              "                        <td id=\"T_02fbb8c6_17f6_11eb_ad51_0242ac1c0002row0_col562\" class=\"data row0 col562\" >1</td>\n",
              "                        <td id=\"T_02fbb8c6_17f6_11eb_ad51_0242ac1c0002row0_col563\" class=\"data row0 col563\" >0</td>\n",
              "                        <td id=\"T_02fbb8c6_17f6_11eb_ad51_0242ac1c0002row0_col564\" class=\"data row0 col564\" >0</td>\n",
              "                        <td id=\"T_02fbb8c6_17f6_11eb_ad51_0242ac1c0002row0_col565\" class=\"data row0 col565\" >1</td>\n",
              "                        <td id=\"T_02fbb8c6_17f6_11eb_ad51_0242ac1c0002row0_col566\" class=\"data row0 col566\" >1</td>\n",
              "                        <td id=\"T_02fbb8c6_17f6_11eb_ad51_0242ac1c0002row0_col567\" class=\"data row0 col567\" >0</td>\n",
              "                        <td id=\"T_02fbb8c6_17f6_11eb_ad51_0242ac1c0002row0_col568\" class=\"data row0 col568\" >0</td>\n",
              "                        <td id=\"T_02fbb8c6_17f6_11eb_ad51_0242ac1c0002row0_col569\" class=\"data row0 col569\" >1</td>\n",
              "                        <td id=\"T_02fbb8c6_17f6_11eb_ad51_0242ac1c0002row0_col570\" class=\"data row0 col570\" >2</td>\n",
              "                        <td id=\"T_02fbb8c6_17f6_11eb_ad51_0242ac1c0002row0_col571\" class=\"data row0 col571\" >1</td>\n",
              "                        <td id=\"T_02fbb8c6_17f6_11eb_ad51_0242ac1c0002row0_col572\" class=\"data row0 col572\" >1</td>\n",
              "                        <td id=\"T_02fbb8c6_17f6_11eb_ad51_0242ac1c0002row0_col573\" class=\"data row0 col573\" >0</td>\n",
              "                        <td id=\"T_02fbb8c6_17f6_11eb_ad51_0242ac1c0002row0_col574\" class=\"data row0 col574\" >1</td>\n",
              "                        <td id=\"T_02fbb8c6_17f6_11eb_ad51_0242ac1c0002row0_col575\" class=\"data row0 col575\" >1</td>\n",
              "                        <td id=\"T_02fbb8c6_17f6_11eb_ad51_0242ac1c0002row0_col576\" class=\"data row0 col576\" >0</td>\n",
              "                        <td id=\"T_02fbb8c6_17f6_11eb_ad51_0242ac1c0002row0_col577\" class=\"data row0 col577\" >1</td>\n",
              "                        <td id=\"T_02fbb8c6_17f6_11eb_ad51_0242ac1c0002row0_col578\" class=\"data row0 col578\" >0</td>\n",
              "                        <td id=\"T_02fbb8c6_17f6_11eb_ad51_0242ac1c0002row0_col579\" class=\"data row0 col579\" >1</td>\n",
              "                        <td id=\"T_02fbb8c6_17f6_11eb_ad51_0242ac1c0002row0_col580\" class=\"data row0 col580\" >1</td>\n",
              "                        <td id=\"T_02fbb8c6_17f6_11eb_ad51_0242ac1c0002row0_col581\" class=\"data row0 col581\" >1</td>\n",
              "                        <td id=\"T_02fbb8c6_17f6_11eb_ad51_0242ac1c0002row0_col582\" class=\"data row0 col582\" >1</td>\n",
              "                        <td id=\"T_02fbb8c6_17f6_11eb_ad51_0242ac1c0002row0_col583\" class=\"data row0 col583\" >1</td>\n",
              "                        <td id=\"T_02fbb8c6_17f6_11eb_ad51_0242ac1c0002row0_col584\" class=\"data row0 col584\" >1</td>\n",
              "                        <td id=\"T_02fbb8c6_17f6_11eb_ad51_0242ac1c0002row0_col585\" class=\"data row0 col585\" >1</td>\n",
              "                        <td id=\"T_02fbb8c6_17f6_11eb_ad51_0242ac1c0002row0_col586\" class=\"data row0 col586\" >0</td>\n",
              "                        <td id=\"T_02fbb8c6_17f6_11eb_ad51_0242ac1c0002row0_col587\" class=\"data row0 col587\" >1</td>\n",
              "                        <td id=\"T_02fbb8c6_17f6_11eb_ad51_0242ac1c0002row0_col588\" class=\"data row0 col588\" >0</td>\n",
              "                        <td id=\"T_02fbb8c6_17f6_11eb_ad51_0242ac1c0002row0_col589\" class=\"data row0 col589\" >0</td>\n",
              "                        <td id=\"T_02fbb8c6_17f6_11eb_ad51_0242ac1c0002row0_col590\" class=\"data row0 col590\" >1</td>\n",
              "                        <td id=\"T_02fbb8c6_17f6_11eb_ad51_0242ac1c0002row0_col591\" class=\"data row0 col591\" >2</td>\n",
              "                        <td id=\"T_02fbb8c6_17f6_11eb_ad51_0242ac1c0002row0_col592\" class=\"data row0 col592\" >1</td>\n",
              "                        <td id=\"T_02fbb8c6_17f6_11eb_ad51_0242ac1c0002row0_col593\" class=\"data row0 col593\" >0</td>\n",
              "                        <td id=\"T_02fbb8c6_17f6_11eb_ad51_0242ac1c0002row0_col594\" class=\"data row0 col594\" >1</td>\n",
              "                        <td id=\"T_02fbb8c6_17f6_11eb_ad51_0242ac1c0002row0_col595\" class=\"data row0 col595\" >1</td>\n",
              "                        <td id=\"T_02fbb8c6_17f6_11eb_ad51_0242ac1c0002row0_col596\" class=\"data row0 col596\" >1</td>\n",
              "                        <td id=\"T_02fbb8c6_17f6_11eb_ad51_0242ac1c0002row0_col597\" class=\"data row0 col597\" >1</td>\n",
              "                        <td id=\"T_02fbb8c6_17f6_11eb_ad51_0242ac1c0002row0_col598\" class=\"data row0 col598\" >0</td>\n",
              "                        <td id=\"T_02fbb8c6_17f6_11eb_ad51_0242ac1c0002row0_col599\" class=\"data row0 col599\" >0</td>\n",
              "                        <td id=\"T_02fbb8c6_17f6_11eb_ad51_0242ac1c0002row0_col600\" class=\"data row0 col600\" >1</td>\n",
              "                        <td id=\"T_02fbb8c6_17f6_11eb_ad51_0242ac1c0002row0_col601\" class=\"data row0 col601\" >1</td>\n",
              "                        <td id=\"T_02fbb8c6_17f6_11eb_ad51_0242ac1c0002row0_col602\" class=\"data row0 col602\" >0</td>\n",
              "                        <td id=\"T_02fbb8c6_17f6_11eb_ad51_0242ac1c0002row0_col603\" class=\"data row0 col603\" >0</td>\n",
              "                        <td id=\"T_02fbb8c6_17f6_11eb_ad51_0242ac1c0002row0_col604\" class=\"data row0 col604\" >1</td>\n",
              "                        <td id=\"T_02fbb8c6_17f6_11eb_ad51_0242ac1c0002row0_col605\" class=\"data row0 col605\" >1</td>\n",
              "                        <td id=\"T_02fbb8c6_17f6_11eb_ad51_0242ac1c0002row0_col606\" class=\"data row0 col606\" >1</td>\n",
              "                        <td id=\"T_02fbb8c6_17f6_11eb_ad51_0242ac1c0002row0_col607\" class=\"data row0 col607\" >1</td>\n",
              "                        <td id=\"T_02fbb8c6_17f6_11eb_ad51_0242ac1c0002row0_col608\" class=\"data row0 col608\" >1</td>\n",
              "                        <td id=\"T_02fbb8c6_17f6_11eb_ad51_0242ac1c0002row0_col609\" class=\"data row0 col609\" >1</td>\n",
              "                        <td id=\"T_02fbb8c6_17f6_11eb_ad51_0242ac1c0002row0_col610\" class=\"data row0 col610\" >1</td>\n",
              "                        <td id=\"T_02fbb8c6_17f6_11eb_ad51_0242ac1c0002row0_col611\" class=\"data row0 col611\" >1</td>\n",
              "                        <td id=\"T_02fbb8c6_17f6_11eb_ad51_0242ac1c0002row0_col612\" class=\"data row0 col612\" >1</td>\n",
              "                        <td id=\"T_02fbb8c6_17f6_11eb_ad51_0242ac1c0002row0_col613\" class=\"data row0 col613\" >0</td>\n",
              "                        <td id=\"T_02fbb8c6_17f6_11eb_ad51_0242ac1c0002row0_col614\" class=\"data row0 col614\" >1</td>\n",
              "                        <td id=\"T_02fbb8c6_17f6_11eb_ad51_0242ac1c0002row0_col615\" class=\"data row0 col615\" >0</td>\n",
              "                        <td id=\"T_02fbb8c6_17f6_11eb_ad51_0242ac1c0002row0_col616\" class=\"data row0 col616\" >0</td>\n",
              "                        <td id=\"T_02fbb8c6_17f6_11eb_ad51_0242ac1c0002row0_col617\" class=\"data row0 col617\" >1</td>\n",
              "                        <td id=\"T_02fbb8c6_17f6_11eb_ad51_0242ac1c0002row0_col618\" class=\"data row0 col618\" >1</td>\n",
              "                        <td id=\"T_02fbb8c6_17f6_11eb_ad51_0242ac1c0002row0_col619\" class=\"data row0 col619\" >0</td>\n",
              "                        <td id=\"T_02fbb8c6_17f6_11eb_ad51_0242ac1c0002row0_col620\" class=\"data row0 col620\" >1</td>\n",
              "                        <td id=\"T_02fbb8c6_17f6_11eb_ad51_0242ac1c0002row0_col621\" class=\"data row0 col621\" >1</td>\n",
              "                        <td id=\"T_02fbb8c6_17f6_11eb_ad51_0242ac1c0002row0_col622\" class=\"data row0 col622\" >0</td>\n",
              "                        <td id=\"T_02fbb8c6_17f6_11eb_ad51_0242ac1c0002row0_col623\" class=\"data row0 col623\" >0</td>\n",
              "                        <td id=\"T_02fbb8c6_17f6_11eb_ad51_0242ac1c0002row0_col624\" class=\"data row0 col624\" >1</td>\n",
              "                        <td id=\"T_02fbb8c6_17f6_11eb_ad51_0242ac1c0002row0_col625\" class=\"data row0 col625\" >1</td>\n",
              "                        <td id=\"T_02fbb8c6_17f6_11eb_ad51_0242ac1c0002row0_col626\" class=\"data row0 col626\" >0</td>\n",
              "                        <td id=\"T_02fbb8c6_17f6_11eb_ad51_0242ac1c0002row0_col627\" class=\"data row0 col627\" >1</td>\n",
              "                        <td id=\"T_02fbb8c6_17f6_11eb_ad51_0242ac1c0002row0_col628\" class=\"data row0 col628\" >1</td>\n",
              "                        <td id=\"T_02fbb8c6_17f6_11eb_ad51_0242ac1c0002row0_col629\" class=\"data row0 col629\" >1</td>\n",
              "                        <td id=\"T_02fbb8c6_17f6_11eb_ad51_0242ac1c0002row0_col630\" class=\"data row0 col630\" >1</td>\n",
              "                        <td id=\"T_02fbb8c6_17f6_11eb_ad51_0242ac1c0002row0_col631\" class=\"data row0 col631\" >0</td>\n",
              "                        <td id=\"T_02fbb8c6_17f6_11eb_ad51_0242ac1c0002row0_col632\" class=\"data row0 col632\" >0</td>\n",
              "                        <td id=\"T_02fbb8c6_17f6_11eb_ad51_0242ac1c0002row0_col633\" class=\"data row0 col633\" >1</td>\n",
              "                        <td id=\"T_02fbb8c6_17f6_11eb_ad51_0242ac1c0002row0_col634\" class=\"data row0 col634\" >1</td>\n",
              "                        <td id=\"T_02fbb8c6_17f6_11eb_ad51_0242ac1c0002row0_col635\" class=\"data row0 col635\" >0</td>\n",
              "                        <td id=\"T_02fbb8c6_17f6_11eb_ad51_0242ac1c0002row0_col636\" class=\"data row0 col636\" >1</td>\n",
              "                        <td id=\"T_02fbb8c6_17f6_11eb_ad51_0242ac1c0002row0_col637\" class=\"data row0 col637\" >0</td>\n",
              "                        <td id=\"T_02fbb8c6_17f6_11eb_ad51_0242ac1c0002row0_col638\" class=\"data row0 col638\" >0</td>\n",
              "                        <td id=\"T_02fbb8c6_17f6_11eb_ad51_0242ac1c0002row0_col639\" class=\"data row0 col639\" >1</td>\n",
              "                        <td id=\"T_02fbb8c6_17f6_11eb_ad51_0242ac1c0002row0_col640\" class=\"data row0 col640\" >1</td>\n",
              "                        <td id=\"T_02fbb8c6_17f6_11eb_ad51_0242ac1c0002row0_col641\" class=\"data row0 col641\" >0</td>\n",
              "                        <td id=\"T_02fbb8c6_17f6_11eb_ad51_0242ac1c0002row0_col642\" class=\"data row0 col642\" >1</td>\n",
              "                        <td id=\"T_02fbb8c6_17f6_11eb_ad51_0242ac1c0002row0_col643\" class=\"data row0 col643\" >0</td>\n",
              "                        <td id=\"T_02fbb8c6_17f6_11eb_ad51_0242ac1c0002row0_col644\" class=\"data row0 col644\" >0</td>\n",
              "                        <td id=\"T_02fbb8c6_17f6_11eb_ad51_0242ac1c0002row0_col645\" class=\"data row0 col645\" >1</td>\n",
              "                        <td id=\"T_02fbb8c6_17f6_11eb_ad51_0242ac1c0002row0_col646\" class=\"data row0 col646\" >1</td>\n",
              "                        <td id=\"T_02fbb8c6_17f6_11eb_ad51_0242ac1c0002row0_col647\" class=\"data row0 col647\" >1</td>\n",
              "                        <td id=\"T_02fbb8c6_17f6_11eb_ad51_0242ac1c0002row0_col648\" class=\"data row0 col648\" >1</td>\n",
              "                        <td id=\"T_02fbb8c6_17f6_11eb_ad51_0242ac1c0002row0_col649\" class=\"data row0 col649\" >1</td>\n",
              "                        <td id=\"T_02fbb8c6_17f6_11eb_ad51_0242ac1c0002row0_col650\" class=\"data row0 col650\" >0</td>\n",
              "                        <td id=\"T_02fbb8c6_17f6_11eb_ad51_0242ac1c0002row0_col651\" class=\"data row0 col651\" >1</td>\n",
              "            </tr>\n",
              "            <tr>\n",
              "                        <th id=\"T_02fbb8c6_17f6_11eb_ad51_0242ac1c0002level0_row1\" class=\"row_heading level0 row1\" >1.0</th>\n",
              "                        <td id=\"T_02fbb8c6_17f6_11eb_ad51_0242ac1c0002row1_col0\" class=\"data row1 col0\" >0</td>\n",
              "                        <td id=\"T_02fbb8c6_17f6_11eb_ad51_0242ac1c0002row1_col1\" class=\"data row1 col1\" >1</td>\n",
              "                        <td id=\"T_02fbb8c6_17f6_11eb_ad51_0242ac1c0002row1_col2\" class=\"data row1 col2\" >1</td>\n",
              "                        <td id=\"T_02fbb8c6_17f6_11eb_ad51_0242ac1c0002row1_col3\" class=\"data row1 col3\" >1</td>\n",
              "                        <td id=\"T_02fbb8c6_17f6_11eb_ad51_0242ac1c0002row1_col4\" class=\"data row1 col4\" >1</td>\n",
              "                        <td id=\"T_02fbb8c6_17f6_11eb_ad51_0242ac1c0002row1_col5\" class=\"data row1 col5\" >1</td>\n",
              "                        <td id=\"T_02fbb8c6_17f6_11eb_ad51_0242ac1c0002row1_col6\" class=\"data row1 col6\" >0</td>\n",
              "                        <td id=\"T_02fbb8c6_17f6_11eb_ad51_0242ac1c0002row1_col7\" class=\"data row1 col7\" >0</td>\n",
              "                        <td id=\"T_02fbb8c6_17f6_11eb_ad51_0242ac1c0002row1_col8\" class=\"data row1 col8\" >3</td>\n",
              "                        <td id=\"T_02fbb8c6_17f6_11eb_ad51_0242ac1c0002row1_col9\" class=\"data row1 col9\" >1</td>\n",
              "                        <td id=\"T_02fbb8c6_17f6_11eb_ad51_0242ac1c0002row1_col10\" class=\"data row1 col10\" >2</td>\n",
              "                        <td id=\"T_02fbb8c6_17f6_11eb_ad51_0242ac1c0002row1_col11\" class=\"data row1 col11\" >1</td>\n",
              "                        <td id=\"T_02fbb8c6_17f6_11eb_ad51_0242ac1c0002row1_col12\" class=\"data row1 col12\" >0</td>\n",
              "                        <td id=\"T_02fbb8c6_17f6_11eb_ad51_0242ac1c0002row1_col13\" class=\"data row1 col13\" >2</td>\n",
              "                        <td id=\"T_02fbb8c6_17f6_11eb_ad51_0242ac1c0002row1_col14\" class=\"data row1 col14\" >0</td>\n",
              "                        <td id=\"T_02fbb8c6_17f6_11eb_ad51_0242ac1c0002row1_col15\" class=\"data row1 col15\" >1</td>\n",
              "                        <td id=\"T_02fbb8c6_17f6_11eb_ad51_0242ac1c0002row1_col16\" class=\"data row1 col16\" >0</td>\n",
              "                        <td id=\"T_02fbb8c6_17f6_11eb_ad51_0242ac1c0002row1_col17\" class=\"data row1 col17\" >1</td>\n",
              "                        <td id=\"T_02fbb8c6_17f6_11eb_ad51_0242ac1c0002row1_col18\" class=\"data row1 col18\" >0</td>\n",
              "                        <td id=\"T_02fbb8c6_17f6_11eb_ad51_0242ac1c0002row1_col19\" class=\"data row1 col19\" >1</td>\n",
              "                        <td id=\"T_02fbb8c6_17f6_11eb_ad51_0242ac1c0002row1_col20\" class=\"data row1 col20\" >0</td>\n",
              "                        <td id=\"T_02fbb8c6_17f6_11eb_ad51_0242ac1c0002row1_col21\" class=\"data row1 col21\" >1</td>\n",
              "                        <td id=\"T_02fbb8c6_17f6_11eb_ad51_0242ac1c0002row1_col22\" class=\"data row1 col22\" >1</td>\n",
              "                        <td id=\"T_02fbb8c6_17f6_11eb_ad51_0242ac1c0002row1_col23\" class=\"data row1 col23\" >1</td>\n",
              "                        <td id=\"T_02fbb8c6_17f6_11eb_ad51_0242ac1c0002row1_col24\" class=\"data row1 col24\" >3</td>\n",
              "                        <td id=\"T_02fbb8c6_17f6_11eb_ad51_0242ac1c0002row1_col25\" class=\"data row1 col25\" >0</td>\n",
              "                        <td id=\"T_02fbb8c6_17f6_11eb_ad51_0242ac1c0002row1_col26\" class=\"data row1 col26\" >2</td>\n",
              "                        <td id=\"T_02fbb8c6_17f6_11eb_ad51_0242ac1c0002row1_col27\" class=\"data row1 col27\" >4</td>\n",
              "                        <td id=\"T_02fbb8c6_17f6_11eb_ad51_0242ac1c0002row1_col28\" class=\"data row1 col28\" >0</td>\n",
              "                        <td id=\"T_02fbb8c6_17f6_11eb_ad51_0242ac1c0002row1_col29\" class=\"data row1 col29\" >0</td>\n",
              "                        <td id=\"T_02fbb8c6_17f6_11eb_ad51_0242ac1c0002row1_col30\" class=\"data row1 col30\" >1</td>\n",
              "                        <td id=\"T_02fbb8c6_17f6_11eb_ad51_0242ac1c0002row1_col31\" class=\"data row1 col31\" >1</td>\n",
              "                        <td id=\"T_02fbb8c6_17f6_11eb_ad51_0242ac1c0002row1_col32\" class=\"data row1 col32\" >0</td>\n",
              "                        <td id=\"T_02fbb8c6_17f6_11eb_ad51_0242ac1c0002row1_col33\" class=\"data row1 col33\" >1</td>\n",
              "                        <td id=\"T_02fbb8c6_17f6_11eb_ad51_0242ac1c0002row1_col34\" class=\"data row1 col34\" >1</td>\n",
              "                        <td id=\"T_02fbb8c6_17f6_11eb_ad51_0242ac1c0002row1_col35\" class=\"data row1 col35\" >1</td>\n",
              "                        <td id=\"T_02fbb8c6_17f6_11eb_ad51_0242ac1c0002row1_col36\" class=\"data row1 col36\" >0</td>\n",
              "                        <td id=\"T_02fbb8c6_17f6_11eb_ad51_0242ac1c0002row1_col37\" class=\"data row1 col37\" >2</td>\n",
              "                        <td id=\"T_02fbb8c6_17f6_11eb_ad51_0242ac1c0002row1_col38\" class=\"data row1 col38\" >0</td>\n",
              "                        <td id=\"T_02fbb8c6_17f6_11eb_ad51_0242ac1c0002row1_col39\" class=\"data row1 col39\" >0</td>\n",
              "                        <td id=\"T_02fbb8c6_17f6_11eb_ad51_0242ac1c0002row1_col40\" class=\"data row1 col40\" >0</td>\n",
              "                        <td id=\"T_02fbb8c6_17f6_11eb_ad51_0242ac1c0002row1_col41\" class=\"data row1 col41\" >2</td>\n",
              "                        <td id=\"T_02fbb8c6_17f6_11eb_ad51_0242ac1c0002row1_col42\" class=\"data row1 col42\" >1</td>\n",
              "                        <td id=\"T_02fbb8c6_17f6_11eb_ad51_0242ac1c0002row1_col43\" class=\"data row1 col43\" >0</td>\n",
              "                        <td id=\"T_02fbb8c6_17f6_11eb_ad51_0242ac1c0002row1_col44\" class=\"data row1 col44\" >0</td>\n",
              "                        <td id=\"T_02fbb8c6_17f6_11eb_ad51_0242ac1c0002row1_col45\" class=\"data row1 col45\" >0</td>\n",
              "                        <td id=\"T_02fbb8c6_17f6_11eb_ad51_0242ac1c0002row1_col46\" class=\"data row1 col46\" >0</td>\n",
              "                        <td id=\"T_02fbb8c6_17f6_11eb_ad51_0242ac1c0002row1_col47\" class=\"data row1 col47\" >0</td>\n",
              "                        <td id=\"T_02fbb8c6_17f6_11eb_ad51_0242ac1c0002row1_col48\" class=\"data row1 col48\" >0</td>\n",
              "                        <td id=\"T_02fbb8c6_17f6_11eb_ad51_0242ac1c0002row1_col49\" class=\"data row1 col49\" >3</td>\n",
              "                        <td id=\"T_02fbb8c6_17f6_11eb_ad51_0242ac1c0002row1_col50\" class=\"data row1 col50\" >1</td>\n",
              "                        <td id=\"T_02fbb8c6_17f6_11eb_ad51_0242ac1c0002row1_col51\" class=\"data row1 col51\" >0</td>\n",
              "                        <td id=\"T_02fbb8c6_17f6_11eb_ad51_0242ac1c0002row1_col52\" class=\"data row1 col52\" >1</td>\n",
              "                        <td id=\"T_02fbb8c6_17f6_11eb_ad51_0242ac1c0002row1_col53\" class=\"data row1 col53\" >1</td>\n",
              "                        <td id=\"T_02fbb8c6_17f6_11eb_ad51_0242ac1c0002row1_col54\" class=\"data row1 col54\" >0</td>\n",
              "                        <td id=\"T_02fbb8c6_17f6_11eb_ad51_0242ac1c0002row1_col55\" class=\"data row1 col55\" >2</td>\n",
              "                        <td id=\"T_02fbb8c6_17f6_11eb_ad51_0242ac1c0002row1_col56\" class=\"data row1 col56\" >0</td>\n",
              "                        <td id=\"T_02fbb8c6_17f6_11eb_ad51_0242ac1c0002row1_col57\" class=\"data row1 col57\" >0</td>\n",
              "                        <td id=\"T_02fbb8c6_17f6_11eb_ad51_0242ac1c0002row1_col58\" class=\"data row1 col58\" >1</td>\n",
              "                        <td id=\"T_02fbb8c6_17f6_11eb_ad51_0242ac1c0002row1_col59\" class=\"data row1 col59\" >2</td>\n",
              "                        <td id=\"T_02fbb8c6_17f6_11eb_ad51_0242ac1c0002row1_col60\" class=\"data row1 col60\" >0</td>\n",
              "                        <td id=\"T_02fbb8c6_17f6_11eb_ad51_0242ac1c0002row1_col61\" class=\"data row1 col61\" >0</td>\n",
              "                        <td id=\"T_02fbb8c6_17f6_11eb_ad51_0242ac1c0002row1_col62\" class=\"data row1 col62\" >2</td>\n",
              "                        <td id=\"T_02fbb8c6_17f6_11eb_ad51_0242ac1c0002row1_col63\" class=\"data row1 col63\" >1</td>\n",
              "                        <td id=\"T_02fbb8c6_17f6_11eb_ad51_0242ac1c0002row1_col64\" class=\"data row1 col64\" >0</td>\n",
              "                        <td id=\"T_02fbb8c6_17f6_11eb_ad51_0242ac1c0002row1_col65\" class=\"data row1 col65\" >1</td>\n",
              "                        <td id=\"T_02fbb8c6_17f6_11eb_ad51_0242ac1c0002row1_col66\" class=\"data row1 col66\" >0</td>\n",
              "                        <td id=\"T_02fbb8c6_17f6_11eb_ad51_0242ac1c0002row1_col67\" class=\"data row1 col67\" >0</td>\n",
              "                        <td id=\"T_02fbb8c6_17f6_11eb_ad51_0242ac1c0002row1_col68\" class=\"data row1 col68\" >0</td>\n",
              "                        <td id=\"T_02fbb8c6_17f6_11eb_ad51_0242ac1c0002row1_col69\" class=\"data row1 col69\" >1</td>\n",
              "                        <td id=\"T_02fbb8c6_17f6_11eb_ad51_0242ac1c0002row1_col70\" class=\"data row1 col70\" >0</td>\n",
              "                        <td id=\"T_02fbb8c6_17f6_11eb_ad51_0242ac1c0002row1_col71\" class=\"data row1 col71\" >0</td>\n",
              "                        <td id=\"T_02fbb8c6_17f6_11eb_ad51_0242ac1c0002row1_col72\" class=\"data row1 col72\" >0</td>\n",
              "                        <td id=\"T_02fbb8c6_17f6_11eb_ad51_0242ac1c0002row1_col73\" class=\"data row1 col73\" >2</td>\n",
              "                        <td id=\"T_02fbb8c6_17f6_11eb_ad51_0242ac1c0002row1_col74\" class=\"data row1 col74\" >1</td>\n",
              "                        <td id=\"T_02fbb8c6_17f6_11eb_ad51_0242ac1c0002row1_col75\" class=\"data row1 col75\" >0</td>\n",
              "                        <td id=\"T_02fbb8c6_17f6_11eb_ad51_0242ac1c0002row1_col76\" class=\"data row1 col76\" >1</td>\n",
              "                        <td id=\"T_02fbb8c6_17f6_11eb_ad51_0242ac1c0002row1_col77\" class=\"data row1 col77\" >1</td>\n",
              "                        <td id=\"T_02fbb8c6_17f6_11eb_ad51_0242ac1c0002row1_col78\" class=\"data row1 col78\" >0</td>\n",
              "                        <td id=\"T_02fbb8c6_17f6_11eb_ad51_0242ac1c0002row1_col79\" class=\"data row1 col79\" >1</td>\n",
              "                        <td id=\"T_02fbb8c6_17f6_11eb_ad51_0242ac1c0002row1_col80\" class=\"data row1 col80\" >1</td>\n",
              "                        <td id=\"T_02fbb8c6_17f6_11eb_ad51_0242ac1c0002row1_col81\" class=\"data row1 col81\" >0</td>\n",
              "                        <td id=\"T_02fbb8c6_17f6_11eb_ad51_0242ac1c0002row1_col82\" class=\"data row1 col82\" >0</td>\n",
              "                        <td id=\"T_02fbb8c6_17f6_11eb_ad51_0242ac1c0002row1_col83\" class=\"data row1 col83\" >0</td>\n",
              "                        <td id=\"T_02fbb8c6_17f6_11eb_ad51_0242ac1c0002row1_col84\" class=\"data row1 col84\" >0</td>\n",
              "                        <td id=\"T_02fbb8c6_17f6_11eb_ad51_0242ac1c0002row1_col85\" class=\"data row1 col85\" >0</td>\n",
              "                        <td id=\"T_02fbb8c6_17f6_11eb_ad51_0242ac1c0002row1_col86\" class=\"data row1 col86\" >0</td>\n",
              "                        <td id=\"T_02fbb8c6_17f6_11eb_ad51_0242ac1c0002row1_col87\" class=\"data row1 col87\" >1</td>\n",
              "                        <td id=\"T_02fbb8c6_17f6_11eb_ad51_0242ac1c0002row1_col88\" class=\"data row1 col88\" >0</td>\n",
              "                        <td id=\"T_02fbb8c6_17f6_11eb_ad51_0242ac1c0002row1_col89\" class=\"data row1 col89\" >0</td>\n",
              "                        <td id=\"T_02fbb8c6_17f6_11eb_ad51_0242ac1c0002row1_col90\" class=\"data row1 col90\" >0</td>\n",
              "                        <td id=\"T_02fbb8c6_17f6_11eb_ad51_0242ac1c0002row1_col91\" class=\"data row1 col91\" >1</td>\n",
              "                        <td id=\"T_02fbb8c6_17f6_11eb_ad51_0242ac1c0002row1_col92\" class=\"data row1 col92\" >2</td>\n",
              "                        <td id=\"T_02fbb8c6_17f6_11eb_ad51_0242ac1c0002row1_col93\" class=\"data row1 col93\" >1</td>\n",
              "                        <td id=\"T_02fbb8c6_17f6_11eb_ad51_0242ac1c0002row1_col94\" class=\"data row1 col94\" >0</td>\n",
              "                        <td id=\"T_02fbb8c6_17f6_11eb_ad51_0242ac1c0002row1_col95\" class=\"data row1 col95\" >0</td>\n",
              "                        <td id=\"T_02fbb8c6_17f6_11eb_ad51_0242ac1c0002row1_col96\" class=\"data row1 col96\" >0</td>\n",
              "                        <td id=\"T_02fbb8c6_17f6_11eb_ad51_0242ac1c0002row1_col97\" class=\"data row1 col97\" >0</td>\n",
              "                        <td id=\"T_02fbb8c6_17f6_11eb_ad51_0242ac1c0002row1_col98\" class=\"data row1 col98\" >0</td>\n",
              "                        <td id=\"T_02fbb8c6_17f6_11eb_ad51_0242ac1c0002row1_col99\" class=\"data row1 col99\" >0</td>\n",
              "                        <td id=\"T_02fbb8c6_17f6_11eb_ad51_0242ac1c0002row1_col100\" class=\"data row1 col100\" >1</td>\n",
              "                        <td id=\"T_02fbb8c6_17f6_11eb_ad51_0242ac1c0002row1_col101\" class=\"data row1 col101\" >1</td>\n",
              "                        <td id=\"T_02fbb8c6_17f6_11eb_ad51_0242ac1c0002row1_col102\" class=\"data row1 col102\" >0</td>\n",
              "                        <td id=\"T_02fbb8c6_17f6_11eb_ad51_0242ac1c0002row1_col103\" class=\"data row1 col103\" >0</td>\n",
              "                        <td id=\"T_02fbb8c6_17f6_11eb_ad51_0242ac1c0002row1_col104\" class=\"data row1 col104\" >0</td>\n",
              "                        <td id=\"T_02fbb8c6_17f6_11eb_ad51_0242ac1c0002row1_col105\" class=\"data row1 col105\" >0</td>\n",
              "                        <td id=\"T_02fbb8c6_17f6_11eb_ad51_0242ac1c0002row1_col106\" class=\"data row1 col106\" >1</td>\n",
              "                        <td id=\"T_02fbb8c6_17f6_11eb_ad51_0242ac1c0002row1_col107\" class=\"data row1 col107\" >0</td>\n",
              "                        <td id=\"T_02fbb8c6_17f6_11eb_ad51_0242ac1c0002row1_col108\" class=\"data row1 col108\" >0</td>\n",
              "                        <td id=\"T_02fbb8c6_17f6_11eb_ad51_0242ac1c0002row1_col109\" class=\"data row1 col109\" >0</td>\n",
              "                        <td id=\"T_02fbb8c6_17f6_11eb_ad51_0242ac1c0002row1_col110\" class=\"data row1 col110\" >1</td>\n",
              "                        <td id=\"T_02fbb8c6_17f6_11eb_ad51_0242ac1c0002row1_col111\" class=\"data row1 col111\" >0</td>\n",
              "                        <td id=\"T_02fbb8c6_17f6_11eb_ad51_0242ac1c0002row1_col112\" class=\"data row1 col112\" >0</td>\n",
              "                        <td id=\"T_02fbb8c6_17f6_11eb_ad51_0242ac1c0002row1_col113\" class=\"data row1 col113\" >1</td>\n",
              "                        <td id=\"T_02fbb8c6_17f6_11eb_ad51_0242ac1c0002row1_col114\" class=\"data row1 col114\" >0</td>\n",
              "                        <td id=\"T_02fbb8c6_17f6_11eb_ad51_0242ac1c0002row1_col115\" class=\"data row1 col115\" >1</td>\n",
              "                        <td id=\"T_02fbb8c6_17f6_11eb_ad51_0242ac1c0002row1_col116\" class=\"data row1 col116\" >2</td>\n",
              "                        <td id=\"T_02fbb8c6_17f6_11eb_ad51_0242ac1c0002row1_col117\" class=\"data row1 col117\" >0</td>\n",
              "                        <td id=\"T_02fbb8c6_17f6_11eb_ad51_0242ac1c0002row1_col118\" class=\"data row1 col118\" >0</td>\n",
              "                        <td id=\"T_02fbb8c6_17f6_11eb_ad51_0242ac1c0002row1_col119\" class=\"data row1 col119\" >0</td>\n",
              "                        <td id=\"T_02fbb8c6_17f6_11eb_ad51_0242ac1c0002row1_col120\" class=\"data row1 col120\" >0</td>\n",
              "                        <td id=\"T_02fbb8c6_17f6_11eb_ad51_0242ac1c0002row1_col121\" class=\"data row1 col121\" >1</td>\n",
              "                        <td id=\"T_02fbb8c6_17f6_11eb_ad51_0242ac1c0002row1_col122\" class=\"data row1 col122\" >0</td>\n",
              "                        <td id=\"T_02fbb8c6_17f6_11eb_ad51_0242ac1c0002row1_col123\" class=\"data row1 col123\" >0</td>\n",
              "                        <td id=\"T_02fbb8c6_17f6_11eb_ad51_0242ac1c0002row1_col124\" class=\"data row1 col124\" >1</td>\n",
              "                        <td id=\"T_02fbb8c6_17f6_11eb_ad51_0242ac1c0002row1_col125\" class=\"data row1 col125\" >0</td>\n",
              "                        <td id=\"T_02fbb8c6_17f6_11eb_ad51_0242ac1c0002row1_col126\" class=\"data row1 col126\" >0</td>\n",
              "                        <td id=\"T_02fbb8c6_17f6_11eb_ad51_0242ac1c0002row1_col127\" class=\"data row1 col127\" >0</td>\n",
              "                        <td id=\"T_02fbb8c6_17f6_11eb_ad51_0242ac1c0002row1_col128\" class=\"data row1 col128\" >1</td>\n",
              "                        <td id=\"T_02fbb8c6_17f6_11eb_ad51_0242ac1c0002row1_col129\" class=\"data row1 col129\" >1</td>\n",
              "                        <td id=\"T_02fbb8c6_17f6_11eb_ad51_0242ac1c0002row1_col130\" class=\"data row1 col130\" >0</td>\n",
              "                        <td id=\"T_02fbb8c6_17f6_11eb_ad51_0242ac1c0002row1_col131\" class=\"data row1 col131\" >0</td>\n",
              "                        <td id=\"T_02fbb8c6_17f6_11eb_ad51_0242ac1c0002row1_col132\" class=\"data row1 col132\" >0</td>\n",
              "                        <td id=\"T_02fbb8c6_17f6_11eb_ad51_0242ac1c0002row1_col133\" class=\"data row1 col133\" >2</td>\n",
              "                        <td id=\"T_02fbb8c6_17f6_11eb_ad51_0242ac1c0002row1_col134\" class=\"data row1 col134\" >0</td>\n",
              "                        <td id=\"T_02fbb8c6_17f6_11eb_ad51_0242ac1c0002row1_col135\" class=\"data row1 col135\" >0</td>\n",
              "                        <td id=\"T_02fbb8c6_17f6_11eb_ad51_0242ac1c0002row1_col136\" class=\"data row1 col136\" >1</td>\n",
              "                        <td id=\"T_02fbb8c6_17f6_11eb_ad51_0242ac1c0002row1_col137\" class=\"data row1 col137\" >0</td>\n",
              "                        <td id=\"T_02fbb8c6_17f6_11eb_ad51_0242ac1c0002row1_col138\" class=\"data row1 col138\" >0</td>\n",
              "                        <td id=\"T_02fbb8c6_17f6_11eb_ad51_0242ac1c0002row1_col139\" class=\"data row1 col139\" >0</td>\n",
              "                        <td id=\"T_02fbb8c6_17f6_11eb_ad51_0242ac1c0002row1_col140\" class=\"data row1 col140\" >1</td>\n",
              "                        <td id=\"T_02fbb8c6_17f6_11eb_ad51_0242ac1c0002row1_col141\" class=\"data row1 col141\" >0</td>\n",
              "                        <td id=\"T_02fbb8c6_17f6_11eb_ad51_0242ac1c0002row1_col142\" class=\"data row1 col142\" >0</td>\n",
              "                        <td id=\"T_02fbb8c6_17f6_11eb_ad51_0242ac1c0002row1_col143\" class=\"data row1 col143\" >0</td>\n",
              "                        <td id=\"T_02fbb8c6_17f6_11eb_ad51_0242ac1c0002row1_col144\" class=\"data row1 col144\" >0</td>\n",
              "                        <td id=\"T_02fbb8c6_17f6_11eb_ad51_0242ac1c0002row1_col145\" class=\"data row1 col145\" >1</td>\n",
              "                        <td id=\"T_02fbb8c6_17f6_11eb_ad51_0242ac1c0002row1_col146\" class=\"data row1 col146\" >0</td>\n",
              "                        <td id=\"T_02fbb8c6_17f6_11eb_ad51_0242ac1c0002row1_col147\" class=\"data row1 col147\" >0</td>\n",
              "                        <td id=\"T_02fbb8c6_17f6_11eb_ad51_0242ac1c0002row1_col148\" class=\"data row1 col148\" >2</td>\n",
              "                        <td id=\"T_02fbb8c6_17f6_11eb_ad51_0242ac1c0002row1_col149\" class=\"data row1 col149\" >1</td>\n",
              "                        <td id=\"T_02fbb8c6_17f6_11eb_ad51_0242ac1c0002row1_col150\" class=\"data row1 col150\" >0</td>\n",
              "                        <td id=\"T_02fbb8c6_17f6_11eb_ad51_0242ac1c0002row1_col151\" class=\"data row1 col151\" >0</td>\n",
              "                        <td id=\"T_02fbb8c6_17f6_11eb_ad51_0242ac1c0002row1_col152\" class=\"data row1 col152\" >0</td>\n",
              "                        <td id=\"T_02fbb8c6_17f6_11eb_ad51_0242ac1c0002row1_col153\" class=\"data row1 col153\" >0</td>\n",
              "                        <td id=\"T_02fbb8c6_17f6_11eb_ad51_0242ac1c0002row1_col154\" class=\"data row1 col154\" >1</td>\n",
              "                        <td id=\"T_02fbb8c6_17f6_11eb_ad51_0242ac1c0002row1_col155\" class=\"data row1 col155\" >0</td>\n",
              "                        <td id=\"T_02fbb8c6_17f6_11eb_ad51_0242ac1c0002row1_col156\" class=\"data row1 col156\" >0</td>\n",
              "                        <td id=\"T_02fbb8c6_17f6_11eb_ad51_0242ac1c0002row1_col157\" class=\"data row1 col157\" >0</td>\n",
              "                        <td id=\"T_02fbb8c6_17f6_11eb_ad51_0242ac1c0002row1_col158\" class=\"data row1 col158\" >0</td>\n",
              "                        <td id=\"T_02fbb8c6_17f6_11eb_ad51_0242ac1c0002row1_col159\" class=\"data row1 col159\" >0</td>\n",
              "                        <td id=\"T_02fbb8c6_17f6_11eb_ad51_0242ac1c0002row1_col160\" class=\"data row1 col160\" >0</td>\n",
              "                        <td id=\"T_02fbb8c6_17f6_11eb_ad51_0242ac1c0002row1_col161\" class=\"data row1 col161\" >2</td>\n",
              "                        <td id=\"T_02fbb8c6_17f6_11eb_ad51_0242ac1c0002row1_col162\" class=\"data row1 col162\" >0</td>\n",
              "                        <td id=\"T_02fbb8c6_17f6_11eb_ad51_0242ac1c0002row1_col163\" class=\"data row1 col163\" >1</td>\n",
              "                        <td id=\"T_02fbb8c6_17f6_11eb_ad51_0242ac1c0002row1_col164\" class=\"data row1 col164\" >0</td>\n",
              "                        <td id=\"T_02fbb8c6_17f6_11eb_ad51_0242ac1c0002row1_col165\" class=\"data row1 col165\" >0</td>\n",
              "                        <td id=\"T_02fbb8c6_17f6_11eb_ad51_0242ac1c0002row1_col166\" class=\"data row1 col166\" >1</td>\n",
              "                        <td id=\"T_02fbb8c6_17f6_11eb_ad51_0242ac1c0002row1_col167\" class=\"data row1 col167\" >0</td>\n",
              "                        <td id=\"T_02fbb8c6_17f6_11eb_ad51_0242ac1c0002row1_col168\" class=\"data row1 col168\" >1</td>\n",
              "                        <td id=\"T_02fbb8c6_17f6_11eb_ad51_0242ac1c0002row1_col169\" class=\"data row1 col169\" >3</td>\n",
              "                        <td id=\"T_02fbb8c6_17f6_11eb_ad51_0242ac1c0002row1_col170\" class=\"data row1 col170\" >1</td>\n",
              "                        <td id=\"T_02fbb8c6_17f6_11eb_ad51_0242ac1c0002row1_col171\" class=\"data row1 col171\" >0</td>\n",
              "                        <td id=\"T_02fbb8c6_17f6_11eb_ad51_0242ac1c0002row1_col172\" class=\"data row1 col172\" >1</td>\n",
              "                        <td id=\"T_02fbb8c6_17f6_11eb_ad51_0242ac1c0002row1_col173\" class=\"data row1 col173\" >0</td>\n",
              "                        <td id=\"T_02fbb8c6_17f6_11eb_ad51_0242ac1c0002row1_col174\" class=\"data row1 col174\" >0</td>\n",
              "                        <td id=\"T_02fbb8c6_17f6_11eb_ad51_0242ac1c0002row1_col175\" class=\"data row1 col175\" >0</td>\n",
              "                        <td id=\"T_02fbb8c6_17f6_11eb_ad51_0242ac1c0002row1_col176\" class=\"data row1 col176\" >0</td>\n",
              "                        <td id=\"T_02fbb8c6_17f6_11eb_ad51_0242ac1c0002row1_col177\" class=\"data row1 col177\" >1</td>\n",
              "                        <td id=\"T_02fbb8c6_17f6_11eb_ad51_0242ac1c0002row1_col178\" class=\"data row1 col178\" >0</td>\n",
              "                        <td id=\"T_02fbb8c6_17f6_11eb_ad51_0242ac1c0002row1_col179\" class=\"data row1 col179\" >1</td>\n",
              "                        <td id=\"T_02fbb8c6_17f6_11eb_ad51_0242ac1c0002row1_col180\" class=\"data row1 col180\" >1</td>\n",
              "                        <td id=\"T_02fbb8c6_17f6_11eb_ad51_0242ac1c0002row1_col181\" class=\"data row1 col181\" >1</td>\n",
              "                        <td id=\"T_02fbb8c6_17f6_11eb_ad51_0242ac1c0002row1_col182\" class=\"data row1 col182\" >0</td>\n",
              "                        <td id=\"T_02fbb8c6_17f6_11eb_ad51_0242ac1c0002row1_col183\" class=\"data row1 col183\" >1</td>\n",
              "                        <td id=\"T_02fbb8c6_17f6_11eb_ad51_0242ac1c0002row1_col184\" class=\"data row1 col184\" >0</td>\n",
              "                        <td id=\"T_02fbb8c6_17f6_11eb_ad51_0242ac1c0002row1_col185\" class=\"data row1 col185\" >0</td>\n",
              "                        <td id=\"T_02fbb8c6_17f6_11eb_ad51_0242ac1c0002row1_col186\" class=\"data row1 col186\" >0</td>\n",
              "                        <td id=\"T_02fbb8c6_17f6_11eb_ad51_0242ac1c0002row1_col187\" class=\"data row1 col187\" >2</td>\n",
              "                        <td id=\"T_02fbb8c6_17f6_11eb_ad51_0242ac1c0002row1_col188\" class=\"data row1 col188\" >1</td>\n",
              "                        <td id=\"T_02fbb8c6_17f6_11eb_ad51_0242ac1c0002row1_col189\" class=\"data row1 col189\" >1</td>\n",
              "                        <td id=\"T_02fbb8c6_17f6_11eb_ad51_0242ac1c0002row1_col190\" class=\"data row1 col190\" >1</td>\n",
              "                        <td id=\"T_02fbb8c6_17f6_11eb_ad51_0242ac1c0002row1_col191\" class=\"data row1 col191\" >1</td>\n",
              "                        <td id=\"T_02fbb8c6_17f6_11eb_ad51_0242ac1c0002row1_col192\" class=\"data row1 col192\" >0</td>\n",
              "                        <td id=\"T_02fbb8c6_17f6_11eb_ad51_0242ac1c0002row1_col193\" class=\"data row1 col193\" >0</td>\n",
              "                        <td id=\"T_02fbb8c6_17f6_11eb_ad51_0242ac1c0002row1_col194\" class=\"data row1 col194\" >0</td>\n",
              "                        <td id=\"T_02fbb8c6_17f6_11eb_ad51_0242ac1c0002row1_col195\" class=\"data row1 col195\" >2</td>\n",
              "                        <td id=\"T_02fbb8c6_17f6_11eb_ad51_0242ac1c0002row1_col196\" class=\"data row1 col196\" >0</td>\n",
              "                        <td id=\"T_02fbb8c6_17f6_11eb_ad51_0242ac1c0002row1_col197\" class=\"data row1 col197\" >1</td>\n",
              "                        <td id=\"T_02fbb8c6_17f6_11eb_ad51_0242ac1c0002row1_col198\" class=\"data row1 col198\" >0</td>\n",
              "                        <td id=\"T_02fbb8c6_17f6_11eb_ad51_0242ac1c0002row1_col199\" class=\"data row1 col199\" >0</td>\n",
              "                        <td id=\"T_02fbb8c6_17f6_11eb_ad51_0242ac1c0002row1_col200\" class=\"data row1 col200\" >0</td>\n",
              "                        <td id=\"T_02fbb8c6_17f6_11eb_ad51_0242ac1c0002row1_col201\" class=\"data row1 col201\" >0</td>\n",
              "                        <td id=\"T_02fbb8c6_17f6_11eb_ad51_0242ac1c0002row1_col202\" class=\"data row1 col202\" >0</td>\n",
              "                        <td id=\"T_02fbb8c6_17f6_11eb_ad51_0242ac1c0002row1_col203\" class=\"data row1 col203\" >0</td>\n",
              "                        <td id=\"T_02fbb8c6_17f6_11eb_ad51_0242ac1c0002row1_col204\" class=\"data row1 col204\" >0</td>\n",
              "                        <td id=\"T_02fbb8c6_17f6_11eb_ad51_0242ac1c0002row1_col205\" class=\"data row1 col205\" >2</td>\n",
              "                        <td id=\"T_02fbb8c6_17f6_11eb_ad51_0242ac1c0002row1_col206\" class=\"data row1 col206\" >0</td>\n",
              "                        <td id=\"T_02fbb8c6_17f6_11eb_ad51_0242ac1c0002row1_col207\" class=\"data row1 col207\" >0</td>\n",
              "                        <td id=\"T_02fbb8c6_17f6_11eb_ad51_0242ac1c0002row1_col208\" class=\"data row1 col208\" >2</td>\n",
              "                        <td id=\"T_02fbb8c6_17f6_11eb_ad51_0242ac1c0002row1_col209\" class=\"data row1 col209\" >0</td>\n",
              "                        <td id=\"T_02fbb8c6_17f6_11eb_ad51_0242ac1c0002row1_col210\" class=\"data row1 col210\" >0</td>\n",
              "                        <td id=\"T_02fbb8c6_17f6_11eb_ad51_0242ac1c0002row1_col211\" class=\"data row1 col211\" >1</td>\n",
              "                        <td id=\"T_02fbb8c6_17f6_11eb_ad51_0242ac1c0002row1_col212\" class=\"data row1 col212\" >0</td>\n",
              "                        <td id=\"T_02fbb8c6_17f6_11eb_ad51_0242ac1c0002row1_col213\" class=\"data row1 col213\" >2</td>\n",
              "                        <td id=\"T_02fbb8c6_17f6_11eb_ad51_0242ac1c0002row1_col214\" class=\"data row1 col214\" >2</td>\n",
              "                        <td id=\"T_02fbb8c6_17f6_11eb_ad51_0242ac1c0002row1_col215\" class=\"data row1 col215\" >4</td>\n",
              "                        <td id=\"T_02fbb8c6_17f6_11eb_ad51_0242ac1c0002row1_col216\" class=\"data row1 col216\" >0</td>\n",
              "                        <td id=\"T_02fbb8c6_17f6_11eb_ad51_0242ac1c0002row1_col217\" class=\"data row1 col217\" >0</td>\n",
              "                        <td id=\"T_02fbb8c6_17f6_11eb_ad51_0242ac1c0002row1_col218\" class=\"data row1 col218\" >0</td>\n",
              "                        <td id=\"T_02fbb8c6_17f6_11eb_ad51_0242ac1c0002row1_col219\" class=\"data row1 col219\" >0</td>\n",
              "                        <td id=\"T_02fbb8c6_17f6_11eb_ad51_0242ac1c0002row1_col220\" class=\"data row1 col220\" >1</td>\n",
              "                        <td id=\"T_02fbb8c6_17f6_11eb_ad51_0242ac1c0002row1_col221\" class=\"data row1 col221\" >1</td>\n",
              "                        <td id=\"T_02fbb8c6_17f6_11eb_ad51_0242ac1c0002row1_col222\" class=\"data row1 col222\" >1</td>\n",
              "                        <td id=\"T_02fbb8c6_17f6_11eb_ad51_0242ac1c0002row1_col223\" class=\"data row1 col223\" >1</td>\n",
              "                        <td id=\"T_02fbb8c6_17f6_11eb_ad51_0242ac1c0002row1_col224\" class=\"data row1 col224\" >1</td>\n",
              "                        <td id=\"T_02fbb8c6_17f6_11eb_ad51_0242ac1c0002row1_col225\" class=\"data row1 col225\" >2</td>\n",
              "                        <td id=\"T_02fbb8c6_17f6_11eb_ad51_0242ac1c0002row1_col226\" class=\"data row1 col226\" >0</td>\n",
              "                        <td id=\"T_02fbb8c6_17f6_11eb_ad51_0242ac1c0002row1_col227\" class=\"data row1 col227\" >0</td>\n",
              "                        <td id=\"T_02fbb8c6_17f6_11eb_ad51_0242ac1c0002row1_col228\" class=\"data row1 col228\" >0</td>\n",
              "                        <td id=\"T_02fbb8c6_17f6_11eb_ad51_0242ac1c0002row1_col229\" class=\"data row1 col229\" >1</td>\n",
              "                        <td id=\"T_02fbb8c6_17f6_11eb_ad51_0242ac1c0002row1_col230\" class=\"data row1 col230\" >2</td>\n",
              "                        <td id=\"T_02fbb8c6_17f6_11eb_ad51_0242ac1c0002row1_col231\" class=\"data row1 col231\" >1</td>\n",
              "                        <td id=\"T_02fbb8c6_17f6_11eb_ad51_0242ac1c0002row1_col232\" class=\"data row1 col232\" >0</td>\n",
              "                        <td id=\"T_02fbb8c6_17f6_11eb_ad51_0242ac1c0002row1_col233\" class=\"data row1 col233\" >1</td>\n",
              "                        <td id=\"T_02fbb8c6_17f6_11eb_ad51_0242ac1c0002row1_col234\" class=\"data row1 col234\" >2</td>\n",
              "                        <td id=\"T_02fbb8c6_17f6_11eb_ad51_0242ac1c0002row1_col235\" class=\"data row1 col235\" >0</td>\n",
              "                        <td id=\"T_02fbb8c6_17f6_11eb_ad51_0242ac1c0002row1_col236\" class=\"data row1 col236\" >1</td>\n",
              "                        <td id=\"T_02fbb8c6_17f6_11eb_ad51_0242ac1c0002row1_col237\" class=\"data row1 col237\" >1</td>\n",
              "                        <td id=\"T_02fbb8c6_17f6_11eb_ad51_0242ac1c0002row1_col238\" class=\"data row1 col238\" >0</td>\n",
              "                        <td id=\"T_02fbb8c6_17f6_11eb_ad51_0242ac1c0002row1_col239\" class=\"data row1 col239\" >0</td>\n",
              "                        <td id=\"T_02fbb8c6_17f6_11eb_ad51_0242ac1c0002row1_col240\" class=\"data row1 col240\" >1</td>\n",
              "                        <td id=\"T_02fbb8c6_17f6_11eb_ad51_0242ac1c0002row1_col241\" class=\"data row1 col241\" >0</td>\n",
              "                        <td id=\"T_02fbb8c6_17f6_11eb_ad51_0242ac1c0002row1_col242\" class=\"data row1 col242\" >0</td>\n",
              "                        <td id=\"T_02fbb8c6_17f6_11eb_ad51_0242ac1c0002row1_col243\" class=\"data row1 col243\" >2</td>\n",
              "                        <td id=\"T_02fbb8c6_17f6_11eb_ad51_0242ac1c0002row1_col244\" class=\"data row1 col244\" >1</td>\n",
              "                        <td id=\"T_02fbb8c6_17f6_11eb_ad51_0242ac1c0002row1_col245\" class=\"data row1 col245\" >0</td>\n",
              "                        <td id=\"T_02fbb8c6_17f6_11eb_ad51_0242ac1c0002row1_col246\" class=\"data row1 col246\" >0</td>\n",
              "                        <td id=\"T_02fbb8c6_17f6_11eb_ad51_0242ac1c0002row1_col247\" class=\"data row1 col247\" >1</td>\n",
              "                        <td id=\"T_02fbb8c6_17f6_11eb_ad51_0242ac1c0002row1_col248\" class=\"data row1 col248\" >1</td>\n",
              "                        <td id=\"T_02fbb8c6_17f6_11eb_ad51_0242ac1c0002row1_col249\" class=\"data row1 col249\" >1</td>\n",
              "                        <td id=\"T_02fbb8c6_17f6_11eb_ad51_0242ac1c0002row1_col250\" class=\"data row1 col250\" >2</td>\n",
              "                        <td id=\"T_02fbb8c6_17f6_11eb_ad51_0242ac1c0002row1_col251\" class=\"data row1 col251\" >0</td>\n",
              "                        <td id=\"T_02fbb8c6_17f6_11eb_ad51_0242ac1c0002row1_col252\" class=\"data row1 col252\" >0</td>\n",
              "                        <td id=\"T_02fbb8c6_17f6_11eb_ad51_0242ac1c0002row1_col253\" class=\"data row1 col253\" >0</td>\n",
              "                        <td id=\"T_02fbb8c6_17f6_11eb_ad51_0242ac1c0002row1_col254\" class=\"data row1 col254\" >0</td>\n",
              "                        <td id=\"T_02fbb8c6_17f6_11eb_ad51_0242ac1c0002row1_col255\" class=\"data row1 col255\" >0</td>\n",
              "                        <td id=\"T_02fbb8c6_17f6_11eb_ad51_0242ac1c0002row1_col256\" class=\"data row1 col256\" >1</td>\n",
              "                        <td id=\"T_02fbb8c6_17f6_11eb_ad51_0242ac1c0002row1_col257\" class=\"data row1 col257\" >1</td>\n",
              "                        <td id=\"T_02fbb8c6_17f6_11eb_ad51_0242ac1c0002row1_col258\" class=\"data row1 col258\" >3</td>\n",
              "                        <td id=\"T_02fbb8c6_17f6_11eb_ad51_0242ac1c0002row1_col259\" class=\"data row1 col259\" >2</td>\n",
              "                        <td id=\"T_02fbb8c6_17f6_11eb_ad51_0242ac1c0002row1_col260\" class=\"data row1 col260\" >1</td>\n",
              "                        <td id=\"T_02fbb8c6_17f6_11eb_ad51_0242ac1c0002row1_col261\" class=\"data row1 col261\" >1</td>\n",
              "                        <td id=\"T_02fbb8c6_17f6_11eb_ad51_0242ac1c0002row1_col262\" class=\"data row1 col262\" >1</td>\n",
              "                        <td id=\"T_02fbb8c6_17f6_11eb_ad51_0242ac1c0002row1_col263\" class=\"data row1 col263\" >1</td>\n",
              "                        <td id=\"T_02fbb8c6_17f6_11eb_ad51_0242ac1c0002row1_col264\" class=\"data row1 col264\" >1</td>\n",
              "                        <td id=\"T_02fbb8c6_17f6_11eb_ad51_0242ac1c0002row1_col265\" class=\"data row1 col265\" >2</td>\n",
              "                        <td id=\"T_02fbb8c6_17f6_11eb_ad51_0242ac1c0002row1_col266\" class=\"data row1 col266\" >2</td>\n",
              "                        <td id=\"T_02fbb8c6_17f6_11eb_ad51_0242ac1c0002row1_col267\" class=\"data row1 col267\" >0</td>\n",
              "                        <td id=\"T_02fbb8c6_17f6_11eb_ad51_0242ac1c0002row1_col268\" class=\"data row1 col268\" >0</td>\n",
              "                        <td id=\"T_02fbb8c6_17f6_11eb_ad51_0242ac1c0002row1_col269\" class=\"data row1 col269\" >2</td>\n",
              "                        <td id=\"T_02fbb8c6_17f6_11eb_ad51_0242ac1c0002row1_col270\" class=\"data row1 col270\" >1</td>\n",
              "                        <td id=\"T_02fbb8c6_17f6_11eb_ad51_0242ac1c0002row1_col271\" class=\"data row1 col271\" >0</td>\n",
              "                        <td id=\"T_02fbb8c6_17f6_11eb_ad51_0242ac1c0002row1_col272\" class=\"data row1 col272\" >2</td>\n",
              "                        <td id=\"T_02fbb8c6_17f6_11eb_ad51_0242ac1c0002row1_col273\" class=\"data row1 col273\" >1</td>\n",
              "                        <td id=\"T_02fbb8c6_17f6_11eb_ad51_0242ac1c0002row1_col274\" class=\"data row1 col274\" >0</td>\n",
              "                        <td id=\"T_02fbb8c6_17f6_11eb_ad51_0242ac1c0002row1_col275\" class=\"data row1 col275\" >0</td>\n",
              "                        <td id=\"T_02fbb8c6_17f6_11eb_ad51_0242ac1c0002row1_col276\" class=\"data row1 col276\" >1</td>\n",
              "                        <td id=\"T_02fbb8c6_17f6_11eb_ad51_0242ac1c0002row1_col277\" class=\"data row1 col277\" >1</td>\n",
              "                        <td id=\"T_02fbb8c6_17f6_11eb_ad51_0242ac1c0002row1_col278\" class=\"data row1 col278\" >0</td>\n",
              "                        <td id=\"T_02fbb8c6_17f6_11eb_ad51_0242ac1c0002row1_col279\" class=\"data row1 col279\" >1</td>\n",
              "                        <td id=\"T_02fbb8c6_17f6_11eb_ad51_0242ac1c0002row1_col280\" class=\"data row1 col280\" >2</td>\n",
              "                        <td id=\"T_02fbb8c6_17f6_11eb_ad51_0242ac1c0002row1_col281\" class=\"data row1 col281\" >0</td>\n",
              "                        <td id=\"T_02fbb8c6_17f6_11eb_ad51_0242ac1c0002row1_col282\" class=\"data row1 col282\" >2</td>\n",
              "                        <td id=\"T_02fbb8c6_17f6_11eb_ad51_0242ac1c0002row1_col283\" class=\"data row1 col283\" >0</td>\n",
              "                        <td id=\"T_02fbb8c6_17f6_11eb_ad51_0242ac1c0002row1_col284\" class=\"data row1 col284\" >1</td>\n",
              "                        <td id=\"T_02fbb8c6_17f6_11eb_ad51_0242ac1c0002row1_col285\" class=\"data row1 col285\" >1</td>\n",
              "                        <td id=\"T_02fbb8c6_17f6_11eb_ad51_0242ac1c0002row1_col286\" class=\"data row1 col286\" >0</td>\n",
              "                        <td id=\"T_02fbb8c6_17f6_11eb_ad51_0242ac1c0002row1_col287\" class=\"data row1 col287\" >0</td>\n",
              "                        <td id=\"T_02fbb8c6_17f6_11eb_ad51_0242ac1c0002row1_col288\" class=\"data row1 col288\" >0</td>\n",
              "                        <td id=\"T_02fbb8c6_17f6_11eb_ad51_0242ac1c0002row1_col289\" class=\"data row1 col289\" >0</td>\n",
              "                        <td id=\"T_02fbb8c6_17f6_11eb_ad51_0242ac1c0002row1_col290\" class=\"data row1 col290\" >1</td>\n",
              "                        <td id=\"T_02fbb8c6_17f6_11eb_ad51_0242ac1c0002row1_col291\" class=\"data row1 col291\" >2</td>\n",
              "                        <td id=\"T_02fbb8c6_17f6_11eb_ad51_0242ac1c0002row1_col292\" class=\"data row1 col292\" >0</td>\n",
              "                        <td id=\"T_02fbb8c6_17f6_11eb_ad51_0242ac1c0002row1_col293\" class=\"data row1 col293\" >0</td>\n",
              "                        <td id=\"T_02fbb8c6_17f6_11eb_ad51_0242ac1c0002row1_col294\" class=\"data row1 col294\" >0</td>\n",
              "                        <td id=\"T_02fbb8c6_17f6_11eb_ad51_0242ac1c0002row1_col295\" class=\"data row1 col295\" >0</td>\n",
              "                        <td id=\"T_02fbb8c6_17f6_11eb_ad51_0242ac1c0002row1_col296\" class=\"data row1 col296\" >0</td>\n",
              "                        <td id=\"T_02fbb8c6_17f6_11eb_ad51_0242ac1c0002row1_col297\" class=\"data row1 col297\" >1</td>\n",
              "                        <td id=\"T_02fbb8c6_17f6_11eb_ad51_0242ac1c0002row1_col298\" class=\"data row1 col298\" >0</td>\n",
              "                        <td id=\"T_02fbb8c6_17f6_11eb_ad51_0242ac1c0002row1_col299\" class=\"data row1 col299\" >1</td>\n",
              "                        <td id=\"T_02fbb8c6_17f6_11eb_ad51_0242ac1c0002row1_col300\" class=\"data row1 col300\" >1</td>\n",
              "                        <td id=\"T_02fbb8c6_17f6_11eb_ad51_0242ac1c0002row1_col301\" class=\"data row1 col301\" >0</td>\n",
              "                        <td id=\"T_02fbb8c6_17f6_11eb_ad51_0242ac1c0002row1_col302\" class=\"data row1 col302\" >0</td>\n",
              "                        <td id=\"T_02fbb8c6_17f6_11eb_ad51_0242ac1c0002row1_col303\" class=\"data row1 col303\" >0</td>\n",
              "                        <td id=\"T_02fbb8c6_17f6_11eb_ad51_0242ac1c0002row1_col304\" class=\"data row1 col304\" >0</td>\n",
              "                        <td id=\"T_02fbb8c6_17f6_11eb_ad51_0242ac1c0002row1_col305\" class=\"data row1 col305\" >1</td>\n",
              "                        <td id=\"T_02fbb8c6_17f6_11eb_ad51_0242ac1c0002row1_col306\" class=\"data row1 col306\" >1</td>\n",
              "                        <td id=\"T_02fbb8c6_17f6_11eb_ad51_0242ac1c0002row1_col307\" class=\"data row1 col307\" >1</td>\n",
              "                        <td id=\"T_02fbb8c6_17f6_11eb_ad51_0242ac1c0002row1_col308\" class=\"data row1 col308\" >1</td>\n",
              "                        <td id=\"T_02fbb8c6_17f6_11eb_ad51_0242ac1c0002row1_col309\" class=\"data row1 col309\" >1</td>\n",
              "                        <td id=\"T_02fbb8c6_17f6_11eb_ad51_0242ac1c0002row1_col310\" class=\"data row1 col310\" >0</td>\n",
              "                        <td id=\"T_02fbb8c6_17f6_11eb_ad51_0242ac1c0002row1_col311\" class=\"data row1 col311\" >0</td>\n",
              "                        <td id=\"T_02fbb8c6_17f6_11eb_ad51_0242ac1c0002row1_col312\" class=\"data row1 col312\" >0</td>\n",
              "                        <td id=\"T_02fbb8c6_17f6_11eb_ad51_0242ac1c0002row1_col313\" class=\"data row1 col313\" >1</td>\n",
              "                        <td id=\"T_02fbb8c6_17f6_11eb_ad51_0242ac1c0002row1_col314\" class=\"data row1 col314\" >0</td>\n",
              "                        <td id=\"T_02fbb8c6_17f6_11eb_ad51_0242ac1c0002row1_col315\" class=\"data row1 col315\" >0</td>\n",
              "                        <td id=\"T_02fbb8c6_17f6_11eb_ad51_0242ac1c0002row1_col316\" class=\"data row1 col316\" >1</td>\n",
              "                        <td id=\"T_02fbb8c6_17f6_11eb_ad51_0242ac1c0002row1_col317\" class=\"data row1 col317\" >2</td>\n",
              "                        <td id=\"T_02fbb8c6_17f6_11eb_ad51_0242ac1c0002row1_col318\" class=\"data row1 col318\" >0</td>\n",
              "                        <td id=\"T_02fbb8c6_17f6_11eb_ad51_0242ac1c0002row1_col319\" class=\"data row1 col319\" >0</td>\n",
              "                        <td id=\"T_02fbb8c6_17f6_11eb_ad51_0242ac1c0002row1_col320\" class=\"data row1 col320\" >1</td>\n",
              "                        <td id=\"T_02fbb8c6_17f6_11eb_ad51_0242ac1c0002row1_col321\" class=\"data row1 col321\" >1</td>\n",
              "                        <td id=\"T_02fbb8c6_17f6_11eb_ad51_0242ac1c0002row1_col322\" class=\"data row1 col322\" >0</td>\n",
              "                        <td id=\"T_02fbb8c6_17f6_11eb_ad51_0242ac1c0002row1_col323\" class=\"data row1 col323\" >1</td>\n",
              "                        <td id=\"T_02fbb8c6_17f6_11eb_ad51_0242ac1c0002row1_col324\" class=\"data row1 col324\" >1</td>\n",
              "                        <td id=\"T_02fbb8c6_17f6_11eb_ad51_0242ac1c0002row1_col325\" class=\"data row1 col325\" >0</td>\n",
              "                        <td id=\"T_02fbb8c6_17f6_11eb_ad51_0242ac1c0002row1_col326\" class=\"data row1 col326\" >0</td>\n",
              "                        <td id=\"T_02fbb8c6_17f6_11eb_ad51_0242ac1c0002row1_col327\" class=\"data row1 col327\" >1</td>\n",
              "                        <td id=\"T_02fbb8c6_17f6_11eb_ad51_0242ac1c0002row1_col328\" class=\"data row1 col328\" >1</td>\n",
              "                        <td id=\"T_02fbb8c6_17f6_11eb_ad51_0242ac1c0002row1_col329\" class=\"data row1 col329\" >0</td>\n",
              "                        <td id=\"T_02fbb8c6_17f6_11eb_ad51_0242ac1c0002row1_col330\" class=\"data row1 col330\" >0</td>\n",
              "                        <td id=\"T_02fbb8c6_17f6_11eb_ad51_0242ac1c0002row1_col331\" class=\"data row1 col331\" >0</td>\n",
              "                        <td id=\"T_02fbb8c6_17f6_11eb_ad51_0242ac1c0002row1_col332\" class=\"data row1 col332\" >0</td>\n",
              "                        <td id=\"T_02fbb8c6_17f6_11eb_ad51_0242ac1c0002row1_col333\" class=\"data row1 col333\" >3</td>\n",
              "                        <td id=\"T_02fbb8c6_17f6_11eb_ad51_0242ac1c0002row1_col334\" class=\"data row1 col334\" >0</td>\n",
              "                        <td id=\"T_02fbb8c6_17f6_11eb_ad51_0242ac1c0002row1_col335\" class=\"data row1 col335\" >0</td>\n",
              "                        <td id=\"T_02fbb8c6_17f6_11eb_ad51_0242ac1c0002row1_col336\" class=\"data row1 col336\" >0</td>\n",
              "                        <td id=\"T_02fbb8c6_17f6_11eb_ad51_0242ac1c0002row1_col337\" class=\"data row1 col337\" >1</td>\n",
              "                        <td id=\"T_02fbb8c6_17f6_11eb_ad51_0242ac1c0002row1_col338\" class=\"data row1 col338\" >0</td>\n",
              "                        <td id=\"T_02fbb8c6_17f6_11eb_ad51_0242ac1c0002row1_col339\" class=\"data row1 col339\" >1</td>\n",
              "                        <td id=\"T_02fbb8c6_17f6_11eb_ad51_0242ac1c0002row1_col340\" class=\"data row1 col340\" >1</td>\n",
              "                        <td id=\"T_02fbb8c6_17f6_11eb_ad51_0242ac1c0002row1_col341\" class=\"data row1 col341\" >0</td>\n",
              "                        <td id=\"T_02fbb8c6_17f6_11eb_ad51_0242ac1c0002row1_col342\" class=\"data row1 col342\" >0</td>\n",
              "                        <td id=\"T_02fbb8c6_17f6_11eb_ad51_0242ac1c0002row1_col343\" class=\"data row1 col343\" >0</td>\n",
              "                        <td id=\"T_02fbb8c6_17f6_11eb_ad51_0242ac1c0002row1_col344\" class=\"data row1 col344\" >0</td>\n",
              "                        <td id=\"T_02fbb8c6_17f6_11eb_ad51_0242ac1c0002row1_col345\" class=\"data row1 col345\" >0</td>\n",
              "                        <td id=\"T_02fbb8c6_17f6_11eb_ad51_0242ac1c0002row1_col346\" class=\"data row1 col346\" >0</td>\n",
              "                        <td id=\"T_02fbb8c6_17f6_11eb_ad51_0242ac1c0002row1_col347\" class=\"data row1 col347\" >1</td>\n",
              "                        <td id=\"T_02fbb8c6_17f6_11eb_ad51_0242ac1c0002row1_col348\" class=\"data row1 col348\" >1</td>\n",
              "                        <td id=\"T_02fbb8c6_17f6_11eb_ad51_0242ac1c0002row1_col349\" class=\"data row1 col349\" >1</td>\n",
              "                        <td id=\"T_02fbb8c6_17f6_11eb_ad51_0242ac1c0002row1_col350\" class=\"data row1 col350\" >1</td>\n",
              "                        <td id=\"T_02fbb8c6_17f6_11eb_ad51_0242ac1c0002row1_col351\" class=\"data row1 col351\" >1</td>\n",
              "                        <td id=\"T_02fbb8c6_17f6_11eb_ad51_0242ac1c0002row1_col352\" class=\"data row1 col352\" >1</td>\n",
              "                        <td id=\"T_02fbb8c6_17f6_11eb_ad51_0242ac1c0002row1_col353\" class=\"data row1 col353\" >1</td>\n",
              "                        <td id=\"T_02fbb8c6_17f6_11eb_ad51_0242ac1c0002row1_col354\" class=\"data row1 col354\" >0</td>\n",
              "                        <td id=\"T_02fbb8c6_17f6_11eb_ad51_0242ac1c0002row1_col355\" class=\"data row1 col355\" >1</td>\n",
              "                        <td id=\"T_02fbb8c6_17f6_11eb_ad51_0242ac1c0002row1_col356\" class=\"data row1 col356\" >0</td>\n",
              "                        <td id=\"T_02fbb8c6_17f6_11eb_ad51_0242ac1c0002row1_col357\" class=\"data row1 col357\" >0</td>\n",
              "                        <td id=\"T_02fbb8c6_17f6_11eb_ad51_0242ac1c0002row1_col358\" class=\"data row1 col358\" >0</td>\n",
              "                        <td id=\"T_02fbb8c6_17f6_11eb_ad51_0242ac1c0002row1_col359\" class=\"data row1 col359\" >1</td>\n",
              "                        <td id=\"T_02fbb8c6_17f6_11eb_ad51_0242ac1c0002row1_col360\" class=\"data row1 col360\" >1</td>\n",
              "                        <td id=\"T_02fbb8c6_17f6_11eb_ad51_0242ac1c0002row1_col361\" class=\"data row1 col361\" >1</td>\n",
              "                        <td id=\"T_02fbb8c6_17f6_11eb_ad51_0242ac1c0002row1_col362\" class=\"data row1 col362\" >1</td>\n",
              "                        <td id=\"T_02fbb8c6_17f6_11eb_ad51_0242ac1c0002row1_col363\" class=\"data row1 col363\" >4</td>\n",
              "                        <td id=\"T_02fbb8c6_17f6_11eb_ad51_0242ac1c0002row1_col364\" class=\"data row1 col364\" >1</td>\n",
              "                        <td id=\"T_02fbb8c6_17f6_11eb_ad51_0242ac1c0002row1_col365\" class=\"data row1 col365\" >0</td>\n",
              "                        <td id=\"T_02fbb8c6_17f6_11eb_ad51_0242ac1c0002row1_col366\" class=\"data row1 col366\" >0</td>\n",
              "                        <td id=\"T_02fbb8c6_17f6_11eb_ad51_0242ac1c0002row1_col367\" class=\"data row1 col367\" >2</td>\n",
              "                        <td id=\"T_02fbb8c6_17f6_11eb_ad51_0242ac1c0002row1_col368\" class=\"data row1 col368\" >0</td>\n",
              "                        <td id=\"T_02fbb8c6_17f6_11eb_ad51_0242ac1c0002row1_col369\" class=\"data row1 col369\" >1</td>\n",
              "                        <td id=\"T_02fbb8c6_17f6_11eb_ad51_0242ac1c0002row1_col370\" class=\"data row1 col370\" >0</td>\n",
              "                        <td id=\"T_02fbb8c6_17f6_11eb_ad51_0242ac1c0002row1_col371\" class=\"data row1 col371\" >1</td>\n",
              "                        <td id=\"T_02fbb8c6_17f6_11eb_ad51_0242ac1c0002row1_col372\" class=\"data row1 col372\" >1</td>\n",
              "                        <td id=\"T_02fbb8c6_17f6_11eb_ad51_0242ac1c0002row1_col373\" class=\"data row1 col373\" >1</td>\n",
              "                        <td id=\"T_02fbb8c6_17f6_11eb_ad51_0242ac1c0002row1_col374\" class=\"data row1 col374\" >0</td>\n",
              "                        <td id=\"T_02fbb8c6_17f6_11eb_ad51_0242ac1c0002row1_col375\" class=\"data row1 col375\" >0</td>\n",
              "                        <td id=\"T_02fbb8c6_17f6_11eb_ad51_0242ac1c0002row1_col376\" class=\"data row1 col376\" >0</td>\n",
              "                        <td id=\"T_02fbb8c6_17f6_11eb_ad51_0242ac1c0002row1_col377\" class=\"data row1 col377\" >0</td>\n",
              "                        <td id=\"T_02fbb8c6_17f6_11eb_ad51_0242ac1c0002row1_col378\" class=\"data row1 col378\" >0</td>\n",
              "                        <td id=\"T_02fbb8c6_17f6_11eb_ad51_0242ac1c0002row1_col379\" class=\"data row1 col379\" >0</td>\n",
              "                        <td id=\"T_02fbb8c6_17f6_11eb_ad51_0242ac1c0002row1_col380\" class=\"data row1 col380\" >0</td>\n",
              "                        <td id=\"T_02fbb8c6_17f6_11eb_ad51_0242ac1c0002row1_col381\" class=\"data row1 col381\" >0</td>\n",
              "                        <td id=\"T_02fbb8c6_17f6_11eb_ad51_0242ac1c0002row1_col382\" class=\"data row1 col382\" >0</td>\n",
              "                        <td id=\"T_02fbb8c6_17f6_11eb_ad51_0242ac1c0002row1_col383\" class=\"data row1 col383\" >0</td>\n",
              "                        <td id=\"T_02fbb8c6_17f6_11eb_ad51_0242ac1c0002row1_col384\" class=\"data row1 col384\" >1</td>\n",
              "                        <td id=\"T_02fbb8c6_17f6_11eb_ad51_0242ac1c0002row1_col385\" class=\"data row1 col385\" >0</td>\n",
              "                        <td id=\"T_02fbb8c6_17f6_11eb_ad51_0242ac1c0002row1_col386\" class=\"data row1 col386\" >0</td>\n",
              "                        <td id=\"T_02fbb8c6_17f6_11eb_ad51_0242ac1c0002row1_col387\" class=\"data row1 col387\" >1</td>\n",
              "                        <td id=\"T_02fbb8c6_17f6_11eb_ad51_0242ac1c0002row1_col388\" class=\"data row1 col388\" >0</td>\n",
              "                        <td id=\"T_02fbb8c6_17f6_11eb_ad51_0242ac1c0002row1_col389\" class=\"data row1 col389\" >1</td>\n",
              "                        <td id=\"T_02fbb8c6_17f6_11eb_ad51_0242ac1c0002row1_col390\" class=\"data row1 col390\" >0</td>\n",
              "                        <td id=\"T_02fbb8c6_17f6_11eb_ad51_0242ac1c0002row1_col391\" class=\"data row1 col391\" >0</td>\n",
              "                        <td id=\"T_02fbb8c6_17f6_11eb_ad51_0242ac1c0002row1_col392\" class=\"data row1 col392\" >1</td>\n",
              "                        <td id=\"T_02fbb8c6_17f6_11eb_ad51_0242ac1c0002row1_col393\" class=\"data row1 col393\" >0</td>\n",
              "                        <td id=\"T_02fbb8c6_17f6_11eb_ad51_0242ac1c0002row1_col394\" class=\"data row1 col394\" >0</td>\n",
              "                        <td id=\"T_02fbb8c6_17f6_11eb_ad51_0242ac1c0002row1_col395\" class=\"data row1 col395\" >0</td>\n",
              "                        <td id=\"T_02fbb8c6_17f6_11eb_ad51_0242ac1c0002row1_col396\" class=\"data row1 col396\" >0</td>\n",
              "                        <td id=\"T_02fbb8c6_17f6_11eb_ad51_0242ac1c0002row1_col397\" class=\"data row1 col397\" >0</td>\n",
              "                        <td id=\"T_02fbb8c6_17f6_11eb_ad51_0242ac1c0002row1_col398\" class=\"data row1 col398\" >1</td>\n",
              "                        <td id=\"T_02fbb8c6_17f6_11eb_ad51_0242ac1c0002row1_col399\" class=\"data row1 col399\" >0</td>\n",
              "                        <td id=\"T_02fbb8c6_17f6_11eb_ad51_0242ac1c0002row1_col400\" class=\"data row1 col400\" >1</td>\n",
              "                        <td id=\"T_02fbb8c6_17f6_11eb_ad51_0242ac1c0002row1_col401\" class=\"data row1 col401\" >0</td>\n",
              "                        <td id=\"T_02fbb8c6_17f6_11eb_ad51_0242ac1c0002row1_col402\" class=\"data row1 col402\" >0</td>\n",
              "                        <td id=\"T_02fbb8c6_17f6_11eb_ad51_0242ac1c0002row1_col403\" class=\"data row1 col403\" >0</td>\n",
              "                        <td id=\"T_02fbb8c6_17f6_11eb_ad51_0242ac1c0002row1_col404\" class=\"data row1 col404\" >0</td>\n",
              "                        <td id=\"T_02fbb8c6_17f6_11eb_ad51_0242ac1c0002row1_col405\" class=\"data row1 col405\" >1</td>\n",
              "                        <td id=\"T_02fbb8c6_17f6_11eb_ad51_0242ac1c0002row1_col406\" class=\"data row1 col406\" >2</td>\n",
              "                        <td id=\"T_02fbb8c6_17f6_11eb_ad51_0242ac1c0002row1_col407\" class=\"data row1 col407\" >1</td>\n",
              "                        <td id=\"T_02fbb8c6_17f6_11eb_ad51_0242ac1c0002row1_col408\" class=\"data row1 col408\" >1</td>\n",
              "                        <td id=\"T_02fbb8c6_17f6_11eb_ad51_0242ac1c0002row1_col409\" class=\"data row1 col409\" >2</td>\n",
              "                        <td id=\"T_02fbb8c6_17f6_11eb_ad51_0242ac1c0002row1_col410\" class=\"data row1 col410\" >1</td>\n",
              "                        <td id=\"T_02fbb8c6_17f6_11eb_ad51_0242ac1c0002row1_col411\" class=\"data row1 col411\" >1</td>\n",
              "                        <td id=\"T_02fbb8c6_17f6_11eb_ad51_0242ac1c0002row1_col412\" class=\"data row1 col412\" >0</td>\n",
              "                        <td id=\"T_02fbb8c6_17f6_11eb_ad51_0242ac1c0002row1_col413\" class=\"data row1 col413\" >0</td>\n",
              "                        <td id=\"T_02fbb8c6_17f6_11eb_ad51_0242ac1c0002row1_col414\" class=\"data row1 col414\" >1</td>\n",
              "                        <td id=\"T_02fbb8c6_17f6_11eb_ad51_0242ac1c0002row1_col415\" class=\"data row1 col415\" >0</td>\n",
              "                        <td id=\"T_02fbb8c6_17f6_11eb_ad51_0242ac1c0002row1_col416\" class=\"data row1 col416\" >1</td>\n",
              "                        <td id=\"T_02fbb8c6_17f6_11eb_ad51_0242ac1c0002row1_col417\" class=\"data row1 col417\" >0</td>\n",
              "                        <td id=\"T_02fbb8c6_17f6_11eb_ad51_0242ac1c0002row1_col418\" class=\"data row1 col418\" >1</td>\n",
              "                        <td id=\"T_02fbb8c6_17f6_11eb_ad51_0242ac1c0002row1_col419\" class=\"data row1 col419\" >0</td>\n",
              "                        <td id=\"T_02fbb8c6_17f6_11eb_ad51_0242ac1c0002row1_col420\" class=\"data row1 col420\" >0</td>\n",
              "                        <td id=\"T_02fbb8c6_17f6_11eb_ad51_0242ac1c0002row1_col421\" class=\"data row1 col421\" >0</td>\n",
              "                        <td id=\"T_02fbb8c6_17f6_11eb_ad51_0242ac1c0002row1_col422\" class=\"data row1 col422\" >0</td>\n",
              "                        <td id=\"T_02fbb8c6_17f6_11eb_ad51_0242ac1c0002row1_col423\" class=\"data row1 col423\" >1</td>\n",
              "                        <td id=\"T_02fbb8c6_17f6_11eb_ad51_0242ac1c0002row1_col424\" class=\"data row1 col424\" >0</td>\n",
              "                        <td id=\"T_02fbb8c6_17f6_11eb_ad51_0242ac1c0002row1_col425\" class=\"data row1 col425\" >0</td>\n",
              "                        <td id=\"T_02fbb8c6_17f6_11eb_ad51_0242ac1c0002row1_col426\" class=\"data row1 col426\" >1</td>\n",
              "                        <td id=\"T_02fbb8c6_17f6_11eb_ad51_0242ac1c0002row1_col427\" class=\"data row1 col427\" >0</td>\n",
              "                        <td id=\"T_02fbb8c6_17f6_11eb_ad51_0242ac1c0002row1_col428\" class=\"data row1 col428\" >0</td>\n",
              "                        <td id=\"T_02fbb8c6_17f6_11eb_ad51_0242ac1c0002row1_col429\" class=\"data row1 col429\" >1</td>\n",
              "                        <td id=\"T_02fbb8c6_17f6_11eb_ad51_0242ac1c0002row1_col430\" class=\"data row1 col430\" >0</td>\n",
              "                        <td id=\"T_02fbb8c6_17f6_11eb_ad51_0242ac1c0002row1_col431\" class=\"data row1 col431\" >2</td>\n",
              "                        <td id=\"T_02fbb8c6_17f6_11eb_ad51_0242ac1c0002row1_col432\" class=\"data row1 col432\" >1</td>\n",
              "                        <td id=\"T_02fbb8c6_17f6_11eb_ad51_0242ac1c0002row1_col433\" class=\"data row1 col433\" >2</td>\n",
              "                        <td id=\"T_02fbb8c6_17f6_11eb_ad51_0242ac1c0002row1_col434\" class=\"data row1 col434\" >0</td>\n",
              "                        <td id=\"T_02fbb8c6_17f6_11eb_ad51_0242ac1c0002row1_col435\" class=\"data row1 col435\" >0</td>\n",
              "                        <td id=\"T_02fbb8c6_17f6_11eb_ad51_0242ac1c0002row1_col436\" class=\"data row1 col436\" >1</td>\n",
              "                        <td id=\"T_02fbb8c6_17f6_11eb_ad51_0242ac1c0002row1_col437\" class=\"data row1 col437\" >2</td>\n",
              "                        <td id=\"T_02fbb8c6_17f6_11eb_ad51_0242ac1c0002row1_col438\" class=\"data row1 col438\" >0</td>\n",
              "                        <td id=\"T_02fbb8c6_17f6_11eb_ad51_0242ac1c0002row1_col439\" class=\"data row1 col439\" >1</td>\n",
              "                        <td id=\"T_02fbb8c6_17f6_11eb_ad51_0242ac1c0002row1_col440\" class=\"data row1 col440\" >1</td>\n",
              "                        <td id=\"T_02fbb8c6_17f6_11eb_ad51_0242ac1c0002row1_col441\" class=\"data row1 col441\" >0</td>\n",
              "                        <td id=\"T_02fbb8c6_17f6_11eb_ad51_0242ac1c0002row1_col442\" class=\"data row1 col442\" >2</td>\n",
              "                        <td id=\"T_02fbb8c6_17f6_11eb_ad51_0242ac1c0002row1_col443\" class=\"data row1 col443\" >0</td>\n",
              "                        <td id=\"T_02fbb8c6_17f6_11eb_ad51_0242ac1c0002row1_col444\" class=\"data row1 col444\" >0</td>\n",
              "                        <td id=\"T_02fbb8c6_17f6_11eb_ad51_0242ac1c0002row1_col445\" class=\"data row1 col445\" >0</td>\n",
              "                        <td id=\"T_02fbb8c6_17f6_11eb_ad51_0242ac1c0002row1_col446\" class=\"data row1 col446\" >0</td>\n",
              "                        <td id=\"T_02fbb8c6_17f6_11eb_ad51_0242ac1c0002row1_col447\" class=\"data row1 col447\" >0</td>\n",
              "                        <td id=\"T_02fbb8c6_17f6_11eb_ad51_0242ac1c0002row1_col448\" class=\"data row1 col448\" >0</td>\n",
              "                        <td id=\"T_02fbb8c6_17f6_11eb_ad51_0242ac1c0002row1_col449\" class=\"data row1 col449\" >0</td>\n",
              "                        <td id=\"T_02fbb8c6_17f6_11eb_ad51_0242ac1c0002row1_col450\" class=\"data row1 col450\" >0</td>\n",
              "                        <td id=\"T_02fbb8c6_17f6_11eb_ad51_0242ac1c0002row1_col451\" class=\"data row1 col451\" >1</td>\n",
              "                        <td id=\"T_02fbb8c6_17f6_11eb_ad51_0242ac1c0002row1_col452\" class=\"data row1 col452\" >1</td>\n",
              "                        <td id=\"T_02fbb8c6_17f6_11eb_ad51_0242ac1c0002row1_col453\" class=\"data row1 col453\" >0</td>\n",
              "                        <td id=\"T_02fbb8c6_17f6_11eb_ad51_0242ac1c0002row1_col454\" class=\"data row1 col454\" >0</td>\n",
              "                        <td id=\"T_02fbb8c6_17f6_11eb_ad51_0242ac1c0002row1_col455\" class=\"data row1 col455\" >1</td>\n",
              "                        <td id=\"T_02fbb8c6_17f6_11eb_ad51_0242ac1c0002row1_col456\" class=\"data row1 col456\" >0</td>\n",
              "                        <td id=\"T_02fbb8c6_17f6_11eb_ad51_0242ac1c0002row1_col457\" class=\"data row1 col457\" >1</td>\n",
              "                        <td id=\"T_02fbb8c6_17f6_11eb_ad51_0242ac1c0002row1_col458\" class=\"data row1 col458\" >0</td>\n",
              "                        <td id=\"T_02fbb8c6_17f6_11eb_ad51_0242ac1c0002row1_col459\" class=\"data row1 col459\" >0</td>\n",
              "                        <td id=\"T_02fbb8c6_17f6_11eb_ad51_0242ac1c0002row1_col460\" class=\"data row1 col460\" >0</td>\n",
              "                        <td id=\"T_02fbb8c6_17f6_11eb_ad51_0242ac1c0002row1_col461\" class=\"data row1 col461\" >0</td>\n",
              "                        <td id=\"T_02fbb8c6_17f6_11eb_ad51_0242ac1c0002row1_col462\" class=\"data row1 col462\" >0</td>\n",
              "                        <td id=\"T_02fbb8c6_17f6_11eb_ad51_0242ac1c0002row1_col463\" class=\"data row1 col463\" >0</td>\n",
              "                        <td id=\"T_02fbb8c6_17f6_11eb_ad51_0242ac1c0002row1_col464\" class=\"data row1 col464\" >0</td>\n",
              "                        <td id=\"T_02fbb8c6_17f6_11eb_ad51_0242ac1c0002row1_col465\" class=\"data row1 col465\" >1</td>\n",
              "                        <td id=\"T_02fbb8c6_17f6_11eb_ad51_0242ac1c0002row1_col466\" class=\"data row1 col466\" >0</td>\n",
              "                        <td id=\"T_02fbb8c6_17f6_11eb_ad51_0242ac1c0002row1_col467\" class=\"data row1 col467\" >0</td>\n",
              "                        <td id=\"T_02fbb8c6_17f6_11eb_ad51_0242ac1c0002row1_col468\" class=\"data row1 col468\" >1</td>\n",
              "                        <td id=\"T_02fbb8c6_17f6_11eb_ad51_0242ac1c0002row1_col469\" class=\"data row1 col469\" >0</td>\n",
              "                        <td id=\"T_02fbb8c6_17f6_11eb_ad51_0242ac1c0002row1_col470\" class=\"data row1 col470\" >0</td>\n",
              "                        <td id=\"T_02fbb8c6_17f6_11eb_ad51_0242ac1c0002row1_col471\" class=\"data row1 col471\" >0</td>\n",
              "                        <td id=\"T_02fbb8c6_17f6_11eb_ad51_0242ac1c0002row1_col472\" class=\"data row1 col472\" >1</td>\n",
              "                        <td id=\"T_02fbb8c6_17f6_11eb_ad51_0242ac1c0002row1_col473\" class=\"data row1 col473\" >0</td>\n",
              "                        <td id=\"T_02fbb8c6_17f6_11eb_ad51_0242ac1c0002row1_col474\" class=\"data row1 col474\" >0</td>\n",
              "                        <td id=\"T_02fbb8c6_17f6_11eb_ad51_0242ac1c0002row1_col475\" class=\"data row1 col475\" >1</td>\n",
              "                        <td id=\"T_02fbb8c6_17f6_11eb_ad51_0242ac1c0002row1_col476\" class=\"data row1 col476\" >1</td>\n",
              "                        <td id=\"T_02fbb8c6_17f6_11eb_ad51_0242ac1c0002row1_col477\" class=\"data row1 col477\" >0</td>\n",
              "                        <td id=\"T_02fbb8c6_17f6_11eb_ad51_0242ac1c0002row1_col478\" class=\"data row1 col478\" >0</td>\n",
              "                        <td id=\"T_02fbb8c6_17f6_11eb_ad51_0242ac1c0002row1_col479\" class=\"data row1 col479\" >0</td>\n",
              "                        <td id=\"T_02fbb8c6_17f6_11eb_ad51_0242ac1c0002row1_col480\" class=\"data row1 col480\" >2</td>\n",
              "                        <td id=\"T_02fbb8c6_17f6_11eb_ad51_0242ac1c0002row1_col481\" class=\"data row1 col481\" >0</td>\n",
              "                        <td id=\"T_02fbb8c6_17f6_11eb_ad51_0242ac1c0002row1_col482\" class=\"data row1 col482\" >1</td>\n",
              "                        <td id=\"T_02fbb8c6_17f6_11eb_ad51_0242ac1c0002row1_col483\" class=\"data row1 col483\" >1</td>\n",
              "                        <td id=\"T_02fbb8c6_17f6_11eb_ad51_0242ac1c0002row1_col484\" class=\"data row1 col484\" >0</td>\n",
              "                        <td id=\"T_02fbb8c6_17f6_11eb_ad51_0242ac1c0002row1_col485\" class=\"data row1 col485\" >0</td>\n",
              "                        <td id=\"T_02fbb8c6_17f6_11eb_ad51_0242ac1c0002row1_col486\" class=\"data row1 col486\" >0</td>\n",
              "                        <td id=\"T_02fbb8c6_17f6_11eb_ad51_0242ac1c0002row1_col487\" class=\"data row1 col487\" >0</td>\n",
              "                        <td id=\"T_02fbb8c6_17f6_11eb_ad51_0242ac1c0002row1_col488\" class=\"data row1 col488\" >1</td>\n",
              "                        <td id=\"T_02fbb8c6_17f6_11eb_ad51_0242ac1c0002row1_col489\" class=\"data row1 col489\" >0</td>\n",
              "                        <td id=\"T_02fbb8c6_17f6_11eb_ad51_0242ac1c0002row1_col490\" class=\"data row1 col490\" >1</td>\n",
              "                        <td id=\"T_02fbb8c6_17f6_11eb_ad51_0242ac1c0002row1_col491\" class=\"data row1 col491\" >0</td>\n",
              "                        <td id=\"T_02fbb8c6_17f6_11eb_ad51_0242ac1c0002row1_col492\" class=\"data row1 col492\" >1</td>\n",
              "                        <td id=\"T_02fbb8c6_17f6_11eb_ad51_0242ac1c0002row1_col493\" class=\"data row1 col493\" >0</td>\n",
              "                        <td id=\"T_02fbb8c6_17f6_11eb_ad51_0242ac1c0002row1_col494\" class=\"data row1 col494\" >1</td>\n",
              "                        <td id=\"T_02fbb8c6_17f6_11eb_ad51_0242ac1c0002row1_col495\" class=\"data row1 col495\" >0</td>\n",
              "                        <td id=\"T_02fbb8c6_17f6_11eb_ad51_0242ac1c0002row1_col496\" class=\"data row1 col496\" >0</td>\n",
              "                        <td id=\"T_02fbb8c6_17f6_11eb_ad51_0242ac1c0002row1_col497\" class=\"data row1 col497\" >1</td>\n",
              "                        <td id=\"T_02fbb8c6_17f6_11eb_ad51_0242ac1c0002row1_col498\" class=\"data row1 col498\" >1</td>\n",
              "                        <td id=\"T_02fbb8c6_17f6_11eb_ad51_0242ac1c0002row1_col499\" class=\"data row1 col499\" >0</td>\n",
              "                        <td id=\"T_02fbb8c6_17f6_11eb_ad51_0242ac1c0002row1_col500\" class=\"data row1 col500\" >1</td>\n",
              "                        <td id=\"T_02fbb8c6_17f6_11eb_ad51_0242ac1c0002row1_col501\" class=\"data row1 col501\" >0</td>\n",
              "                        <td id=\"T_02fbb8c6_17f6_11eb_ad51_0242ac1c0002row1_col502\" class=\"data row1 col502\" >0</td>\n",
              "                        <td id=\"T_02fbb8c6_17f6_11eb_ad51_0242ac1c0002row1_col503\" class=\"data row1 col503\" >0</td>\n",
              "                        <td id=\"T_02fbb8c6_17f6_11eb_ad51_0242ac1c0002row1_col504\" class=\"data row1 col504\" >0</td>\n",
              "                        <td id=\"T_02fbb8c6_17f6_11eb_ad51_0242ac1c0002row1_col505\" class=\"data row1 col505\" >0</td>\n",
              "                        <td id=\"T_02fbb8c6_17f6_11eb_ad51_0242ac1c0002row1_col506\" class=\"data row1 col506\" >0</td>\n",
              "                        <td id=\"T_02fbb8c6_17f6_11eb_ad51_0242ac1c0002row1_col507\" class=\"data row1 col507\" >0</td>\n",
              "                        <td id=\"T_02fbb8c6_17f6_11eb_ad51_0242ac1c0002row1_col508\" class=\"data row1 col508\" >0</td>\n",
              "                        <td id=\"T_02fbb8c6_17f6_11eb_ad51_0242ac1c0002row1_col509\" class=\"data row1 col509\" >1</td>\n",
              "                        <td id=\"T_02fbb8c6_17f6_11eb_ad51_0242ac1c0002row1_col510\" class=\"data row1 col510\" >0</td>\n",
              "                        <td id=\"T_02fbb8c6_17f6_11eb_ad51_0242ac1c0002row1_col511\" class=\"data row1 col511\" >0</td>\n",
              "                        <td id=\"T_02fbb8c6_17f6_11eb_ad51_0242ac1c0002row1_col512\" class=\"data row1 col512\" >0</td>\n",
              "                        <td id=\"T_02fbb8c6_17f6_11eb_ad51_0242ac1c0002row1_col513\" class=\"data row1 col513\" >2</td>\n",
              "                        <td id=\"T_02fbb8c6_17f6_11eb_ad51_0242ac1c0002row1_col514\" class=\"data row1 col514\" >0</td>\n",
              "                        <td id=\"T_02fbb8c6_17f6_11eb_ad51_0242ac1c0002row1_col515\" class=\"data row1 col515\" >0</td>\n",
              "                        <td id=\"T_02fbb8c6_17f6_11eb_ad51_0242ac1c0002row1_col516\" class=\"data row1 col516\" >1</td>\n",
              "                        <td id=\"T_02fbb8c6_17f6_11eb_ad51_0242ac1c0002row1_col517\" class=\"data row1 col517\" >0</td>\n",
              "                        <td id=\"T_02fbb8c6_17f6_11eb_ad51_0242ac1c0002row1_col518\" class=\"data row1 col518\" >0</td>\n",
              "                        <td id=\"T_02fbb8c6_17f6_11eb_ad51_0242ac1c0002row1_col519\" class=\"data row1 col519\" >0</td>\n",
              "                        <td id=\"T_02fbb8c6_17f6_11eb_ad51_0242ac1c0002row1_col520\" class=\"data row1 col520\" >1</td>\n",
              "                        <td id=\"T_02fbb8c6_17f6_11eb_ad51_0242ac1c0002row1_col521\" class=\"data row1 col521\" >1</td>\n",
              "                        <td id=\"T_02fbb8c6_17f6_11eb_ad51_0242ac1c0002row1_col522\" class=\"data row1 col522\" >0</td>\n",
              "                        <td id=\"T_02fbb8c6_17f6_11eb_ad51_0242ac1c0002row1_col523\" class=\"data row1 col523\" >1</td>\n",
              "                        <td id=\"T_02fbb8c6_17f6_11eb_ad51_0242ac1c0002row1_col524\" class=\"data row1 col524\" >0</td>\n",
              "                        <td id=\"T_02fbb8c6_17f6_11eb_ad51_0242ac1c0002row1_col525\" class=\"data row1 col525\" >0</td>\n",
              "                        <td id=\"T_02fbb8c6_17f6_11eb_ad51_0242ac1c0002row1_col526\" class=\"data row1 col526\" >0</td>\n",
              "                        <td id=\"T_02fbb8c6_17f6_11eb_ad51_0242ac1c0002row1_col527\" class=\"data row1 col527\" >1</td>\n",
              "                        <td id=\"T_02fbb8c6_17f6_11eb_ad51_0242ac1c0002row1_col528\" class=\"data row1 col528\" >2</td>\n",
              "                        <td id=\"T_02fbb8c6_17f6_11eb_ad51_0242ac1c0002row1_col529\" class=\"data row1 col529\" >1</td>\n",
              "                        <td id=\"T_02fbb8c6_17f6_11eb_ad51_0242ac1c0002row1_col530\" class=\"data row1 col530\" >1</td>\n",
              "                        <td id=\"T_02fbb8c6_17f6_11eb_ad51_0242ac1c0002row1_col531\" class=\"data row1 col531\" >0</td>\n",
              "                        <td id=\"T_02fbb8c6_17f6_11eb_ad51_0242ac1c0002row1_col532\" class=\"data row1 col532\" >0</td>\n",
              "                        <td id=\"T_02fbb8c6_17f6_11eb_ad51_0242ac1c0002row1_col533\" class=\"data row1 col533\" >1</td>\n",
              "                        <td id=\"T_02fbb8c6_17f6_11eb_ad51_0242ac1c0002row1_col534\" class=\"data row1 col534\" >0</td>\n",
              "                        <td id=\"T_02fbb8c6_17f6_11eb_ad51_0242ac1c0002row1_col535\" class=\"data row1 col535\" >1</td>\n",
              "                        <td id=\"T_02fbb8c6_17f6_11eb_ad51_0242ac1c0002row1_col536\" class=\"data row1 col536\" >1</td>\n",
              "                        <td id=\"T_02fbb8c6_17f6_11eb_ad51_0242ac1c0002row1_col537\" class=\"data row1 col537\" >0</td>\n",
              "                        <td id=\"T_02fbb8c6_17f6_11eb_ad51_0242ac1c0002row1_col538\" class=\"data row1 col538\" >1</td>\n",
              "                        <td id=\"T_02fbb8c6_17f6_11eb_ad51_0242ac1c0002row1_col539\" class=\"data row1 col539\" >1</td>\n",
              "                        <td id=\"T_02fbb8c6_17f6_11eb_ad51_0242ac1c0002row1_col540\" class=\"data row1 col540\" >1</td>\n",
              "                        <td id=\"T_02fbb8c6_17f6_11eb_ad51_0242ac1c0002row1_col541\" class=\"data row1 col541\" >0</td>\n",
              "                        <td id=\"T_02fbb8c6_17f6_11eb_ad51_0242ac1c0002row1_col542\" class=\"data row1 col542\" >0</td>\n",
              "                        <td id=\"T_02fbb8c6_17f6_11eb_ad51_0242ac1c0002row1_col543\" class=\"data row1 col543\" >0</td>\n",
              "                        <td id=\"T_02fbb8c6_17f6_11eb_ad51_0242ac1c0002row1_col544\" class=\"data row1 col544\" >1</td>\n",
              "                        <td id=\"T_02fbb8c6_17f6_11eb_ad51_0242ac1c0002row1_col545\" class=\"data row1 col545\" >1</td>\n",
              "                        <td id=\"T_02fbb8c6_17f6_11eb_ad51_0242ac1c0002row1_col546\" class=\"data row1 col546\" >0</td>\n",
              "                        <td id=\"T_02fbb8c6_17f6_11eb_ad51_0242ac1c0002row1_col547\" class=\"data row1 col547\" >0</td>\n",
              "                        <td id=\"T_02fbb8c6_17f6_11eb_ad51_0242ac1c0002row1_col548\" class=\"data row1 col548\" >0</td>\n",
              "                        <td id=\"T_02fbb8c6_17f6_11eb_ad51_0242ac1c0002row1_col549\" class=\"data row1 col549\" >2</td>\n",
              "                        <td id=\"T_02fbb8c6_17f6_11eb_ad51_0242ac1c0002row1_col550\" class=\"data row1 col550\" >1</td>\n",
              "                        <td id=\"T_02fbb8c6_17f6_11eb_ad51_0242ac1c0002row1_col551\" class=\"data row1 col551\" >0</td>\n",
              "                        <td id=\"T_02fbb8c6_17f6_11eb_ad51_0242ac1c0002row1_col552\" class=\"data row1 col552\" >0</td>\n",
              "                        <td id=\"T_02fbb8c6_17f6_11eb_ad51_0242ac1c0002row1_col553\" class=\"data row1 col553\" >0</td>\n",
              "                        <td id=\"T_02fbb8c6_17f6_11eb_ad51_0242ac1c0002row1_col554\" class=\"data row1 col554\" >0</td>\n",
              "                        <td id=\"T_02fbb8c6_17f6_11eb_ad51_0242ac1c0002row1_col555\" class=\"data row1 col555\" >0</td>\n",
              "                        <td id=\"T_02fbb8c6_17f6_11eb_ad51_0242ac1c0002row1_col556\" class=\"data row1 col556\" >0</td>\n",
              "                        <td id=\"T_02fbb8c6_17f6_11eb_ad51_0242ac1c0002row1_col557\" class=\"data row1 col557\" >1</td>\n",
              "                        <td id=\"T_02fbb8c6_17f6_11eb_ad51_0242ac1c0002row1_col558\" class=\"data row1 col558\" >0</td>\n",
              "                        <td id=\"T_02fbb8c6_17f6_11eb_ad51_0242ac1c0002row1_col559\" class=\"data row1 col559\" >0</td>\n",
              "                        <td id=\"T_02fbb8c6_17f6_11eb_ad51_0242ac1c0002row1_col560\" class=\"data row1 col560\" >1</td>\n",
              "                        <td id=\"T_02fbb8c6_17f6_11eb_ad51_0242ac1c0002row1_col561\" class=\"data row1 col561\" >0</td>\n",
              "                        <td id=\"T_02fbb8c6_17f6_11eb_ad51_0242ac1c0002row1_col562\" class=\"data row1 col562\" >0</td>\n",
              "                        <td id=\"T_02fbb8c6_17f6_11eb_ad51_0242ac1c0002row1_col563\" class=\"data row1 col563\" >1</td>\n",
              "                        <td id=\"T_02fbb8c6_17f6_11eb_ad51_0242ac1c0002row1_col564\" class=\"data row1 col564\" >1</td>\n",
              "                        <td id=\"T_02fbb8c6_17f6_11eb_ad51_0242ac1c0002row1_col565\" class=\"data row1 col565\" >0</td>\n",
              "                        <td id=\"T_02fbb8c6_17f6_11eb_ad51_0242ac1c0002row1_col566\" class=\"data row1 col566\" >0</td>\n",
              "                        <td id=\"T_02fbb8c6_17f6_11eb_ad51_0242ac1c0002row1_col567\" class=\"data row1 col567\" >1</td>\n",
              "                        <td id=\"T_02fbb8c6_17f6_11eb_ad51_0242ac1c0002row1_col568\" class=\"data row1 col568\" >2</td>\n",
              "                        <td id=\"T_02fbb8c6_17f6_11eb_ad51_0242ac1c0002row1_col569\" class=\"data row1 col569\" >0</td>\n",
              "                        <td id=\"T_02fbb8c6_17f6_11eb_ad51_0242ac1c0002row1_col570\" class=\"data row1 col570\" >0</td>\n",
              "                        <td id=\"T_02fbb8c6_17f6_11eb_ad51_0242ac1c0002row1_col571\" class=\"data row1 col571\" >0</td>\n",
              "                        <td id=\"T_02fbb8c6_17f6_11eb_ad51_0242ac1c0002row1_col572\" class=\"data row1 col572\" >0</td>\n",
              "                        <td id=\"T_02fbb8c6_17f6_11eb_ad51_0242ac1c0002row1_col573\" class=\"data row1 col573\" >1</td>\n",
              "                        <td id=\"T_02fbb8c6_17f6_11eb_ad51_0242ac1c0002row1_col574\" class=\"data row1 col574\" >0</td>\n",
              "                        <td id=\"T_02fbb8c6_17f6_11eb_ad51_0242ac1c0002row1_col575\" class=\"data row1 col575\" >0</td>\n",
              "                        <td id=\"T_02fbb8c6_17f6_11eb_ad51_0242ac1c0002row1_col576\" class=\"data row1 col576\" >1</td>\n",
              "                        <td id=\"T_02fbb8c6_17f6_11eb_ad51_0242ac1c0002row1_col577\" class=\"data row1 col577\" >0</td>\n",
              "                        <td id=\"T_02fbb8c6_17f6_11eb_ad51_0242ac1c0002row1_col578\" class=\"data row1 col578\" >1</td>\n",
              "                        <td id=\"T_02fbb8c6_17f6_11eb_ad51_0242ac1c0002row1_col579\" class=\"data row1 col579\" >0</td>\n",
              "                        <td id=\"T_02fbb8c6_17f6_11eb_ad51_0242ac1c0002row1_col580\" class=\"data row1 col580\" >0</td>\n",
              "                        <td id=\"T_02fbb8c6_17f6_11eb_ad51_0242ac1c0002row1_col581\" class=\"data row1 col581\" >0</td>\n",
              "                        <td id=\"T_02fbb8c6_17f6_11eb_ad51_0242ac1c0002row1_col582\" class=\"data row1 col582\" >0</td>\n",
              "                        <td id=\"T_02fbb8c6_17f6_11eb_ad51_0242ac1c0002row1_col583\" class=\"data row1 col583\" >0</td>\n",
              "                        <td id=\"T_02fbb8c6_17f6_11eb_ad51_0242ac1c0002row1_col584\" class=\"data row1 col584\" >0</td>\n",
              "                        <td id=\"T_02fbb8c6_17f6_11eb_ad51_0242ac1c0002row1_col585\" class=\"data row1 col585\" >0</td>\n",
              "                        <td id=\"T_02fbb8c6_17f6_11eb_ad51_0242ac1c0002row1_col586\" class=\"data row1 col586\" >1</td>\n",
              "                        <td id=\"T_02fbb8c6_17f6_11eb_ad51_0242ac1c0002row1_col587\" class=\"data row1 col587\" >0</td>\n",
              "                        <td id=\"T_02fbb8c6_17f6_11eb_ad51_0242ac1c0002row1_col588\" class=\"data row1 col588\" >1</td>\n",
              "                        <td id=\"T_02fbb8c6_17f6_11eb_ad51_0242ac1c0002row1_col589\" class=\"data row1 col589\" >1</td>\n",
              "                        <td id=\"T_02fbb8c6_17f6_11eb_ad51_0242ac1c0002row1_col590\" class=\"data row1 col590\" >0</td>\n",
              "                        <td id=\"T_02fbb8c6_17f6_11eb_ad51_0242ac1c0002row1_col591\" class=\"data row1 col591\" >0</td>\n",
              "                        <td id=\"T_02fbb8c6_17f6_11eb_ad51_0242ac1c0002row1_col592\" class=\"data row1 col592\" >0</td>\n",
              "                        <td id=\"T_02fbb8c6_17f6_11eb_ad51_0242ac1c0002row1_col593\" class=\"data row1 col593\" >1</td>\n",
              "                        <td id=\"T_02fbb8c6_17f6_11eb_ad51_0242ac1c0002row1_col594\" class=\"data row1 col594\" >0</td>\n",
              "                        <td id=\"T_02fbb8c6_17f6_11eb_ad51_0242ac1c0002row1_col595\" class=\"data row1 col595\" >0</td>\n",
              "                        <td id=\"T_02fbb8c6_17f6_11eb_ad51_0242ac1c0002row1_col596\" class=\"data row1 col596\" >0</td>\n",
              "                        <td id=\"T_02fbb8c6_17f6_11eb_ad51_0242ac1c0002row1_col597\" class=\"data row1 col597\" >0</td>\n",
              "                        <td id=\"T_02fbb8c6_17f6_11eb_ad51_0242ac1c0002row1_col598\" class=\"data row1 col598\" >1</td>\n",
              "                        <td id=\"T_02fbb8c6_17f6_11eb_ad51_0242ac1c0002row1_col599\" class=\"data row1 col599\" >1</td>\n",
              "                        <td id=\"T_02fbb8c6_17f6_11eb_ad51_0242ac1c0002row1_col600\" class=\"data row1 col600\" >0</td>\n",
              "                        <td id=\"T_02fbb8c6_17f6_11eb_ad51_0242ac1c0002row1_col601\" class=\"data row1 col601\" >0</td>\n",
              "                        <td id=\"T_02fbb8c6_17f6_11eb_ad51_0242ac1c0002row1_col602\" class=\"data row1 col602\" >1</td>\n",
              "                        <td id=\"T_02fbb8c6_17f6_11eb_ad51_0242ac1c0002row1_col603\" class=\"data row1 col603\" >1</td>\n",
              "                        <td id=\"T_02fbb8c6_17f6_11eb_ad51_0242ac1c0002row1_col604\" class=\"data row1 col604\" >0</td>\n",
              "                        <td id=\"T_02fbb8c6_17f6_11eb_ad51_0242ac1c0002row1_col605\" class=\"data row1 col605\" >0</td>\n",
              "                        <td id=\"T_02fbb8c6_17f6_11eb_ad51_0242ac1c0002row1_col606\" class=\"data row1 col606\" >0</td>\n",
              "                        <td id=\"T_02fbb8c6_17f6_11eb_ad51_0242ac1c0002row1_col607\" class=\"data row1 col607\" >0</td>\n",
              "                        <td id=\"T_02fbb8c6_17f6_11eb_ad51_0242ac1c0002row1_col608\" class=\"data row1 col608\" >0</td>\n",
              "                        <td id=\"T_02fbb8c6_17f6_11eb_ad51_0242ac1c0002row1_col609\" class=\"data row1 col609\" >0</td>\n",
              "                        <td id=\"T_02fbb8c6_17f6_11eb_ad51_0242ac1c0002row1_col610\" class=\"data row1 col610\" >0</td>\n",
              "                        <td id=\"T_02fbb8c6_17f6_11eb_ad51_0242ac1c0002row1_col611\" class=\"data row1 col611\" >1</td>\n",
              "                        <td id=\"T_02fbb8c6_17f6_11eb_ad51_0242ac1c0002row1_col612\" class=\"data row1 col612\" >0</td>\n",
              "                        <td id=\"T_02fbb8c6_17f6_11eb_ad51_0242ac1c0002row1_col613\" class=\"data row1 col613\" >1</td>\n",
              "                        <td id=\"T_02fbb8c6_17f6_11eb_ad51_0242ac1c0002row1_col614\" class=\"data row1 col614\" >0</td>\n",
              "                        <td id=\"T_02fbb8c6_17f6_11eb_ad51_0242ac1c0002row1_col615\" class=\"data row1 col615\" >1</td>\n",
              "                        <td id=\"T_02fbb8c6_17f6_11eb_ad51_0242ac1c0002row1_col616\" class=\"data row1 col616\" >1</td>\n",
              "                        <td id=\"T_02fbb8c6_17f6_11eb_ad51_0242ac1c0002row1_col617\" class=\"data row1 col617\" >0</td>\n",
              "                        <td id=\"T_02fbb8c6_17f6_11eb_ad51_0242ac1c0002row1_col618\" class=\"data row1 col618\" >0</td>\n",
              "                        <td id=\"T_02fbb8c6_17f6_11eb_ad51_0242ac1c0002row1_col619\" class=\"data row1 col619\" >1</td>\n",
              "                        <td id=\"T_02fbb8c6_17f6_11eb_ad51_0242ac1c0002row1_col620\" class=\"data row1 col620\" >0</td>\n",
              "                        <td id=\"T_02fbb8c6_17f6_11eb_ad51_0242ac1c0002row1_col621\" class=\"data row1 col621\" >0</td>\n",
              "                        <td id=\"T_02fbb8c6_17f6_11eb_ad51_0242ac1c0002row1_col622\" class=\"data row1 col622\" >1</td>\n",
              "                        <td id=\"T_02fbb8c6_17f6_11eb_ad51_0242ac1c0002row1_col623\" class=\"data row1 col623\" >1</td>\n",
              "                        <td id=\"T_02fbb8c6_17f6_11eb_ad51_0242ac1c0002row1_col624\" class=\"data row1 col624\" >0</td>\n",
              "                        <td id=\"T_02fbb8c6_17f6_11eb_ad51_0242ac1c0002row1_col625\" class=\"data row1 col625\" >0</td>\n",
              "                        <td id=\"T_02fbb8c6_17f6_11eb_ad51_0242ac1c0002row1_col626\" class=\"data row1 col626\" >1</td>\n",
              "                        <td id=\"T_02fbb8c6_17f6_11eb_ad51_0242ac1c0002row1_col627\" class=\"data row1 col627\" >0</td>\n",
              "                        <td id=\"T_02fbb8c6_17f6_11eb_ad51_0242ac1c0002row1_col628\" class=\"data row1 col628\" >0</td>\n",
              "                        <td id=\"T_02fbb8c6_17f6_11eb_ad51_0242ac1c0002row1_col629\" class=\"data row1 col629\" >0</td>\n",
              "                        <td id=\"T_02fbb8c6_17f6_11eb_ad51_0242ac1c0002row1_col630\" class=\"data row1 col630\" >0</td>\n",
              "                        <td id=\"T_02fbb8c6_17f6_11eb_ad51_0242ac1c0002row1_col631\" class=\"data row1 col631\" >1</td>\n",
              "                        <td id=\"T_02fbb8c6_17f6_11eb_ad51_0242ac1c0002row1_col632\" class=\"data row1 col632\" >1</td>\n",
              "                        <td id=\"T_02fbb8c6_17f6_11eb_ad51_0242ac1c0002row1_col633\" class=\"data row1 col633\" >0</td>\n",
              "                        <td id=\"T_02fbb8c6_17f6_11eb_ad51_0242ac1c0002row1_col634\" class=\"data row1 col634\" >0</td>\n",
              "                        <td id=\"T_02fbb8c6_17f6_11eb_ad51_0242ac1c0002row1_col635\" class=\"data row1 col635\" >1</td>\n",
              "                        <td id=\"T_02fbb8c6_17f6_11eb_ad51_0242ac1c0002row1_col636\" class=\"data row1 col636\" >0</td>\n",
              "                        <td id=\"T_02fbb8c6_17f6_11eb_ad51_0242ac1c0002row1_col637\" class=\"data row1 col637\" >1</td>\n",
              "                        <td id=\"T_02fbb8c6_17f6_11eb_ad51_0242ac1c0002row1_col638\" class=\"data row1 col638\" >1</td>\n",
              "                        <td id=\"T_02fbb8c6_17f6_11eb_ad51_0242ac1c0002row1_col639\" class=\"data row1 col639\" >0</td>\n",
              "                        <td id=\"T_02fbb8c6_17f6_11eb_ad51_0242ac1c0002row1_col640\" class=\"data row1 col640\" >0</td>\n",
              "                        <td id=\"T_02fbb8c6_17f6_11eb_ad51_0242ac1c0002row1_col641\" class=\"data row1 col641\" >1</td>\n",
              "                        <td id=\"T_02fbb8c6_17f6_11eb_ad51_0242ac1c0002row1_col642\" class=\"data row1 col642\" >0</td>\n",
              "                        <td id=\"T_02fbb8c6_17f6_11eb_ad51_0242ac1c0002row1_col643\" class=\"data row1 col643\" >1</td>\n",
              "                        <td id=\"T_02fbb8c6_17f6_11eb_ad51_0242ac1c0002row1_col644\" class=\"data row1 col644\" >1</td>\n",
              "                        <td id=\"T_02fbb8c6_17f6_11eb_ad51_0242ac1c0002row1_col645\" class=\"data row1 col645\" >0</td>\n",
              "                        <td id=\"T_02fbb8c6_17f6_11eb_ad51_0242ac1c0002row1_col646\" class=\"data row1 col646\" >0</td>\n",
              "                        <td id=\"T_02fbb8c6_17f6_11eb_ad51_0242ac1c0002row1_col647\" class=\"data row1 col647\" >0</td>\n",
              "                        <td id=\"T_02fbb8c6_17f6_11eb_ad51_0242ac1c0002row1_col648\" class=\"data row1 col648\" >0</td>\n",
              "                        <td id=\"T_02fbb8c6_17f6_11eb_ad51_0242ac1c0002row1_col649\" class=\"data row1 col649\" >0</td>\n",
              "                        <td id=\"T_02fbb8c6_17f6_11eb_ad51_0242ac1c0002row1_col650\" class=\"data row1 col650\" >1</td>\n",
              "                        <td id=\"T_02fbb8c6_17f6_11eb_ad51_0242ac1c0002row1_col651\" class=\"data row1 col651\" >0</td>\n",
              "            </tr>\n",
              "    </tbody></table>"
            ],
            "text/plain": [
              "<pandas.io.formats.style.Styler at 0x7f96a68db7f0>"
            ]
          },
          "metadata": {
            "tags": []
          },
          "execution_count": 35
        }
      ]
    },
    {
      "cell_type": "code",
      "metadata": {
        "id": "46AlvxOWpbwt",
        "outputId": "6d2c4300-a080-4dda-839d-2a3a3f7f8a92",
        "colab": {
          "base_uri": "https://localhost:8080/",
          "height": 578
        }
      },
      "source": [
        "temp.loc[temp['NumName']==8] #check Lastname "
      ],
      "execution_count": 36,
      "outputs": [
        {
          "output_type": "execute_result",
          "data": {
            "text/html": [
              "<div>\n",
              "<style scoped>\n",
              "    .dataframe tbody tr th:only-of-type {\n",
              "        vertical-align: middle;\n",
              "    }\n",
              "\n",
              "    .dataframe tbody tr th {\n",
              "        vertical-align: top;\n",
              "    }\n",
              "\n",
              "    .dataframe thead th {\n",
              "        text-align: right;\n",
              "    }\n",
              "</style>\n",
              "<table border=\"1\" class=\"dataframe\">\n",
              "  <thead>\n",
              "    <tr style=\"text-align: right;\">\n",
              "      <th></th>\n",
              "      <th>PassengerId</th>\n",
              "      <th>Survived</th>\n",
              "      <th>Pclass</th>\n",
              "      <th>Name</th>\n",
              "      <th>Sex</th>\n",
              "      <th>Age</th>\n",
              "      <th>SibSp</th>\n",
              "      <th>Parch</th>\n",
              "      <th>Ticket</th>\n",
              "      <th>Fare</th>\n",
              "      <th>Cabin</th>\n",
              "      <th>Embarked</th>\n",
              "      <th>Initial</th>\n",
              "      <th>LastName</th>\n",
              "      <th>NumName</th>\n",
              "    </tr>\n",
              "  </thead>\n",
              "  <tbody>\n",
              "    <tr>\n",
              "      <th>8</th>\n",
              "      <td>9</td>\n",
              "      <td>1.0</td>\n",
              "      <td>3</td>\n",
              "      <td>Johnson, Mrs. Oscar W (Elisabeth Vilhelmina Berg)</td>\n",
              "      <td>female</td>\n",
              "      <td>27.0</td>\n",
              "      <td>0</td>\n",
              "      <td>2</td>\n",
              "      <td>347742</td>\n",
              "      <td>11.1333</td>\n",
              "      <td>NaN</td>\n",
              "      <td>S</td>\n",
              "      <td>Mrs</td>\n",
              "      <td>Johnson</td>\n",
              "      <td>8</td>\n",
              "    </tr>\n",
              "    <tr>\n",
              "      <th>172</th>\n",
              "      <td>173</td>\n",
              "      <td>1.0</td>\n",
              "      <td>3</td>\n",
              "      <td>Johnson, Miss. Eleanor Ileen</td>\n",
              "      <td>female</td>\n",
              "      <td>1.0</td>\n",
              "      <td>1</td>\n",
              "      <td>1</td>\n",
              "      <td>347742</td>\n",
              "      <td>11.1333</td>\n",
              "      <td>NaN</td>\n",
              "      <td>S</td>\n",
              "      <td>Miss</td>\n",
              "      <td>Johnson</td>\n",
              "      <td>8</td>\n",
              "    </tr>\n",
              "    <tr>\n",
              "      <th>302</th>\n",
              "      <td>303</td>\n",
              "      <td>0.0</td>\n",
              "      <td>3</td>\n",
              "      <td>Johnson, Mr. William Cahoone Jr</td>\n",
              "      <td>male</td>\n",
              "      <td>19.0</td>\n",
              "      <td>0</td>\n",
              "      <td>0</td>\n",
              "      <td>LINE</td>\n",
              "      <td>0.0000</td>\n",
              "      <td>NaN</td>\n",
              "      <td>S</td>\n",
              "      <td>Mr</td>\n",
              "      <td>Johnson</td>\n",
              "      <td>8</td>\n",
              "    </tr>\n",
              "    <tr>\n",
              "      <th>597</th>\n",
              "      <td>598</td>\n",
              "      <td>0.0</td>\n",
              "      <td>3</td>\n",
              "      <td>Johnson, Mr. Alfred</td>\n",
              "      <td>male</td>\n",
              "      <td>49.0</td>\n",
              "      <td>0</td>\n",
              "      <td>0</td>\n",
              "      <td>LINE</td>\n",
              "      <td>0.0000</td>\n",
              "      <td>NaN</td>\n",
              "      <td>S</td>\n",
              "      <td>Mr</td>\n",
              "      <td>Johnson</td>\n",
              "      <td>8</td>\n",
              "    </tr>\n",
              "    <tr>\n",
              "      <th>719</th>\n",
              "      <td>720</td>\n",
              "      <td>0.0</td>\n",
              "      <td>3</td>\n",
              "      <td>Johnson, Mr. Malkolm Joackim</td>\n",
              "      <td>male</td>\n",
              "      <td>33.0</td>\n",
              "      <td>0</td>\n",
              "      <td>0</td>\n",
              "      <td>347062</td>\n",
              "      <td>7.7750</td>\n",
              "      <td>NaN</td>\n",
              "      <td>S</td>\n",
              "      <td>Mr</td>\n",
              "      <td>Johnson</td>\n",
              "      <td>8</td>\n",
              "    </tr>\n",
              "    <tr>\n",
              "      <th>869</th>\n",
              "      <td>870</td>\n",
              "      <td>1.0</td>\n",
              "      <td>3</td>\n",
              "      <td>Johnson, Master. Harold Theodor</td>\n",
              "      <td>male</td>\n",
              "      <td>4.0</td>\n",
              "      <td>1</td>\n",
              "      <td>1</td>\n",
              "      <td>347742</td>\n",
              "      <td>11.1333</td>\n",
              "      <td>NaN</td>\n",
              "      <td>S</td>\n",
              "      <td>Master</td>\n",
              "      <td>Johnson</td>\n",
              "      <td>8</td>\n",
              "    </tr>\n",
              "  </tbody>\n",
              "</table>\n",
              "</div>"
            ],
            "text/plain": [
              "     PassengerId  Survived  Pclass  ... Initial LastName  NumName\n",
              "8              9       1.0       3  ...     Mrs  Johnson        8\n",
              "172          173       1.0       3  ...    Miss  Johnson        8\n",
              "302          303       0.0       3  ...      Mr  Johnson        8\n",
              "597          598       0.0       3  ...      Mr  Johnson        8\n",
              "719          720       0.0       3  ...      Mr  Johnson        8\n",
              "869          870       1.0       3  ...  Master  Johnson        8\n",
              "\n",
              "[6 rows x 15 columns]"
            ]
          },
          "metadata": {
            "tags": []
          },
          "execution_count": 36
        }
      ]
    },
    {
      "cell_type": "code",
      "metadata": {
        "id": "bKIljLzOpu-x",
        "outputId": "8bdf6443-84c6-4aae-a341-46c28ba162d8",
        "colab": {
          "base_uri": "https://localhost:8080/",
          "height": 142
        }
      },
      "source": [
        "train[['Sex','Survived']].groupby(['Sex']).mean()"
      ],
      "execution_count": 37,
      "outputs": [
        {
          "output_type": "execute_result",
          "data": {
            "text/html": [
              "<div>\n",
              "<style scoped>\n",
              "    .dataframe tbody tr th:only-of-type {\n",
              "        vertical-align: middle;\n",
              "    }\n",
              "\n",
              "    .dataframe tbody tr th {\n",
              "        vertical-align: top;\n",
              "    }\n",
              "\n",
              "    .dataframe thead th {\n",
              "        text-align: right;\n",
              "    }\n",
              "</style>\n",
              "<table border=\"1\" class=\"dataframe\">\n",
              "  <thead>\n",
              "    <tr style=\"text-align: right;\">\n",
              "      <th></th>\n",
              "      <th>Survived</th>\n",
              "    </tr>\n",
              "    <tr>\n",
              "      <th>Sex</th>\n",
              "      <th></th>\n",
              "    </tr>\n",
              "  </thead>\n",
              "  <tbody>\n",
              "    <tr>\n",
              "      <th>female</th>\n",
              "      <td>0.742038</td>\n",
              "    </tr>\n",
              "    <tr>\n",
              "      <th>male</th>\n",
              "      <td>0.188908</td>\n",
              "    </tr>\n",
              "  </tbody>\n",
              "</table>\n",
              "</div>"
            ],
            "text/plain": [
              "        Survived\n",
              "Sex             \n",
              "female  0.742038\n",
              "male    0.188908"
            ]
          },
          "metadata": {
            "tags": []
          },
          "execution_count": 37
        }
      ]
    },
    {
      "cell_type": "code",
      "metadata": {
        "id": "zz1EOTraJomF",
        "outputId": "be3d7162-8e78-41a8-f3b4-cb2ef28cd669",
        "colab": {
          "base_uri": "https://localhost:8080/",
          "height": 365
        }
      },
      "source": [
        "def bag(col,target,title,title1):\n",
        "  f,ax=plt.subplots(1,2,figsize = (12,5))\n",
        "  train.groupby([col])[target].mean().plot(kind = 'bar',ax = ax[0])\n",
        "  ax[0].set_title(title)\n",
        "  #secound bar chart for sex and survived \n",
        "  sns.countplot(col,hue=target,data = train,ax= ax[1])\n",
        "  ax[1].set_title(title1)\n",
        "  plt.show()\n",
        "\n",
        "\n",
        "\n",
        "bag(\"Sex\",\"Survived\",\"Survived per Sex\",\"Sex Survived vs Not Survived\")\n",
        "# In the ship we can found out there are more man than woman\n",
        "# however girls survived ratio is triple than guys suvived ratio\n",
        "\n",
        "\n"
      ],
      "execution_count": 38,
      "outputs": [
        {
          "output_type": "display_data",
          "data": {
            "image/png": "[encoded data removed]",
            "text/plain": [
              "<Figure size 864x360 with 2 Axes>"
            ]
          },
          "metadata": {
            "tags": []
          }
        }
      ]
    },
    {
      "cell_type": "code",
      "metadata": {
        "id": "eX2zRDbeLwKH",
        "outputId": "84d99a44-1757-4ff3-ff15-ad162922d6c2",
        "colab": {
          "base_uri": "https://localhost:8080/",
          "height": 166
        }
      },
      "source": [
        "pd.crosstab([train.Sex,train.Survived],train.Pclass,margins=True).style.background_gradient(cmap='summer_r')"
      ],
      "execution_count": 39,
      "outputs": [
        {
          "output_type": "execute_result",
          "data": {
            "text/html": [
              "<style  type=\"text/css\" >\n",
              "#T_0493c318_17f6_11eb_ad51_0242ac1c0002row0_col0,#T_0493c318_17f6_11eb_ad51_0242ac1c0002row0_col1,#T_0493c318_17f6_11eb_ad51_0242ac1c0002row0_col3,#T_0493c318_17f6_11eb_ad51_0242ac1c0002row3_col2{\n",
              "            background-color:  #ffff66;\n",
              "            color:  #000000;\n",
              "        }#T_0493c318_17f6_11eb_ad51_0242ac1c0002row0_col2,#T_0493c318_17f6_11eb_ad51_0242ac1c0002row1_col2{\n",
              "            background-color:  #f1f866;\n",
              "            color:  #000000;\n",
              "        }#T_0493c318_17f6_11eb_ad51_0242ac1c0002row1_col0{\n",
              "            background-color:  #96cb66;\n",
              "            color:  #000000;\n",
              "        }#T_0493c318_17f6_11eb_ad51_0242ac1c0002row1_col1{\n",
              "            background-color:  #a3d166;\n",
              "            color:  #000000;\n",
              "        }#T_0493c318_17f6_11eb_ad51_0242ac1c0002row1_col3{\n",
              "            background-color:  #cfe766;\n",
              "            color:  #000000;\n",
              "        }#T_0493c318_17f6_11eb_ad51_0242ac1c0002row2_col0{\n",
              "            background-color:  #a7d366;\n",
              "            color:  #000000;\n",
              "        }#T_0493c318_17f6_11eb_ad51_0242ac1c0002row2_col1,#T_0493c318_17f6_11eb_ad51_0242ac1c0002row2_col3{\n",
              "            background-color:  #85c266;\n",
              "            color:  #000000;\n",
              "        }#T_0493c318_17f6_11eb_ad51_0242ac1c0002row2_col2{\n",
              "            background-color:  #6eb666;\n",
              "            color:  #000000;\n",
              "        }#T_0493c318_17f6_11eb_ad51_0242ac1c0002row3_col0{\n",
              "            background-color:  #cde666;\n",
              "            color:  #000000;\n",
              "        }#T_0493c318_17f6_11eb_ad51_0242ac1c0002row3_col1{\n",
              "            background-color:  #f0f866;\n",
              "            color:  #000000;\n",
              "        }#T_0493c318_17f6_11eb_ad51_0242ac1c0002row3_col3{\n",
              "            background-color:  #f7fb66;\n",
              "            color:  #000000;\n",
              "        }#T_0493c318_17f6_11eb_ad51_0242ac1c0002row4_col0,#T_0493c318_17f6_11eb_ad51_0242ac1c0002row4_col1,#T_0493c318_17f6_11eb_ad51_0242ac1c0002row4_col2,#T_0493c318_17f6_11eb_ad51_0242ac1c0002row4_col3{\n",
              "            background-color:  #008066;\n",
              "            color:  #f1f1f1;\n",
              "        }</style><table id=\"T_0493c318_17f6_11eb_ad51_0242ac1c0002\" ><thead>    <tr>        <th class=\"blank\" ></th>        <th class=\"index_name level0\" >Pclass</th>        <th class=\"col_heading level0 col0\" >1</th>        <th class=\"col_heading level0 col1\" >2</th>        <th class=\"col_heading level0 col2\" >3</th>        <th class=\"col_heading level0 col3\" >All</th>    </tr>    <tr>        <th class=\"index_name level0\" >Sex</th>        <th class=\"index_name level1\" >Survived</th>        <th class=\"blank\" ></th>        <th class=\"blank\" ></th>        <th class=\"blank\" ></th>        <th class=\"blank\" ></th>    </tr></thead><tbody>\n",
              "                <tr>\n",
              "                        <th id=\"T_0493c318_17f6_11eb_ad51_0242ac1c0002level0_row0\" class=\"row_heading level0 row0\" rowspan=2>female</th>\n",
              "                        <th id=\"T_0493c318_17f6_11eb_ad51_0242ac1c0002level1_row0\" class=\"row_heading level1 row0\" >0</th>\n",
              "                        <td id=\"T_0493c318_17f6_11eb_ad51_0242ac1c0002row0_col0\" class=\"data row0 col0\" >3</td>\n",
              "                        <td id=\"T_0493c318_17f6_11eb_ad51_0242ac1c0002row0_col1\" class=\"data row0 col1\" >6</td>\n",
              "                        <td id=\"T_0493c318_17f6_11eb_ad51_0242ac1c0002row0_col2\" class=\"data row0 col2\" >72</td>\n",
              "                        <td id=\"T_0493c318_17f6_11eb_ad51_0242ac1c0002row0_col3\" class=\"data row0 col3\" >81</td>\n",
              "            </tr>\n",
              "            <tr>\n",
              "                                <th id=\"T_0493c318_17f6_11eb_ad51_0242ac1c0002level1_row1\" class=\"row_heading level1 row1\" >1</th>\n",
              "                        <td id=\"T_0493c318_17f6_11eb_ad51_0242ac1c0002row1_col0\" class=\"data row1 col0\" >91</td>\n",
              "                        <td id=\"T_0493c318_17f6_11eb_ad51_0242ac1c0002row1_col1\" class=\"data row1 col1\" >70</td>\n",
              "                        <td id=\"T_0493c318_17f6_11eb_ad51_0242ac1c0002row1_col2\" class=\"data row1 col2\" >72</td>\n",
              "                        <td id=\"T_0493c318_17f6_11eb_ad51_0242ac1c0002row1_col3\" class=\"data row1 col3\" >233</td>\n",
              "            </tr>\n",
              "            <tr>\n",
              "                        <th id=\"T_0493c318_17f6_11eb_ad51_0242ac1c0002level0_row2\" class=\"row_heading level0 row2\" rowspan=2>male</th>\n",
              "                        <th id=\"T_0493c318_17f6_11eb_ad51_0242ac1c0002level1_row2\" class=\"row_heading level1 row2\" >0</th>\n",
              "                        <td id=\"T_0493c318_17f6_11eb_ad51_0242ac1c0002row2_col0\" class=\"data row2 col0\" >77</td>\n",
              "                        <td id=\"T_0493c318_17f6_11eb_ad51_0242ac1c0002row2_col1\" class=\"data row2 col1\" >91</td>\n",
              "                        <td id=\"T_0493c318_17f6_11eb_ad51_0242ac1c0002row2_col2\" class=\"data row2 col2\" >300</td>\n",
              "                        <td id=\"T_0493c318_17f6_11eb_ad51_0242ac1c0002row2_col3\" class=\"data row2 col3\" >468</td>\n",
              "            </tr>\n",
              "            <tr>\n",
              "                                <th id=\"T_0493c318_17f6_11eb_ad51_0242ac1c0002level1_row3\" class=\"row_heading level1 row3\" >1</th>\n",
              "                        <td id=\"T_0493c318_17f6_11eb_ad51_0242ac1c0002row3_col0\" class=\"data row3 col0\" >45</td>\n",
              "                        <td id=\"T_0493c318_17f6_11eb_ad51_0242ac1c0002row3_col1\" class=\"data row3 col1\" >17</td>\n",
              "                        <td id=\"T_0493c318_17f6_11eb_ad51_0242ac1c0002row3_col2\" class=\"data row3 col2\" >47</td>\n",
              "                        <td id=\"T_0493c318_17f6_11eb_ad51_0242ac1c0002row3_col3\" class=\"data row3 col3\" >109</td>\n",
              "            </tr>\n",
              "            <tr>\n",
              "                        <th id=\"T_0493c318_17f6_11eb_ad51_0242ac1c0002level0_row4\" class=\"row_heading level0 row4\" >All</th>\n",
              "                        <th id=\"T_0493c318_17f6_11eb_ad51_0242ac1c0002level1_row4\" class=\"row_heading level1 row4\" ></th>\n",
              "                        <td id=\"T_0493c318_17f6_11eb_ad51_0242ac1c0002row4_col0\" class=\"data row4 col0\" >216</td>\n",
              "                        <td id=\"T_0493c318_17f6_11eb_ad51_0242ac1c0002row4_col1\" class=\"data row4 col1\" >184</td>\n",
              "                        <td id=\"T_0493c318_17f6_11eb_ad51_0242ac1c0002row4_col2\" class=\"data row4 col2\" >491</td>\n",
              "                        <td id=\"T_0493c318_17f6_11eb_ad51_0242ac1c0002row4_col3\" class=\"data row4 col3\" >891</td>\n",
              "            </tr>\n",
              "    </tbody></table>"
            ],
            "text/plain": [
              "<pandas.io.formats.style.Styler at 0x7f96a682ad68>"
            ]
          },
          "metadata": {
            "tags": []
          },
          "execution_count": 39
        }
      ]
    },
    {
      "cell_type": "code",
      "metadata": {
        "id": "hKzQa-adOm7e",
        "outputId": "53488b33-7b3c-4764-f2e9-e09dc57b25ee",
        "colab": {
          "base_uri": "https://localhost:8080/",
          "height": 68
        }
      },
      "source": [
        "#analysis age data\n",
        "print('Oldest Passenger wsa',data['Age'].max(),'years')\n",
        "print('Youngest Passenger was',data['Age'].min(),'Years')\n",
        "print('Average Age on the ship  was',int(data['Age'].mean()),'Years')"
      ],
      "execution_count": 40,
      "outputs": [
        {
          "output_type": "stream",
          "text": [
            "Oldest Passenger wsa 80.0 years\n",
            "Youngest Passenger was 0.17 Years\n",
            "Average Age on the ship  was 29 Years\n"
          ],
          "name": "stdout"
        }
      ]
    },
    {
      "cell_type": "code",
      "metadata": {
        "id": "19gVPLKWUyNT",
        "outputId": "5a19984b-8aff-4154-c3c9-a3d45fbaa32c",
        "colab": {
          "base_uri": "https://localhost:8080/",
          "height": 136
        }
      },
      "source": [
        "import math\n",
        " \n",
        "print(math.ceil(0.5))\n",
        "print(math.ceil(0.5))\n",
        "\n",
        "\n",
        "print(max([1,2,3]))\n",
        "print(max(['Chevrolet']))\n",
        "\n",
        "print(min([1,2,3]))\n",
        "print(min(['Chevrolet']))\n",
        "\n",
        "from statistics import mean\n",
        "\n",
        "a=[5,2,3,2]\n",
        "\n",
        "\n",
        "avg = mean(a)\n",
        "\n",
        "\n",
        "print(avg)"
      ],
      "execution_count": 41,
      "outputs": [
        {
          "output_type": "stream",
          "text": [
            "1\n",
            "1\n",
            "3\n",
            "Chevrolet\n",
            "1\n",
            "Chevrolet\n",
            "3\n"
          ],
          "name": "stdout"
        }
      ]
    },
    {
      "cell_type": "code",
      "metadata": {
        "id": "FMmQtT8bZt7g",
        "outputId": "48706d33-846e-41d5-8240-7982739fcd81",
        "colab": {
          "base_uri": "https://localhost:8080/",
          "height": 293
        }
      },
      "source": [
        "sns.swarmplot( x=train['Survived'],y = train['Age'])\n",
        "plt.xlabel('Survived')\n",
        "plt.ylabel('Age')\n",
        "plt.show()\n",
        "plt.savefig(\"swarm_plot.pdf\")"
      ],
      "execution_count": 42,
      "outputs": [
        {
          "output_type": "display_data",
          "data": {
            "image/png": "[encoded data removed]",
            "text/plain": [
              "<Figure size 432x288 with 1 Axes>"
            ]
          },
          "metadata": {
            "tags": []
          }
        },
        {
          "output_type": "display_data",
          "data": {
            "text/plain": [
              "<Figure size 432x288 with 0 Axes>"
            ]
          },
          "metadata": {
            "tags": []
          }
        }
      ]
    },
    {
      "cell_type": "code",
      "metadata": {
        "id": "XtU7SrKwaFMY",
        "outputId": "0b870ae1-792a-4ca5-9ab2-8dcc9679df73",
        "colab": {
          "base_uri": "https://localhost:8080/",
          "height": 291
        }
      },
      "source": [
        "f , ax = plt.subplots(1,2,figsize=(9,4))\n",
        "sns.violinplot(\"Pclass\",\"Age\",hue =  \"Survived\",data= train,split=True,ax=ax[0])\n",
        "ax[0].set_title('Pclass and Age vs Survived')\n",
        "ax[0].set_yticks(range(0,110,10))\n",
        "sns.violinplot(\"Sex\",\"Age\",hue =  \"Survived\",data= train,split=True,ax=ax[1])\n",
        "ax[1].set_title('Sex and Age vs Survived')\n",
        "ax[1].set_yticks(range(0,110,10))\n",
        "plt.show()\n"
      ],
      "execution_count": 51,
      "outputs": [
        {
          "output_type": "display_data",
          "data": {
            "image/png": "[encoded data removed]",
            "text/plain": [
              "<Figure size 648x288 with 2 Axes>"
            ]
          },
          "metadata": {
            "tags": []
          }
        }
      ]
    },
    {
      "cell_type": "code",
      "metadata": {
        "id": "gjKxlhnSwOty",
        "outputId": "8caacb26-c14e-49ae-c942-6d2bfaa2b77a",
        "colab": {
          "base_uri": "https://localhost:8080/",
          "height": 111
        }
      },
      "source": [
        "temp.groupby('Initial').agg({'Age':['mean','count']}).T"
      ],
      "execution_count": 54,
      "outputs": [
        {
          "output_type": "execute_result",
          "data": {
            "text/html": [
              "<div>\n",
              "<style scoped>\n",
              "    .dataframe tbody tr th:only-of-type {\n",
              "        vertical-align: middle;\n",
              "    }\n",
              "\n",
              "    .dataframe tbody tr th {\n",
              "        vertical-align: top;\n",
              "    }\n",
              "\n",
              "    .dataframe thead th {\n",
              "        text-align: right;\n",
              "    }\n",
              "</style>\n",
              "<table border=\"1\" class=\"dataframe\">\n",
              "  <thead>\n",
              "    <tr style=\"text-align: right;\">\n",
              "      <th></th>\n",
              "      <th>Initial</th>\n",
              "      <th>Capt</th>\n",
              "      <th>Col</th>\n",
              "      <th>Countess</th>\n",
              "      <th>Don</th>\n",
              "      <th>Dr</th>\n",
              "      <th>Jonkheer</th>\n",
              "      <th>Lady</th>\n",
              "      <th>Major</th>\n",
              "      <th>Master</th>\n",
              "      <th>Miss</th>\n",
              "      <th>Mlle</th>\n",
              "      <th>Mme</th>\n",
              "      <th>Mr</th>\n",
              "      <th>Mrs</th>\n",
              "      <th>Ms</th>\n",
              "      <th>Rev</th>\n",
              "      <th>Sir</th>\n",
              "    </tr>\n",
              "  </thead>\n",
              "  <tbody>\n",
              "    <tr>\n",
              "      <th rowspan=\"2\" valign=\"top\">Age</th>\n",
              "      <th>mean</th>\n",
              "      <td>70.0</td>\n",
              "      <td>54.0</td>\n",
              "      <td>33.0</td>\n",
              "      <td>40.0</td>\n",
              "      <td>43.571429</td>\n",
              "      <td>38.0</td>\n",
              "      <td>48.0</td>\n",
              "      <td>48.5</td>\n",
              "      <td>5.482642</td>\n",
              "      <td>21.774238</td>\n",
              "      <td>24.0</td>\n",
              "      <td>24.0</td>\n",
              "      <td>32.252151</td>\n",
              "      <td>37.005848</td>\n",
              "      <td>28.0</td>\n",
              "      <td>41.25</td>\n",
              "      <td>49.0</td>\n",
              "    </tr>\n",
              "    <tr>\n",
              "      <th>count</th>\n",
              "      <td>1.0</td>\n",
              "      <td>4.0</td>\n",
              "      <td>1.0</td>\n",
              "      <td>1.0</td>\n",
              "      <td>8.000000</td>\n",
              "      <td>1.0</td>\n",
              "      <td>1.0</td>\n",
              "      <td>2.0</td>\n",
              "      <td>61.000000</td>\n",
              "      <td>260.000000</td>\n",
              "      <td>2.0</td>\n",
              "      <td>1.0</td>\n",
              "      <td>757.000000</td>\n",
              "      <td>198.000000</td>\n",
              "      <td>2.0</td>\n",
              "      <td>8.00</td>\n",
              "      <td>1.0</td>\n",
              "    </tr>\n",
              "  </tbody>\n",
              "</table>\n",
              "</div>"
            ],
            "text/plain": [
              "Initial    Capt   Col  Countess   Don  ...         Mrs    Ms    Rev   Sir\n",
              "Age mean   70.0  54.0      33.0  40.0  ...   37.005848  28.0  41.25  49.0\n",
              "    count   1.0   4.0       1.0   1.0  ...  198.000000   2.0   8.00   1.0\n",
              "\n",
              "[2 rows x 17 columns]"
            ]
          },
          "metadata": {
            "tags": []
          },
          "execution_count": 54
        }
      ]
    },
    {
      "cell_type": "code",
      "metadata": {
        "id": "q2jVDQ5Sd-fg",
        "outputId": "308ccc42-6fc0-45b4-cb4f-b436dbf5c056",
        "colab": {
          "base_uri": "https://localhost:8080/",
          "height": 638
        }
      },
      "source": [
        "temp = temp.reset_index(drop=True)\n",
        "\n",
        "temp['Age'] = temp.groupby(\"Initial\")['Age'].apply(lambda x: x.fillna(x.mean()))\n",
        "\n",
        "temp[31:50]"
      ],
      "execution_count": 44,
      "outputs": [
        {
          "output_type": "execute_result",
          "data": {
            "text/html": [
              "<div>\n",
              "<style scoped>\n",
              "    .dataframe tbody tr th:only-of-type {\n",
              "        vertical-align: middle;\n",
              "    }\n",
              "\n",
              "    .dataframe tbody tr th {\n",
              "        vertical-align: top;\n",
              "    }\n",
              "\n",
              "    .dataframe thead th {\n",
              "        text-align: right;\n",
              "    }\n",
              "</style>\n",
              "<table border=\"1\" class=\"dataframe\">\n",
              "  <thead>\n",
              "    <tr style=\"text-align: right;\">\n",
              "      <th></th>\n",
              "      <th>PassengerId</th>\n",
              "      <th>Survived</th>\n",
              "      <th>Pclass</th>\n",
              "      <th>Name</th>\n",
              "      <th>Sex</th>\n",
              "      <th>Age</th>\n",
              "      <th>SibSp</th>\n",
              "      <th>Parch</th>\n",
              "      <th>Ticket</th>\n",
              "      <th>Fare</th>\n",
              "      <th>Cabin</th>\n",
              "      <th>Embarked</th>\n",
              "      <th>Initial</th>\n",
              "      <th>LastName</th>\n",
              "      <th>NumName</th>\n",
              "    </tr>\n",
              "  </thead>\n",
              "  <tbody>\n",
              "    <tr>\n",
              "      <th>31</th>\n",
              "      <td>32</td>\n",
              "      <td>1.0</td>\n",
              "      <td>1</td>\n",
              "      <td>Spencer, Mrs. William Augustus (Marie Eugenie)</td>\n",
              "      <td>female</td>\n",
              "      <td>37.005848</td>\n",
              "      <td>1</td>\n",
              "      <td>0</td>\n",
              "      <td>PC 17569</td>\n",
              "      <td>146.5208</td>\n",
              "      <td>B78</td>\n",
              "      <td>C</td>\n",
              "      <td>Mrs</td>\n",
              "      <td>Spencer</td>\n",
              "      <td>30</td>\n",
              "    </tr>\n",
              "    <tr>\n",
              "      <th>32</th>\n",
              "      <td>33</td>\n",
              "      <td>1.0</td>\n",
              "      <td>3</td>\n",
              "      <td>Glynn, Miss. Mary Agatha</td>\n",
              "      <td>female</td>\n",
              "      <td>21.774238</td>\n",
              "      <td>0</td>\n",
              "      <td>0</td>\n",
              "      <td>335677</td>\n",
              "      <td>7.7500</td>\n",
              "      <td>NaN</td>\n",
              "      <td>Q</td>\n",
              "      <td>Miss</td>\n",
              "      <td>Glynn</td>\n",
              "      <td>31</td>\n",
              "    </tr>\n",
              "    <tr>\n",
              "      <th>33</th>\n",
              "      <td>34</td>\n",
              "      <td>0.0</td>\n",
              "      <td>2</td>\n",
              "      <td>Wheadon, Mr. Edward H</td>\n",
              "      <td>male</td>\n",
              "      <td>66.000000</td>\n",
              "      <td>0</td>\n",
              "      <td>0</td>\n",
              "      <td>C.A. 24579</td>\n",
              "      <td>10.5000</td>\n",
              "      <td>NaN</td>\n",
              "      <td>S</td>\n",
              "      <td>Mr</td>\n",
              "      <td>Wheadon</td>\n",
              "      <td>32</td>\n",
              "    </tr>\n",
              "    <tr>\n",
              "      <th>34</th>\n",
              "      <td>35</td>\n",
              "      <td>0.0</td>\n",
              "      <td>1</td>\n",
              "      <td>Meyer, Mr. Edgar Joseph</td>\n",
              "      <td>male</td>\n",
              "      <td>28.000000</td>\n",
              "      <td>1</td>\n",
              "      <td>0</td>\n",
              "      <td>PC 17604</td>\n",
              "      <td>82.1708</td>\n",
              "      <td>NaN</td>\n",
              "      <td>C</td>\n",
              "      <td>Mr</td>\n",
              "      <td>Meyer</td>\n",
              "      <td>33</td>\n",
              "    </tr>\n",
              "    <tr>\n",
              "      <th>35</th>\n",
              "      <td>36</td>\n",
              "      <td>0.0</td>\n",
              "      <td>1</td>\n",
              "      <td>Holverson, Mr. Alexander Oskar</td>\n",
              "      <td>male</td>\n",
              "      <td>42.000000</td>\n",
              "      <td>1</td>\n",
              "      <td>0</td>\n",
              "      <td>113789</td>\n",
              "      <td>52.0000</td>\n",
              "      <td>NaN</td>\n",
              "      <td>S</td>\n",
              "      <td>Mr</td>\n",
              "      <td>Holverson</td>\n",
              "      <td>34</td>\n",
              "    </tr>\n",
              "    <tr>\n",
              "      <th>36</th>\n",
              "      <td>37</td>\n",
              "      <td>1.0</td>\n",
              "      <td>3</td>\n",
              "      <td>Mamee, Mr. Hanna</td>\n",
              "      <td>male</td>\n",
              "      <td>32.252151</td>\n",
              "      <td>0</td>\n",
              "      <td>0</td>\n",
              "      <td>2677</td>\n",
              "      <td>7.2292</td>\n",
              "      <td>NaN</td>\n",
              "      <td>C</td>\n",
              "      <td>Mr</td>\n",
              "      <td>Mamee</td>\n",
              "      <td>35</td>\n",
              "    </tr>\n",
              "    <tr>\n",
              "      <th>37</th>\n",
              "      <td>38</td>\n",
              "      <td>0.0</td>\n",
              "      <td>3</td>\n",
              "      <td>Cann, Mr. Ernest Charles</td>\n",
              "      <td>male</td>\n",
              "      <td>21.000000</td>\n",
              "      <td>0</td>\n",
              "      <td>0</td>\n",
              "      <td>A./5. 2152</td>\n",
              "      <td>8.0500</td>\n",
              "      <td>NaN</td>\n",
              "      <td>S</td>\n",
              "      <td>Mr</td>\n",
              "      <td>Cann</td>\n",
              "      <td>36</td>\n",
              "    </tr>\n",
              "    <tr>\n",
              "      <th>38</th>\n",
              "      <td>39</td>\n",
              "      <td>0.0</td>\n",
              "      <td>3</td>\n",
              "      <td>Vander Planke, Miss. Augusta Maria</td>\n",
              "      <td>female</td>\n",
              "      <td>18.000000</td>\n",
              "      <td>2</td>\n",
              "      <td>0</td>\n",
              "      <td>345764</td>\n",
              "      <td>18.0000</td>\n",
              "      <td>NaN</td>\n",
              "      <td>S</td>\n",
              "      <td>Miss</td>\n",
              "      <td>Vander</td>\n",
              "      <td>18</td>\n",
              "    </tr>\n",
              "    <tr>\n",
              "      <th>39</th>\n",
              "      <td>40</td>\n",
              "      <td>1.0</td>\n",
              "      <td>3</td>\n",
              "      <td>Nicola-Yarred, Miss. Jamila</td>\n",
              "      <td>female</td>\n",
              "      <td>14.000000</td>\n",
              "      <td>1</td>\n",
              "      <td>0</td>\n",
              "      <td>2651</td>\n",
              "      <td>11.2417</td>\n",
              "      <td>NaN</td>\n",
              "      <td>C</td>\n",
              "      <td>Miss</td>\n",
              "      <td>Nicola</td>\n",
              "      <td>37</td>\n",
              "    </tr>\n",
              "    <tr>\n",
              "      <th>40</th>\n",
              "      <td>41</td>\n",
              "      <td>0.0</td>\n",
              "      <td>3</td>\n",
              "      <td>Ahlin, Mrs. Johan (Johanna Persdotter Larsson)</td>\n",
              "      <td>female</td>\n",
              "      <td>40.000000</td>\n",
              "      <td>1</td>\n",
              "      <td>0</td>\n",
              "      <td>7546</td>\n",
              "      <td>9.4750</td>\n",
              "      <td>NaN</td>\n",
              "      <td>S</td>\n",
              "      <td>Mrs</td>\n",
              "      <td>Ahlin</td>\n",
              "      <td>38</td>\n",
              "    </tr>\n",
              "    <tr>\n",
              "      <th>41</th>\n",
              "      <td>42</td>\n",
              "      <td>0.0</td>\n",
              "      <td>2</td>\n",
              "      <td>Turpin, Mrs. William John Robert (Dorothy Ann ...</td>\n",
              "      <td>female</td>\n",
              "      <td>27.000000</td>\n",
              "      <td>1</td>\n",
              "      <td>0</td>\n",
              "      <td>11668</td>\n",
              "      <td>21.0000</td>\n",
              "      <td>NaN</td>\n",
              "      <td>S</td>\n",
              "      <td>Mrs</td>\n",
              "      <td>Turpin</td>\n",
              "      <td>39</td>\n",
              "    </tr>\n",
              "    <tr>\n",
              "      <th>42</th>\n",
              "      <td>43</td>\n",
              "      <td>0.0</td>\n",
              "      <td>3</td>\n",
              "      <td>Kraeff, Mr. Theodor</td>\n",
              "      <td>male</td>\n",
              "      <td>32.252151</td>\n",
              "      <td>0</td>\n",
              "      <td>0</td>\n",
              "      <td>349253</td>\n",
              "      <td>7.8958</td>\n",
              "      <td>NaN</td>\n",
              "      <td>C</td>\n",
              "      <td>Mr</td>\n",
              "      <td>Kraeff</td>\n",
              "      <td>40</td>\n",
              "    </tr>\n",
              "    <tr>\n",
              "      <th>43</th>\n",
              "      <td>44</td>\n",
              "      <td>1.0</td>\n",
              "      <td>2</td>\n",
              "      <td>Laroche, Miss. Simonne Marie Anne Andree</td>\n",
              "      <td>female</td>\n",
              "      <td>3.000000</td>\n",
              "      <td>1</td>\n",
              "      <td>2</td>\n",
              "      <td>SC/Paris 2123</td>\n",
              "      <td>41.5792</td>\n",
              "      <td>NaN</td>\n",
              "      <td>C</td>\n",
              "      <td>Miss</td>\n",
              "      <td>Laroche</td>\n",
              "      <td>41</td>\n",
              "    </tr>\n",
              "    <tr>\n",
              "      <th>44</th>\n",
              "      <td>45</td>\n",
              "      <td>1.0</td>\n",
              "      <td>3</td>\n",
              "      <td>Devaney, Miss. Margaret Delia</td>\n",
              "      <td>female</td>\n",
              "      <td>19.000000</td>\n",
              "      <td>0</td>\n",
              "      <td>0</td>\n",
              "      <td>330958</td>\n",
              "      <td>7.8792</td>\n",
              "      <td>NaN</td>\n",
              "      <td>Q</td>\n",
              "      <td>Miss</td>\n",
              "      <td>Devaney</td>\n",
              "      <td>42</td>\n",
              "    </tr>\n",
              "    <tr>\n",
              "      <th>45</th>\n",
              "      <td>46</td>\n",
              "      <td>0.0</td>\n",
              "      <td>3</td>\n",
              "      <td>Rogers, Mr. William John</td>\n",
              "      <td>male</td>\n",
              "      <td>32.252151</td>\n",
              "      <td>0</td>\n",
              "      <td>0</td>\n",
              "      <td>S.C./A.4. 23567</td>\n",
              "      <td>8.0500</td>\n",
              "      <td>NaN</td>\n",
              "      <td>S</td>\n",
              "      <td>Mr</td>\n",
              "      <td>Rogers</td>\n",
              "      <td>43</td>\n",
              "    </tr>\n",
              "    <tr>\n",
              "      <th>46</th>\n",
              "      <td>47</td>\n",
              "      <td>0.0</td>\n",
              "      <td>3</td>\n",
              "      <td>Lennon, Mr. Denis</td>\n",
              "      <td>male</td>\n",
              "      <td>32.252151</td>\n",
              "      <td>1</td>\n",
              "      <td>0</td>\n",
              "      <td>370371</td>\n",
              "      <td>15.5000</td>\n",
              "      <td>NaN</td>\n",
              "      <td>Q</td>\n",
              "      <td>Mr</td>\n",
              "      <td>Lennon</td>\n",
              "      <td>44</td>\n",
              "    </tr>\n",
              "    <tr>\n",
              "      <th>47</th>\n",
              "      <td>48</td>\n",
              "      <td>1.0</td>\n",
              "      <td>3</td>\n",
              "      <td>O'Driscoll, Miss. Bridget</td>\n",
              "      <td>female</td>\n",
              "      <td>21.774238</td>\n",
              "      <td>0</td>\n",
              "      <td>0</td>\n",
              "      <td>14311</td>\n",
              "      <td>7.7500</td>\n",
              "      <td>NaN</td>\n",
              "      <td>Q</td>\n",
              "      <td>Miss</td>\n",
              "      <td>O</td>\n",
              "      <td>27</td>\n",
              "    </tr>\n",
              "    <tr>\n",
              "      <th>48</th>\n",
              "      <td>49</td>\n",
              "      <td>0.0</td>\n",
              "      <td>3</td>\n",
              "      <td>Samaan, Mr. Youssef</td>\n",
              "      <td>male</td>\n",
              "      <td>32.252151</td>\n",
              "      <td>2</td>\n",
              "      <td>0</td>\n",
              "      <td>2662</td>\n",
              "      <td>21.6792</td>\n",
              "      <td>NaN</td>\n",
              "      <td>C</td>\n",
              "      <td>Mr</td>\n",
              "      <td>Samaan</td>\n",
              "      <td>45</td>\n",
              "    </tr>\n",
              "    <tr>\n",
              "      <th>49</th>\n",
              "      <td>50</td>\n",
              "      <td>0.0</td>\n",
              "      <td>3</td>\n",
              "      <td>Arnold-Franchi, Mrs. Josef (Josefine Franchi)</td>\n",
              "      <td>female</td>\n",
              "      <td>18.000000</td>\n",
              "      <td>1</td>\n",
              "      <td>0</td>\n",
              "      <td>349237</td>\n",
              "      <td>17.8000</td>\n",
              "      <td>NaN</td>\n",
              "      <td>S</td>\n",
              "      <td>Mrs</td>\n",
              "      <td>Arnold</td>\n",
              "      <td>46</td>\n",
              "    </tr>\n",
              "  </tbody>\n",
              "</table>\n",
              "</div>"
            ],
            "text/plain": [
              "    PassengerId  Survived  Pclass  ... Initial   LastName  NumName\n",
              "31           32       1.0       1  ...     Mrs    Spencer       30\n",
              "32           33       1.0       3  ...    Miss      Glynn       31\n",
              "33           34       0.0       2  ...      Mr    Wheadon       32\n",
              "34           35       0.0       1  ...      Mr      Meyer       33\n",
              "35           36       0.0       1  ...      Mr  Holverson       34\n",
              "36           37       1.0       3  ...      Mr      Mamee       35\n",
              "37           38       0.0       3  ...      Mr       Cann       36\n",
              "38           39       0.0       3  ...    Miss     Vander       18\n",
              "39           40       1.0       3  ...    Miss     Nicola       37\n",
              "40           41       0.0       3  ...     Mrs      Ahlin       38\n",
              "41           42       0.0       2  ...     Mrs     Turpin       39\n",
              "42           43       0.0       3  ...      Mr     Kraeff       40\n",
              "43           44       1.0       2  ...    Miss    Laroche       41\n",
              "44           45       1.0       3  ...    Miss    Devaney       42\n",
              "45           46       0.0       3  ...      Mr     Rogers       43\n",
              "46           47       0.0       3  ...      Mr     Lennon       44\n",
              "47           48       1.0       3  ...    Miss          O       27\n",
              "48           49       0.0       3  ...      Mr     Samaan       45\n",
              "49           50       0.0       3  ...     Mrs     Arnold       46\n",
              "\n",
              "[19 rows x 15 columns]"
            ]
          },
          "metadata": {
            "tags": []
          },
          "execution_count": 44
        }
      ]
    },
    {
      "cell_type": "code",
      "metadata": {
        "id": "D_WFmiS4gm1s",
        "outputId": "f2e860ab-a405-4774-9791-eea7fe1d2fc6",
        "colab": {
          "base_uri": "https://localhost:8080/",
          "height": 51
        }
      },
      "source": [
        "a = 2\n",
        "b = 2\n",
        "print( a**b)\n",
        "\n",
        "def sample(a,b):\n",
        "    print(a**b)\n",
        "sample(2,2)"
      ],
      "execution_count": 45,
      "outputs": [
        {
          "output_type": "stream",
          "text": [
            "4\n",
            "4\n"
          ],
          "name": "stdout"
        }
      ]
    },
    {
      "cell_type": "code",
      "metadata": {
        "id": "tPJFsYG9hKwR",
        "outputId": "cf702f8a-71a1-4618-b92e-86a1fc11c86f",
        "colab": {
          "base_uri": "https://localhost:8080/",
          "height": 85
        }
      },
      "source": [
        "a = lambda x,y : x**y\n",
        "print(a(2,2))\n",
        "def sample(x,y,z):\n",
        "    n = x+y+z\n",
        "    print(n)\n",
        "\n",
        "sample(1,2,3)\n",
        "\n",
        "sample2 = lambda x,y,z : x*y*z\n",
        "print(sample2(1,2,3))\n",
        "\n",
        "\n",
        "z = (lambda x, y : x+y)(10,20)\n",
        "print(z)"
      ],
      "execution_count": 46,
      "outputs": [
        {
          "output_type": "stream",
          "text": [
            "4\n",
            "6\n",
            "6\n",
            "30\n"
          ],
          "name": "stdout"
        }
      ]
    },
    {
      "cell_type": "code",
      "metadata": {
        "id": "3xgH5phQlsBd",
        "outputId": "ca1d24da-f408-46cf-b9de-e837f83f51ac",
        "colab": {
          "base_uri": "https://localhost:8080/",
          "height": 85
        }
      },
      "source": [
        "#lambda 식으로 짤 경우 상당히 코드가 단순해진다. 짝 홀 수 분류기\n",
        "for num in range(1,3):  \n",
        " if num % 2 == 0 :\n",
        "   print(num)\n",
        "   continue\n",
        " if num %2 ==1:\n",
        "   print(num)\n",
        "   continue\n",
        "\n",
        "print((lambda x, y :x if x %2 ==0 else y )(1,2))\n",
        "print((lambda x, y :x if x %2 ==1 else y )(1,2))"
      ],
      "execution_count": 47,
      "outputs": [
        {
          "output_type": "stream",
          "text": [
            "1\n",
            "2\n",
            "2\n",
            "1\n"
          ],
          "name": "stdout"
        }
      ]
    },
    {
      "cell_type": "code",
      "metadata": {
        "id": "VeAMGapEmf_h",
        "outputId": "ab8f4e15-5406-4121-b4e9-e13af51e13a7",
        "colab": {
          "base_uri": "https://localhost:8080/",
          "height": 130
        }
      },
      "source": [
        ""
      ],
      "execution_count": 48,
      "outputs": [
        {
          "output_type": "error",
          "ename": "SyntaxError",
          "evalue": "ignored",
          "traceback": [
            "\u001b[0;36m  File \u001b[0;32m\"<ipython-input-48-efb1a9b93a17>\"\u001b[0;36m, line \u001b[0;32m1\u001b[0m\n\u001b[0;31m    plt.\u001b[0m\n\u001b[0m        ^\u001b[0m\n\u001b[0;31mSyntaxError\u001b[0m\u001b[0;31m:\u001b[0m invalid syntax\n"
          ]
        }
      ]
    },
    {
      "cell_type": "code",
      "metadata": {
        "id": "wDs8lFv9uwhY"
      },
      "source": [
        ""
      ],
      "execution_count": 48,
      "outputs": []
    }
  ]
}