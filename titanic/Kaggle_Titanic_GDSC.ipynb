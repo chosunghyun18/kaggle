{
 "cells": [
  {
   "cell_type": "code",
   "execution_count": 104,
   "id": "ab6ed6ef",
   "metadata": {
    "ExecuteTime": {
     "end_time": "2022-01-17T12:48:03.076632Z",
     "start_time": "2022-01-17T12:48:03.073567Z"
    }
   },
   "outputs": [],
   "source": [
    "import pandas as pd\n",
    "import numpy as np\n",
    "import seaborn as sns\n",
    "import matplotlib.pyplot as plt\n",
    "import scipy.stats as stats\n",
    "import warnings\n",
    "warnings.filterwarnings(action='ignore')"
   ]
  },
  {
   "cell_type": "markdown",
   "id": "15941a62",
   "metadata": {},
   "source": [
    "\n",
    "    survival          생존 여부            0 = No, 1 = Yes\n",
    "\n",
    "    pclass            선실 등급            1 = 1st, 2 = 2nd, 3 = 3rd\n",
    "\n",
    "    sex               성별    \n",
    "\n",
    "    Age               나이  \n",
    "\n",
    "    sibsp             형재 자매의 수/ 배우자 등이 승선한 경우 수    \n",
    "\n",
    "    parch             부모나 자식과 같이 탄 경우 수   \n",
    "\n",
    "    ticket            표 번호    \n",
    "\n",
    "    fare              요금\n",
    "\n",
    "    cabin             선실 번호   \n",
    "\n",
    "    embarked          승선한 항구         C = Cherbourg, Q = Queenstown, S = Southampton"
   ]
  },
  {
   "cell_type": "markdown",
   "id": "8879f80c",
   "metadata": {},
   "source": [
    "\n",
    "******역사적 배경 1912년 미국 가는 배 ?\n",
    "\n",
    "\n",
    "point . 나이 범주화 또는  mr , mrs , name 를 이용한 age 결측치 채우기 \n",
    "\n",
    "2. (1,2,3 등 칸 )\n",
    "3. 아이 우선 기준 13세 이하 ? -> 나이를 이용한 생존율 예측 -> linear regressioin\n",
    " - > age group heatmap\n"
   ]
  },
  {
   "cell_type": "code",
   "execution_count": 13,
   "id": "6652bdb0",
   "metadata": {
    "ExecuteTime": {
     "end_time": "2022-01-17T10:13:03.358911Z",
     "start_time": "2022-01-17T10:13:03.346752Z"
    }
   },
   "outputs": [],
   "source": [
    "test_csv = pd.read_csv('/Users/chosunghyun/Desktop/Python.proj/kaggle/Titanic/test.csv')\n",
    "train_csv = pd.read_csv('/Users/chosunghyun/Desktop/Python.proj/kaggle/Titanic/train.csv')"
   ]
  },
  {
   "cell_type": "code",
   "execution_count": 105,
   "id": "7a91798f",
   "metadata": {
    "ExecuteTime": {
     "end_time": "2022-01-17T12:48:07.333310Z",
     "start_time": "2022-01-17T12:48:07.318093Z"
    }
   },
   "outputs": [
    {
     "name": "stdout",
     "output_type": "stream",
     "text": [
      "<class 'pandas.core.frame.DataFrame'>\n",
      "RangeIndex: 418 entries, 0 to 417\n",
      "Data columns (total 11 columns):\n",
      " #   Column       Non-Null Count  Dtype  \n",
      "---  ------       --------------  -----  \n",
      " 0   PassengerId  418 non-null    int64  \n",
      " 1   Pclass       418 non-null    int64  \n",
      " 2   Name         418 non-null    object \n",
      " 3   Sex          418 non-null    object \n",
      " 4   Age          332 non-null    float64\n",
      " 5   SibSp        418 non-null    int64  \n",
      " 6   Parch        418 non-null    int64  \n",
      " 7   Ticket       418 non-null    object \n",
      " 8   Fare         417 non-null    float64\n",
      " 9   Cabin        91 non-null     object \n",
      " 10  Embarked     418 non-null    object \n",
      "dtypes: float64(2), int64(4), object(5)\n",
      "memory usage: 36.0+ KB\n",
      "<class 'pandas.core.frame.DataFrame'>\n",
      "RangeIndex: 891 entries, 0 to 890\n",
      "Data columns (total 12 columns):\n",
      " #   Column       Non-Null Count  Dtype  \n",
      "---  ------       --------------  -----  \n",
      " 0   PassengerId  891 non-null    int64  \n",
      " 1   Survived     891 non-null    int64  \n",
      " 2   Pclass       891 non-null    int64  \n",
      " 3   Name         891 non-null    object \n",
      " 4   Sex          891 non-null    object \n",
      " 5   Age          714 non-null    float64\n",
      " 6   SibSp        891 non-null    int64  \n",
      " 7   Parch        891 non-null    int64  \n",
      " 8   Ticket       891 non-null    object \n",
      " 9   Fare         891 non-null    float64\n",
      " 10  Cabin        204 non-null    object \n",
      " 11  Embarked     889 non-null    object \n",
      "dtypes: float64(2), int64(5), object(5)\n",
      "memory usage: 83.7+ KB\n"
     ]
    }
   ],
   "source": [
    "test_csv.info()\n",
    "train_csv.info()"
   ]
  },
  {
   "cell_type": "code",
   "execution_count": 106,
   "id": "0071c909",
   "metadata": {
    "ExecuteTime": {
     "end_time": "2022-01-17T12:48:10.347354Z",
     "start_time": "2022-01-17T12:48:10.344022Z"
    }
   },
   "outputs": [],
   "source": [
    "train_data = train_csv.copy()\n",
    "test_data = test_csv.copy()"
   ]
  },
  {
   "cell_type": "code",
   "execution_count": 108,
   "id": "a20002a0",
   "metadata": {
    "ExecuteTime": {
     "end_time": "2022-01-17T12:48:14.651861Z",
     "start_time": "2022-01-17T12:48:14.645998Z"
    }
   },
   "outputs": [
    {
     "data": {
      "text/plain": [
       "PassengerId      0\n",
       "Survived         0\n",
       "Pclass           0\n",
       "Name             0\n",
       "Sex              0\n",
       "Age            177\n",
       "SibSp            0\n",
       "Parch            0\n",
       "Ticket           0\n",
       "Fare             0\n",
       "Cabin          687\n",
       "Embarked         2\n",
       "dtype: int64"
      ]
     },
     "execution_count": 108,
     "metadata": {},
     "output_type": "execute_result"
    }
   ],
   "source": [
    "train_data.isnull().sum()"
   ]
  },
  {
   "cell_type": "code",
   "execution_count": 107,
   "id": "d3eecc30",
   "metadata": {
    "ExecuteTime": {
     "end_time": "2022-01-17T12:48:12.234909Z",
     "start_time": "2022-01-17T12:48:12.228740Z"
    }
   },
   "outputs": [
    {
     "data": {
      "text/plain": [
       "PassengerId      0\n",
       "Pclass           0\n",
       "Name             0\n",
       "Sex              0\n",
       "Age             86\n",
       "SibSp            0\n",
       "Parch            0\n",
       "Ticket           0\n",
       "Fare             1\n",
       "Cabin          327\n",
       "Embarked         0\n",
       "dtype: int64"
      ]
     },
     "execution_count": 107,
     "metadata": {},
     "output_type": "execute_result"
    }
   ],
   "source": [
    "test_data.isnull().sum()"
   ]
  },
  {
   "cell_type": "code",
   "execution_count": 42,
   "id": "c8da82ad",
   "metadata": {
    "ExecuteTime": {
     "end_time": "2022-01-17T11:37:14.442245Z",
     "start_time": "2022-01-17T11:37:14.440233Z"
    }
   },
   "outputs": [],
   "source": [
    "# 전제 조건  : 성별과 생존율 , 계급과 생존율은 연관이 있다.  -> 종속이다 독립이 아니다."
   ]
  },
  {
   "cell_type": "code",
   "execution_count": 109,
   "id": "ed9e6236",
   "metadata": {
    "ExecuteTime": {
     "end_time": "2022-01-17T12:48:20.580196Z",
     "start_time": "2022-01-17T12:48:20.572090Z"
    }
   },
   "outputs": [
    {
     "name": "stdout",
     "output_type": "stream",
     "text": [
      "0.6296296296296297 0.47282608695652173 0.24236252545824846\n"
     ]
    }
   ],
   "source": [
    "tddf = train_data[['Survived','Pclass']]\n",
    "\n",
    "f = tddf.loc[(tddf['Pclass'] == 1)]\n",
    "s = tddf.loc[(tddf['Pclass'] == 2)]\n",
    "t = tddf.loc[(tddf['Pclass'] == 3)]\n",
    "\n",
    "def survived(seriess):\n",
    "    s =0\n",
    "    d =0\n",
    "    for x in seriess :\n",
    "        if x == 1:\n",
    "            s+=1\n",
    "        else: d+=1\n",
    "\n",
    "    result= s/(s+d)\n",
    "    return result\n",
    "\n",
    "\n",
    "print(survived(f.Survived),survived(s.Survived),survived(t.Survived))\n",
    "\n",
    "# train data set first class 가 3배 높은 생존율을 보임\n"
   ]
  },
  {
   "cell_type": "code",
   "execution_count": 114,
   "id": "6e78f584",
   "metadata": {
    "ExecuteTime": {
     "end_time": "2022-01-17T12:48:41.994862Z",
     "start_time": "2022-01-17T12:48:41.989705Z"
    }
   },
   "outputs": [
    {
     "data": {
      "text/plain": [
       "0        male\n",
       "1      female\n",
       "2      female\n",
       "3      female\n",
       "4        male\n",
       "        ...  \n",
       "886      male\n",
       "887    female\n",
       "888    female\n",
       "889      male\n",
       "890      male\n",
       "Name: Sex, Length: 891, dtype: object"
      ]
     },
     "execution_count": 114,
     "metadata": {},
     "output_type": "execute_result"
    }
   ],
   "source": [
    "#train_data['Sex'].isnull().sum()   :  0\n",
    "train_data['Sex']"
   ]
  },
  {
   "cell_type": "code",
   "execution_count": 115,
   "id": "b4a410b6",
   "metadata": {
    "ExecuteTime": {
     "end_time": "2022-01-17T12:48:44.971501Z",
     "start_time": "2022-01-17T12:48:44.964804Z"
    },
    "scrolled": true
   },
   "outputs": [
    {
     "name": "stdout",
     "output_type": "stream",
     "text": [
      "0.7420382165605095 0.18890814558058924\n"
     ]
    }
   ],
   "source": [
    "###  성별 생존율  ,결측치 없음\n",
    "tddf = train_data[['Survived','Sex']]\n",
    "f = tddf.loc[(tddf['Sex'] == 'female')]\n",
    "m = tddf.loc[(tddf['Sex'] == 'male')]\n",
    "print(survived(f.Survived),survived(m.Survived))"
   ]
  },
  {
   "cell_type": "code",
   "execution_count": 116,
   "id": "92d289aa",
   "metadata": {
    "ExecuteTime": {
     "end_time": "2022-01-17T12:48:46.851942Z",
     "start_time": "2022-01-17T12:48:46.840803Z"
    }
   },
   "outputs": [
    {
     "data": {
      "text/html": [
       "<div>\n",
       "<style scoped>\n",
       "    .dataframe tbody tr th:only-of-type {\n",
       "        vertical-align: middle;\n",
       "    }\n",
       "\n",
       "    .dataframe tbody tr th {\n",
       "        vertical-align: top;\n",
       "    }\n",
       "\n",
       "    .dataframe thead th {\n",
       "        text-align: right;\n",
       "    }\n",
       "</style>\n",
       "<table border=\"1\" class=\"dataframe\">\n",
       "  <thead>\n",
       "    <tr style=\"text-align: right;\">\n",
       "      <th></th>\n",
       "      <th>PassengerId</th>\n",
       "      <th>Survived</th>\n",
       "      <th>Pclass</th>\n",
       "      <th>Age</th>\n",
       "      <th>SibSp</th>\n",
       "      <th>Parch</th>\n",
       "      <th>Fare</th>\n",
       "    </tr>\n",
       "  </thead>\n",
       "  <tbody>\n",
       "    <tr>\n",
       "      <th>PassengerId</th>\n",
       "      <td>1.000000</td>\n",
       "      <td>-0.005007</td>\n",
       "      <td>-0.035144</td>\n",
       "      <td>0.036847</td>\n",
       "      <td>-0.057527</td>\n",
       "      <td>-0.001652</td>\n",
       "      <td>0.012658</td>\n",
       "    </tr>\n",
       "    <tr>\n",
       "      <th>Survived</th>\n",
       "      <td>-0.005007</td>\n",
       "      <td>1.000000</td>\n",
       "      <td>-0.338481</td>\n",
       "      <td>-0.077221</td>\n",
       "      <td>-0.035322</td>\n",
       "      <td>0.081629</td>\n",
       "      <td>0.257307</td>\n",
       "    </tr>\n",
       "    <tr>\n",
       "      <th>Pclass</th>\n",
       "      <td>-0.035144</td>\n",
       "      <td>-0.338481</td>\n",
       "      <td>1.000000</td>\n",
       "      <td>-0.369226</td>\n",
       "      <td>0.083081</td>\n",
       "      <td>0.018443</td>\n",
       "      <td>-0.549500</td>\n",
       "    </tr>\n",
       "    <tr>\n",
       "      <th>Age</th>\n",
       "      <td>0.036847</td>\n",
       "      <td>-0.077221</td>\n",
       "      <td>-0.369226</td>\n",
       "      <td>1.000000</td>\n",
       "      <td>-0.308247</td>\n",
       "      <td>-0.189119</td>\n",
       "      <td>0.096067</td>\n",
       "    </tr>\n",
       "    <tr>\n",
       "      <th>SibSp</th>\n",
       "      <td>-0.057527</td>\n",
       "      <td>-0.035322</td>\n",
       "      <td>0.083081</td>\n",
       "      <td>-0.308247</td>\n",
       "      <td>1.000000</td>\n",
       "      <td>0.414838</td>\n",
       "      <td>0.159651</td>\n",
       "    </tr>\n",
       "    <tr>\n",
       "      <th>Parch</th>\n",
       "      <td>-0.001652</td>\n",
       "      <td>0.081629</td>\n",
       "      <td>0.018443</td>\n",
       "      <td>-0.189119</td>\n",
       "      <td>0.414838</td>\n",
       "      <td>1.000000</td>\n",
       "      <td>0.216225</td>\n",
       "    </tr>\n",
       "    <tr>\n",
       "      <th>Fare</th>\n",
       "      <td>0.012658</td>\n",
       "      <td>0.257307</td>\n",
       "      <td>-0.549500</td>\n",
       "      <td>0.096067</td>\n",
       "      <td>0.159651</td>\n",
       "      <td>0.216225</td>\n",
       "      <td>1.000000</td>\n",
       "    </tr>\n",
       "  </tbody>\n",
       "</table>\n",
       "</div>"
      ],
      "text/plain": [
       "             PassengerId  Survived    Pclass       Age     SibSp     Parch  \\\n",
       "PassengerId     1.000000 -0.005007 -0.035144  0.036847 -0.057527 -0.001652   \n",
       "Survived       -0.005007  1.000000 -0.338481 -0.077221 -0.035322  0.081629   \n",
       "Pclass         -0.035144 -0.338481  1.000000 -0.369226  0.083081  0.018443   \n",
       "Age             0.036847 -0.077221 -0.369226  1.000000 -0.308247 -0.189119   \n",
       "SibSp          -0.057527 -0.035322  0.083081 -0.308247  1.000000  0.414838   \n",
       "Parch          -0.001652  0.081629  0.018443 -0.189119  0.414838  1.000000   \n",
       "Fare            0.012658  0.257307 -0.549500  0.096067  0.159651  0.216225   \n",
       "\n",
       "                 Fare  \n",
       "PassengerId  0.012658  \n",
       "Survived     0.257307  \n",
       "Pclass      -0.549500  \n",
       "Age          0.096067  \n",
       "SibSp        0.159651  \n",
       "Parch        0.216225  \n",
       "Fare         1.000000  "
      ]
     },
     "execution_count": 116,
     "metadata": {},
     "output_type": "execute_result"
    }
   ],
   "source": [
    "# 전제 조건 점검\n",
    "# data  수 -> 중심극한 정리 n >30 정규성을 만족\n",
    "# 상관 관계 파악\n",
    "cor = train_data.corr()\n",
    "cor"
   ]
  },
  {
   "cell_type": "code",
   "execution_count": 120,
   "id": "a742d07d",
   "metadata": {
    "ExecuteTime": {
     "end_time": "2022-01-17T12:49:09.984291Z",
     "start_time": "2022-01-17T12:49:09.981895Z"
    }
   },
   "outputs": [],
   "source": [
    "# traindata,testdata 의 NAN를 채운다 - >fare  -  class"
   ]
  },
  {
   "cell_type": "code",
   "execution_count": 121,
   "id": "251612de",
   "metadata": {
    "ExecuteTime": {
     "end_time": "2022-01-17T12:49:14.355523Z",
     "start_time": "2022-01-17T12:49:14.351247Z"
    }
   },
   "outputs": [],
   "source": [
    "trddf = train_data[['Pclass','Fare']]\n",
    "teddf = test_data[['PassengerId','Pclass','Fare']]"
   ]
  },
  {
   "cell_type": "code",
   "execution_count": 122,
   "id": "3d7c594a",
   "metadata": {
    "ExecuteTime": {
     "end_time": "2022-01-17T12:49:15.283641Z",
     "start_time": "2022-01-17T12:49:15.202526Z"
    }
   },
   "outputs": [
    {
     "data": {
      "image/png": "[encoded data removed]",
      "text/plain": [
       "<Figure size 432x288 with 1 Axes>"
      ]
     },
     "metadata": {
      "needs_background": "light"
     },
     "output_type": "display_data"
    }
   ],
   "source": [
    "ax = plt.boxplot(train_data[['Fare']])\n",
    "plt.show()"
   ]
  },
  {
   "cell_type": "code",
   "execution_count": 123,
   "id": "42a18942",
   "metadata": {
    "ExecuteTime": {
     "end_time": "2022-01-17T12:49:16.297609Z",
     "start_time": "2022-01-17T12:49:16.294137Z"
    }
   },
   "outputs": [
    {
     "data": {
      "text/plain": [
       "512.3292"
      ]
     },
     "execution_count": 123,
     "metadata": {},
     "output_type": "execute_result"
    }
   ],
   "source": [
    "trddf['Fare'].max()"
   ]
  },
  {
   "cell_type": "code",
   "execution_count": 124,
   "id": "652f17a5",
   "metadata": {
    "ExecuteTime": {
     "end_time": "2022-01-17T12:49:16.999551Z",
     "start_time": "2022-01-17T12:49:16.994829Z"
    }
   },
   "outputs": [],
   "source": [
    "f = trddf.loc[(trddf['Pclass'] == 1)]\n",
    "s = trddf.loc[(trddf['Pclass'] == 2)]\n",
    "t = trddf.loc[(trddf['Pclass'] == 3)]"
   ]
  },
  {
   "cell_type": "code",
   "execution_count": 125,
   "id": "80956c33",
   "metadata": {
    "ExecuteTime": {
     "end_time": "2022-01-17T12:49:19.169090Z",
     "start_time": "2022-01-17T12:49:19.165909Z"
    }
   },
   "outputs": [
    {
     "name": "stdout",
     "output_type": "stream",
     "text": [
      "216 184 491\n"
     ]
    }
   ],
   "source": [
    "print(len(f),len(s),len(t))"
   ]
  },
  {
   "cell_type": "code",
   "execution_count": 126,
   "id": "35171ffc",
   "metadata": {
    "ExecuteTime": {
     "end_time": "2022-01-17T12:49:24.932909Z",
     "start_time": "2022-01-17T12:49:24.928928Z"
    }
   },
   "outputs": [
    {
     "name": "stdout",
     "output_type": "stream",
     "text": [
      "84.15468749999992\n",
      "20.66218315217391\n",
      "13.675550101832997\n"
     ]
    }
   ],
   "source": [
    "print(f.Fare.mean())\n",
    "print(s.Fare.mean())\n",
    "print(t.Fare.mean())"
   ]
  },
  {
   "cell_type": "code",
   "execution_count": 84,
   "id": "04474148",
   "metadata": {
    "ExecuteTime": {
     "end_time": "2022-01-17T12:40:38.036912Z",
     "start_time": "2022-01-17T12:40:38.030393Z"
    }
   },
   "outputs": [
    {
     "data": {
      "text/html": [
       "<div>\n",
       "<style scoped>\n",
       "    .dataframe tbody tr th:only-of-type {\n",
       "        vertical-align: middle;\n",
       "    }\n",
       "\n",
       "    .dataframe tbody tr th {\n",
       "        vertical-align: top;\n",
       "    }\n",
       "\n",
       "    .dataframe thead th {\n",
       "        text-align: right;\n",
       "    }\n",
       "</style>\n",
       "<table border=\"1\" class=\"dataframe\">\n",
       "  <thead>\n",
       "    <tr style=\"text-align: right;\">\n",
       "      <th></th>\n",
       "      <th>PassengerId</th>\n",
       "      <th>Pclass</th>\n",
       "      <th>Fare</th>\n",
       "    </tr>\n",
       "  </thead>\n",
       "  <tbody>\n",
       "    <tr>\n",
       "      <th>152</th>\n",
       "      <td>1044</td>\n",
       "      <td>3</td>\n",
       "      <td>NaN</td>\n",
       "    </tr>\n",
       "  </tbody>\n",
       "</table>\n",
       "</div>"
      ],
      "text/plain": [
       "     PassengerId  Pclass  Fare\n",
       "152         1044       3   NaN"
      ]
     },
     "execution_count": 84,
     "metadata": {},
     "output_type": "execute_result"
    }
   ],
   "source": [
    "# 행 추출\n",
    "teddf[teddf['Fare'].isnull()]"
   ]
  },
  {
   "cell_type": "code",
   "execution_count": 132,
   "id": "576dd3f0",
   "metadata": {
    "ExecuteTime": {
     "end_time": "2022-01-17T12:56:57.049324Z",
     "start_time": "2022-01-17T12:56:57.045982Z"
    }
   },
   "outputs": [],
   "source": [
    "# 결측치 처리 및 확인 \n",
    "test_data.loc[(test_data['PassengerId']==1044),'Fare'] = 13 "
   ]
  },
  {
   "cell_type": "code",
   "execution_count": 134,
   "id": "82b2b823",
   "metadata": {
    "ExecuteTime": {
     "end_time": "2022-01-17T12:57:40.433558Z",
     "start_time": "2022-01-17T12:57:40.425742Z"
    }
   },
   "outputs": [
    {
     "data": {
      "text/html": [
       "<div>\n",
       "<style scoped>\n",
       "    .dataframe tbody tr th:only-of-type {\n",
       "        vertical-align: middle;\n",
       "    }\n",
       "\n",
       "    .dataframe tbody tr th {\n",
       "        vertical-align: top;\n",
       "    }\n",
       "\n",
       "    .dataframe thead th {\n",
       "        text-align: right;\n",
       "    }\n",
       "</style>\n",
       "<table border=\"1\" class=\"dataframe\">\n",
       "  <thead>\n",
       "    <tr style=\"text-align: right;\">\n",
       "      <th></th>\n",
       "      <th>PassengerId</th>\n",
       "      <th>Pclass</th>\n",
       "      <th>Fare</th>\n",
       "    </tr>\n",
       "  </thead>\n",
       "  <tbody>\n",
       "  </tbody>\n",
       "</table>\n",
       "</div>"
      ],
      "text/plain": [
       "Empty DataFrame\n",
       "Columns: [PassengerId, Pclass, Fare]\n",
       "Index: []"
      ]
     },
     "execution_count": 134,
     "metadata": {},
     "output_type": "execute_result"
    }
   ],
   "source": [
    "teddf = test_data[['PassengerId','Pclass','Fare']]\n",
    "teddf[teddf['Fare'].isnull()]"
   ]
  },
  {
   "cell_type": "markdown",
   "id": "aec50d23",
   "metadata": {},
   "source": [
    "# Age - Name  - 생존율 ?\n",
    "\n",
    "\n",
    "-> mr,miss,,,,etc\n",
    "\n",
    "\n",
    "-> mean\n",
    "\n",
    "-> SibSp,Parch\n",
    "\n",
    "--> 어린 아이의 under 14 생존율이 높을듯,,하다!     -> same cabin ?"
   ]
  },
  {
   "cell_type": "code",
   "execution_count": 143,
   "id": "57ecaa3b",
   "metadata": {
    "ExecuteTime": {
     "end_time": "2022-01-17T13:51:26.815571Z",
     "start_time": "2022-01-17T13:51:26.796433Z"
    }
   },
   "outputs": [
    {
     "data": {
      "text/html": [
       "<div>\n",
       "<style scoped>\n",
       "    .dataframe tbody tr th:only-of-type {\n",
       "        vertical-align: middle;\n",
       "    }\n",
       "\n",
       "    .dataframe tbody tr th {\n",
       "        vertical-align: top;\n",
       "    }\n",
       "\n",
       "    .dataframe thead th {\n",
       "        text-align: right;\n",
       "    }\n",
       "</style>\n",
       "<table border=\"1\" class=\"dataframe\">\n",
       "  <thead>\n",
       "    <tr style=\"text-align: right;\">\n",
       "      <th></th>\n",
       "      <th>PassengerId</th>\n",
       "      <th>Survived</th>\n",
       "      <th>Pclass</th>\n",
       "      <th>Name</th>\n",
       "      <th>Sex</th>\n",
       "      <th>Age</th>\n",
       "      <th>SibSp</th>\n",
       "      <th>Parch</th>\n",
       "      <th>Ticket</th>\n",
       "      <th>Fare</th>\n",
       "      <th>Cabin</th>\n",
       "      <th>Embarked</th>\n",
       "    </tr>\n",
       "  </thead>\n",
       "  <tbody>\n",
       "    <tr>\n",
       "      <th>0</th>\n",
       "      <td>1</td>\n",
       "      <td>0</td>\n",
       "      <td>3</td>\n",
       "      <td>Braund, Mr. Owen Harris</td>\n",
       "      <td>male</td>\n",
       "      <td>22.0</td>\n",
       "      <td>1</td>\n",
       "      <td>0</td>\n",
       "      <td>A/5 21171</td>\n",
       "      <td>7.2500</td>\n",
       "      <td>NaN</td>\n",
       "      <td>S</td>\n",
       "    </tr>\n",
       "    <tr>\n",
       "      <th>1</th>\n",
       "      <td>2</td>\n",
       "      <td>1</td>\n",
       "      <td>1</td>\n",
       "      <td>Cumings, Mrs. John Bradley (Florence Briggs Th...</td>\n",
       "      <td>female</td>\n",
       "      <td>38.0</td>\n",
       "      <td>1</td>\n",
       "      <td>0</td>\n",
       "      <td>PC 17599</td>\n",
       "      <td>71.2833</td>\n",
       "      <td>C85</td>\n",
       "      <td>C</td>\n",
       "    </tr>\n",
       "    <tr>\n",
       "      <th>2</th>\n",
       "      <td>3</td>\n",
       "      <td>1</td>\n",
       "      <td>3</td>\n",
       "      <td>Heikkinen, Miss. Laina</td>\n",
       "      <td>female</td>\n",
       "      <td>26.0</td>\n",
       "      <td>0</td>\n",
       "      <td>0</td>\n",
       "      <td>STON/O2. 3101282</td>\n",
       "      <td>7.9250</td>\n",
       "      <td>NaN</td>\n",
       "      <td>S</td>\n",
       "    </tr>\n",
       "    <tr>\n",
       "      <th>3</th>\n",
       "      <td>4</td>\n",
       "      <td>1</td>\n",
       "      <td>1</td>\n",
       "      <td>Futrelle, Mrs. Jacques Heath (Lily May Peel)</td>\n",
       "      <td>female</td>\n",
       "      <td>35.0</td>\n",
       "      <td>1</td>\n",
       "      <td>0</td>\n",
       "      <td>113803</td>\n",
       "      <td>53.1000</td>\n",
       "      <td>C123</td>\n",
       "      <td>S</td>\n",
       "    </tr>\n",
       "    <tr>\n",
       "      <th>4</th>\n",
       "      <td>5</td>\n",
       "      <td>0</td>\n",
       "      <td>3</td>\n",
       "      <td>Allen, Mr. William Henry</td>\n",
       "      <td>male</td>\n",
       "      <td>35.0</td>\n",
       "      <td>0</td>\n",
       "      <td>0</td>\n",
       "      <td>373450</td>\n",
       "      <td>8.0500</td>\n",
       "      <td>NaN</td>\n",
       "      <td>S</td>\n",
       "    </tr>\n",
       "    <tr>\n",
       "      <th>...</th>\n",
       "      <td>...</td>\n",
       "      <td>...</td>\n",
       "      <td>...</td>\n",
       "      <td>...</td>\n",
       "      <td>...</td>\n",
       "      <td>...</td>\n",
       "      <td>...</td>\n",
       "      <td>...</td>\n",
       "      <td>...</td>\n",
       "      <td>...</td>\n",
       "      <td>...</td>\n",
       "      <td>...</td>\n",
       "    </tr>\n",
       "    <tr>\n",
       "      <th>886</th>\n",
       "      <td>887</td>\n",
       "      <td>0</td>\n",
       "      <td>2</td>\n",
       "      <td>Montvila, Rev. Juozas</td>\n",
       "      <td>male</td>\n",
       "      <td>27.0</td>\n",
       "      <td>0</td>\n",
       "      <td>0</td>\n",
       "      <td>211536</td>\n",
       "      <td>13.0000</td>\n",
       "      <td>NaN</td>\n",
       "      <td>S</td>\n",
       "    </tr>\n",
       "    <tr>\n",
       "      <th>887</th>\n",
       "      <td>888</td>\n",
       "      <td>1</td>\n",
       "      <td>1</td>\n",
       "      <td>Graham, Miss. Margaret Edith</td>\n",
       "      <td>female</td>\n",
       "      <td>19.0</td>\n",
       "      <td>0</td>\n",
       "      <td>0</td>\n",
       "      <td>112053</td>\n",
       "      <td>30.0000</td>\n",
       "      <td>B42</td>\n",
       "      <td>S</td>\n",
       "    </tr>\n",
       "    <tr>\n",
       "      <th>888</th>\n",
       "      <td>889</td>\n",
       "      <td>0</td>\n",
       "      <td>3</td>\n",
       "      <td>Johnston, Miss. Catherine Helen \"Carrie\"</td>\n",
       "      <td>female</td>\n",
       "      <td>NaN</td>\n",
       "      <td>1</td>\n",
       "      <td>2</td>\n",
       "      <td>W./C. 6607</td>\n",
       "      <td>23.4500</td>\n",
       "      <td>NaN</td>\n",
       "      <td>S</td>\n",
       "    </tr>\n",
       "    <tr>\n",
       "      <th>889</th>\n",
       "      <td>890</td>\n",
       "      <td>1</td>\n",
       "      <td>1</td>\n",
       "      <td>Behr, Mr. Karl Howell</td>\n",
       "      <td>male</td>\n",
       "      <td>26.0</td>\n",
       "      <td>0</td>\n",
       "      <td>0</td>\n",
       "      <td>111369</td>\n",
       "      <td>30.0000</td>\n",
       "      <td>C148</td>\n",
       "      <td>C</td>\n",
       "    </tr>\n",
       "    <tr>\n",
       "      <th>890</th>\n",
       "      <td>891</td>\n",
       "      <td>0</td>\n",
       "      <td>3</td>\n",
       "      <td>Dooley, Mr. Patrick</td>\n",
       "      <td>male</td>\n",
       "      <td>32.0</td>\n",
       "      <td>0</td>\n",
       "      <td>0</td>\n",
       "      <td>370376</td>\n",
       "      <td>7.7500</td>\n",
       "      <td>NaN</td>\n",
       "      <td>Q</td>\n",
       "    </tr>\n",
       "  </tbody>\n",
       "</table>\n",
       "<p>891 rows × 12 columns</p>\n",
       "</div>"
      ],
      "text/plain": [
       "     PassengerId  Survived  Pclass  \\\n",
       "0              1         0       3   \n",
       "1              2         1       1   \n",
       "2              3         1       3   \n",
       "3              4         1       1   \n",
       "4              5         0       3   \n",
       "..           ...       ...     ...   \n",
       "886          887         0       2   \n",
       "887          888         1       1   \n",
       "888          889         0       3   \n",
       "889          890         1       1   \n",
       "890          891         0       3   \n",
       "\n",
       "                                                  Name     Sex   Age  SibSp  \\\n",
       "0                              Braund, Mr. Owen Harris    male  22.0      1   \n",
       "1    Cumings, Mrs. John Bradley (Florence Briggs Th...  female  38.0      1   \n",
       "2                               Heikkinen, Miss. Laina  female  26.0      0   \n",
       "3         Futrelle, Mrs. Jacques Heath (Lily May Peel)  female  35.0      1   \n",
       "4                             Allen, Mr. William Henry    male  35.0      0   \n",
       "..                                                 ...     ...   ...    ...   \n",
       "886                              Montvila, Rev. Juozas    male  27.0      0   \n",
       "887                       Graham, Miss. Margaret Edith  female  19.0      0   \n",
       "888           Johnston, Miss. Catherine Helen \"Carrie\"  female   NaN      1   \n",
       "889                              Behr, Mr. Karl Howell    male  26.0      0   \n",
       "890                                Dooley, Mr. Patrick    male  32.0      0   \n",
       "\n",
       "     Parch            Ticket     Fare Cabin Embarked  \n",
       "0        0         A/5 21171   7.2500   NaN        S  \n",
       "1        0          PC 17599  71.2833   C85        C  \n",
       "2        0  STON/O2. 3101282   7.9250   NaN        S  \n",
       "3        0            113803  53.1000  C123        S  \n",
       "4        0            373450   8.0500   NaN        S  \n",
       "..     ...               ...      ...   ...      ...  \n",
       "886      0            211536  13.0000   NaN        S  \n",
       "887      0            112053  30.0000   B42        S  \n",
       "888      2        W./C. 6607  23.4500   NaN        S  \n",
       "889      0            111369  30.0000  C148        C  \n",
       "890      0            370376   7.7500   NaN        Q  \n",
       "\n",
       "[891 rows x 12 columns]"
      ]
     },
     "execution_count": 143,
     "metadata": {},
     "output_type": "execute_result"
    }
   ],
   "source": [
    "train_data.info()"
   ]
  },
  {
   "cell_type": "code",
   "execution_count": 179,
   "id": "abc7e3c3",
   "metadata": {
    "ExecuteTime": {
     "end_time": "2022-01-17T14:15:57.263857Z",
     "start_time": "2022-01-17T14:15:57.258317Z"
    },
    "scrolled": true
   },
   "outputs": [
    {
     "data": {
      "text/plain": [
       "29.699"
      ]
     },
     "execution_count": 179,
     "metadata": {},
     "output_type": "execute_result"
    }
   ],
   "source": [
    "trdf = train_data[['Age','Survived']]\n",
    "# 나이 평균으로 결측 채우기\n",
    "meanAge = trdf.Age.mean()\n",
    "meanAge = round(meanAge,3)\n",
    "meanAge"
   ]
  },
  {
   "cell_type": "code",
   "execution_count": 176,
   "id": "f9ca2422",
   "metadata": {
    "ExecuteTime": {
     "end_time": "2022-01-17T14:15:35.876461Z",
     "start_time": "2022-01-17T14:15:35.873562Z"
    }
   },
   "outputs": [],
   "source": [
    "trdf=trdf.Age.fillna(meanAge)     "
   ]
  },
  {
   "cell_type": "code",
   "execution_count": 182,
   "id": "9b982d8c",
   "metadata": {
    "ExecuteTime": {
     "end_time": "2022-01-17T14:17:17.868656Z",
     "start_time": "2022-01-17T14:17:17.862841Z"
    }
   },
   "outputs": [
    {
     "data": {
      "text/plain": [
       "Age         177\n",
       "Survived      0\n",
       "dtype: int64"
      ]
     },
     "execution_count": 182,
     "metadata": {},
     "output_type": "execute_result"
    }
   ],
   "source": [
    "trdf.isnull().sum()"
   ]
  },
  {
   "cell_type": "code",
   "execution_count": 142,
   "id": "08d4f3e9",
   "metadata": {
    "ExecuteTime": {
     "end_time": "2022-01-17T13:43:45.858145Z",
     "start_time": "2022-01-17T13:43:45.852581Z"
    }
   },
   "outputs": [
    {
     "data": {
      "text/plain": [
       "0                                Braund, Mr. Owen Harris\n",
       "1      Cumings, Mrs. John Bradley (Florence Briggs Th...\n",
       "2                                 Heikkinen, Miss. Laina\n",
       "3           Futrelle, Mrs. Jacques Heath (Lily May Peel)\n",
       "4                               Allen, Mr. William Henry\n",
       "                             ...                        \n",
       "886                                Montvila, Rev. Juozas\n",
       "887                         Graham, Miss. Margaret Edith\n",
       "888             Johnston, Miss. Catherine Helen \"Carrie\"\n",
       "889                                Behr, Mr. Karl Howell\n",
       "890                                  Dooley, Mr. Patrick\n",
       "Name: Name, Length: 891, dtype: object"
      ]
     },
     "execution_count": 142,
     "metadata": {},
     "output_type": "execute_result"
    }
   ],
   "source": [
    "# name  ? \n",
    "trname = train_data.Name\n",
    "trname"
   ]
  },
  {
   "cell_type": "code",
   "execution_count": null,
   "id": "1202dcba",
   "metadata": {},
   "outputs": [],
   "source": []
  },
  {
   "cell_type": "code",
   "execution_count": 164,
   "id": "e697a8f9",
   "metadata": {
    "ExecuteTime": {
     "end_time": "2022-01-17T14:09:57.748580Z",
     "start_time": "2022-01-17T14:09:57.740472Z"
    }
   },
   "outputs": [
    {
     "ename": "NameError",
     "evalue": "name 'temp' is not defined",
     "output_type": "error",
     "traceback": [
      "\u001b[0;31m---------------------------------------------------------------------------\u001b[0m",
      "\u001b[0;31mNameError\u001b[0m                                 Traceback (most recent call last)",
      "\u001b[0;32m<ipython-input-164-1654ad29ddf2>\u001b[0m in \u001b[0;36m<module>\u001b[0;34m\u001b[0m\n\u001b[0;32m----> 1\u001b[0;31m \u001b[0mtemp\u001b[0m\u001b[0;34m[\u001b[0m\u001b[0;34m'Initial'\u001b[0m\u001b[0;34m]\u001b[0m \u001b[0;34m=\u001b[0m \u001b[0;36m0\u001b[0m\u001b[0;34m\u001b[0m\u001b[0m\n\u001b[0m\u001b[1;32m      2\u001b[0m \u001b[0mtemp\u001b[0m\u001b[0;34m[\u001b[0m\u001b[0;34m'Initial'\u001b[0m\u001b[0;34m]\u001b[0m \u001b[0;34m=\u001b[0m \u001b[0mtrain_data\u001b[0m\u001b[0;34m.\u001b[0m\u001b[0mName\u001b[0m\u001b[0;34m.\u001b[0m\u001b[0mstr\u001b[0m\u001b[0;34m.\u001b[0m\u001b[0mextract\u001b[0m\u001b[0;34m(\u001b[0m\u001b[0;34m'([A-Za-z0-9]+)\\.'\u001b[0m\u001b[0;34m)\u001b[0m\u001b[0;34m\u001b[0m\u001b[0m\n",
      "\u001b[0;31mNameError\u001b[0m: name 'temp' is not defined"
     ]
    }
   ],
   "source": [
    "temp = data.copy()\n",
    "temp['Initial'] = 0\n",
    "temp['Initial'] = train_data.Name.str.extract('([A-Za-z0-9]+)\\.')"
   ]
  }
 ],
 "metadata": {
  "kernelspec": {
   "display_name": "Python 3",
   "language": "python",
   "name": "python3"
  },
  "language_info": {
   "codemirror_mode": {
    "name": "ipython",
    "version": 3
   },
   "file_extension": ".py",
   "mimetype": "text/x-python",
   "name": "python",
   "nbconvert_exporter": "python",
   "pygments_lexer": "ipython3",
   "version": "3.7.0"
  },
  "toc": {
   "base_numbering": 1,
   "nav_menu": {},
   "number_sections": true,
   "sideBar": true,
   "skip_h1_title": false,
   "title_cell": "Table of Contents",
   "title_sidebar": "Contents",
   "toc_cell": false,
   "toc_position": {},
   "toc_section_display": true,
   "toc_window_display": false
  },
  "varInspector": {
   "cols": {
    "lenName": 16,
    "lenType": 16,
    "lenVar": 40
   },
   "kernels_config": {
    "python": {
     "delete_cmd_postfix": "",
     "delete_cmd_prefix": "del ",
     "library": "var_list.py",
     "varRefreshCmd": "print(var_dic_list())"
    },
    "r": {
     "delete_cmd_postfix": ") ",
     "delete_cmd_prefix": "rm(",
     "library": "var_list.r",
     "varRefreshCmd": "cat(var_dic_list()) "
    }
   },
   "types_to_exclude": [
    "module",
    "function",
    "builtin_function_or_method",
    "instance",
    "_Feature"
   ],
   "window_display": false
  }
 },
 "nbformat": 4,
 "nbformat_minor": 5
}
